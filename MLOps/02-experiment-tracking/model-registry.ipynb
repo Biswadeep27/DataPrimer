{
 "cells": [
  {
   "cell_type": "code",
   "execution_count": 2,
   "metadata": {},
   "outputs": [],
   "source": [
    "from mlflow.tracking import MlflowClient\n",
    "\n",
    "\n",
    "MLFLOW_TRACKING_URI = \"sqlite:///mlflow.db\""
   ]
  },
  {
   "cell_type": "code",
   "execution_count": 7,
   "metadata": {},
   "outputs": [
    {
     "data": {
      "text/plain": [
       "[<Experiment: artifact_location='./mlruns/0', experiment_id='0', lifecycle_stage='active', name='Default', tags={}>,\n",
       " <Experiment: artifact_location='./mlruns/1', experiment_id='1', lifecycle_stage='active', name='my-cool-experiment', tags={}>,\n",
       " <Experiment: artifact_location='./mlruns/2', experiment_id='2', lifecycle_stage='active', name='nyc-taxi-experiment', tags={}>]"
      ]
     },
     "execution_count": 7,
     "metadata": {},
     "output_type": "execute_result"
    }
   ],
   "source": [
    "client = MlflowClient(tracking_uri=MLFLOW_TRACKING_URI)\n",
    "\n",
    "client.list_experiments()"
   ]
  },
  {
   "cell_type": "code",
   "execution_count": 4,
   "metadata": {},
   "outputs": [
    {
     "data": {
      "text/plain": [
       "'1'"
      ]
     },
     "execution_count": 4,
     "metadata": {},
     "output_type": "execute_result"
    }
   ],
   "source": [
    "client.create_experiment(name=\"my-cool-experiment\")"
   ]
  },
  {
   "cell_type": "code",
   "execution_count": 8,
   "metadata": {},
   "outputs": [],
   "source": [
    "from mlflow.entities import ViewType\n",
    "\n",
    "runs = client.search_runs(\n",
    "    experiment_ids='2',\n",
    "    filter_string=\"metrics.rmse < 7\",\n",
    "    run_view_type=ViewType.ACTIVE_ONLY,\n",
    "    max_results=5,\n",
    "    order_by=[\"metrics.rmse ASC\"]\n",
    ")\n"
   ]
  },
  {
   "cell_type": "code",
   "execution_count": 9,
   "metadata": {},
   "outputs": [
    {
     "name": "stdout",
     "output_type": "stream",
     "text": [
      "run id: fd3053fd69a44367b7a0281fbe3bbd9c, rmse: 6.3441\n",
      "run id: 1feab41d0a0d4136b4e565cedcbb2b48, rmse: 6.4056\n",
      "run id: 9635d930b1ab4d048e08198b8eebae12, rmse: 6.4199\n",
      "run id: 738ae262029d4bd1ae7675a52e05cdff, rmse: 6.4541\n",
      "run id: 3f868b596fc6480eacc1096e80519465, rmse: 6.4829\n"
     ]
    }
   ],
   "source": [
    "for run in runs:\n",
    "    print(f\"run id: {run.info.run_id}, rmse: {run.data.metrics['rmse']:.4f}\")"
   ]
  },
  {
   "cell_type": "code",
   "execution_count": 10,
   "metadata": {},
   "outputs": [],
   "source": [
    "import mlflow\n",
    "\n",
    "mlflow.set_tracking_uri(MLFLOW_TRACKING_URI)\n"
   ]
  },
  {
   "cell_type": "code",
   "execution_count": 11,
   "metadata": {},
   "outputs": [
    {
     "name": "stderr",
     "output_type": "stream",
     "text": [
      "Successfully registered model 'nyc-taxi-regressor'.\n",
      "2022/06/05 20:22:18 INFO mlflow.tracking._model_registry.client: Waiting up to 300 seconds for model version to finish creation.                     Model name: nyc-taxi-regressor, version 1\n",
      "Created version '1' of model 'nyc-taxi-regressor'.\n"
     ]
    },
    {
     "data": {
      "text/plain": [
       "<ModelVersion: creation_timestamp=1654440738926, current_stage='None', description=None, last_updated_timestamp=1654440738926, name='nyc-taxi-regressor', run_id='fd3053fd69a44367b7a0281fbe3bbd9c', run_link=None, source='./mlruns/2/fd3053fd69a44367b7a0281fbe3bbd9c/artifacts/model', status='READY', status_message=None, tags={}, user_id=None, version=1>"
      ]
     },
     "execution_count": 11,
     "metadata": {},
     "output_type": "execute_result"
    }
   ],
   "source": [
    "run_id = \"fd3053fd69a44367b7a0281fbe3bbd9c\"\n",
    "model_uri = f\"runs:/{run_id}/model\"\n",
    "mlflow.register_model(model_uri=model_uri, name=\"nyc-taxi-regressor\")"
   ]
  },
  {
   "cell_type": "code",
   "execution_count": 12,
   "metadata": {},
   "outputs": [
    {
     "name": "stdout",
     "output_type": "stream",
     "text": [
      "version: 1, stage: None\n"
     ]
    }
   ],
   "source": [
    "model_name = \"nyc-taxi-regressor\"\n",
    "latest_versions = client.get_latest_versions(name=model_name)\n",
    "\n",
    "for version in latest_versions:\n",
    "    print(f\"version: {version.version}, stage: {version.current_stage}\")"
   ]
  },
  {
   "cell_type": "code",
   "execution_count": 13,
   "metadata": {},
   "outputs": [
    {
     "data": {
      "text/plain": [
       "<ModelVersion: creation_timestamp=1654440738926, current_stage='Staging', description=None, last_updated_timestamp=1654440748966, name='nyc-taxi-regressor', run_id='fd3053fd69a44367b7a0281fbe3bbd9c', run_link=None, source='./mlruns/2/fd3053fd69a44367b7a0281fbe3bbd9c/artifacts/model', status='READY', status_message=None, tags={}, user_id=None, version=1>"
      ]
     },
     "execution_count": 13,
     "metadata": {},
     "output_type": "execute_result"
    }
   ],
   "source": [
    "model_version = 1\n",
    "new_stage = \"Staging\"\n",
    "client.transition_model_version_stage(\n",
    "    name=model_name,\n",
    "    version=model_version,\n",
    "    stage=new_stage,\n",
    "    archive_existing_versions=False\n",
    ")"
   ]
  },
  {
   "cell_type": "code",
   "execution_count": 14,
   "metadata": {},
   "outputs": [
    {
     "data": {
      "text/plain": [
       "<ModelVersion: creation_timestamp=1654440738926, current_stage='Staging', description='The model version 1 was transitioned to Staging on 2022-06-05', last_updated_timestamp=1654440753505, name='nyc-taxi-regressor', run_id='fd3053fd69a44367b7a0281fbe3bbd9c', run_link=None, source='./mlruns/2/fd3053fd69a44367b7a0281fbe3bbd9c/artifacts/model', status='READY', status_message=None, tags={}, user_id=None, version=1>"
      ]
     },
     "execution_count": 14,
     "metadata": {},
     "output_type": "execute_result"
    }
   ],
   "source": [
    "from datetime import datetime\n",
    "\n",
    "date = datetime.today().date()\n",
    "client.update_model_version(\n",
    "    name=model_name,\n",
    "    version=model_version,\n",
    "    description=f\"The model version {model_version} was transitioned to {new_stage} on {date}\"\n",
    ")"
   ]
  },
  {
   "cell_type": "code",
   "execution_count": 15,
   "metadata": {},
   "outputs": [],
   "source": [
    "from sklearn.metrics import mean_squared_error\n",
    "import pandas as pd\n",
    "\n",
    "\n",
    "def read_dataframe(filename):\n",
    "    df = pd.read_parquet(filename)\n",
    "\n",
    "    df['duration'] = df.lpep_dropoff_datetime - df.lpep_pickup_datetime\n",
    "    df.duration = df.duration.apply(lambda td: td.total_seconds() / 60)\n",
    "\n",
    "    df = df[(df.duration >= 1) & (df.duration <= 60)]\n",
    "\n",
    "    categorical = ['PULocationID', 'DOLocationID']\n",
    "    df[categorical] = df[categorical].astype(str)\n",
    "    \n",
    "    return df\n",
    "\n",
    "def preprocess(df, dv):\n",
    "    df['PU_DO'] = df['PULocationID'] + '_' + df['DOLocationID']\n",
    "    categorical = ['PU_DO']\n",
    "    numerical = ['trip_distance']\n",
    "    train_dicts = df[categorical + numerical].to_dict(orient='records')\n",
    "    return dv.transform(train_dicts)\n",
    "\n",
    "\n",
    "def test_model(name, stage, X_test, y_test):\n",
    "    model = mlflow.pyfunc.load_model(f\"models:/{name}/{stage}\")\n",
    "    y_pred = model.predict(X_test)\n",
    "    return {\"rmse\": mean_squared_error(y_test, y_pred, squared=False)}"
   ]
  },
  {
   "cell_type": "code",
   "execution_count": 16,
   "metadata": {},
   "outputs": [],
   "source": [
    "df = read_dataframe(\"data/green_tripdata_2021-03.parquet\")"
   ]
  },
  {
   "cell_type": "code",
   "execution_count": 18,
   "metadata": {},
   "outputs": [
    {
     "ename": "MlflowException",
     "evalue": "The following failures occurred while downloading one or more artifacts from ./mlruns/2/fd3053fd69a44367b7a0281fbe3bbd9c/artifacts: {'preprocessor': \"FileNotFoundError(2, 'No such file or directory')\"}",
     "output_type": "error",
     "traceback": [
      "\u001b[0;31m---------------------------------------------------------------------------\u001b[0m",
      "\u001b[0;31mMlflowException\u001b[0m                           Traceback (most recent call last)",
      "\u001b[1;32m/Users/bupadhy/Library/CloudStorage/OneDrive-Lowe'sCompaniesInc/Documents/DataScience/MLOps/02-experiment-tracking/model-registry.ipynb Cell 13'\u001b[0m in \u001b[0;36m<cell line: 1>\u001b[0;34m()\u001b[0m\n\u001b[0;32m----> <a href='vscode-notebook-cell:/Users/bupadhy/Library/CloudStorage/OneDrive-Lowe%27sCompaniesInc/Documents/DataScience/MLOps/02-experiment-tracking/model-registry.ipynb#ch0000012?line=0'>1</a>\u001b[0m client\u001b[39m.\u001b[39;49mdownload_artifacts(run_id\u001b[39m=\u001b[39;49mrun_id, path\u001b[39m=\u001b[39;49m\u001b[39m'\u001b[39;49m\u001b[39mpreprocessor\u001b[39;49m\u001b[39m'\u001b[39;49m, dst_path\u001b[39m=\u001b[39;49m\u001b[39m'\u001b[39;49m\u001b[39m.\u001b[39;49m\u001b[39m'\u001b[39;49m)\n",
      "File \u001b[0;32m/usr/local/lib/python3.10/site-packages/mlflow/tracking/client.py:1413\u001b[0m, in \u001b[0;36mMlflowClient.download_artifacts\u001b[0;34m(self, run_id, path, dst_path)\u001b[0m\n\u001b[1;32m   <a href='file:///usr/local/lib/python3.10/site-packages/mlflow/tracking/client.py?line=1368'>1369</a>\u001b[0m \u001b[39mdef\u001b[39;00m \u001b[39mdownload_artifacts\u001b[39m(\u001b[39mself\u001b[39m, run_id: \u001b[39mstr\u001b[39m, path: \u001b[39mstr\u001b[39m, dst_path: Optional[\u001b[39mstr\u001b[39m] \u001b[39m=\u001b[39m \u001b[39mNone\u001b[39;00m) \u001b[39m-\u001b[39m\u001b[39m>\u001b[39m \u001b[39mstr\u001b[39m:\n\u001b[1;32m   <a href='file:///usr/local/lib/python3.10/site-packages/mlflow/tracking/client.py?line=1369'>1370</a>\u001b[0m     \u001b[39m\"\"\"\u001b[39;00m\n\u001b[1;32m   <a href='file:///usr/local/lib/python3.10/site-packages/mlflow/tracking/client.py?line=1370'>1371</a>\u001b[0m \u001b[39m    Download an artifact file or directory from a run to a local directory if applicable,\u001b[39;00m\n\u001b[1;32m   <a href='file:///usr/local/lib/python3.10/site-packages/mlflow/tracking/client.py?line=1371'>1372</a>\u001b[0m \u001b[39m    and return a local path for it.\u001b[39;00m\n\u001b[0;32m   (...)\u001b[0m\n\u001b[1;32m   <a href='file:///usr/local/lib/python3.10/site-packages/mlflow/tracking/client.py?line=1410'>1411</a>\u001b[0m \u001b[39m        Artifacts: ['features.txt']\u001b[39;00m\n\u001b[1;32m   <a href='file:///usr/local/lib/python3.10/site-packages/mlflow/tracking/client.py?line=1411'>1412</a>\u001b[0m \u001b[39m    \"\"\"\u001b[39;00m\n\u001b[0;32m-> <a href='file:///usr/local/lib/python3.10/site-packages/mlflow/tracking/client.py?line=1412'>1413</a>\u001b[0m     \u001b[39mreturn\u001b[39;00m \u001b[39mself\u001b[39;49m\u001b[39m.\u001b[39;49m_tracking_client\u001b[39m.\u001b[39;49mdownload_artifacts(run_id, path, dst_path)\n",
      "File \u001b[0;32m/usr/local/lib/python3.10/site-packages/mlflow/tracking/_tracking_service/client.py:373\u001b[0m, in \u001b[0;36mTrackingServiceClient.download_artifacts\u001b[0;34m(self, run_id, path, dst_path)\u001b[0m\n\u001b[1;32m    <a href='file:///usr/local/lib/python3.10/site-packages/mlflow/tracking/_tracking_service/client.py?line=358'>359</a>\u001b[0m \u001b[39mdef\u001b[39;00m \u001b[39mdownload_artifacts\u001b[39m(\u001b[39mself\u001b[39m, run_id, path, dst_path\u001b[39m=\u001b[39m\u001b[39mNone\u001b[39;00m):\n\u001b[1;32m    <a href='file:///usr/local/lib/python3.10/site-packages/mlflow/tracking/_tracking_service/client.py?line=359'>360</a>\u001b[0m     \u001b[39m\"\"\"\u001b[39;00m\n\u001b[1;32m    <a href='file:///usr/local/lib/python3.10/site-packages/mlflow/tracking/_tracking_service/client.py?line=360'>361</a>\u001b[0m \u001b[39m    Download an artifact file or directory from a run to a local directory if applicable,\u001b[39;00m\n\u001b[1;32m    <a href='file:///usr/local/lib/python3.10/site-packages/mlflow/tracking/_tracking_service/client.py?line=361'>362</a>\u001b[0m \u001b[39m    and return a local path for it.\u001b[39;00m\n\u001b[0;32m   (...)\u001b[0m\n\u001b[1;32m    <a href='file:///usr/local/lib/python3.10/site-packages/mlflow/tracking/_tracking_service/client.py?line=370'>371</a>\u001b[0m \u001b[39m    :return: Local path of desired artifact.\u001b[39;00m\n\u001b[1;32m    <a href='file:///usr/local/lib/python3.10/site-packages/mlflow/tracking/_tracking_service/client.py?line=371'>372</a>\u001b[0m \u001b[39m    \"\"\"\u001b[39;00m\n\u001b[0;32m--> <a href='file:///usr/local/lib/python3.10/site-packages/mlflow/tracking/_tracking_service/client.py?line=372'>373</a>\u001b[0m     \u001b[39mreturn\u001b[39;00m \u001b[39mself\u001b[39;49m\u001b[39m.\u001b[39;49m_get_artifact_repo(run_id)\u001b[39m.\u001b[39;49mdownload_artifacts(path, dst_path)\n",
      "File \u001b[0;32m/usr/local/lib/python3.10/site-packages/mlflow/store/artifact/local_artifact_repo.py:74\u001b[0m, in \u001b[0;36mLocalArtifactRepository.download_artifacts\u001b[0;34m(self, artifact_path, dst_path)\u001b[0m\n\u001b[1;32m     <a href='file:///usr/local/lib/python3.10/site-packages/mlflow/store/artifact/local_artifact_repo.py?line=60'>61</a>\u001b[0m \u001b[39m\"\"\"\u001b[39;00m\n\u001b[1;32m     <a href='file:///usr/local/lib/python3.10/site-packages/mlflow/store/artifact/local_artifact_repo.py?line=61'>62</a>\u001b[0m \u001b[39mArtifacts tracked by ``LocalArtifactRepository`` already exist on the local filesystem.\u001b[39;00m\n\u001b[1;32m     <a href='file:///usr/local/lib/python3.10/site-packages/mlflow/store/artifact/local_artifact_repo.py?line=62'>63</a>\u001b[0m \u001b[39mIf ``dst_path`` is ``None``, the absolute filesystem path of the specified artifact is\u001b[39;00m\n\u001b[0;32m   (...)\u001b[0m\n\u001b[1;32m     <a href='file:///usr/local/lib/python3.10/site-packages/mlflow/store/artifact/local_artifact_repo.py?line=70'>71</a>\u001b[0m \u001b[39m:return: Absolute path of the local filesystem location containing the desired artifacts.\u001b[39;00m\n\u001b[1;32m     <a href='file:///usr/local/lib/python3.10/site-packages/mlflow/store/artifact/local_artifact_repo.py?line=71'>72</a>\u001b[0m \u001b[39m\"\"\"\u001b[39;00m\n\u001b[1;32m     <a href='file:///usr/local/lib/python3.10/site-packages/mlflow/store/artifact/local_artifact_repo.py?line=72'>73</a>\u001b[0m \u001b[39mif\u001b[39;00m dst_path:\n\u001b[0;32m---> <a href='file:///usr/local/lib/python3.10/site-packages/mlflow/store/artifact/local_artifact_repo.py?line=73'>74</a>\u001b[0m     \u001b[39mreturn\u001b[39;00m \u001b[39msuper\u001b[39;49m()\u001b[39m.\u001b[39;49mdownload_artifacts(artifact_path, dst_path)\n\u001b[1;32m     <a href='file:///usr/local/lib/python3.10/site-packages/mlflow/store/artifact/local_artifact_repo.py?line=74'>75</a>\u001b[0m \u001b[39m# NOTE: The artifact_path is expected to be in posix format.\u001b[39;00m\n\u001b[1;32m     <a href='file:///usr/local/lib/python3.10/site-packages/mlflow/store/artifact/local_artifact_repo.py?line=75'>76</a>\u001b[0m \u001b[39m# Posix paths work fine on windows but just in case we normalize it here.\u001b[39;00m\n\u001b[1;32m     <a href='file:///usr/local/lib/python3.10/site-packages/mlflow/store/artifact/local_artifact_repo.py?line=76'>77</a>\u001b[0m local_artifact_path \u001b[39m=\u001b[39m os\u001b[39m.\u001b[39mpath\u001b[39m.\u001b[39mjoin(\u001b[39mself\u001b[39m\u001b[39m.\u001b[39martifact_dir, os\u001b[39m.\u001b[39mpath\u001b[39m.\u001b[39mnormpath(artifact_path))\n",
      "File \u001b[0;32m/usr/local/lib/python3.10/site-packages/mlflow/store/artifact/artifact_repo.py:265\u001b[0m, in \u001b[0;36mArtifactRepository.download_artifacts\u001b[0;34m(self, artifact_path, dst_path)\u001b[0m\n\u001b[1;32m    <a href='file:///usr/local/lib/python3.10/site-packages/mlflow/store/artifact/artifact_repo.py?line=261'>262</a>\u001b[0m         failed_downloads[inflight_download\u001b[39m.\u001b[39msrc_artifact_path] \u001b[39m=\u001b[39m \u001b[39mrepr\u001b[39m(e)\n\u001b[1;32m    <a href='file:///usr/local/lib/python3.10/site-packages/mlflow/store/artifact/artifact_repo.py?line=263'>264</a>\u001b[0m \u001b[39mif\u001b[39;00m \u001b[39mlen\u001b[39m(failed_downloads) \u001b[39m>\u001b[39m \u001b[39m0\u001b[39m:\n\u001b[0;32m--> <a href='file:///usr/local/lib/python3.10/site-packages/mlflow/store/artifact/artifact_repo.py?line=264'>265</a>\u001b[0m     \u001b[39mraise\u001b[39;00m MlflowException(\n\u001b[1;32m    <a href='file:///usr/local/lib/python3.10/site-packages/mlflow/store/artifact/artifact_repo.py?line=265'>266</a>\u001b[0m         message\u001b[39m=\u001b[39m(\n\u001b[1;32m    <a href='file:///usr/local/lib/python3.10/site-packages/mlflow/store/artifact/artifact_repo.py?line=266'>267</a>\u001b[0m             \u001b[39m\"\u001b[39m\u001b[39mThe following failures occurred while downloading one or more\u001b[39m\u001b[39m\"\u001b[39m\n\u001b[1;32m    <a href='file:///usr/local/lib/python3.10/site-packages/mlflow/store/artifact/artifact_repo.py?line=267'>268</a>\u001b[0m             \u001b[39m\"\u001b[39m\u001b[39m artifacts from \u001b[39m\u001b[39m{artifact_root}\u001b[39;00m\u001b[39m: \u001b[39m\u001b[39m{failures}\u001b[39;00m\u001b[39m\"\u001b[39m\u001b[39m.\u001b[39mformat(\n\u001b[1;32m    <a href='file:///usr/local/lib/python3.10/site-packages/mlflow/store/artifact/artifact_repo.py?line=268'>269</a>\u001b[0m                 artifact_root\u001b[39m=\u001b[39m\u001b[39mself\u001b[39m\u001b[39m.\u001b[39martifact_uri,\n\u001b[1;32m    <a href='file:///usr/local/lib/python3.10/site-packages/mlflow/store/artifact/artifact_repo.py?line=269'>270</a>\u001b[0m                 failures\u001b[39m=\u001b[39mfailed_downloads,\n\u001b[1;32m    <a href='file:///usr/local/lib/python3.10/site-packages/mlflow/store/artifact/artifact_repo.py?line=270'>271</a>\u001b[0m             )\n\u001b[1;32m    <a href='file:///usr/local/lib/python3.10/site-packages/mlflow/store/artifact/artifact_repo.py?line=271'>272</a>\u001b[0m         )\n\u001b[1;32m    <a href='file:///usr/local/lib/python3.10/site-packages/mlflow/store/artifact/artifact_repo.py?line=272'>273</a>\u001b[0m     )\n\u001b[1;32m    <a href='file:///usr/local/lib/python3.10/site-packages/mlflow/store/artifact/artifact_repo.py?line=273'>274</a>\u001b[0m \u001b[39mreturn\u001b[39;00m dst_local_path\n",
      "\u001b[0;31mMlflowException\u001b[0m: The following failures occurred while downloading one or more artifacts from ./mlruns/2/fd3053fd69a44367b7a0281fbe3bbd9c/artifacts: {'preprocessor': \"FileNotFoundError(2, 'No such file or directory')\"}"
     ]
    }
   ],
   "source": [
    "\n",
    "client.download_artifacts(run_id=run_id, path='preprocessor', dst_path='.')"
   ]
  },
  {
   "cell_type": "code",
   "execution_count": null,
   "metadata": {},
   "outputs": [],
   "source": []
  }
 ],
 "metadata": {
  "interpreter": {
   "hash": "b460384b52104c1e5b9cf54bee46a255d22b2bef338f75ac4ad5d48196028d3c"
  },
  "kernelspec": {
   "display_name": "Python 3.10.2 64-bit",
   "language": "python",
   "name": "python3"
  },
  "language_info": {
   "codemirror_mode": {
    "name": "ipython",
    "version": 3
   },
   "file_extension": ".py",
   "mimetype": "text/x-python",
   "name": "python",
   "nbconvert_exporter": "python",
   "pygments_lexer": "ipython3",
   "version": "3.10.2"
  },
  "orig_nbformat": 4
 },
 "nbformat": 4,
 "nbformat_minor": 2
}
