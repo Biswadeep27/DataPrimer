{
 "cells": [
  {
   "cell_type": "code",
   "execution_count": 1,
   "metadata": {},
   "outputs": [
    {
     "name": "stdout",
     "output_type": "stream",
     "text": [
      "3.10.2 (main, Feb  2 2022, 08:42:42) [Clang 13.0.0 (clang-1300.0.29.3)]\n"
     ]
    }
   ],
   "source": [
    "import sys\n",
    "print(sys.version)"
   ]
  },
  {
   "cell_type": "code",
   "execution_count": 5,
   "metadata": {},
   "outputs": [
    {
     "name": "stdout",
     "output_type": "stream",
     "text": [
      "-inf\n"
     ]
    }
   ],
   "source": [
    "from typing import List\n",
    "import math\n",
    "print(-math.inf)"
   ]
  },
  {
   "cell_type": "code",
   "execution_count": 8,
   "metadata": {},
   "outputs": [],
   "source": [
    "#input for max subarray\n",
    "nums = [-2,1,-3,4,-1,2,1,-5,4]\n",
    "nums = [-64,-23]"
   ]
  },
  {
   "cell_type": "code",
   "execution_count": 4,
   "metadata": {},
   "outputs": [
    {
     "name": "stdout",
     "output_type": "stream",
     "text": [
      "6\n"
     ]
    }
   ],
   "source": [
    "#Approach 1 : Optimized Brute Force\n",
    "\n",
    "max_subarray = -math.inf\n",
    "for i in range(len(nums)):\n",
    "    current_subarray = 0\n",
    "    for j in range(i,len(nums)):\n",
    "        current_subarray += nums[j]\n",
    "        max_subarray = max(max_subarray,current_subarray)\n",
    "    \n",
    "print(max_subarray)\n"
   ]
  },
  {
   "cell_type": "code",
   "execution_count": 9,
   "metadata": {},
   "outputs": [
    {
     "name": "stdout",
     "output_type": "stream",
     "text": [
      "-23\n"
     ]
    }
   ],
   "source": [
    "#Approach 2 : Kadane's Algo - Dynamic Programming\n",
    "\n",
    "current_subarray = max_subarray = nums[0]\n",
    "\n",
    "for num in nums[1:]:\n",
    "    current_subarray = max(num, current_subarray + num)\n",
    "    max_subarray = max(max_subarray,current_subarray)\n",
    "\n",
    "\n",
    "print(max_subarray)"
   ]
  },
  {
   "cell_type": "code",
   "execution_count": null,
   "metadata": {},
   "outputs": [],
   "source": [
    "#Approach 3: Recursion -  Divide & Conquer\n",
    "class Solution:\n",
    "    def maxSubArray(self, nums: List[int]) -> int:\n",
    "        def findBestSubarray(nums, left, right):\n",
    "            # Base case - empty array.\n",
    "            if left > right:\n",
    "                return -math.inf\n",
    "\n",
    "            mid = (left + right) // 2\n",
    "            curr = best_left_sum = best_right_sum = 0\n",
    "\n",
    "            # Iterate from the middle to the beginning.\n",
    "            for i in range(mid - 1, left - 1, -1):\n",
    "                curr += nums[i]\n",
    "                best_left_sum = max(best_left_sum, curr)\n",
    "\n",
    "            # Reset curr and iterate from the middle to the end.\n",
    "            curr = 0\n",
    "            for i in range(mid + 1, right + 1):\n",
    "                curr += nums[i]\n",
    "                best_right_sum = max(best_right_sum, curr)\n",
    "\n",
    "            # The best_combined_sum uses the middle element and\n",
    "            # the best possible sum from each half.\n",
    "            best_combined_sum = nums[mid] + best_left_sum + best_right_sum\n",
    "\n",
    "            # Find the best subarray possible from both halves.\n",
    "            left_half = findBestSubarray(nums, left, mid - 1)\n",
    "            right_half = findBestSubarray(nums, mid + 1, right)\n",
    "\n",
    "            # The largest of the 3 is the answer for any given input array.\n",
    "            return max(best_combined_sum, left_half, right_half)\n",
    "        \n",
    "        # Our helper function is designed to solve this problem for\n",
    "        # any array - so just call it using the entire input!\n",
    "        return findBestSubarray(nums, 0, len(nums) - 1)\n"
   ]
  },
  {
   "cell_type": "code",
   "execution_count": 3,
   "metadata": {},
   "outputs": [],
   "source": [
    "#two sum\n",
    "def twoSum( nums: List[int], target: int) -> List[int]:\n",
    "    hashmap = {}\n",
    "    for i in range(len(nums)):\n",
    "        complement = target - nums[i]\n",
    "        if complement in hashmap:\n",
    "            return [i,hashmap[complement]]\n",
    "        hashmap[nums[i]] = i"
   ]
  },
  {
   "cell_type": "code",
   "execution_count": 4,
   "metadata": {},
   "outputs": [
    {
     "name": "stdout",
     "output_type": "stream",
     "text": [
      "[1, 0]\n"
     ]
    }
   ],
   "source": [
    "#two sum - input\n",
    "nums = [2,7,11,15] \n",
    "target = 9\n",
    "print(twoSum(nums,target))"
   ]
  },
  {
   "cell_type": "code",
   "execution_count": 57,
   "metadata": {},
   "outputs": [],
   "source": [
    "#merge sorted arrays - input\n",
    "# nums1 = [0]\n",
    "# m = 0\n",
    "# nums2 = [2,5,6]\n",
    "# n = 3\n",
    "# nums3 = []\n",
    "\n",
    "nums1 = [4,0,0,0,0,0]\n",
    "m = 1\n",
    "nums2 = [1,2,3,5,6]\n",
    "n = 5\n",
    "\n",
    "nums1 = [1,2,3,0,0,0]\n",
    "m = 3\n",
    "nums2 = [2,5,6]\n",
    "n = 3"
   ]
  },
  {
   "cell_type": "code",
   "execution_count": 58,
   "metadata": {},
   "outputs": [],
   "source": [
    "def merge( nums1: List[int], m: int, nums2: List[int], n: int) -> None:\n",
    "    \"\"\"\n",
    "    Do not return anything, modify nums1 in-place instead.\n",
    "    \"\"\"\n",
    "    if n == 0:\n",
    "        print('at n == 0')\n",
    "        pass\n",
    "    elif m == 0 and n == 0:\n",
    "        print('at m== 0 , n ==0')\n",
    "        pass\n",
    "    elif m==0 and n!= 0:\n",
    "        print('at m ==0 n != 0')\n",
    "        nums1[:] = nums2\n",
    "\n",
    "    else:\n",
    "        print('at main code')\n",
    "        start = 0\n",
    "        cnt = n\n",
    "        for j in range(n):\n",
    "            for i in range(start,m+n):\n",
    "                if nums1[i] >= nums2[j]:\n",
    "                    nums1.insert(i,nums2[j])\n",
    "                    nums1.pop()\n",
    "                    start = i\n",
    "                    print(i)\n",
    "                    print(nums1)\n",
    "                    cnt -= 1\n",
    "                    print('cnt:',cnt)\n",
    "                    break\n",
    "        if cnt != 0:\n",
    "            print('running this')\n",
    "            nums1[-cnt:] = nums2[-cnt:]\n",
    "\n"
   ]
  },
  {
   "cell_type": "code",
   "execution_count": 59,
   "metadata": {},
   "outputs": [
    {
     "name": "stdout",
     "output_type": "stream",
     "text": [
      "[1, 2, 3, 0, 0, 0] [2, 5, 6]\n",
      "at main code\n",
      "1\n",
      "[1, 2, 2, 3, 0, 0]\n",
      "cnt: 2\n",
      "running this\n",
      "[1, 2, 2, 3, 5, 6]\n"
     ]
    }
   ],
   "source": [
    "print(nums1,nums2)\n",
    "merge(nums1,m,nums2,n)\n",
    "#nums1 = nums2\n",
    "print(nums1)"
   ]
  },
  {
   "cell_type": "code",
   "execution_count": null,
   "metadata": {},
   "outputs": [],
   "source": []
  },
  {
   "cell_type": "code",
   "execution_count": null,
   "metadata": {},
   "outputs": [],
   "source": [
    "#inntersection of two arrays:"
   ]
  },
  {
   "cell_type": "code",
   "execution_count": null,
   "metadata": {},
   "outputs": [],
   "source": [
    "[[2,5,6]]"
   ]
  },
  {
   "cell_type": "code",
   "execution_count": null,
   "metadata": {},
   "outputs": [],
   "source": []
  }
 ],
 "metadata": {
  "interpreter": {
   "hash": "b460384b52104c1e5b9cf54bee46a255d22b2bef338f75ac4ad5d48196028d3c"
  },
  "kernelspec": {
   "display_name": "Python 3.10.2 64-bit",
   "language": "python",
   "name": "python3"
  },
  "language_info": {
   "codemirror_mode": {
    "name": "ipython",
    "version": 3
   },
   "file_extension": ".py",
   "mimetype": "text/x-python",
   "name": "python",
   "nbconvert_exporter": "python",
   "pygments_lexer": "ipython3",
   "version": "3.10.2"
  },
  "orig_nbformat": 4
 },
 "nbformat": 4,
 "nbformat_minor": 2
}
