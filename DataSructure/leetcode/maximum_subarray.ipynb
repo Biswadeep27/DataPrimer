{
 "cells": [
  {
   "cell_type": "code",
   "execution_count": 1,
   "metadata": {},
   "outputs": [
    {
     "name": "stdout",
     "output_type": "stream",
     "text": [
      "3.10.2 (main, Feb  2 2022, 08:42:42) [Clang 13.0.0 (clang-1300.0.29.3)]\n"
     ]
    }
   ],
   "source": [
    "import sys\n",
    "print(sys.version)"
   ]
  },
  {
   "cell_type": "code",
   "execution_count": 10,
   "metadata": {},
   "outputs": [
    {
     "name": "stdout",
     "output_type": "stream",
     "text": [
      "-inf\n"
     ]
    }
   ],
   "source": [
    "from typing import List\n",
    "import math\n",
    "print(-math.inf)"
   ]
  },
  {
   "cell_type": "code",
   "execution_count": 8,
   "metadata": {},
   "outputs": [],
   "source": [
    "#input\n",
    "nums = [-2,1,-3,4,-1,2,1,-5,4]\n",
    "nums = [-64,-23]"
   ]
  },
  {
   "cell_type": "code",
   "execution_count": 4,
   "metadata": {},
   "outputs": [
    {
     "name": "stdout",
     "output_type": "stream",
     "text": [
      "6\n"
     ]
    }
   ],
   "source": [
    "#Approach 1 : Optimized Brute Force\n",
    "\n",
    "max_subarray = -math.inf\n",
    "for i in range(len(nums)):\n",
    "    current_subarray = 0\n",
    "    for j in range(i,len(nums)):\n",
    "        current_subarray += nums[j]\n",
    "        max_subarray = max(max_subarray,current_subarray)\n",
    "    \n",
    "print(max_subarray)\n"
   ]
  },
  {
   "cell_type": "code",
   "execution_count": 9,
   "metadata": {},
   "outputs": [
    {
     "name": "stdout",
     "output_type": "stream",
     "text": [
      "-23\n"
     ]
    }
   ],
   "source": [
    "#Approach 2 : Kadane's Algo - Dynamic Programming\n",
    "\n",
    "current_subarray = max_subarray = nums[0]\n",
    "\n",
    "for num in nums[1:]:\n",
    "    current_subarray = max(num, current_subarray + num)\n",
    "    max_subarray = max(max_subarray,current_subarray)\n",
    "\n",
    "\n",
    "print(max_subarray)"
   ]
  },
  {
   "cell_type": "code",
   "execution_count": null,
   "metadata": {},
   "outputs": [],
   "source": [
    "#Approach 3: Recursion -  Divide & Conquer\n",
    "class Solution:\n",
    "    def maxSubArray(self, nums: List[int]) -> int:\n",
    "        def findBestSubarray(nums, left, right):\n",
    "            # Base case - empty array.\n",
    "            if left > right:\n",
    "                return -math.inf\n",
    "\n",
    "            mid = (left + right) // 2\n",
    "            curr = best_left_sum = best_right_sum = 0\n",
    "\n",
    "            # Iterate from the middle to the beginning.\n",
    "            for i in range(mid - 1, left - 1, -1):\n",
    "                curr += nums[i]\n",
    "                best_left_sum = max(best_left_sum, curr)\n",
    "\n",
    "            # Reset curr and iterate from the middle to the end.\n",
    "            curr = 0\n",
    "            for i in range(mid + 1, right + 1):\n",
    "                curr += nums[i]\n",
    "                best_right_sum = max(best_right_sum, curr)\n",
    "\n",
    "            # The best_combined_sum uses the middle element and\n",
    "            # the best possible sum from each half.\n",
    "            best_combined_sum = nums[mid] + best_left_sum + best_right_sum\n",
    "\n",
    "            # Find the best subarray possible from both halves.\n",
    "            left_half = findBestSubarray(nums, left, mid - 1)\n",
    "            right_half = findBestSubarray(nums, mid + 1, right)\n",
    "\n",
    "            # The largest of the 3 is the answer for any given input array.\n",
    "            return max(best_combined_sum, left_half, right_half)\n",
    "        \n",
    "        # Our helper function is designed to solve this problem for\n",
    "        # any array - so just call it using the entire input!\n",
    "        return findBestSubarray(nums, 0, len(nums) - 1)\n"
   ]
  }
 ],
 "metadata": {
  "interpreter": {
   "hash": "b460384b52104c1e5b9cf54bee46a255d22b2bef338f75ac4ad5d48196028d3c"
  },
  "kernelspec": {
   "display_name": "Python 3.10.2 64-bit",
   "language": "python",
   "name": "python3"
  },
  "language_info": {
   "codemirror_mode": {
    "name": "ipython",
    "version": 3
   },
   "file_extension": ".py",
   "mimetype": "text/x-python",
   "name": "python",
   "nbconvert_exporter": "python",
   "pygments_lexer": "ipython3",
   "version": "3.10.2"
  },
  "orig_nbformat": 4
 },
 "nbformat": 4,
 "nbformat_minor": 2
}
