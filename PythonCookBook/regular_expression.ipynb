{
 "cells": [
  {
   "cell_type": "code",
   "execution_count": 2,
   "metadata": {},
   "outputs": [],
   "source": [
    "import re"
   ]
  },
  {
   "cell_type": "code",
   "execution_count": 2,
   "metadata": {},
   "outputs": [
    {
     "name": "stdout",
     "output_type": "stream",
     "text": [
      "Hey\tthere.\n",
      "Hey\\tthere.\n"
     ]
    }
   ],
   "source": [
    "#raw string - r\n",
    "print('Hey\\tthere.')\n",
    "print(r'Hey\\tthere.')"
   ]
  },
  {
   "cell_type": "code",
   "execution_count": 34,
   "metadata": {},
   "outputs": [],
   "source": [
    "text_to_search = '''\n",
    "abcdefghijklmnopqurtuvwxyzaabc\n",
    "ABCDEFGHIJKLMNOPQRSTUVWXYZ\n",
    "1234567890\n",
    "\n",
    "Ha HaHa\n",
    "\n",
    "MetaCharacters (Need to be escaped):\n",
    ". ^ $ * + ? { } [ ] \\ | ( )\n",
    "\n",
    "coreyms.com\n",
    "\n",
    "321-555-4321\n",
    "123.555.1234\n",
    "123*555*1234\n",
    "800-555-1234\n",
    "900-555-1234\n",
    "\n",
    "Mr. Schafer\n",
    "Mr Smith\n",
    "Ms Davis\n",
    "Mrs. Robinson\n",
    "Mr. T\n",
    "Mr. Raj_\n",
    "Mr AryanAryan Aryan\n",
    "Mrs Jane\n",
    "Ms. Izz\n",
    "Ms.. TGND\n",
    "Mr\n",
    "'''"
   ]
  },
  {
   "cell_type": "code",
   "execution_count": 7,
   "metadata": {},
   "outputs": [
    {
     "name": "stdout",
     "output_type": "stream",
     "text": [
      "<re.Match object; span=(1, 4), match='abc'>\n",
      "<re.Match object; span=(28, 31), match='abc'>\n"
     ]
    }
   ],
   "source": [
    "pattern = re.compile(r'abc')\n",
    "\n",
    "matches = pattern.finditer(text_to_search)\n",
    "\n",
    "for match in matches:\n",
    "    print(match)"
   ]
  },
  {
   "cell_type": "code",
   "execution_count": 5,
   "metadata": {},
   "outputs": [
    {
     "data": {
      "text/plain": [
       "'abc'"
      ]
     },
     "execution_count": 5,
     "metadata": {},
     "output_type": "execute_result"
    }
   ],
   "source": [
    "text_to_search[1:4]"
   ]
  },
  {
   "cell_type": "code",
   "execution_count": 11,
   "metadata": {},
   "outputs": [
    {
     "name": "stdout",
     "output_type": "stream",
     "text": [
      "<re.Match object; span=(143, 154), match='coreyms.com'>\n"
     ]
    }
   ],
   "source": [
    "pattern = re.compile(r'coreyms\\.com')\n",
    "\n",
    "matches = pattern.finditer(text_to_search)\n",
    "\n",
    "for match in matches:\n",
    "    print(match)"
   ]
  },
  {
   "cell_type": "code",
   "execution_count": 21,
   "metadata": {},
   "outputs": [
    {
     "name": "stdout",
     "output_type": "stream",
     "text": [
      "<re.Match object; span=(0, 4), match='With'>\n",
      "<re.Match object; span=(29, 45), match='responsibilities'>\n"
     ]
    }
   ],
   "source": [
    "senetence = 'With great power comes great responsibilities'\n",
    "\n",
    "st_pattern, end_pattern = re.compile(r'^With'), re.compile(r'responsibilities$')\n",
    "\n",
    "st_matches, en_matches = st_pattern.finditer(senetence), end_pattern.finditer(senetence)\n",
    "\n",
    "for match in st_matches:\n",
    "    print(match)\n",
    "\n",
    "for match in en_matches:\n",
    "    print(match)"
   ]
  },
  {
   "cell_type": "code",
   "execution_count": 28,
   "metadata": {},
   "outputs": [
    {
     "name": "stdout",
     "output_type": "stream",
     "text": [
      "<re.Match object; span=(288, 293), match='Aryan'>\n",
      "<re.Match object; span=(294, 299), match='Aryan'>\n"
     ]
    }
   ],
   "source": [
    "pattern = re.compile(r'Aryan\\b')\n",
    "\n",
    "matches = pattern.finditer(text_to_search)\n",
    "\n",
    "for match in matches:\n",
    "    print(match)"
   ]
  },
  {
   "cell_type": "code",
   "execution_count": 14,
   "metadata": {},
   "outputs": [
    {
     "name": "stdout",
     "output_type": "stream",
     "text": [
      "<re.Match object; span=(0, 1), match='\\n'>\n",
      "<re.Match object; span=(31, 32), match='\\n'>\n",
      "<re.Match object; span=(58, 59), match='\\n'>\n",
      "<re.Match object; span=(69, 70), match='\\n'>\n",
      "<re.Match object; span=(70, 71), match='\\n'>\n",
      "<re.Match object; span=(73, 74), match=' '>\n",
      "<re.Match object; span=(78, 79), match='\\n'>\n",
      "<re.Match object; span=(79, 80), match='\\n'>\n",
      "<re.Match object; span=(94, 95), match=' '>\n",
      "<re.Match object; span=(95, 96), match='('>\n",
      "<re.Match object; span=(100, 101), match=' '>\n",
      "<re.Match object; span=(103, 104), match=' '>\n",
      "<re.Match object; span=(106, 107), match=' '>\n",
      "<re.Match object; span=(114, 115), match=')'>\n",
      "<re.Match object; span=(115, 116), match=':'>\n",
      "<re.Match object; span=(116, 117), match='\\n'>\n",
      "<re.Match object; span=(117, 118), match='.'>\n",
      "<re.Match object; span=(118, 119), match=' '>\n",
      "<re.Match object; span=(119, 120), match='^'>\n",
      "<re.Match object; span=(120, 121), match=' '>\n",
      "<re.Match object; span=(121, 122), match='$'>\n",
      "<re.Match object; span=(122, 123), match=' '>\n",
      "<re.Match object; span=(123, 124), match='*'>\n",
      "<re.Match object; span=(124, 125), match=' '>\n",
      "<re.Match object; span=(125, 126), match='+'>\n",
      "<re.Match object; span=(126, 127), match=' '>\n",
      "<re.Match object; span=(127, 128), match='?'>\n",
      "<re.Match object; span=(128, 129), match=' '>\n",
      "<re.Match object; span=(129, 130), match='{'>\n",
      "<re.Match object; span=(130, 131), match=' '>\n",
      "<re.Match object; span=(131, 132), match='}'>\n",
      "<re.Match object; span=(132, 133), match=' '>\n",
      "<re.Match object; span=(133, 134), match='['>\n",
      "<re.Match object; span=(134, 135), match=' '>\n",
      "<re.Match object; span=(135, 136), match=']'>\n",
      "<re.Match object; span=(136, 137), match=' '>\n",
      "<re.Match object; span=(137, 138), match='\\\\'>\n",
      "<re.Match object; span=(138, 139), match=' '>\n",
      "<re.Match object; span=(139, 140), match='|'>\n",
      "<re.Match object; span=(140, 141), match=' '>\n",
      "<re.Match object; span=(141, 142), match='('>\n",
      "<re.Match object; span=(142, 143), match=' '>\n",
      "<re.Match object; span=(143, 144), match=')'>\n",
      "<re.Match object; span=(144, 145), match='\\n'>\n",
      "<re.Match object; span=(145, 146), match='\\n'>\n",
      "<re.Match object; span=(153, 154), match='.'>\n",
      "<re.Match object; span=(157, 158), match='\\n'>\n",
      "<re.Match object; span=(158, 159), match='\\n'>\n",
      "<re.Match object; span=(162, 163), match='-'>\n",
      "<re.Match object; span=(166, 167), match='-'>\n",
      "<re.Match object; span=(171, 172), match='\\n'>\n",
      "<re.Match object; span=(175, 176), match='.'>\n",
      "<re.Match object; span=(179, 180), match='.'>\n",
      "<re.Match object; span=(184, 185), match='\\n'>\n",
      "<re.Match object; span=(188, 189), match='*'>\n",
      "<re.Match object; span=(192, 193), match='*'>\n",
      "<re.Match object; span=(197, 198), match='\\n'>\n",
      "<re.Match object; span=(201, 202), match='-'>\n",
      "<re.Match object; span=(205, 206), match='-'>\n",
      "<re.Match object; span=(210, 211), match='\\n'>\n",
      "<re.Match object; span=(214, 215), match='-'>\n",
      "<re.Match object; span=(218, 219), match='-'>\n",
      "<re.Match object; span=(223, 224), match='\\n'>\n",
      "<re.Match object; span=(224, 225), match='\\n'>\n",
      "<re.Match object; span=(227, 228), match='.'>\n",
      "<re.Match object; span=(228, 229), match=' '>\n",
      "<re.Match object; span=(236, 237), match='\\n'>\n",
      "<re.Match object; span=(239, 240), match=' '>\n",
      "<re.Match object; span=(245, 246), match='\\n'>\n",
      "<re.Match object; span=(248, 249), match=' '>\n",
      "<re.Match object; span=(254, 255), match='\\n'>\n",
      "<re.Match object; span=(258, 259), match='.'>\n",
      "<re.Match object; span=(259, 260), match=' '>\n",
      "<re.Match object; span=(268, 269), match='\\n'>\n",
      "<re.Match object; span=(271, 272), match='.'>\n",
      "<re.Match object; span=(272, 273), match=' '>\n",
      "<re.Match object; span=(274, 275), match='\\n'>\n",
      "<re.Match object; span=(277, 278), match='.'>\n",
      "<re.Match object; span=(278, 279), match=' '>\n",
      "<re.Match object; span=(282, 283), match='_'>\n",
      "<re.Match object; span=(283, 284), match='\\n'>\n",
      "<re.Match object; span=(286, 287), match='.'>\n",
      "<re.Match object; span=(287, 288), match=' '>\n",
      "<re.Match object; span=(298, 299), match=' '>\n",
      "<re.Match object; span=(304, 305), match='\\n'>\n"
     ]
    }
   ],
   "source": [
    "#inside the character set ^ negates the match\n",
    "pattern = re.compile(r'[^a-zA-Z0-9]')\n",
    "\n",
    "matches = pattern.finditer(text_to_search)\n",
    "\n",
    "for match in matches:\n",
    "    print(match)"
   ]
  },
  {
   "cell_type": "code",
   "execution_count": 38,
   "metadata": {},
   "outputs": [
    {
     "name": "stdout",
     "output_type": "stream",
     "text": [
      "<re.Match object; span=(225, 236), match='Mr. Schafer'>\n",
      "<re.Match object; span=(237, 245), match='Mr Smith'>\n",
      "<re.Match object; span=(246, 254), match='Ms Davis'>\n",
      "<re.Match object; span=(255, 268), match='Mrs. Robinson'>\n",
      "<re.Match object; span=(269, 274), match='Mr. T'>\n",
      "<re.Match object; span=(275, 282), match='Mr. Raj'>\n",
      "<re.Match object; span=(284, 297), match='Mr AryanAryan'>\n",
      "<re.Match object; span=(304, 312), match='Mrs Jane'>\n",
      "<re.Match object; span=(313, 320), match='Ms. Izz'>\n",
      "<re.Match object; span=(321, 330), match='Ms.. TGND'>\n"
     ]
    }
   ],
   "source": [
    "# inside the [] - placed at the beginning or end will match the exact literal - but if put between values then it can match a range of values\n",
    "#r'M(r|s|rs)\\.?\\s\\w*[a-zA-Z]'\n",
    "pattern = re.compile(r'M(r|s|rs)\\.{0,2}\\s\\w*[a-zA-Z]')\n",
    "\n",
    "matches = pattern.finditer(text_to_search)\n",
    "\n",
    "for match in matches:\n",
    "    print(match)"
   ]
  },
  {
   "cell_type": "code",
   "execution_count": 22,
   "metadata": {},
   "outputs": [
    {
     "name": "stdout",
     "output_type": "stream",
     "text": [
      "<re.Match object; span=(102, 114), match='800-555-5669'>\n",
      "<re.Match object; span=(281, 293), match='900-555-9340'>\n",
      "<re.Match object; span=(467, 479), match='800-555-6771'>\n",
      "<re.Match object; span=(1091, 1103), match='900-555-3205'>\n",
      "<re.Match object; span=(1439, 1451), match='800-555-6089'>\n",
      "<re.Match object; span=(1526, 1538), match='880-555-8319'>\n",
      "<re.Match object; span=(1697, 1709), match='998-555-7385'>\n",
      "<re.Match object; span=(1790, 1802), match='800-555-7100'>\n",
      "<re.Match object; span=(1874, 1886), match='903-555-8277'>\n",
      "<re.Match object; span=(2051, 2063), match='900-555-5118'>\n",
      "<re.Match object; span=(2135, 2147), match='905-555-1630'>\n",
      "<re.Match object; span=(2300, 2312), match='884-555-8444'>\n",
      "<re.Match object; span=(2387, 2399), match='904-555-8559'>\n",
      "<re.Match object; span=(2475, 2487), match='889-555-7393'>\n",
      "<re.Match object; span=(2826, 2838), match='900-555-5428'>\n",
      "<re.Match object; span=(3103, 3115), match='932-555-7724'>\n",
      "<re.Match object; span=(3284, 3296), match='800-555-8810'>\n",
      "<re.Match object; span=(3624, 3636), match='903-555-9878'>\n",
      "<re.Match object; span=(3971, 3983), match='900-555-9598'>\n",
      "<re.Match object; span=(4056, 4068), match='866-555-9844'>\n",
      "<re.Match object; span=(4317, 4329), match='893-555-9832'>\n",
      "<re.Match object; span=(4676, 4688), match='926-555-8735'>\n",
      "<re.Match object; span=(4762, 4774), match='895-555-3539'>\n",
      "<re.Match object; span=(4859, 4871), match='874-555-3949'>\n",
      "<re.Match object; span=(4945, 4957), match='800-555-2420'>\n",
      "<re.Match object; span=(5034, 5046), match='936-555-6340'>\n",
      "<re.Match object; span=(5210, 5222), match='890-555-5618'>\n",
      "<re.Match object; span=(5566, 5578), match='900-555-3567'>\n",
      "<re.Match object; span=(6099, 6111), match='974-555-8301'>\n",
      "<re.Match object; span=(6189, 6201), match='800-555-3216'>\n",
      "<re.Match object; span=(6360, 6372), match='922-555-1773'>\n",
      "<re.Match object; span=(6619, 6631), match='852-555-6521'>\n",
      "<re.Match object; span=(6889, 6901), match='900-555-7755'>\n",
      "<re.Match object; span=(7607, 7619), match='911-555-7535'>\n",
      "<re.Match object; span=(7864, 7876), match='800-555-1372'>\n",
      "<re.Match object; span=(8309, 8321), match='988-555-6112'>\n",
      "<re.Match object; span=(8648, 8660), match='952-555-3089'>\n",
      "<re.Match object; span=(8741, 8753), match='900-555-6426'>\n"
     ]
    }
   ],
   "source": [
    "with open('re_data.txt','r') as f:\n",
    "    contents = f.read()\n",
    "\n",
    "    pattern = re.compile(r'[89]\\d\\d[-_*.]\\d\\d\\d[-_*.]\\d{4}')\n",
    "\n",
    "    matches = pattern.finditer(contents)\n",
    "\n",
    "    for match in matches:\n",
    "        print(match)\n",
    "\n",
    "    "
   ]
  },
  {
   "cell_type": "code",
   "execution_count": 39,
   "metadata": {},
   "outputs": [
    {
     "name": "stdout",
     "output_type": "stream",
     "text": [
      "<re.Match object; span=(1, 24), match='CoreyMSchafer@gmail.com'>\n",
      "<re.Match object; span=(25, 53), match='corey.schafer@university.edu'>\n",
      "<re.Match object; span=(54, 83), match='corey-321-schafer@my-work.net'>\n"
     ]
    }
   ],
   "source": [
    "import re\n",
    "\n",
    "emails = '''\n",
    "CoreyMSchafer@gmail.com\n",
    "corey.schafer@university.edu\n",
    "corey-321-schafer@my-work.net\n",
    "'''\n",
    "\n",
    "pattern = re.compile(r'[a-zA-Z0-9_.+-]+@[a-zA-Z0-9-]+\\.[a-zA-Z0-9-.]+')\n",
    "\n",
    "matches = pattern.finditer(emails)\n",
    "\n",
    "for match in matches:\n",
    "    print(match)\n",
    "\n",
    "\n"
   ]
  },
  {
   "cell_type": "code",
   "execution_count": 48,
   "metadata": {},
   "outputs": [
    {
     "name": "stdout",
     "output_type": "stream",
     "text": [
      "\n",
      "google.com\n",
      "coreyms.com\n",
      "youtube.com\n",
      "nasa.gov\n",
      "\n",
      ".com\n",
      ".com\n",
      ".com\n",
      ".gov\n",
      "[('www.', 'google', '.com'), ('', 'coreyms', '.com'), ('', 'youtube', '.com'), ('www.', 'nasa', '.gov')]\n",
      "['https://www.google.com', 'http://coreyms.com', 'https://youtube.com', 'https://www.nasa.gov']\n"
     ]
    }
   ],
   "source": [
    "import re\n",
    "\n",
    "urls = '''\n",
    "https://www.google.com\n",
    "http://coreyms.com\n",
    "https://youtube.com\n",
    "https://www.nasa.gov\n",
    "'''\n",
    "\n",
    "pattern = re.compile(r'https?://(www\\.)?(\\w+)(\\.\\w+)')\n",
    "\n",
    "subbed_urls = pattern.sub(r'\\2\\3', urls)\n",
    "\n",
    "print(subbed_urls)\n",
    "\n",
    "matches = pattern.finditer(urls)\n",
    "\n",
    "for match in matches:\n",
    "    print(match.group(3))\n",
    "\n",
    "\n",
    "\n",
    "#findall finda all the available groups , if there are no groups then it returns the entire matched string\n",
    "matches = pattern.findall(urls)\n",
    "print(matches)\n",
    "\n",
    "pattern1 = re.compile(r'https?://\\w+\\.\\w+\\.?\\w*')\n",
    "matches1 = pattern1.findall(urls)\n",
    "print(matches1)"
   ]
  },
  {
   "cell_type": "code",
   "execution_count": 42,
   "metadata": {},
   "outputs": [
    {
     "name": "stdout",
     "output_type": "stream",
     "text": [
      "<re.Match object; span=(21, 25), match='then'>\n"
     ]
    }
   ],
   "source": [
    "sentence = 'Start a sentence and then bring it to an end'\n",
    "\n",
    "pattern = re.compile(r'then', re.I)\n",
    "\n",
    "matches = pattern.search(sentence)\n",
    "\n",
    "print(matches)"
   ]
  },
  {
   "cell_type": "code",
   "execution_count": null,
   "metadata": {},
   "outputs": [],
   "source": []
  }
 ],
 "metadata": {
  "interpreter": {
   "hash": "b460384b52104c1e5b9cf54bee46a255d22b2bef338f75ac4ad5d48196028d3c"
  },
  "kernelspec": {
   "display_name": "Python 3.10.2 64-bit",
   "language": "python",
   "name": "python3"
  },
  "language_info": {
   "codemirror_mode": {
    "name": "ipython",
    "version": 3
   },
   "file_extension": ".py",
   "mimetype": "text/x-python",
   "name": "python",
   "nbconvert_exporter": "python",
   "pygments_lexer": "ipython3",
   "version": "3.10.2"
  },
  "orig_nbformat": 4
 },
 "nbformat": 4,
 "nbformat_minor": 2
}
