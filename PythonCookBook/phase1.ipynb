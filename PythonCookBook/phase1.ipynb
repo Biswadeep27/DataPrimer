{
 "cells": [
  {
   "cell_type": "code",
   "execution_count": 1,
   "metadata": {},
   "outputs": [],
   "source": [
    "import json\n",
    "import requests"
   ]
  },
  {
   "cell_type": "code",
   "execution_count": 4,
   "metadata": {},
   "outputs": [],
   "source": [
    "req = requests.get('http://pokeapi.co/api/v2/pokemon/1/')"
   ]
  },
  {
   "cell_type": "code",
   "execution_count": 5,
   "metadata": {},
   "outputs": [
    {
     "data": {
      "text/plain": [
       "503"
      ]
     },
     "execution_count": 5,
     "metadata": {},
     "output_type": "execute_result"
    }
   ],
   "source": [
    "req.status_code"
   ]
  },
  {
   "cell_type": "code",
   "execution_count": 6,
   "metadata": {},
   "outputs": [
    {
     "data": {
      "text/plain": [
       "{'Content-Type': 'text/html; charset=UTF-8', 'Content-Length': '4870', 'Connection': 'close', 'P3P': 'CP=\"CAO PSA OUR\"', 'Expires': 'Thu, 01 Jan 1970 00:00:00 GMT', 'Cache-Control': 'no-store, no-cache, must-revalidate, post-check=0, pre-check=0', 'Pragma': 'no-cache'}"
      ]
     },
     "execution_count": 6,
     "metadata": {},
     "output_type": "execute_result"
    }
   ],
   "source": [
    "req.headers"
   ]
  },
  {
   "cell_type": "code",
   "execution_count": 11,
   "metadata": {},
   "outputs": [
    {
     "name": "stdout",
     "output_type": "stream",
     "text": [
      "b'<!DOCTYPE html PUBLIC \"-//W3C//DTD HTML 4.01 Transitional//EN\" \"http://www.w3.org/TR/html4/loose.dtd\">\\n<!-- saved from url=(0020)http://gambling.com/ -->\\n<html><head><meta http-equiv=\"Content-Type\" content=\"text/html; charset=UTF-8\">\\n\\n<title>Notification: Policy: URL Filtering</title>\\n<style type=\"text/css\">\\nbody {\\n\\n\\n width: 800px;\\n margin: 0 auto;\\ncolor:white;\\n  font-family: Arial, Helvetica, sans-serif;\\n  font-size: 14px;\\n  color:#333333;\\n\\n}\\n\\n\\nh1 {\\n  font-size: 18px;\\n  font-weight: bold;\\n  text-decoration: none;\\n  padding-top: 0px;\\n  color: #2970A6;\\n}\\nh2 {\\n  font-family: Arial, Helvetica, sans-serif;\\n  text-decoration: none;\\n  font-size: 13px;\\n  padding-top: 0px;\\n  color:#ff6666;\\n}\\nh3 {\\n  font-family: Arial, Helvetica, sans-serif;\\n  text-decoration: none;\\n  font-size: 13px;\\n  padding-top: 0px;\\n  color:#1959EC;\\n}\\n\\na:link {\\n    color: #2970A6;\\n  text-decoration: none;\\n}\\na:hover {\\n    color: #2970A6;\\n  text-decoration: underline;\\n}\\np.buttonlink {\\n  margin-bottom: 24px;\\n}\\n.copyright {\\n  font-size: 12px;\\n  color: #666666;\\n  margin: 5px 5px 0px 30px;\\n\\n}\\n.details {\\n  font-size: 14px;\\n  color: #969696;\\n  border: none;\\n  padding: 20px 20px 20px 20px;\\n  margin: 0px 10px 10px 35px;\\n}\\n\\n.shadow {\\n  border: 3px solid #9f9f9f;\\n  padding: 10px 25px 10px 25px;\\n  margin: 10px 35px 0px 30px; \\n  /*background-color: #ffffff;\\n*/\\n  width: 600px;\\n  margin: 0 auto;\\n\\n  -moz-box-shadow: 3px 3px 3px #cccccc;\\n  -webkit-box-shadow: 3px 3px 3px #cccccc;\\n  box-shadow: 3px 3px 3px #cccccc;\\n  /* For IE 8 */\\n  -ms-filter: \"progid:DXImageTransform.Microsoft.Shadow(Strength=5, Direction=135, Color=\\'cccccc\\')\";\\n  /* For IE 5.5 - 7 */\\n  filter: progid:DXImageTransform.Microsoft.Shadow(Strength=5, Direction=135, Color=\\'cccccc\\');\\n}\\n.logo {\\n  border: none;\\n  margin: 5px 5px 0px 30px;\\n  width: 65px;\\n  height: 30px;\\n}\\n.url {\\n    word-break: break-all;\\n    white-space: normal;\\n}\\n.ticketlink {\\n    word-break: break-all;\\n    white-space: normal;\\n}\\n\\n.container {  position: relative; }\\n\\n.container:before {\\n  content: \"\";\\n    position: absolute;\\n    top: 0;\\n    bottom: 0;\\n    left: 0;\\n    right: 0;\\n    z-index: 1;\\n    background-image: url(\\'https://lxappscjbprd001.lowes.com/ISG Logo.png\\');\\n    background-repeat: no-repeat;\\n    background-position: center;\\n vertical-align: top;\\n   opacity: 0.3;\\n}\\n\\n.content {\\n    position: relative; \\n    z-index: 2;\\n}?\\n</style>\\n</head>\\n\\n<body>\\n\\n\\n<div class=\"container\">\\n    <div class=\"content\">\\n\\n\\n\\n<!-- <div class=\"logo\">\\n   <img src=\"http://www.lowescdn.com/images/ui/LowesLogo.svg\">\\n</div><p>&nbsp;</p> -->\\n<div class=\"shadow\">\\n  <div class=\"logo\">\\n   <img src=\"https://lxappscjbprd001.lowes.com/LowesLogo.svg\">\\n</div><p>&nbsp;</p>\\n<h1>Web Site Blocked</h1>\\n\\n\\n<p>\\nBased on Lowe\\'s <a href=\"https://lowes.sharepoint.com/sites/itc/isg/itpolicies/Information%20Technology%20%20Security%20Policy%20Library/AUP%20-%20Acceptable%20Use%20Policy.pdf\" target=\"blank\">Acceptable Use Policy</a>, access to the web site below has been blocked because the web category is not allowed. If you believe this site should be unblocked please email the Security Operations Center by <a href=\"mailto:isg-soc@lowes.com?subject=Web Unblock Request&body=Please unblock the below website.%0D%0DURL: %0D%0DBusiness Justification: %0D%0DScreenshot: %0D\">clicking Here</a>.<br><br>\\n<b>User:&nbsp;&nbsp;&nbsp;&nbsp;&nbsp;bupadhy@lowes.com</b> \\n<br>\\n<div class=\"url\">\\n<b>Website:&nbsp;&nbsp;&nbsp;&nbsp;&nbsp;pokeapi.co/api/v2/pokemon/1/</b>  \\n</div>\\n<br>\\n<!-- <p><b>URL:</b> pokeapi.co/api/v2/pokemon/1/ </p> -->\\n<b>Category:&nbsp;&nbsp;&nbsp;ISFC-Blocklist-TLD-URL</b> <br><br>\\n\\n\\n<!--\\n<h2 id=\"warningText\"> </h2>\\n\\n<div class=\"ticketlink\">\\n<a href=\"https://smartit.myloweslife.com/ux/rest/share/OJSXG33VOJRWKSLEHVJVER2BIE2VMMCHJRGFARCBKEZEERKTJNITCRCBGEYDCVKLJATHEZLTN52XEY3FKR4XAZJ5KNJEIJTUMVXGC3TUJFSD2MBQGAYDAMBQGAYDAMBQGAYDCJTDN5XHIZLYORKHS4DFHVIFET2GJFGEKX2UJFGUKTCJJZCSM4DSN53GSZDFOJJW65LSMNSU4YLNMU6XG4TN\" target=\"_blank\">Web Unblock Request Form</a><br><br>\\n\\n<a href=\"http://it.intranet.0998.lowes.com/ITOPortal/euc/itnow/\">IT Service Desk</a>  \\n</div>\\n-->\\n\\n\\n<!-- <p id=\"warningText\"></p> -->\\n<!-- <p><b>Category:</b> ISFC-Blocklist-TLD-URL </p> -->\\n<!-- </p> -->\\n<!-- <script>\\nvar cat = \"ISFC-Blocklist-TLD-URL\";\\n// var cat = \"ISG-Blocklist-URL\";\\n      switch(cat)\\n      {\\n      case \\'ISG-Blocklist-URL\\':\\n      document.getElementById(\"warningText\").innerHTML = \"For ISG Blocked Category issues please submit a Web Unblock Request Form Ticket by clicking the link below.\";\\n       element = document.querySelector(\\'.ticketlink\\'); \\n       element.style.visibility = \\'hidden\\'; \\n      break;\\n      default:\\n      document.getElementById(\"warningText\").innerHTML = \"If you believe this page has been misclassified please submit a Web Unblock Request Form Ticket by clicking the link below.\";\\n      break;\\n      }\\n</script> -->\\n    \\n</div>\\n</div>\\n</div>\\n</body></html>'\n"
     ]
    }
   ],
   "source": [
    "#json_res = json.loads(req.content)\n",
    "content = req.content\n",
    "print(content)"
   ]
  },
  {
   "cell_type": "code",
   "execution_count": null,
   "metadata": {},
   "outputs": [],
   "source": [
    "json_res = json.loads(content)"
   ]
  },
  {
   "cell_type": "code",
   "execution_count": 2,
   "metadata": {},
   "outputs": [
    {
     "name": "stdout",
     "output_type": "stream",
     "text": [
      "division by zero\n"
     ]
    }
   ],
   "source": [
    "try:\n",
    "    print(5/0)\n",
    "\n",
    "except Exception as e:\n",
    "    print(e)"
   ]
  },
  {
   "cell_type": "code",
   "execution_count": 5,
   "metadata": {},
   "outputs": [
    {
     "name": "stdout",
     "output_type": "stream",
     "text": [
      "_Processor\n",
      "_WIN32_CLIENT_RELEASES\n",
      "_WIN32_SERVER_RELEASES\n",
      "__builtins__\n",
      "__cached__\n",
      "__copyright__\n",
      "__doc__\n",
      "__file__\n",
      "__loader__\n",
      "__name__\n",
      "__package__\n",
      "__spec__\n",
      "__version__\n",
      "_comparable_version\n",
      "_component_re\n",
      "_default_architecture\n",
      "_follow_symlinks\n",
      "_get_machine_win32\n",
      "_ironpython26_sys_version_parser\n",
      "_ironpython_sys_version_parser\n",
      "_java_getprop\n",
      "_libc_search\n",
      "_mac_ver_xml\n",
      "_node\n",
      "_norm_version\n",
      "_os_release_cache\n",
      "_os_release_candidates\n",
      "_os_release_line\n",
      "_os_release_unescape\n",
      "_parse_os_release\n",
      "_platform\n",
      "_platform_cache\n",
      "_pypy_sys_version_parser\n",
      "_sys_version\n",
      "_sys_version_cache\n",
      "_sys_version_parser\n",
      "_syscmd_file\n",
      "_syscmd_ver\n",
      "_uname_cache\n",
      "_unknown_as_blank\n",
      "_ver_output\n",
      "_ver_stages\n",
      "architecture\n",
      "collections\n",
      "freedesktop_os_release\n",
      "functools\n",
      "itertools\n",
      "java_ver\n",
      "libc_ver\n",
      "mac_ver\n",
      "machine\n",
      "node\n",
      "os\n",
      "platform\n",
      "processor\n",
      "python_branch\n",
      "python_build\n",
      "python_compiler\n",
      "python_implementation\n",
      "python_revision\n",
      "python_version\n",
      "python_version_tuple\n",
      "re\n",
      "release\n",
      "subprocess\n",
      "sys\n",
      "system\n",
      "system_alias\n",
      "uname\n",
      "uname_result\n",
      "version\n",
      "win32_edition\n",
      "win32_is_iot\n",
      "win32_ver\n"
     ]
    }
   ],
   "source": [
    "import platform\n",
    "for d in dir(platform):\n",
    "    print(d,sep=' ')"
   ]
  },
  {
   "cell_type": "code",
   "execution_count": 6,
   "metadata": {},
   "outputs": [
    {
     "name": "stdout",
     "output_type": "stream",
     "text": [
      "macOS-12.3.1-x86_64-i386-64bit\n",
      "macOS-12.3.1-x86_64-i386-64bit\n",
      "macOS-12.3.1\n",
      "('12.3.1', ('', '', ''), 'x86_64')\n",
      "x86_64\n",
      "i386\n",
      "Darwin\n",
      "Darwin Kernel Version 21.4.0: Fri Mar 18 00:45:05 PDT 2022; root:xnu-8020.101.4~15/RELEASE_X86_64\n",
      "CPython\n",
      "3\n",
      "10\n",
      "2\n",
      "Clang 13.0.0 (clang-1300.0.29.3)\n"
     ]
    }
   ],
   "source": [
    "from platform import platform, mac_ver, machine, processor, system, version, \\\n",
    "python_implementation, python_version_tuple, python_compiler\n",
    "print(platform())\n",
    "print(platform(1))\n",
    "print(platform(1,1))\n",
    "print(mac_ver())\n",
    "print(machine())\n",
    "print(processor())\n",
    "print(system())\n",
    "print(version())\n",
    "print(python_implementation())\n",
    "for atr in python_version_tuple():\n",
    "    print(atr,sep='\\t')\n",
    "print(python_compiler())"
   ]
  },
  {
   "cell_type": "code",
   "execution_count": null,
   "metadata": {},
   "outputs": [],
   "source": []
  }
 ],
 "metadata": {
  "kernelspec": {
   "display_name": "Python 3.6.2 64-bit",
   "metadata": {
    "interpreter": {
     "hash": "e7c37ba80a6e54a3d63188245ab5de6a3e0d381993bcb1990a7020536fc2299e"
    }
   },
   "name": "python3"
  },
  "language_info": {
   "codemirror_mode": {
    "name": "ipython",
    "version": 3
   },
   "file_extension": ".py",
   "mimetype": "text/x-python",
   "name": "python",
   "nbconvert_exporter": "python",
   "pygments_lexer": "ipython3",
   "version": "3.10.2"
  },
  "orig_nbformat": 2
 },
 "nbformat": 4,
 "nbformat_minor": 2
}
