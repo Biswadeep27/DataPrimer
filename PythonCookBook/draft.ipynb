{
 "cells": [
  {
   "cell_type": "code",
   "execution_count": 3,
   "metadata": {},
   "outputs": [],
   "source": [
    "from typing import *\n",
    "def check_power(n: int) -> bool:\n",
    "\t\n",
    "\twhile n >= 2 :\n",
    "\t\tif n % 2 != 0:\n",
    "\t\t\treturn False\n",
    "\t\tn = n/2\n",
    "\n",
    "\treturn True"
   ]
  },
  {
   "cell_type": "code",
   "execution_count": 9,
   "metadata": {},
   "outputs": [
    {
     "data": {
      "text/plain": [
       "True"
      ]
     },
     "execution_count": 9,
     "metadata": {},
     "output_type": "execute_result"
    }
   ],
   "source": [
    "check_power(128)"
   ]
  },
  {
   "cell_type": "code",
   "execution_count": 13,
   "metadata": {},
   "outputs": [],
   "source": [
    "from math import log2\n",
    "\n",
    "def check_power(n: int) -> bool:\n",
    "\t\n",
    "\tval = log2(n)\n",
    "\tif val % 1 == 0:\n",
    "\t\treturn True\n",
    "\telse:\n",
    "\t\treturn False\n"
   ]
  },
  {
   "cell_type": "code",
   "execution_count": 16,
   "metadata": {},
   "outputs": [
    {
     "data": {
      "text/plain": [
       "False"
      ]
     },
     "execution_count": 16,
     "metadata": {},
     "output_type": "execute_result"
    }
   ],
   "source": [
    "check_power(20)"
   ]
  },
  {
   "cell_type": "code",
   "execution_count": 37,
   "metadata": {},
   "outputs": [],
   "source": [
    "# Equilibrium index of an array is an index such that the sum of elements at lower indexes is equal to the sum of elements at higher indexes. \n",
    "#Return -1 if we don't find any equilibrium index. For example, in an array A:\n",
    "\n",
    "# Input : A[] = {-7, 1, 5, 2, -4, 3, 0}\n",
    "\n",
    "# Output : 3\n",
    "\n",
    "def equil_arr(arr : List[int]) -> int:\n",
    "\n",
    "    sum_arr = sum(arr)\n",
    "\n",
    "    max_ind = len(arr) - 1\n",
    "    left_sum = 0\n",
    "    right_sum = sum_arr \n",
    "\n",
    "    for i in range(max_ind):\n",
    "        right_sum = sum_arr - left_sum - arr[i]\n",
    "        if left_sum == right_sum:\n",
    "            return i\n",
    "        left_sum += arr[i]\n",
    "        print(left_sum, right_sum)\n",
    "        \n",
    "        \n",
    "    return -1"
   ]
  },
  {
   "cell_type": "code",
   "execution_count": 39,
   "metadata": {},
   "outputs": [
    {
     "data": {
      "text/plain": [
       "-1"
      ]
     },
     "execution_count": 39,
     "metadata": {},
     "output_type": "execute_result"
    }
   ],
   "source": [
    "equil_arr([])"
   ]
  },
  {
   "cell_type": "code",
   "execution_count": null,
   "metadata": {},
   "outputs": [],
   "source": []
  }
 ],
 "metadata": {
  "kernelspec": {
   "display_name": "venv_tf_310",
   "language": "python",
   "name": "python3"
  },
  "language_info": {
   "codemirror_mode": {
    "name": "ipython",
    "version": 3
   },
   "file_extension": ".py",
   "mimetype": "text/x-python",
   "name": "python",
   "nbconvert_exporter": "python",
   "pygments_lexer": "ipython3",
   "version": "3.10.10"
  },
  "orig_nbformat": 4
 },
 "nbformat": 4,
 "nbformat_minor": 2
}
