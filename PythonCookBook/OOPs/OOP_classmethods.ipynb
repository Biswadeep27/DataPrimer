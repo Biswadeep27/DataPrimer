{
 "cells": [
  {
   "cell_type": "code",
   "execution_count": 1,
   "metadata": {},
   "outputs": [],
   "source": [
    "\n",
    "class Employee(object):\n",
    "\n",
    "    num_of_emps = 0\n",
    "    raise_amt = 1.04\n",
    "\n",
    "    def __init__(self, first, last, pay):\n",
    "        self.first = first\n",
    "        self.last = last\n",
    "        self.email = first + '.' + last + '@email.com'\n",
    "        self.pay = pay\n",
    "\n",
    "        Employee.num_of_emps += 1\n",
    "\n",
    "    def fullname(self):\n",
    "        return '{} {}'.format(self.first, self.last)\n",
    "\n",
    "    def apply_raise(self):\n",
    "        self.pay = int(self.pay * self.raise_amt)\n",
    "\n",
    "    @classmethod\n",
    "    def set_raise_amt(cls, amount):\n",
    "        cls.raise_amt = amount\n",
    "\n",
    "    @classmethod\n",
    "    def from_string(cls, emp_str):\n",
    "        first, last, pay = emp_str.split('-')\n",
    "        return cls(first, last, pay)\n",
    "\n",
    "    @staticmethod\n",
    "    def is_workday(day):\n",
    "        if day.weekday() == 5 or day.weekday() == 6:\n",
    "            return False\n",
    "        return True\n",
    "\n",
    "\n"
   ]
  },
  {
   "cell_type": "code",
   "execution_count": 2,
   "metadata": {},
   "outputs": [
    {
     "data": {
      "text/plain": [
       "type"
      ]
     },
     "execution_count": 2,
     "metadata": {},
     "output_type": "execute_result"
    }
   ],
   "source": [
    "Employee.__class__"
   ]
  },
  {
   "cell_type": "code",
   "execution_count": 3,
   "metadata": {},
   "outputs": [
    {
     "data": {
      "text/plain": [
       "str"
      ]
     },
     "execution_count": 3,
     "metadata": {},
     "output_type": "execute_result"
    }
   ],
   "source": [
    "\"raj\".__class__"
   ]
  },
  {
   "cell_type": "code",
   "execution_count": 12,
   "metadata": {},
   "outputs": [
    {
     "data": {
      "text/plain": [
       "mappingproxy({'__module__': '__main__',\n",
       "              'num_of_emps': 0,\n",
       "              'raise_amt': 1.04,\n",
       "              '__init__': <function __main__.Employee.__init__(self, first, last, pay)>,\n",
       "              'fullname': <function __main__.Employee.fullname(self)>,\n",
       "              'apply_raise': <function __main__.Employee.apply_raise(self)>,\n",
       "              'set_raise_amt': <classmethod(<function Employee.set_raise_amt at 0x109482950>)>,\n",
       "              'from_string': <classmethod(<function Employee.from_string at 0x1094829e0>)>,\n",
       "              'is_workday': <staticmethod(<function Employee.is_workday at 0x109482a70>)>,\n",
       "              '__dict__': <attribute '__dict__' of 'Employee' objects>,\n",
       "              '__weakref__': <attribute '__weakref__' of 'Employee' objects>,\n",
       "              '__doc__': None})"
      ]
     },
     "execution_count": 12,
     "metadata": {},
     "output_type": "execute_result"
    }
   ],
   "source": [
    "Employee.__dict__"
   ]
  },
  {
   "cell_type": "code",
   "execution_count": 4,
   "metadata": {},
   "outputs": [
    {
     "name": "stdout",
     "output_type": "stream",
     "text": [
      "1.05\n",
      "1.05\n",
      "1.07\n",
      "{'first': 'Corey', 'last': 'Schafer', 'email': 'Corey.Schafer@email.com', 'pay': 50000}\n",
      "{'first': 'Test', 'last': 'Employee', 'email': 'Test.Employee@email.com', 'pay': 60000, 'raise_amt': 1.07}\n"
     ]
    }
   ],
   "source": [
    "emp_1 = Employee('Corey', 'Schafer', 50000)\n",
    "emp_2 = Employee('Test', 'Employee', 60000)\n",
    "\n",
    "Employee.set_raise_amt(1.05)\n",
    "emp_2.raise_amt = 1.07\n",
    "\n",
    "print(Employee.raise_amt)\n",
    "print(emp_1.raise_amt)\n",
    "print(emp_2.raise_amt)\n",
    "print(emp_1.__dict__)\n",
    "print(emp_2.__dict__)\n",
    "\n"
   ]
  },
  {
   "cell_type": "code",
   "execution_count": 8,
   "metadata": {},
   "outputs": [
    {
     "data": {
      "text/plain": [
       "(__main__.Employee, method, method, str)"
      ]
     },
     "execution_count": 8,
     "metadata": {},
     "output_type": "execute_result"
    }
   ],
   "source": [
    "emp_1.__class__, emp_1.apply_raise.__class__, emp_1.fullname.__class__, emp_1.email.__class__"
   ]
  },
  {
   "cell_type": "code",
   "execution_count": 10,
   "metadata": {},
   "outputs": [
    {
     "name": "stdout",
     "output_type": "stream",
     "text": [
      "{'first': 'Corey', 'last': 'Schafer', 'email': 'Corey.Schafer@email.com', 'pay': 50000}\n",
      "{'first': 'Test', 'last': 'Employee', 'email': 'Test.Employee@email.com', 'pay': 60000, 'raise_amt': 1.07}\n"
     ]
    }
   ],
   "source": [
    "print(emp_1.__dict__)\n",
    "print(emp_2.__dict__)"
   ]
  },
  {
   "cell_type": "code",
   "execution_count": 11,
   "metadata": {},
   "outputs": [
    {
     "data": {
      "text/plain": [
       "{'first': 'Test',\n",
       " 'last': 'Employee',\n",
       " 'email': 'Test.Employee@email.com',\n",
       " 'pay': 60000,\n",
       " 'raise_amt': 1.07,\n",
       " 'tbnd': 'tgnd'}"
      ]
     },
     "execution_count": 11,
     "metadata": {},
     "output_type": "execute_result"
    }
   ],
   "source": [
    "emp_2.tbnd = 'tgnd'\n",
    "emp_2.__dict__"
   ]
  },
  {
   "cell_type": "code",
   "execution_count": 14,
   "metadata": {},
   "outputs": [
    {
     "name": "stdout",
     "output_type": "stream",
     "text": [
      "John.Doe@email.com\n",
      "70000\n"
     ]
    }
   ],
   "source": [
    "emp_str_1 = 'John-Doe-70000'\n",
    "emp_str_2 = 'Steve-Smith-30000'\n",
    "emp_str_3 = 'Jane-Doe-90000'\n",
    "\n",
    "first, last, pay = emp_str_1.split('-')\n",
    "\n",
    "#new_emp_1 = Employee(first, last, pay)\n",
    "new_emp_1 = Employee.from_string(emp_str_1)\n",
    "\n",
    "print(new_emp_1.email)\n",
    "print(new_emp_1.pay)\n",
    "\n"
   ]
  },
  {
   "cell_type": "code",
   "execution_count": 15,
   "metadata": {},
   "outputs": [
    {
     "name": "stdout",
     "output_type": "stream",
     "text": [
      "True\n"
     ]
    }
   ],
   "source": [
    "import datetime\n",
    "my_date = datetime.date(2016, 7, 11)\n",
    "\n",
    "print(Employee.is_workday(my_date))"
   ]
  },
  {
   "cell_type": "code",
   "execution_count": 12,
   "metadata": {},
   "outputs": [
    {
     "name": "stdout",
     "output_type": "stream",
     "text": [
      "Total number of phone devices created: 0\n",
      "Creating 2 devices\n",
      "Total number of phone devices created: 2\n",
      "Total number of mobile phones created: 1\n",
      "Calling 01632-960004 using own number 555-2368\n",
      "Fixed phone received \"FP-1\" serial number\n",
      "Mobile phone received \"MP-1\" serial number\n"
     ]
    }
   ],
   "source": [
    "class Phone:\n",
    "    counter = 0\n",
    "\n",
    "    def __init__(self, number):\n",
    "        self.number = number\n",
    "        Phone.counter += 1\n",
    "\n",
    "    def call(self, number):\n",
    "        message = 'Calling {} using own number {}'.format(number, self.number)\n",
    "        return message\n",
    "\n",
    "\n",
    "class FixedPhone(Phone):\n",
    "    last_SN = 0\n",
    "\n",
    "    def __init__(self, number):\n",
    "        super().__init__(number)\n",
    "        FixedPhone.last_SN += 1\n",
    "        self.SN = 'FP-{}'.format(FixedPhone.last_SN)\n",
    "\n",
    "\n",
    "class MobilePhone(Phone):\n",
    "    last_SN = 0\n",
    "\n",
    "    def __init__(self, number):\n",
    "        super().__init__(number)\n",
    "        MobilePhone.last_SN += 1\n",
    "        self.SN = 'MP-{}'.format(MobilePhone.last_SN)\n",
    "\n",
    "\n",
    "print('Total number of phone devices created:', Phone.counter)\n",
    "print('Creating 2 devices')\n",
    "fphone = FixedPhone('555-2368')\n",
    "mphone = MobilePhone('01632-960004')\n",
    "\n",
    "print('Total number of phone devices created:', Phone.counter)\n",
    "print('Total number of mobile phones created:', MobilePhone.last_SN)\n",
    "\n",
    "print(fphone.call('01632-960004'))\n",
    "print('Fixed phone received \"{}\" serial number'.format(fphone.SN))\n",
    "print('Mobile phone received \"{}\" serial number'.format(mphone.SN))\n"
   ]
  },
  {
   "cell_type": "markdown",
   "metadata": {},
   "source": [
    "Imagine that you receive a task description of an application that monitors the process of apple packaging before the apples are sent to a shop.\n",
    "\n",
    "A shop owner has asked for 1000 apples, but the total weight limitation cannot exceed 300 units.\n",
    "\n",
    "Write a code that creates objects representing apples as long as both limitations are met. When any limitation is exceeded, than the packaging process is stopped, and your application should print the number of apple class objects created, and the total weight.\n",
    "\n",
    "Your application should keep track of two parameters:\n",
    "\n",
    "* the number of apples processed, stored as a class variable;\n",
    "* the total weight of the apples processed; stored as a class variable. Assume that each apple's weight is random, and can vary between 0.2 and 0.5 of an imaginary weight unit;"
   ]
  },
  {
   "cell_type": "code",
   "execution_count": 16,
   "metadata": {},
   "outputs": [
    {
     "name": "stdout",
     "output_type": "stream",
     "text": [
      "Packaging apple: Started\n",
      "Packaging stopped.\n",
      "No of apples packed: 848\n",
      "Total weight of apples packed: 299.9570657622632\n"
     ]
    }
   ],
   "source": [
    "import random\n",
    "\n",
    "class Apple(object):\n",
    "    no_of_apples = 0\n",
    "    weight_of_apples = 0\n",
    "    \n",
    "    def __init__(self):\n",
    "        self.weight = random.uniform(0.2,0.5)\n",
    "        Apple.no_of_apples += 1\n",
    "        Apple.weight_of_apples += self.weight\n",
    "        \n",
    "print(f'Packaging apple: Started')\n",
    "for i in range(1000):\n",
    "    package = Apple()\n",
    "    \n",
    "    if Apple.weight_of_apples > 300:\n",
    "        print('Packaging stopped.')\n",
    "        break\n",
    "        \n",
    "print(f'No of apples packed: {Apple.no_of_apples - 1}')\n",
    "print(f'Total weight of apples packed: {Apple.weight_of_apples - package.weight}')"
   ]
  },
  {
   "cell_type": "code",
   "execution_count": null,
   "metadata": {},
   "outputs": [],
   "source": []
  }
 ],
 "metadata": {
  "interpreter": {
   "hash": "b460384b52104c1e5b9cf54bee46a255d22b2bef338f75ac4ad5d48196028d3c"
  },
  "kernelspec": {
   "display_name": "Python 3.10.2 64-bit",
   "language": "python",
   "name": "python3"
  },
  "language_info": {
   "codemirror_mode": {
    "name": "ipython",
    "version": 3
   },
   "file_extension": ".py",
   "mimetype": "text/x-python",
   "name": "python",
   "nbconvert_exporter": "python",
   "pygments_lexer": "ipython3",
   "version": "3.10.2"
  },
  "orig_nbformat": 4
 },
 "nbformat": 4,
 "nbformat_minor": 2
}
