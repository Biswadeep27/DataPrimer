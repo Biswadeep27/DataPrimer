{
 "metadata": {
  "language_info": {
   "codemirror_mode": {
    "name": "ipython",
    "version": 3
   },
   "file_extension": ".py",
   "mimetype": "text/x-python",
   "name": "python",
   "nbconvert_exporter": "python",
   "pygments_lexer": "ipython3",
   "version": "3.9.7-final"
  },
  "orig_nbformat": 2,
  "kernelspec": {
   "name": "python3",
   "display_name": "Python 3 (ipykernel)",
   "language": "python"
  }
 },
 "nbformat": 4,
 "nbformat_minor": 2,
 "cells": [
  {
   "cell_type": "code",
   "execution_count": 3,
   "metadata": {},
   "outputs": [
    {
     "output_type": "execute_result",
     "data": {
      "text/plain": [
       "sys.version_info(major=3, minor=9, micro=7, releaselevel='final', serial=0)"
      ]
     },
     "metadata": {},
     "execution_count": 3
    }
   ],
   "source": [
    "import sys\n",
    "sys.version_info"
   ]
  },
  {
   "cell_type": "code",
   "execution_count": 1,
   "metadata": {},
   "outputs": [
    {
     "output_type": "execute_result",
     "data": {
      "text/plain": [
       "                          text  sentiment\n",
       "0  It is a beautiful day today       0.85\n",
       "1       This movie is terrible      -1.00"
      ],
      "text/html": "<div>\n<style scoped>\n    .dataframe tbody tr th:only-of-type {\n        vertical-align: middle;\n    }\n\n    .dataframe tbody tr th {\n        vertical-align: top;\n    }\n\n    .dataframe thead th {\n        text-align: right;\n    }\n</style>\n<table border=\"1\" class=\"dataframe\">\n  <thead>\n    <tr style=\"text-align: right;\">\n      <th></th>\n      <th>text</th>\n      <th>sentiment</th>\n    </tr>\n  </thead>\n  <tbody>\n    <tr>\n      <th>0</th>\n      <td>It is a beautiful day today</td>\n      <td>0.85</td>\n    </tr>\n    <tr>\n      <th>1</th>\n      <td>This movie is terrible</td>\n      <td>-1.00</td>\n    </tr>\n  </tbody>\n</table>\n</div>"
     },
     "metadata": {},
     "execution_count": 1
    }
   ],
   "source": [
    "from textblob import TextBlob\n",
    "import pandas as pd \n",
    "\n",
    "def remove_white_space(df: pd.DataFrame):\n",
    "    df['text'] = df['text'].apply(lambda row: row.strip())\n",
    "    return df\n",
    "\n",
    "def get_sentiment(df: pd.DataFrame):\n",
    "    df['sentiment'] = df['text'].apply(lambda row:\n",
    "                                    TextBlob(row).sentiment[0])\n",
    "    return df\n",
    "\n",
    "df = pd.DataFrame({'text': [\"It is a beautiful day today  \",\n",
    "                        \"  This movie is terrible\"]})\n",
    "\n",
    "df = (df.pipe(remove_white_space)\n",
    "    .pipe(get_sentiment)\n",
    ")\n",
    "\n",
    "df"
   ]
  },
  {
   "cell_type": "code",
   "execution_count": 1,
   "metadata": {},
   "outputs": [],
   "source": [
    "import pandas as pd"
   ]
  },
  {
   "cell_type": "code",
   "execution_count": 34,
   "metadata": {},
   "outputs": [
    {
     "output_type": "execute_result",
     "data": {
      "text/plain": [
       "Empty DataFrame\n",
       "Columns: [Domain, Team, Project_Name, Job_Mnemonics, Requested_User, Email_ID]\n",
       "Index: []"
      ],
      "text/html": "<div>\n<style scoped>\n    .dataframe tbody tr th:only-of-type {\n        vertical-align: middle;\n    }\n\n    .dataframe tbody tr th {\n        vertical-align: top;\n    }\n\n    .dataframe thead th {\n        text-align: right;\n    }\n</style>\n<table border=\"1\" class=\"dataframe\">\n  <thead>\n    <tr style=\"text-align: right;\">\n      <th></th>\n      <th>Domain</th>\n      <th>Team</th>\n      <th>Project_Name</th>\n      <th>Job_Mnemonics</th>\n      <th>Requested_User</th>\n      <th>Email_ID</th>\n    </tr>\n  </thead>\n  <tbody>\n  </tbody>\n</table>\n</div>"
     },
     "metadata": {},
     "execution_count": 34
    }
   ],
   "source": [
    "SOP_df = pd.read_csv('jobname_SOP.csv')\n",
    "SOP_df.head()\n"
   ]
  },
  {
   "cell_type": "code",
   "execution_count": 3,
   "metadata": {},
   "outputs": [
    {
     "output_type": "execute_result",
     "data": {
      "text/plain": [
       "True"
      ]
     },
     "metadata": {},
     "execution_count": 3
    }
   ],
   "source": [
    "str(SOP_df['Job_Mnemonics'].max()) == 'nan'\n",
    "#SOP_df.loc[SOP_df['Job_Mnemonics'].idxmax()]"
   ]
  },
  {
   "cell_type": "code",
   "execution_count": 4,
   "metadata": {},
   "outputs": [
    {
     "output_type": "execute_result",
     "data": {
      "text/plain": [
       "0"
      ]
     },
     "metadata": {},
     "execution_count": 4
    }
   ],
   "source": [
    "len(SOP_df.index)"
   ]
  },
  {
   "cell_type": "code",
   "execution_count": 6,
   "metadata": {},
   "outputs": [
    {
     "output_type": "execute_result",
     "data": {
      "text/plain": [
       "Index(['Domain', 'Team', 'Project_Name', 'Job_Mnemonics', 'Requested_User',\n",
       "       'Email_ID'],\n",
       "      dtype='object')"
      ]
     },
     "metadata": {},
     "execution_count": 6
    }
   ],
   "source": [
    "SOP_df.columns"
   ]
  },
  {
   "cell_type": "code",
   "execution_count": 71,
   "metadata": {},
   "outputs": [
    {
     "output_type": "stream",
     "name": "stdout",
     "text": [
      "10\n"
     ]
    }
   ],
   "source": [
    "ip_data_backend = {\n",
    "    'name' : 'Biswadeep Upadhyay',\n",
    "    'email' : 'biswadeep.upadhyay@lowes.com',\n",
    "    'domain' : ['DAC','DACI'],\n",
    "    'team' : 'BDI' ,\n",
    "    'Project_name' : 'JDA Bi Reporting',\n",
    "    'spark_mode' : 'K',\n",
    "    'frequency' : 'D',\n",
    "    'td_load' : 'Y',\n",
    "    'job_num' : 10\n",
    "}\n",
    "v_num_jobs = int(ip_data_backend['job_num'])\n",
    "print(v_num_jobs)"
   ]
  },
  {
   "cell_type": "code",
   "execution_count": 42,
   "metadata": {},
   "outputs": [],
   "source": [
    "# empty df insert :\n",
    "max_seq = 0\n",
    "#Domain,Team,Project_Name,Job_Mnemonics,Requested_User,Email_ID\n",
    "insert_dict = {}\n",
    "insert_dict['Domain'] = ip_data_backend['domain'][1]\n",
    "insert_dict['Team'] = ip_data_backend['team']\n",
    "insert_dict['Project_Name'] = ip_data_backend['Project_name']\n",
    "insert_dict['Requested_User'] = ip_data_backend['name']\n",
    "insert_dict['Email_ID'] = ip_data_backend['email']\n",
    "if ip_data_backend['td_load'] == 'Y':\n",
    "    for i in range(1,v_num_jobs+1):\n",
    "        insert_dict['Job_Mnemonics'] = ip_data_backend['domain'][0] + '_WS_' + ip_data_backend['spark_mode'] + \\\n",
    "        str(max_seq + i).zfill(5) + ip_data_backend['frequency'] + '_' + ip_data_backend['team']\n",
    "        SOP_df = SOP_df.append(insert_dict, ignore_index = True)\n",
    "    for i in range(1,v_num_jobs+1):\n",
    "        insert_dict['Job_Mnemonics'] = ip_data_backend['domain'][0] + '_SA_' + ip_data_backend['spark_mode'] + \\\n",
    "        str(max_seq + i).zfill(5) + ip_data_backend['frequency'] + '_' + ip_data_backend['team']\n",
    "        SOP_df = SOP_df.append(insert_dict, ignore_index = True)\n",
    "else:\n",
    "    for i in range(1,v_num_jobs+1):\n",
    "        insert_dict['Job_Mnemonics'] = ip_data_backend['domain'][0] + '_' + ip_data_backend['spark_mode'] + \\\n",
    "        str(max_seq + i).zfill(5) + ip_data_backend['frequency'] + '_' + ip_data_backend['team']\n",
    "        SOP_df = SOP_df.append(insert_dict, ignore_index = True)    \n",
    "\n"
   ]
  },
  {
   "cell_type": "code",
   "execution_count": 44,
   "metadata": {},
   "outputs": [
    {
     "output_type": "execute_result",
     "data": {
      "text/plain": [
       "   Domain Team      Project_Name       Job_Mnemonics      Requested_User  \\\n",
       "0    DACI  BDI  JDA Bi Reporting     DAC_S00001D_BDI  Biswadeep Upadhyay   \n",
       "1    DACI  BDI  JDA Bi Reporting     DAC_S00002D_BDI  Biswadeep Upadhyay   \n",
       "2    DACI  BDI  JDA Bi Reporting     DAC_S00003D_BDI  Biswadeep Upadhyay   \n",
       "3    DACI  BDI  JDA Bi Reporting     DAC_S00004D_BDI  Biswadeep Upadhyay   \n",
       "4    DACI  BDI  JDA Bi Reporting     DAC_S00005D_BDI  Biswadeep Upadhyay   \n",
       "5    DACI  BDI  JDA Bi Reporting     DAC_S00006D_BDI  Biswadeep Upadhyay   \n",
       "6    DACI  BDI  JDA Bi Reporting     DAC_S00007D_BDI  Biswadeep Upadhyay   \n",
       "7    DACI  BDI  JDA Bi Reporting     DAC_S00008D_BDI  Biswadeep Upadhyay   \n",
       "8    DACI  BDI  JDA Bi Reporting     DAC_S00009D_BDI  Biswadeep Upadhyay   \n",
       "9    DACI  BDI  JDA Bi Reporting     DAC_S00010D_BDI  Biswadeep Upadhyay   \n",
       "10   DACI  BDI  JDA Bi Reporting     DAC_S00011D_BDI  Biswadeep Upadhyay   \n",
       "11   DACI  BDI  JDA Bi Reporting     DAC_S00012D_BDI  Biswadeep Upadhyay   \n",
       "12   DACI  BDI  JDA Bi Reporting     DAC_S00013D_BDI  Biswadeep Upadhyay   \n",
       "13   DACI  BDI  JDA Bi Reporting     DAC_S00014D_BDI  Biswadeep Upadhyay   \n",
       "14   DACI  BDI  JDA Bi Reporting     DAC_S00015D_BDI  Biswadeep Upadhyay   \n",
       "15   DACI  BDI  JDA Bi Reporting     DAC_S00016D_BDI  Biswadeep Upadhyay   \n",
       "16   DACI  BDI  JDA Bi Reporting     DAC_S00017D_BDI  Biswadeep Upadhyay   \n",
       "17   DACI  BDI  JDA Bi Reporting     DAC_S00018D_BDI  Biswadeep Upadhyay   \n",
       "18   DACI  BDI  JDA Bi Reporting     DAC_S00019D_BDI  Biswadeep Upadhyay   \n",
       "19   DACI  BDI  JDA Bi Reporting     DAC_S00020D_BDI  Biswadeep Upadhyay   \n",
       "20   DACI  BDI  JDA Bi Reporting  DAC_WS_S00001D_BDI  Biswadeep Upadhyay   \n",
       "21   DACI  BDI  JDA Bi Reporting  DAC_WS_S00002D_BDI  Biswadeep Upadhyay   \n",
       "22   DACI  BDI  JDA Bi Reporting  DAC_WS_S00003D_BDI  Biswadeep Upadhyay   \n",
       "23   DACI  BDI  JDA Bi Reporting  DAC_WS_S00004D_BDI  Biswadeep Upadhyay   \n",
       "24   DACI  BDI  JDA Bi Reporting  DAC_WS_S00005D_BDI  Biswadeep Upadhyay   \n",
       "25   DACI  BDI  JDA Bi Reporting  DAC_WS_S00006D_BDI  Biswadeep Upadhyay   \n",
       "26   DACI  BDI  JDA Bi Reporting  DAC_WS_S00007D_BDI  Biswadeep Upadhyay   \n",
       "27   DACI  BDI  JDA Bi Reporting  DAC_WS_S00008D_BDI  Biswadeep Upadhyay   \n",
       "28   DACI  BDI  JDA Bi Reporting  DAC_WS_S00009D_BDI  Biswadeep Upadhyay   \n",
       "29   DACI  BDI  JDA Bi Reporting  DAC_WS_S00010D_BDI  Biswadeep Upadhyay   \n",
       "30   DACI  BDI  JDA Bi Reporting  DAC_SA_S00001D_BDI  Biswadeep Upadhyay   \n",
       "31   DACI  BDI  JDA Bi Reporting  DAC_SA_S00002D_BDI  Biswadeep Upadhyay   \n",
       "32   DACI  BDI  JDA Bi Reporting  DAC_SA_S00003D_BDI  Biswadeep Upadhyay   \n",
       "33   DACI  BDI  JDA Bi Reporting  DAC_SA_S00004D_BDI  Biswadeep Upadhyay   \n",
       "34   DACI  BDI  JDA Bi Reporting  DAC_SA_S00005D_BDI  Biswadeep Upadhyay   \n",
       "35   DACI  BDI  JDA Bi Reporting  DAC_SA_S00006D_BDI  Biswadeep Upadhyay   \n",
       "36   DACI  BDI  JDA Bi Reporting  DAC_SA_S00007D_BDI  Biswadeep Upadhyay   \n",
       "37   DACI  BDI  JDA Bi Reporting  DAC_SA_S00008D_BDI  Biswadeep Upadhyay   \n",
       "38   DACI  BDI  JDA Bi Reporting  DAC_SA_S00009D_BDI  Biswadeep Upadhyay   \n",
       "39   DACI  BDI  JDA Bi Reporting  DAC_SA_S00010D_BDI  Biswadeep Upadhyay   \n",
       "40   DACI  BDI  JDA Bi Reporting     DAC_K00001D_BDI  Biswadeep Upadhyay   \n",
       "41   DACI  BDI  JDA Bi Reporting     DAC_K00002D_BDI  Biswadeep Upadhyay   \n",
       "42   DACI  BDI  JDA Bi Reporting     DAC_K00003D_BDI  Biswadeep Upadhyay   \n",
       "43   DACI  BDI  JDA Bi Reporting     DAC_K00004D_BDI  Biswadeep Upadhyay   \n",
       "44   DACI  BDI  JDA Bi Reporting     DAC_K00005D_BDI  Biswadeep Upadhyay   \n",
       "45   DACI  BDI  JDA Bi Reporting     DAC_K00006D_BDI  Biswadeep Upadhyay   \n",
       "46   DACI  BDI  JDA Bi Reporting     DAC_K00007D_BDI  Biswadeep Upadhyay   \n",
       "47   DACI  BDI  JDA Bi Reporting     DAC_K00008D_BDI  Biswadeep Upadhyay   \n",
       "48   DACI  BDI  JDA Bi Reporting     DAC_K00009D_BDI  Biswadeep Upadhyay   \n",
       "49   DACI  BDI  JDA Bi Reporting     DAC_K00010D_BDI  Biswadeep Upadhyay   \n",
       "\n",
       "                        Email_ID  \n",
       "0   biswadeep.upadhyay@lowes.com  \n",
       "1   biswadeep.upadhyay@lowes.com  \n",
       "2   biswadeep.upadhyay@lowes.com  \n",
       "3   biswadeep.upadhyay@lowes.com  \n",
       "4   biswadeep.upadhyay@lowes.com  \n",
       "5   biswadeep.upadhyay@lowes.com  \n",
       "6   biswadeep.upadhyay@lowes.com  \n",
       "7   biswadeep.upadhyay@lowes.com  \n",
       "8   biswadeep.upadhyay@lowes.com  \n",
       "9   biswadeep.upadhyay@lowes.com  \n",
       "10  biswadeep.upadhyay@lowes.com  \n",
       "11  biswadeep.upadhyay@lowes.com  \n",
       "12  biswadeep.upadhyay@lowes.com  \n",
       "13  biswadeep.upadhyay@lowes.com  \n",
       "14  biswadeep.upadhyay@lowes.com  \n",
       "15  biswadeep.upadhyay@lowes.com  \n",
       "16  biswadeep.upadhyay@lowes.com  \n",
       "17  biswadeep.upadhyay@lowes.com  \n",
       "18  biswadeep.upadhyay@lowes.com  \n",
       "19  biswadeep.upadhyay@lowes.com  \n",
       "20  biswadeep.upadhyay@lowes.com  \n",
       "21  biswadeep.upadhyay@lowes.com  \n",
       "22  biswadeep.upadhyay@lowes.com  \n",
       "23  biswadeep.upadhyay@lowes.com  \n",
       "24  biswadeep.upadhyay@lowes.com  \n",
       "25  biswadeep.upadhyay@lowes.com  \n",
       "26  biswadeep.upadhyay@lowes.com  \n",
       "27  biswadeep.upadhyay@lowes.com  \n",
       "28  biswadeep.upadhyay@lowes.com  \n",
       "29  biswadeep.upadhyay@lowes.com  \n",
       "30  biswadeep.upadhyay@lowes.com  \n",
       "31  biswadeep.upadhyay@lowes.com  \n",
       "32  biswadeep.upadhyay@lowes.com  \n",
       "33  biswadeep.upadhyay@lowes.com  \n",
       "34  biswadeep.upadhyay@lowes.com  \n",
       "35  biswadeep.upadhyay@lowes.com  \n",
       "36  biswadeep.upadhyay@lowes.com  \n",
       "37  biswadeep.upadhyay@lowes.com  \n",
       "38  biswadeep.upadhyay@lowes.com  \n",
       "39  biswadeep.upadhyay@lowes.com  \n",
       "40  biswadeep.upadhyay@lowes.com  \n",
       "41  biswadeep.upadhyay@lowes.com  \n",
       "42  biswadeep.upadhyay@lowes.com  \n",
       "43  biswadeep.upadhyay@lowes.com  \n",
       "44  biswadeep.upadhyay@lowes.com  \n",
       "45  biswadeep.upadhyay@lowes.com  \n",
       "46  biswadeep.upadhyay@lowes.com  \n",
       "47  biswadeep.upadhyay@lowes.com  \n",
       "48  biswadeep.upadhyay@lowes.com  \n",
       "49  biswadeep.upadhyay@lowes.com  "
      ],
      "text/html": "<div>\n<style scoped>\n    .dataframe tbody tr th:only-of-type {\n        vertical-align: middle;\n    }\n\n    .dataframe tbody tr th {\n        vertical-align: top;\n    }\n\n    .dataframe thead th {\n        text-align: right;\n    }\n</style>\n<table border=\"1\" class=\"dataframe\">\n  <thead>\n    <tr style=\"text-align: right;\">\n      <th></th>\n      <th>Domain</th>\n      <th>Team</th>\n      <th>Project_Name</th>\n      <th>Job_Mnemonics</th>\n      <th>Requested_User</th>\n      <th>Email_ID</th>\n    </tr>\n  </thead>\n  <tbody>\n    <tr>\n      <th>0</th>\n      <td>DACI</td>\n      <td>BDI</td>\n      <td>JDA Bi Reporting</td>\n      <td>DAC_S00001D_BDI</td>\n      <td>Biswadeep Upadhyay</td>\n      <td>biswadeep.upadhyay@lowes.com</td>\n    </tr>\n    <tr>\n      <th>1</th>\n      <td>DACI</td>\n      <td>BDI</td>\n      <td>JDA Bi Reporting</td>\n      <td>DAC_S00002D_BDI</td>\n      <td>Biswadeep Upadhyay</td>\n      <td>biswadeep.upadhyay@lowes.com</td>\n    </tr>\n    <tr>\n      <th>2</th>\n      <td>DACI</td>\n      <td>BDI</td>\n      <td>JDA Bi Reporting</td>\n      <td>DAC_S00003D_BDI</td>\n      <td>Biswadeep Upadhyay</td>\n      <td>biswadeep.upadhyay@lowes.com</td>\n    </tr>\n    <tr>\n      <th>3</th>\n      <td>DACI</td>\n      <td>BDI</td>\n      <td>JDA Bi Reporting</td>\n      <td>DAC_S00004D_BDI</td>\n      <td>Biswadeep Upadhyay</td>\n      <td>biswadeep.upadhyay@lowes.com</td>\n    </tr>\n    <tr>\n      <th>4</th>\n      <td>DACI</td>\n      <td>BDI</td>\n      <td>JDA Bi Reporting</td>\n      <td>DAC_S00005D_BDI</td>\n      <td>Biswadeep Upadhyay</td>\n      <td>biswadeep.upadhyay@lowes.com</td>\n    </tr>\n    <tr>\n      <th>5</th>\n      <td>DACI</td>\n      <td>BDI</td>\n      <td>JDA Bi Reporting</td>\n      <td>DAC_S00006D_BDI</td>\n      <td>Biswadeep Upadhyay</td>\n      <td>biswadeep.upadhyay@lowes.com</td>\n    </tr>\n    <tr>\n      <th>6</th>\n      <td>DACI</td>\n      <td>BDI</td>\n      <td>JDA Bi Reporting</td>\n      <td>DAC_S00007D_BDI</td>\n      <td>Biswadeep Upadhyay</td>\n      <td>biswadeep.upadhyay@lowes.com</td>\n    </tr>\n    <tr>\n      <th>7</th>\n      <td>DACI</td>\n      <td>BDI</td>\n      <td>JDA Bi Reporting</td>\n      <td>DAC_S00008D_BDI</td>\n      <td>Biswadeep Upadhyay</td>\n      <td>biswadeep.upadhyay@lowes.com</td>\n    </tr>\n    <tr>\n      <th>8</th>\n      <td>DACI</td>\n      <td>BDI</td>\n      <td>JDA Bi Reporting</td>\n      <td>DAC_S00009D_BDI</td>\n      <td>Biswadeep Upadhyay</td>\n      <td>biswadeep.upadhyay@lowes.com</td>\n    </tr>\n    <tr>\n      <th>9</th>\n      <td>DACI</td>\n      <td>BDI</td>\n      <td>JDA Bi Reporting</td>\n      <td>DAC_S00010D_BDI</td>\n      <td>Biswadeep Upadhyay</td>\n      <td>biswadeep.upadhyay@lowes.com</td>\n    </tr>\n    <tr>\n      <th>10</th>\n      <td>DACI</td>\n      <td>BDI</td>\n      <td>JDA Bi Reporting</td>\n      <td>DAC_S00011D_BDI</td>\n      <td>Biswadeep Upadhyay</td>\n      <td>biswadeep.upadhyay@lowes.com</td>\n    </tr>\n    <tr>\n      <th>11</th>\n      <td>DACI</td>\n      <td>BDI</td>\n      <td>JDA Bi Reporting</td>\n      <td>DAC_S00012D_BDI</td>\n      <td>Biswadeep Upadhyay</td>\n      <td>biswadeep.upadhyay@lowes.com</td>\n    </tr>\n    <tr>\n      <th>12</th>\n      <td>DACI</td>\n      <td>BDI</td>\n      <td>JDA Bi Reporting</td>\n      <td>DAC_S00013D_BDI</td>\n      <td>Biswadeep Upadhyay</td>\n      <td>biswadeep.upadhyay@lowes.com</td>\n    </tr>\n    <tr>\n      <th>13</th>\n      <td>DACI</td>\n      <td>BDI</td>\n      <td>JDA Bi Reporting</td>\n      <td>DAC_S00014D_BDI</td>\n      <td>Biswadeep Upadhyay</td>\n      <td>biswadeep.upadhyay@lowes.com</td>\n    </tr>\n    <tr>\n      <th>14</th>\n      <td>DACI</td>\n      <td>BDI</td>\n      <td>JDA Bi Reporting</td>\n      <td>DAC_S00015D_BDI</td>\n      <td>Biswadeep Upadhyay</td>\n      <td>biswadeep.upadhyay@lowes.com</td>\n    </tr>\n    <tr>\n      <th>15</th>\n      <td>DACI</td>\n      <td>BDI</td>\n      <td>JDA Bi Reporting</td>\n      <td>DAC_S00016D_BDI</td>\n      <td>Biswadeep Upadhyay</td>\n      <td>biswadeep.upadhyay@lowes.com</td>\n    </tr>\n    <tr>\n      <th>16</th>\n      <td>DACI</td>\n      <td>BDI</td>\n      <td>JDA Bi Reporting</td>\n      <td>DAC_S00017D_BDI</td>\n      <td>Biswadeep Upadhyay</td>\n      <td>biswadeep.upadhyay@lowes.com</td>\n    </tr>\n    <tr>\n      <th>17</th>\n      <td>DACI</td>\n      <td>BDI</td>\n      <td>JDA Bi Reporting</td>\n      <td>DAC_S00018D_BDI</td>\n      <td>Biswadeep Upadhyay</td>\n      <td>biswadeep.upadhyay@lowes.com</td>\n    </tr>\n    <tr>\n      <th>18</th>\n      <td>DACI</td>\n      <td>BDI</td>\n      <td>JDA Bi Reporting</td>\n      <td>DAC_S00019D_BDI</td>\n      <td>Biswadeep Upadhyay</td>\n      <td>biswadeep.upadhyay@lowes.com</td>\n    </tr>\n    <tr>\n      <th>19</th>\n      <td>DACI</td>\n      <td>BDI</td>\n      <td>JDA Bi Reporting</td>\n      <td>DAC_S00020D_BDI</td>\n      <td>Biswadeep Upadhyay</td>\n      <td>biswadeep.upadhyay@lowes.com</td>\n    </tr>\n    <tr>\n      <th>20</th>\n      <td>DACI</td>\n      <td>BDI</td>\n      <td>JDA Bi Reporting</td>\n      <td>DAC_WS_S00001D_BDI</td>\n      <td>Biswadeep Upadhyay</td>\n      <td>biswadeep.upadhyay@lowes.com</td>\n    </tr>\n    <tr>\n      <th>21</th>\n      <td>DACI</td>\n      <td>BDI</td>\n      <td>JDA Bi Reporting</td>\n      <td>DAC_WS_S00002D_BDI</td>\n      <td>Biswadeep Upadhyay</td>\n      <td>biswadeep.upadhyay@lowes.com</td>\n    </tr>\n    <tr>\n      <th>22</th>\n      <td>DACI</td>\n      <td>BDI</td>\n      <td>JDA Bi Reporting</td>\n      <td>DAC_WS_S00003D_BDI</td>\n      <td>Biswadeep Upadhyay</td>\n      <td>biswadeep.upadhyay@lowes.com</td>\n    </tr>\n    <tr>\n      <th>23</th>\n      <td>DACI</td>\n      <td>BDI</td>\n      <td>JDA Bi Reporting</td>\n      <td>DAC_WS_S00004D_BDI</td>\n      <td>Biswadeep Upadhyay</td>\n      <td>biswadeep.upadhyay@lowes.com</td>\n    </tr>\n    <tr>\n      <th>24</th>\n      <td>DACI</td>\n      <td>BDI</td>\n      <td>JDA Bi Reporting</td>\n      <td>DAC_WS_S00005D_BDI</td>\n      <td>Biswadeep Upadhyay</td>\n      <td>biswadeep.upadhyay@lowes.com</td>\n    </tr>\n    <tr>\n      <th>25</th>\n      <td>DACI</td>\n      <td>BDI</td>\n      <td>JDA Bi Reporting</td>\n      <td>DAC_WS_S00006D_BDI</td>\n      <td>Biswadeep Upadhyay</td>\n      <td>biswadeep.upadhyay@lowes.com</td>\n    </tr>\n    <tr>\n      <th>26</th>\n      <td>DACI</td>\n      <td>BDI</td>\n      <td>JDA Bi Reporting</td>\n      <td>DAC_WS_S00007D_BDI</td>\n      <td>Biswadeep Upadhyay</td>\n      <td>biswadeep.upadhyay@lowes.com</td>\n    </tr>\n    <tr>\n      <th>27</th>\n      <td>DACI</td>\n      <td>BDI</td>\n      <td>JDA Bi Reporting</td>\n      <td>DAC_WS_S00008D_BDI</td>\n      <td>Biswadeep Upadhyay</td>\n      <td>biswadeep.upadhyay@lowes.com</td>\n    </tr>\n    <tr>\n      <th>28</th>\n      <td>DACI</td>\n      <td>BDI</td>\n      <td>JDA Bi Reporting</td>\n      <td>DAC_WS_S00009D_BDI</td>\n      <td>Biswadeep Upadhyay</td>\n      <td>biswadeep.upadhyay@lowes.com</td>\n    </tr>\n    <tr>\n      <th>29</th>\n      <td>DACI</td>\n      <td>BDI</td>\n      <td>JDA Bi Reporting</td>\n      <td>DAC_WS_S00010D_BDI</td>\n      <td>Biswadeep Upadhyay</td>\n      <td>biswadeep.upadhyay@lowes.com</td>\n    </tr>\n    <tr>\n      <th>30</th>\n      <td>DACI</td>\n      <td>BDI</td>\n      <td>JDA Bi Reporting</td>\n      <td>DAC_SA_S00001D_BDI</td>\n      <td>Biswadeep Upadhyay</td>\n      <td>biswadeep.upadhyay@lowes.com</td>\n    </tr>\n    <tr>\n      <th>31</th>\n      <td>DACI</td>\n      <td>BDI</td>\n      <td>JDA Bi Reporting</td>\n      <td>DAC_SA_S00002D_BDI</td>\n      <td>Biswadeep Upadhyay</td>\n      <td>biswadeep.upadhyay@lowes.com</td>\n    </tr>\n    <tr>\n      <th>32</th>\n      <td>DACI</td>\n      <td>BDI</td>\n      <td>JDA Bi Reporting</td>\n      <td>DAC_SA_S00003D_BDI</td>\n      <td>Biswadeep Upadhyay</td>\n      <td>biswadeep.upadhyay@lowes.com</td>\n    </tr>\n    <tr>\n      <th>33</th>\n      <td>DACI</td>\n      <td>BDI</td>\n      <td>JDA Bi Reporting</td>\n      <td>DAC_SA_S00004D_BDI</td>\n      <td>Biswadeep Upadhyay</td>\n      <td>biswadeep.upadhyay@lowes.com</td>\n    </tr>\n    <tr>\n      <th>34</th>\n      <td>DACI</td>\n      <td>BDI</td>\n      <td>JDA Bi Reporting</td>\n      <td>DAC_SA_S00005D_BDI</td>\n      <td>Biswadeep Upadhyay</td>\n      <td>biswadeep.upadhyay@lowes.com</td>\n    </tr>\n    <tr>\n      <th>35</th>\n      <td>DACI</td>\n      <td>BDI</td>\n      <td>JDA Bi Reporting</td>\n      <td>DAC_SA_S00006D_BDI</td>\n      <td>Biswadeep Upadhyay</td>\n      <td>biswadeep.upadhyay@lowes.com</td>\n    </tr>\n    <tr>\n      <th>36</th>\n      <td>DACI</td>\n      <td>BDI</td>\n      <td>JDA Bi Reporting</td>\n      <td>DAC_SA_S00007D_BDI</td>\n      <td>Biswadeep Upadhyay</td>\n      <td>biswadeep.upadhyay@lowes.com</td>\n    </tr>\n    <tr>\n      <th>37</th>\n      <td>DACI</td>\n      <td>BDI</td>\n      <td>JDA Bi Reporting</td>\n      <td>DAC_SA_S00008D_BDI</td>\n      <td>Biswadeep Upadhyay</td>\n      <td>biswadeep.upadhyay@lowes.com</td>\n    </tr>\n    <tr>\n      <th>38</th>\n      <td>DACI</td>\n      <td>BDI</td>\n      <td>JDA Bi Reporting</td>\n      <td>DAC_SA_S00009D_BDI</td>\n      <td>Biswadeep Upadhyay</td>\n      <td>biswadeep.upadhyay@lowes.com</td>\n    </tr>\n    <tr>\n      <th>39</th>\n      <td>DACI</td>\n      <td>BDI</td>\n      <td>JDA Bi Reporting</td>\n      <td>DAC_SA_S00010D_BDI</td>\n      <td>Biswadeep Upadhyay</td>\n      <td>biswadeep.upadhyay@lowes.com</td>\n    </tr>\n    <tr>\n      <th>40</th>\n      <td>DACI</td>\n      <td>BDI</td>\n      <td>JDA Bi Reporting</td>\n      <td>DAC_K00001D_BDI</td>\n      <td>Biswadeep Upadhyay</td>\n      <td>biswadeep.upadhyay@lowes.com</td>\n    </tr>\n    <tr>\n      <th>41</th>\n      <td>DACI</td>\n      <td>BDI</td>\n      <td>JDA Bi Reporting</td>\n      <td>DAC_K00002D_BDI</td>\n      <td>Biswadeep Upadhyay</td>\n      <td>biswadeep.upadhyay@lowes.com</td>\n    </tr>\n    <tr>\n      <th>42</th>\n      <td>DACI</td>\n      <td>BDI</td>\n      <td>JDA Bi Reporting</td>\n      <td>DAC_K00003D_BDI</td>\n      <td>Biswadeep Upadhyay</td>\n      <td>biswadeep.upadhyay@lowes.com</td>\n    </tr>\n    <tr>\n      <th>43</th>\n      <td>DACI</td>\n      <td>BDI</td>\n      <td>JDA Bi Reporting</td>\n      <td>DAC_K00004D_BDI</td>\n      <td>Biswadeep Upadhyay</td>\n      <td>biswadeep.upadhyay@lowes.com</td>\n    </tr>\n    <tr>\n      <th>44</th>\n      <td>DACI</td>\n      <td>BDI</td>\n      <td>JDA Bi Reporting</td>\n      <td>DAC_K00005D_BDI</td>\n      <td>Biswadeep Upadhyay</td>\n      <td>biswadeep.upadhyay@lowes.com</td>\n    </tr>\n    <tr>\n      <th>45</th>\n      <td>DACI</td>\n      <td>BDI</td>\n      <td>JDA Bi Reporting</td>\n      <td>DAC_K00006D_BDI</td>\n      <td>Biswadeep Upadhyay</td>\n      <td>biswadeep.upadhyay@lowes.com</td>\n    </tr>\n    <tr>\n      <th>46</th>\n      <td>DACI</td>\n      <td>BDI</td>\n      <td>JDA Bi Reporting</td>\n      <td>DAC_K00007D_BDI</td>\n      <td>Biswadeep Upadhyay</td>\n      <td>biswadeep.upadhyay@lowes.com</td>\n    </tr>\n    <tr>\n      <th>47</th>\n      <td>DACI</td>\n      <td>BDI</td>\n      <td>JDA Bi Reporting</td>\n      <td>DAC_K00008D_BDI</td>\n      <td>Biswadeep Upadhyay</td>\n      <td>biswadeep.upadhyay@lowes.com</td>\n    </tr>\n    <tr>\n      <th>48</th>\n      <td>DACI</td>\n      <td>BDI</td>\n      <td>JDA Bi Reporting</td>\n      <td>DAC_K00009D_BDI</td>\n      <td>Biswadeep Upadhyay</td>\n      <td>biswadeep.upadhyay@lowes.com</td>\n    </tr>\n    <tr>\n      <th>49</th>\n      <td>DACI</td>\n      <td>BDI</td>\n      <td>JDA Bi Reporting</td>\n      <td>DAC_K00010D_BDI</td>\n      <td>Biswadeep Upadhyay</td>\n      <td>biswadeep.upadhyay@lowes.com</td>\n    </tr>\n  </tbody>\n</table>\n</div>"
     },
     "metadata": {},
     "execution_count": 44
    }
   ],
   "source": [
    "SOP_df.head(60)"
   ]
  },
  {
   "cell_type": "code",
   "execution_count": 45,
   "metadata": {},
   "outputs": [],
   "source": [
    "s = '1'\n",
    "s = s.zfill(5)"
   ]
  },
  {
   "cell_type": "code",
   "execution_count": 48,
   "metadata": {},
   "outputs": [
    {
     "output_type": "execute_result",
     "data": {
      "text/plain": [
       "1"
      ]
     },
     "metadata": {},
     "execution_count": 48
    }
   ],
   "source": [
    "int(s.lstrip('0'))"
   ]
  },
  {
   "cell_type": "code",
   "execution_count": 72,
   "metadata": {},
   "outputs": [
    {
     "output_type": "execute_result",
     "data": {
      "text/plain": [
       "    sequence spark_mode\n",
       "0      -9999         NA\n",
       "1      -9999         NA\n",
       "2      -9999         NA\n",
       "3      -9999         NA\n",
       "4      -9999         NA\n",
       "5      -9999         NA\n",
       "6      -9999         NA\n",
       "7      -9999         NA\n",
       "8      -9999         NA\n",
       "9      -9999         NA\n",
       "10     -9999         NA\n",
       "11     -9999         NA\n",
       "12     -9999         NA\n",
       "13     -9999         NA\n",
       "14     -9999         NA\n",
       "15     -9999         NA\n",
       "16     -9999         NA\n",
       "17     -9999         NA\n",
       "18     -9999         NA\n",
       "19     -9999         NA\n",
       "20         1          S\n",
       "21         2          S\n",
       "22         3          S\n",
       "23         4          S\n",
       "24         5          S\n",
       "25         6          S\n",
       "26         7          S\n",
       "27         8          S\n",
       "28         9          S\n",
       "29        10          S\n",
       "30         1          S\n",
       "31         2          S\n",
       "32         3          S\n",
       "33         4          S\n",
       "34         5          S\n",
       "35         6          S\n",
       "36         7          S\n",
       "37         8          S\n",
       "38         9          S\n",
       "39        10          S\n",
       "40     -9999         NA\n",
       "41     -9999         NA\n",
       "42     -9999         NA\n",
       "43     -9999         NA\n",
       "44     -9999         NA\n",
       "45     -9999         NA\n",
       "46     -9999         NA\n",
       "47     -9999         NA\n",
       "48     -9999         NA\n",
       "49     -9999         NA"
      ],
      "text/html": "<div>\n<style scoped>\n    .dataframe tbody tr th:only-of-type {\n        vertical-align: middle;\n    }\n\n    .dataframe tbody tr th {\n        vertical-align: top;\n    }\n\n    .dataframe thead th {\n        text-align: right;\n    }\n</style>\n<table border=\"1\" class=\"dataframe\">\n  <thead>\n    <tr style=\"text-align: right;\">\n      <th></th>\n      <th>sequence</th>\n      <th>spark_mode</th>\n    </tr>\n  </thead>\n  <tbody>\n    <tr>\n      <th>0</th>\n      <td>-9999</td>\n      <td>NA</td>\n    </tr>\n    <tr>\n      <th>1</th>\n      <td>-9999</td>\n      <td>NA</td>\n    </tr>\n    <tr>\n      <th>2</th>\n      <td>-9999</td>\n      <td>NA</td>\n    </tr>\n    <tr>\n      <th>3</th>\n      <td>-9999</td>\n      <td>NA</td>\n    </tr>\n    <tr>\n      <th>4</th>\n      <td>-9999</td>\n      <td>NA</td>\n    </tr>\n    <tr>\n      <th>5</th>\n      <td>-9999</td>\n      <td>NA</td>\n    </tr>\n    <tr>\n      <th>6</th>\n      <td>-9999</td>\n      <td>NA</td>\n    </tr>\n    <tr>\n      <th>7</th>\n      <td>-9999</td>\n      <td>NA</td>\n    </tr>\n    <tr>\n      <th>8</th>\n      <td>-9999</td>\n      <td>NA</td>\n    </tr>\n    <tr>\n      <th>9</th>\n      <td>-9999</td>\n      <td>NA</td>\n    </tr>\n    <tr>\n      <th>10</th>\n      <td>-9999</td>\n      <td>NA</td>\n    </tr>\n    <tr>\n      <th>11</th>\n      <td>-9999</td>\n      <td>NA</td>\n    </tr>\n    <tr>\n      <th>12</th>\n      <td>-9999</td>\n      <td>NA</td>\n    </tr>\n    <tr>\n      <th>13</th>\n      <td>-9999</td>\n      <td>NA</td>\n    </tr>\n    <tr>\n      <th>14</th>\n      <td>-9999</td>\n      <td>NA</td>\n    </tr>\n    <tr>\n      <th>15</th>\n      <td>-9999</td>\n      <td>NA</td>\n    </tr>\n    <tr>\n      <th>16</th>\n      <td>-9999</td>\n      <td>NA</td>\n    </tr>\n    <tr>\n      <th>17</th>\n      <td>-9999</td>\n      <td>NA</td>\n    </tr>\n    <tr>\n      <th>18</th>\n      <td>-9999</td>\n      <td>NA</td>\n    </tr>\n    <tr>\n      <th>19</th>\n      <td>-9999</td>\n      <td>NA</td>\n    </tr>\n    <tr>\n      <th>20</th>\n      <td>1</td>\n      <td>S</td>\n    </tr>\n    <tr>\n      <th>21</th>\n      <td>2</td>\n      <td>S</td>\n    </tr>\n    <tr>\n      <th>22</th>\n      <td>3</td>\n      <td>S</td>\n    </tr>\n    <tr>\n      <th>23</th>\n      <td>4</td>\n      <td>S</td>\n    </tr>\n    <tr>\n      <th>24</th>\n      <td>5</td>\n      <td>S</td>\n    </tr>\n    <tr>\n      <th>25</th>\n      <td>6</td>\n      <td>S</td>\n    </tr>\n    <tr>\n      <th>26</th>\n      <td>7</td>\n      <td>S</td>\n    </tr>\n    <tr>\n      <th>27</th>\n      <td>8</td>\n      <td>S</td>\n    </tr>\n    <tr>\n      <th>28</th>\n      <td>9</td>\n      <td>S</td>\n    </tr>\n    <tr>\n      <th>29</th>\n      <td>10</td>\n      <td>S</td>\n    </tr>\n    <tr>\n      <th>30</th>\n      <td>1</td>\n      <td>S</td>\n    </tr>\n    <tr>\n      <th>31</th>\n      <td>2</td>\n      <td>S</td>\n    </tr>\n    <tr>\n      <th>32</th>\n      <td>3</td>\n      <td>S</td>\n    </tr>\n    <tr>\n      <th>33</th>\n      <td>4</td>\n      <td>S</td>\n    </tr>\n    <tr>\n      <th>34</th>\n      <td>5</td>\n      <td>S</td>\n    </tr>\n    <tr>\n      <th>35</th>\n      <td>6</td>\n      <td>S</td>\n    </tr>\n    <tr>\n      <th>36</th>\n      <td>7</td>\n      <td>S</td>\n    </tr>\n    <tr>\n      <th>37</th>\n      <td>8</td>\n      <td>S</td>\n    </tr>\n    <tr>\n      <th>38</th>\n      <td>9</td>\n      <td>S</td>\n    </tr>\n    <tr>\n      <th>39</th>\n      <td>10</td>\n      <td>S</td>\n    </tr>\n    <tr>\n      <th>40</th>\n      <td>-9999</td>\n      <td>NA</td>\n    </tr>\n    <tr>\n      <th>41</th>\n      <td>-9999</td>\n      <td>NA</td>\n    </tr>\n    <tr>\n      <th>42</th>\n      <td>-9999</td>\n      <td>NA</td>\n    </tr>\n    <tr>\n      <th>43</th>\n      <td>-9999</td>\n      <td>NA</td>\n    </tr>\n    <tr>\n      <th>44</th>\n      <td>-9999</td>\n      <td>NA</td>\n    </tr>\n    <tr>\n      <th>45</th>\n      <td>-9999</td>\n      <td>NA</td>\n    </tr>\n    <tr>\n      <th>46</th>\n      <td>-9999</td>\n      <td>NA</td>\n    </tr>\n    <tr>\n      <th>47</th>\n      <td>-9999</td>\n      <td>NA</td>\n    </tr>\n    <tr>\n      <th>48</th>\n      <td>-9999</td>\n      <td>NA</td>\n    </tr>\n    <tr>\n      <th>49</th>\n      <td>-9999</td>\n      <td>NA</td>\n    </tr>\n  </tbody>\n</table>\n</div>"
     },
     "metadata": {},
     "execution_count": 72
    }
   ],
   "source": [
    "if ip_data_backend['td_load'] == 'N':\n",
    "    SOP_df['sequence'] = SOP_df['Job_Mnemonics'].apply(lambda x : int(x.split('_')[1][1:6].lstrip('0')) if x.split('_')[1] not in ['WS','SA'] else -9999 )\n",
    "    SOP_df['spark_mode'] = SOP_df['Job_Mnemonics'].apply(lambda x : x.split('_')[1][0] if x.split('_')[1] not in ['WS','SA'] else 'NA' )\n",
    "\n",
    "else:\n",
    "    SOP_df['sequence'] = SOP_df['Job_Mnemonics'].apply(lambda x : int(x.split('_')[2][1:6].lstrip('0')) if x.split('_')[1] in ['WS','SA'] else -9999 )\n",
    "    SOP_df['spark_mode'] = SOP_df['Job_Mnemonics'].apply(lambda x : x.split('_')[2][0] if x.split('_')[1] in ['WS','SA'] else 'NA' )\n",
    "\n",
    "seq_df = SOP_df[['sequence','spark_mode']].copy()\n",
    "seq_df.head(100)"
   ]
  },
  {
   "cell_type": "code",
   "execution_count": 73,
   "metadata": {},
   "outputs": [
    {
     "output_type": "stream",
     "name": "stdout",
     "text": [
      "10\n"
     ]
    }
   ],
   "source": [
    "res_seq_df = seq_df[seq_df['spark_mode'] == 'S']\n",
    "res_seq_df.head()\n",
    "if len(res_seq_df.index) == 0:\n",
    "    max_seq == 0\n",
    "else:\n",
    "    max_seq = res_seq_df['sequence'].max()\n",
    "\n",
    "print(max_seq)\n",
    "\n"
   ]
  },
  {
   "cell_type": "code",
   "execution_count": 66,
   "metadata": {},
   "outputs": [
    {
     "output_type": "execute_result",
     "data": {
      "text/plain": [
       "   Domain Team      Project_Name       Job_Mnemonics      Requested_User  \\\n",
       "0    DACI  BDI  JDA Bi Reporting     DAC_S00001D_BDI  Biswadeep Upadhyay   \n",
       "1    DACI  BDI  JDA Bi Reporting     DAC_S00002D_BDI  Biswadeep Upadhyay   \n",
       "2    DACI  BDI  JDA Bi Reporting     DAC_S00003D_BDI  Biswadeep Upadhyay   \n",
       "3    DACI  BDI  JDA Bi Reporting     DAC_S00004D_BDI  Biswadeep Upadhyay   \n",
       "4    DACI  BDI  JDA Bi Reporting     DAC_S00005D_BDI  Biswadeep Upadhyay   \n",
       "5    DACI  BDI  JDA Bi Reporting     DAC_S00006D_BDI  Biswadeep Upadhyay   \n",
       "6    DACI  BDI  JDA Bi Reporting     DAC_S00007D_BDI  Biswadeep Upadhyay   \n",
       "7    DACI  BDI  JDA Bi Reporting     DAC_S00008D_BDI  Biswadeep Upadhyay   \n",
       "8    DACI  BDI  JDA Bi Reporting     DAC_S00009D_BDI  Biswadeep Upadhyay   \n",
       "9    DACI  BDI  JDA Bi Reporting     DAC_S00010D_BDI  Biswadeep Upadhyay   \n",
       "10   DACI  BDI  JDA Bi Reporting     DAC_S00011D_BDI  Biswadeep Upadhyay   \n",
       "11   DACI  BDI  JDA Bi Reporting     DAC_S00012D_BDI  Biswadeep Upadhyay   \n",
       "12   DACI  BDI  JDA Bi Reporting     DAC_S00013D_BDI  Biswadeep Upadhyay   \n",
       "13   DACI  BDI  JDA Bi Reporting     DAC_S00014D_BDI  Biswadeep Upadhyay   \n",
       "14   DACI  BDI  JDA Bi Reporting     DAC_S00015D_BDI  Biswadeep Upadhyay   \n",
       "15   DACI  BDI  JDA Bi Reporting     DAC_S00016D_BDI  Biswadeep Upadhyay   \n",
       "16   DACI  BDI  JDA Bi Reporting     DAC_S00017D_BDI  Biswadeep Upadhyay   \n",
       "17   DACI  BDI  JDA Bi Reporting     DAC_S00018D_BDI  Biswadeep Upadhyay   \n",
       "18   DACI  BDI  JDA Bi Reporting     DAC_S00019D_BDI  Biswadeep Upadhyay   \n",
       "19   DACI  BDI  JDA Bi Reporting     DAC_S00020D_BDI  Biswadeep Upadhyay   \n",
       "20   DACI  BDI  JDA Bi Reporting  DAC_WS_S00001D_BDI  Biswadeep Upadhyay   \n",
       "21   DACI  BDI  JDA Bi Reporting  DAC_WS_S00002D_BDI  Biswadeep Upadhyay   \n",
       "22   DACI  BDI  JDA Bi Reporting  DAC_WS_S00003D_BDI  Biswadeep Upadhyay   \n",
       "23   DACI  BDI  JDA Bi Reporting  DAC_WS_S00004D_BDI  Biswadeep Upadhyay   \n",
       "24   DACI  BDI  JDA Bi Reporting  DAC_WS_S00005D_BDI  Biswadeep Upadhyay   \n",
       "25   DACI  BDI  JDA Bi Reporting  DAC_WS_S00006D_BDI  Biswadeep Upadhyay   \n",
       "26   DACI  BDI  JDA Bi Reporting  DAC_WS_S00007D_BDI  Biswadeep Upadhyay   \n",
       "27   DACI  BDI  JDA Bi Reporting  DAC_WS_S00008D_BDI  Biswadeep Upadhyay   \n",
       "28   DACI  BDI  JDA Bi Reporting  DAC_WS_S00009D_BDI  Biswadeep Upadhyay   \n",
       "29   DACI  BDI  JDA Bi Reporting  DAC_WS_S00010D_BDI  Biswadeep Upadhyay   \n",
       "30   DACI  BDI  JDA Bi Reporting  DAC_SA_S00001D_BDI  Biswadeep Upadhyay   \n",
       "31   DACI  BDI  JDA Bi Reporting  DAC_SA_S00002D_BDI  Biswadeep Upadhyay   \n",
       "32   DACI  BDI  JDA Bi Reporting  DAC_SA_S00003D_BDI  Biswadeep Upadhyay   \n",
       "33   DACI  BDI  JDA Bi Reporting  DAC_SA_S00004D_BDI  Biswadeep Upadhyay   \n",
       "34   DACI  BDI  JDA Bi Reporting  DAC_SA_S00005D_BDI  Biswadeep Upadhyay   \n",
       "35   DACI  BDI  JDA Bi Reporting  DAC_SA_S00006D_BDI  Biswadeep Upadhyay   \n",
       "36   DACI  BDI  JDA Bi Reporting  DAC_SA_S00007D_BDI  Biswadeep Upadhyay   \n",
       "37   DACI  BDI  JDA Bi Reporting  DAC_SA_S00008D_BDI  Biswadeep Upadhyay   \n",
       "38   DACI  BDI  JDA Bi Reporting  DAC_SA_S00009D_BDI  Biswadeep Upadhyay   \n",
       "39   DACI  BDI  JDA Bi Reporting  DAC_SA_S00010D_BDI  Biswadeep Upadhyay   \n",
       "40   DACI  BDI  JDA Bi Reporting     DAC_K00001D_BDI  Biswadeep Upadhyay   \n",
       "41   DACI  BDI  JDA Bi Reporting     DAC_K00002D_BDI  Biswadeep Upadhyay   \n",
       "42   DACI  BDI  JDA Bi Reporting     DAC_K00003D_BDI  Biswadeep Upadhyay   \n",
       "43   DACI  BDI  JDA Bi Reporting     DAC_K00004D_BDI  Biswadeep Upadhyay   \n",
       "44   DACI  BDI  JDA Bi Reporting     DAC_K00005D_BDI  Biswadeep Upadhyay   \n",
       "45   DACI  BDI  JDA Bi Reporting     DAC_K00006D_BDI  Biswadeep Upadhyay   \n",
       "46   DACI  BDI  JDA Bi Reporting     DAC_K00007D_BDI  Biswadeep Upadhyay   \n",
       "47   DACI  BDI  JDA Bi Reporting     DAC_K00008D_BDI  Biswadeep Upadhyay   \n",
       "48   DACI  BDI  JDA Bi Reporting     DAC_K00009D_BDI  Biswadeep Upadhyay   \n",
       "49   DACI  BDI  JDA Bi Reporting     DAC_K00010D_BDI  Biswadeep Upadhyay   \n",
       "\n",
       "                        Email_ID  \n",
       "0   biswadeep.upadhyay@lowes.com  \n",
       "1   biswadeep.upadhyay@lowes.com  \n",
       "2   biswadeep.upadhyay@lowes.com  \n",
       "3   biswadeep.upadhyay@lowes.com  \n",
       "4   biswadeep.upadhyay@lowes.com  \n",
       "5   biswadeep.upadhyay@lowes.com  \n",
       "6   biswadeep.upadhyay@lowes.com  \n",
       "7   biswadeep.upadhyay@lowes.com  \n",
       "8   biswadeep.upadhyay@lowes.com  \n",
       "9   biswadeep.upadhyay@lowes.com  \n",
       "10  biswadeep.upadhyay@lowes.com  \n",
       "11  biswadeep.upadhyay@lowes.com  \n",
       "12  biswadeep.upadhyay@lowes.com  \n",
       "13  biswadeep.upadhyay@lowes.com  \n",
       "14  biswadeep.upadhyay@lowes.com  \n",
       "15  biswadeep.upadhyay@lowes.com  \n",
       "16  biswadeep.upadhyay@lowes.com  \n",
       "17  biswadeep.upadhyay@lowes.com  \n",
       "18  biswadeep.upadhyay@lowes.com  \n",
       "19  biswadeep.upadhyay@lowes.com  \n",
       "20  biswadeep.upadhyay@lowes.com  \n",
       "21  biswadeep.upadhyay@lowes.com  \n",
       "22  biswadeep.upadhyay@lowes.com  \n",
       "23  biswadeep.upadhyay@lowes.com  \n",
       "24  biswadeep.upadhyay@lowes.com  \n",
       "25  biswadeep.upadhyay@lowes.com  \n",
       "26  biswadeep.upadhyay@lowes.com  \n",
       "27  biswadeep.upadhyay@lowes.com  \n",
       "28  biswadeep.upadhyay@lowes.com  \n",
       "29  biswadeep.upadhyay@lowes.com  \n",
       "30  biswadeep.upadhyay@lowes.com  \n",
       "31  biswadeep.upadhyay@lowes.com  \n",
       "32  biswadeep.upadhyay@lowes.com  \n",
       "33  biswadeep.upadhyay@lowes.com  \n",
       "34  biswadeep.upadhyay@lowes.com  \n",
       "35  biswadeep.upadhyay@lowes.com  \n",
       "36  biswadeep.upadhyay@lowes.com  \n",
       "37  biswadeep.upadhyay@lowes.com  \n",
       "38  biswadeep.upadhyay@lowes.com  \n",
       "39  biswadeep.upadhyay@lowes.com  \n",
       "40  biswadeep.upadhyay@lowes.com  \n",
       "41  biswadeep.upadhyay@lowes.com  \n",
       "42  biswadeep.upadhyay@lowes.com  \n",
       "43  biswadeep.upadhyay@lowes.com  \n",
       "44  biswadeep.upadhyay@lowes.com  \n",
       "45  biswadeep.upadhyay@lowes.com  \n",
       "46  biswadeep.upadhyay@lowes.com  \n",
       "47  biswadeep.upadhyay@lowes.com  \n",
       "48  biswadeep.upadhyay@lowes.com  \n",
       "49  biswadeep.upadhyay@lowes.com  "
      ],
      "text/html": "<div>\n<style scoped>\n    .dataframe tbody tr th:only-of-type {\n        vertical-align: middle;\n    }\n\n    .dataframe tbody tr th {\n        vertical-align: top;\n    }\n\n    .dataframe thead th {\n        text-align: right;\n    }\n</style>\n<table border=\"1\" class=\"dataframe\">\n  <thead>\n    <tr style=\"text-align: right;\">\n      <th></th>\n      <th>Domain</th>\n      <th>Team</th>\n      <th>Project_Name</th>\n      <th>Job_Mnemonics</th>\n      <th>Requested_User</th>\n      <th>Email_ID</th>\n    </tr>\n  </thead>\n  <tbody>\n    <tr>\n      <th>0</th>\n      <td>DACI</td>\n      <td>BDI</td>\n      <td>JDA Bi Reporting</td>\n      <td>DAC_S00001D_BDI</td>\n      <td>Biswadeep Upadhyay</td>\n      <td>biswadeep.upadhyay@lowes.com</td>\n    </tr>\n    <tr>\n      <th>1</th>\n      <td>DACI</td>\n      <td>BDI</td>\n      <td>JDA Bi Reporting</td>\n      <td>DAC_S00002D_BDI</td>\n      <td>Biswadeep Upadhyay</td>\n      <td>biswadeep.upadhyay@lowes.com</td>\n    </tr>\n    <tr>\n      <th>2</th>\n      <td>DACI</td>\n      <td>BDI</td>\n      <td>JDA Bi Reporting</td>\n      <td>DAC_S00003D_BDI</td>\n      <td>Biswadeep Upadhyay</td>\n      <td>biswadeep.upadhyay@lowes.com</td>\n    </tr>\n    <tr>\n      <th>3</th>\n      <td>DACI</td>\n      <td>BDI</td>\n      <td>JDA Bi Reporting</td>\n      <td>DAC_S00004D_BDI</td>\n      <td>Biswadeep Upadhyay</td>\n      <td>biswadeep.upadhyay@lowes.com</td>\n    </tr>\n    <tr>\n      <th>4</th>\n      <td>DACI</td>\n      <td>BDI</td>\n      <td>JDA Bi Reporting</td>\n      <td>DAC_S00005D_BDI</td>\n      <td>Biswadeep Upadhyay</td>\n      <td>biswadeep.upadhyay@lowes.com</td>\n    </tr>\n    <tr>\n      <th>5</th>\n      <td>DACI</td>\n      <td>BDI</td>\n      <td>JDA Bi Reporting</td>\n      <td>DAC_S00006D_BDI</td>\n      <td>Biswadeep Upadhyay</td>\n      <td>biswadeep.upadhyay@lowes.com</td>\n    </tr>\n    <tr>\n      <th>6</th>\n      <td>DACI</td>\n      <td>BDI</td>\n      <td>JDA Bi Reporting</td>\n      <td>DAC_S00007D_BDI</td>\n      <td>Biswadeep Upadhyay</td>\n      <td>biswadeep.upadhyay@lowes.com</td>\n    </tr>\n    <tr>\n      <th>7</th>\n      <td>DACI</td>\n      <td>BDI</td>\n      <td>JDA Bi Reporting</td>\n      <td>DAC_S00008D_BDI</td>\n      <td>Biswadeep Upadhyay</td>\n      <td>biswadeep.upadhyay@lowes.com</td>\n    </tr>\n    <tr>\n      <th>8</th>\n      <td>DACI</td>\n      <td>BDI</td>\n      <td>JDA Bi Reporting</td>\n      <td>DAC_S00009D_BDI</td>\n      <td>Biswadeep Upadhyay</td>\n      <td>biswadeep.upadhyay@lowes.com</td>\n    </tr>\n    <tr>\n      <th>9</th>\n      <td>DACI</td>\n      <td>BDI</td>\n      <td>JDA Bi Reporting</td>\n      <td>DAC_S00010D_BDI</td>\n      <td>Biswadeep Upadhyay</td>\n      <td>biswadeep.upadhyay@lowes.com</td>\n    </tr>\n    <tr>\n      <th>10</th>\n      <td>DACI</td>\n      <td>BDI</td>\n      <td>JDA Bi Reporting</td>\n      <td>DAC_S00011D_BDI</td>\n      <td>Biswadeep Upadhyay</td>\n      <td>biswadeep.upadhyay@lowes.com</td>\n    </tr>\n    <tr>\n      <th>11</th>\n      <td>DACI</td>\n      <td>BDI</td>\n      <td>JDA Bi Reporting</td>\n      <td>DAC_S00012D_BDI</td>\n      <td>Biswadeep Upadhyay</td>\n      <td>biswadeep.upadhyay@lowes.com</td>\n    </tr>\n    <tr>\n      <th>12</th>\n      <td>DACI</td>\n      <td>BDI</td>\n      <td>JDA Bi Reporting</td>\n      <td>DAC_S00013D_BDI</td>\n      <td>Biswadeep Upadhyay</td>\n      <td>biswadeep.upadhyay@lowes.com</td>\n    </tr>\n    <tr>\n      <th>13</th>\n      <td>DACI</td>\n      <td>BDI</td>\n      <td>JDA Bi Reporting</td>\n      <td>DAC_S00014D_BDI</td>\n      <td>Biswadeep Upadhyay</td>\n      <td>biswadeep.upadhyay@lowes.com</td>\n    </tr>\n    <tr>\n      <th>14</th>\n      <td>DACI</td>\n      <td>BDI</td>\n      <td>JDA Bi Reporting</td>\n      <td>DAC_S00015D_BDI</td>\n      <td>Biswadeep Upadhyay</td>\n      <td>biswadeep.upadhyay@lowes.com</td>\n    </tr>\n    <tr>\n      <th>15</th>\n      <td>DACI</td>\n      <td>BDI</td>\n      <td>JDA Bi Reporting</td>\n      <td>DAC_S00016D_BDI</td>\n      <td>Biswadeep Upadhyay</td>\n      <td>biswadeep.upadhyay@lowes.com</td>\n    </tr>\n    <tr>\n      <th>16</th>\n      <td>DACI</td>\n      <td>BDI</td>\n      <td>JDA Bi Reporting</td>\n      <td>DAC_S00017D_BDI</td>\n      <td>Biswadeep Upadhyay</td>\n      <td>biswadeep.upadhyay@lowes.com</td>\n    </tr>\n    <tr>\n      <th>17</th>\n      <td>DACI</td>\n      <td>BDI</td>\n      <td>JDA Bi Reporting</td>\n      <td>DAC_S00018D_BDI</td>\n      <td>Biswadeep Upadhyay</td>\n      <td>biswadeep.upadhyay@lowes.com</td>\n    </tr>\n    <tr>\n      <th>18</th>\n      <td>DACI</td>\n      <td>BDI</td>\n      <td>JDA Bi Reporting</td>\n      <td>DAC_S00019D_BDI</td>\n      <td>Biswadeep Upadhyay</td>\n      <td>biswadeep.upadhyay@lowes.com</td>\n    </tr>\n    <tr>\n      <th>19</th>\n      <td>DACI</td>\n      <td>BDI</td>\n      <td>JDA Bi Reporting</td>\n      <td>DAC_S00020D_BDI</td>\n      <td>Biswadeep Upadhyay</td>\n      <td>biswadeep.upadhyay@lowes.com</td>\n    </tr>\n    <tr>\n      <th>20</th>\n      <td>DACI</td>\n      <td>BDI</td>\n      <td>JDA Bi Reporting</td>\n      <td>DAC_WS_S00001D_BDI</td>\n      <td>Biswadeep Upadhyay</td>\n      <td>biswadeep.upadhyay@lowes.com</td>\n    </tr>\n    <tr>\n      <th>21</th>\n      <td>DACI</td>\n      <td>BDI</td>\n      <td>JDA Bi Reporting</td>\n      <td>DAC_WS_S00002D_BDI</td>\n      <td>Biswadeep Upadhyay</td>\n      <td>biswadeep.upadhyay@lowes.com</td>\n    </tr>\n    <tr>\n      <th>22</th>\n      <td>DACI</td>\n      <td>BDI</td>\n      <td>JDA Bi Reporting</td>\n      <td>DAC_WS_S00003D_BDI</td>\n      <td>Biswadeep Upadhyay</td>\n      <td>biswadeep.upadhyay@lowes.com</td>\n    </tr>\n    <tr>\n      <th>23</th>\n      <td>DACI</td>\n      <td>BDI</td>\n      <td>JDA Bi Reporting</td>\n      <td>DAC_WS_S00004D_BDI</td>\n      <td>Biswadeep Upadhyay</td>\n      <td>biswadeep.upadhyay@lowes.com</td>\n    </tr>\n    <tr>\n      <th>24</th>\n      <td>DACI</td>\n      <td>BDI</td>\n      <td>JDA Bi Reporting</td>\n      <td>DAC_WS_S00005D_BDI</td>\n      <td>Biswadeep Upadhyay</td>\n      <td>biswadeep.upadhyay@lowes.com</td>\n    </tr>\n    <tr>\n      <th>25</th>\n      <td>DACI</td>\n      <td>BDI</td>\n      <td>JDA Bi Reporting</td>\n      <td>DAC_WS_S00006D_BDI</td>\n      <td>Biswadeep Upadhyay</td>\n      <td>biswadeep.upadhyay@lowes.com</td>\n    </tr>\n    <tr>\n      <th>26</th>\n      <td>DACI</td>\n      <td>BDI</td>\n      <td>JDA Bi Reporting</td>\n      <td>DAC_WS_S00007D_BDI</td>\n      <td>Biswadeep Upadhyay</td>\n      <td>biswadeep.upadhyay@lowes.com</td>\n    </tr>\n    <tr>\n      <th>27</th>\n      <td>DACI</td>\n      <td>BDI</td>\n      <td>JDA Bi Reporting</td>\n      <td>DAC_WS_S00008D_BDI</td>\n      <td>Biswadeep Upadhyay</td>\n      <td>biswadeep.upadhyay@lowes.com</td>\n    </tr>\n    <tr>\n      <th>28</th>\n      <td>DACI</td>\n      <td>BDI</td>\n      <td>JDA Bi Reporting</td>\n      <td>DAC_WS_S00009D_BDI</td>\n      <td>Biswadeep Upadhyay</td>\n      <td>biswadeep.upadhyay@lowes.com</td>\n    </tr>\n    <tr>\n      <th>29</th>\n      <td>DACI</td>\n      <td>BDI</td>\n      <td>JDA Bi Reporting</td>\n      <td>DAC_WS_S00010D_BDI</td>\n      <td>Biswadeep Upadhyay</td>\n      <td>biswadeep.upadhyay@lowes.com</td>\n    </tr>\n    <tr>\n      <th>30</th>\n      <td>DACI</td>\n      <td>BDI</td>\n      <td>JDA Bi Reporting</td>\n      <td>DAC_SA_S00001D_BDI</td>\n      <td>Biswadeep Upadhyay</td>\n      <td>biswadeep.upadhyay@lowes.com</td>\n    </tr>\n    <tr>\n      <th>31</th>\n      <td>DACI</td>\n      <td>BDI</td>\n      <td>JDA Bi Reporting</td>\n      <td>DAC_SA_S00002D_BDI</td>\n      <td>Biswadeep Upadhyay</td>\n      <td>biswadeep.upadhyay@lowes.com</td>\n    </tr>\n    <tr>\n      <th>32</th>\n      <td>DACI</td>\n      <td>BDI</td>\n      <td>JDA Bi Reporting</td>\n      <td>DAC_SA_S00003D_BDI</td>\n      <td>Biswadeep Upadhyay</td>\n      <td>biswadeep.upadhyay@lowes.com</td>\n    </tr>\n    <tr>\n      <th>33</th>\n      <td>DACI</td>\n      <td>BDI</td>\n      <td>JDA Bi Reporting</td>\n      <td>DAC_SA_S00004D_BDI</td>\n      <td>Biswadeep Upadhyay</td>\n      <td>biswadeep.upadhyay@lowes.com</td>\n    </tr>\n    <tr>\n      <th>34</th>\n      <td>DACI</td>\n      <td>BDI</td>\n      <td>JDA Bi Reporting</td>\n      <td>DAC_SA_S00005D_BDI</td>\n      <td>Biswadeep Upadhyay</td>\n      <td>biswadeep.upadhyay@lowes.com</td>\n    </tr>\n    <tr>\n      <th>35</th>\n      <td>DACI</td>\n      <td>BDI</td>\n      <td>JDA Bi Reporting</td>\n      <td>DAC_SA_S00006D_BDI</td>\n      <td>Biswadeep Upadhyay</td>\n      <td>biswadeep.upadhyay@lowes.com</td>\n    </tr>\n    <tr>\n      <th>36</th>\n      <td>DACI</td>\n      <td>BDI</td>\n      <td>JDA Bi Reporting</td>\n      <td>DAC_SA_S00007D_BDI</td>\n      <td>Biswadeep Upadhyay</td>\n      <td>biswadeep.upadhyay@lowes.com</td>\n    </tr>\n    <tr>\n      <th>37</th>\n      <td>DACI</td>\n      <td>BDI</td>\n      <td>JDA Bi Reporting</td>\n      <td>DAC_SA_S00008D_BDI</td>\n      <td>Biswadeep Upadhyay</td>\n      <td>biswadeep.upadhyay@lowes.com</td>\n    </tr>\n    <tr>\n      <th>38</th>\n      <td>DACI</td>\n      <td>BDI</td>\n      <td>JDA Bi Reporting</td>\n      <td>DAC_SA_S00009D_BDI</td>\n      <td>Biswadeep Upadhyay</td>\n      <td>biswadeep.upadhyay@lowes.com</td>\n    </tr>\n    <tr>\n      <th>39</th>\n      <td>DACI</td>\n      <td>BDI</td>\n      <td>JDA Bi Reporting</td>\n      <td>DAC_SA_S00010D_BDI</td>\n      <td>Biswadeep Upadhyay</td>\n      <td>biswadeep.upadhyay@lowes.com</td>\n    </tr>\n    <tr>\n      <th>40</th>\n      <td>DACI</td>\n      <td>BDI</td>\n      <td>JDA Bi Reporting</td>\n      <td>DAC_K00001D_BDI</td>\n      <td>Biswadeep Upadhyay</td>\n      <td>biswadeep.upadhyay@lowes.com</td>\n    </tr>\n    <tr>\n      <th>41</th>\n      <td>DACI</td>\n      <td>BDI</td>\n      <td>JDA Bi Reporting</td>\n      <td>DAC_K00002D_BDI</td>\n      <td>Biswadeep Upadhyay</td>\n      <td>biswadeep.upadhyay@lowes.com</td>\n    </tr>\n    <tr>\n      <th>42</th>\n      <td>DACI</td>\n      <td>BDI</td>\n      <td>JDA Bi Reporting</td>\n      <td>DAC_K00003D_BDI</td>\n      <td>Biswadeep Upadhyay</td>\n      <td>biswadeep.upadhyay@lowes.com</td>\n    </tr>\n    <tr>\n      <th>43</th>\n      <td>DACI</td>\n      <td>BDI</td>\n      <td>JDA Bi Reporting</td>\n      <td>DAC_K00004D_BDI</td>\n      <td>Biswadeep Upadhyay</td>\n      <td>biswadeep.upadhyay@lowes.com</td>\n    </tr>\n    <tr>\n      <th>44</th>\n      <td>DACI</td>\n      <td>BDI</td>\n      <td>JDA Bi Reporting</td>\n      <td>DAC_K00005D_BDI</td>\n      <td>Biswadeep Upadhyay</td>\n      <td>biswadeep.upadhyay@lowes.com</td>\n    </tr>\n    <tr>\n      <th>45</th>\n      <td>DACI</td>\n      <td>BDI</td>\n      <td>JDA Bi Reporting</td>\n      <td>DAC_K00006D_BDI</td>\n      <td>Biswadeep Upadhyay</td>\n      <td>biswadeep.upadhyay@lowes.com</td>\n    </tr>\n    <tr>\n      <th>46</th>\n      <td>DACI</td>\n      <td>BDI</td>\n      <td>JDA Bi Reporting</td>\n      <td>DAC_K00007D_BDI</td>\n      <td>Biswadeep Upadhyay</td>\n      <td>biswadeep.upadhyay@lowes.com</td>\n    </tr>\n    <tr>\n      <th>47</th>\n      <td>DACI</td>\n      <td>BDI</td>\n      <td>JDA Bi Reporting</td>\n      <td>DAC_K00008D_BDI</td>\n      <td>Biswadeep Upadhyay</td>\n      <td>biswadeep.upadhyay@lowes.com</td>\n    </tr>\n    <tr>\n      <th>48</th>\n      <td>DACI</td>\n      <td>BDI</td>\n      <td>JDA Bi Reporting</td>\n      <td>DAC_K00009D_BDI</td>\n      <td>Biswadeep Upadhyay</td>\n      <td>biswadeep.upadhyay@lowes.com</td>\n    </tr>\n    <tr>\n      <th>49</th>\n      <td>DACI</td>\n      <td>BDI</td>\n      <td>JDA Bi Reporting</td>\n      <td>DAC_K00010D_BDI</td>\n      <td>Biswadeep Upadhyay</td>\n      <td>biswadeep.upadhyay@lowes.com</td>\n    </tr>\n  </tbody>\n</table>\n</div>"
     },
     "metadata": {},
     "execution_count": 66
    }
   ],
   "source": [
    "SOP_df.drop(['Sequence','sequence',\t'spark_mode'], axis = 1,  inplace = True)\n",
    "SOP_df.head(60)"
   ]
  },
  {
   "cell_type": "code",
   "execution_count": 78,
   "metadata": {},
   "outputs": [
    {
     "output_type": "execute_result",
     "data": {
      "text/plain": [
       "0"
      ]
     },
     "metadata": {},
     "execution_count": 78
    }
   ],
   "source": [
    "res_seq_df = seq_df[seq_df['spark_mode'] == 'S']\n",
    "empty_df = seq_df[0:0]\n",
    "res = empty_df[empty_df['spark_mode']=='s']\n",
    "len(res.index)"
   ]
  },
  {
   "cell_type": "code",
   "execution_count": 79,
   "metadata": {},
   "outputs": [
    {
     "output_type": "execute_result",
     "data": {
      "text/plain": [
       "Empty DataFrame\n",
       "Columns: [sequence, spark_mode]\n",
       "Index: []"
      ],
      "text/html": "<div>\n<style scoped>\n    .dataframe tbody tr th:only-of-type {\n        vertical-align: middle;\n    }\n\n    .dataframe tbody tr th {\n        vertical-align: top;\n    }\n\n    .dataframe thead th {\n        text-align: right;\n    }\n</style>\n<table border=\"1\" class=\"dataframe\">\n  <thead>\n    <tr style=\"text-align: right;\">\n      <th></th>\n      <th>sequence</th>\n      <th>spark_mode</th>\n    </tr>\n  </thead>\n  <tbody>\n  </tbody>\n</table>\n</div>"
     },
     "metadata": {},
     "execution_count": 79
    }
   ],
   "source": [
    "res.head()"
   ]
  },
  {
   "cell_type": "code",
   "execution_count": 80,
   "metadata": {},
   "outputs": [
    {
     "output_type": "execute_result",
     "data": {
      "text/plain": [
       "Empty DataFrame\n",
       "Columns: [sequence, spark_mode]\n",
       "Index: []"
      ],
      "text/html": "<div>\n<style scoped>\n    .dataframe tbody tr th:only-of-type {\n        vertical-align: middle;\n    }\n\n    .dataframe tbody tr th {\n        vertical-align: top;\n    }\n\n    .dataframe thead th {\n        text-align: right;\n    }\n</style>\n<table border=\"1\" class=\"dataframe\">\n  <thead>\n    <tr style=\"text-align: right;\">\n      <th></th>\n      <th>sequence</th>\n      <th>spark_mode</th>\n    </tr>\n  </thead>\n  <tbody>\n  </tbody>\n</table>\n</div>"
     },
     "metadata": {},
     "execution_count": 80
    }
   ],
   "source": [
    "res1 = res[0:0]\n",
    "res1.head()"
   ]
  },
  {
   "cell_type": "code",
   "execution_count": 81,
   "metadata": {},
   "outputs": [],
   "source": [
    "from email.mime.text import MIMEText\n",
    "from email.mime.application import MIMEApplication\n",
    "from email.mime.multipart import MIMEMultipart\n",
    "from smtplib import SMTP\n",
    "import smtplib\n",
    "import sys"
   ]
  },
  {
   "cell_type": "code",
   "execution_count": 82,
   "metadata": {},
   "outputs": [
    {
     "output_type": "execute_result",
     "data": {
      "text/plain": [
       "   Domain Team      Project_Name       Job_Mnemonics      Requested_User  \\\n",
       "0    DACI  BDI  JDA Bi Reporting     DAC_S00001D_BDI  Biswadeep Upadhyay   \n",
       "1    DACI  BDI  JDA Bi Reporting     DAC_S00002D_BDI  Biswadeep Upadhyay   \n",
       "2    DACI  BDI  JDA Bi Reporting     DAC_S00003D_BDI  Biswadeep Upadhyay   \n",
       "3    DACI  BDI  JDA Bi Reporting     DAC_S00004D_BDI  Biswadeep Upadhyay   \n",
       "4    DACI  BDI  JDA Bi Reporting     DAC_S00005D_BDI  Biswadeep Upadhyay   \n",
       "5    DACI  BDI  JDA Bi Reporting     DAC_S00006D_BDI  Biswadeep Upadhyay   \n",
       "6    DACI  BDI  JDA Bi Reporting     DAC_S00007D_BDI  Biswadeep Upadhyay   \n",
       "7    DACI  BDI  JDA Bi Reporting     DAC_S00008D_BDI  Biswadeep Upadhyay   \n",
       "8    DACI  BDI  JDA Bi Reporting     DAC_S00009D_BDI  Biswadeep Upadhyay   \n",
       "9    DACI  BDI  JDA Bi Reporting     DAC_S00010D_BDI  Biswadeep Upadhyay   \n",
       "10   DACI  BDI  JDA Bi Reporting     DAC_S00011D_BDI  Biswadeep Upadhyay   \n",
       "11   DACI  BDI  JDA Bi Reporting     DAC_S00012D_BDI  Biswadeep Upadhyay   \n",
       "12   DACI  BDI  JDA Bi Reporting     DAC_S00013D_BDI  Biswadeep Upadhyay   \n",
       "13   DACI  BDI  JDA Bi Reporting     DAC_S00014D_BDI  Biswadeep Upadhyay   \n",
       "14   DACI  BDI  JDA Bi Reporting     DAC_S00015D_BDI  Biswadeep Upadhyay   \n",
       "15   DACI  BDI  JDA Bi Reporting     DAC_S00016D_BDI  Biswadeep Upadhyay   \n",
       "16   DACI  BDI  JDA Bi Reporting     DAC_S00017D_BDI  Biswadeep Upadhyay   \n",
       "17   DACI  BDI  JDA Bi Reporting     DAC_S00018D_BDI  Biswadeep Upadhyay   \n",
       "18   DACI  BDI  JDA Bi Reporting     DAC_S00019D_BDI  Biswadeep Upadhyay   \n",
       "19   DACI  BDI  JDA Bi Reporting     DAC_S00020D_BDI  Biswadeep Upadhyay   \n",
       "20   DACI  BDI  JDA Bi Reporting  DAC_WS_S00001D_BDI  Biswadeep Upadhyay   \n",
       "21   DACI  BDI  JDA Bi Reporting  DAC_WS_S00002D_BDI  Biswadeep Upadhyay   \n",
       "22   DACI  BDI  JDA Bi Reporting  DAC_WS_S00003D_BDI  Biswadeep Upadhyay   \n",
       "23   DACI  BDI  JDA Bi Reporting  DAC_WS_S00004D_BDI  Biswadeep Upadhyay   \n",
       "24   DACI  BDI  JDA Bi Reporting  DAC_WS_S00005D_BDI  Biswadeep Upadhyay   \n",
       "25   DACI  BDI  JDA Bi Reporting  DAC_WS_S00006D_BDI  Biswadeep Upadhyay   \n",
       "26   DACI  BDI  JDA Bi Reporting  DAC_WS_S00007D_BDI  Biswadeep Upadhyay   \n",
       "27   DACI  BDI  JDA Bi Reporting  DAC_WS_S00008D_BDI  Biswadeep Upadhyay   \n",
       "28   DACI  BDI  JDA Bi Reporting  DAC_WS_S00009D_BDI  Biswadeep Upadhyay   \n",
       "29   DACI  BDI  JDA Bi Reporting  DAC_WS_S00010D_BDI  Biswadeep Upadhyay   \n",
       "30   DACI  BDI  JDA Bi Reporting  DAC_SA_S00001D_BDI  Biswadeep Upadhyay   \n",
       "31   DACI  BDI  JDA Bi Reporting  DAC_SA_S00002D_BDI  Biswadeep Upadhyay   \n",
       "32   DACI  BDI  JDA Bi Reporting  DAC_SA_S00003D_BDI  Biswadeep Upadhyay   \n",
       "33   DACI  BDI  JDA Bi Reporting  DAC_SA_S00004D_BDI  Biswadeep Upadhyay   \n",
       "34   DACI  BDI  JDA Bi Reporting  DAC_SA_S00005D_BDI  Biswadeep Upadhyay   \n",
       "35   DACI  BDI  JDA Bi Reporting  DAC_SA_S00006D_BDI  Biswadeep Upadhyay   \n",
       "36   DACI  BDI  JDA Bi Reporting  DAC_SA_S00007D_BDI  Biswadeep Upadhyay   \n",
       "37   DACI  BDI  JDA Bi Reporting  DAC_SA_S00008D_BDI  Biswadeep Upadhyay   \n",
       "38   DACI  BDI  JDA Bi Reporting  DAC_SA_S00009D_BDI  Biswadeep Upadhyay   \n",
       "39   DACI  BDI  JDA Bi Reporting  DAC_SA_S00010D_BDI  Biswadeep Upadhyay   \n",
       "40   DACI  BDI  JDA Bi Reporting     DAC_K00001D_BDI  Biswadeep Upadhyay   \n",
       "41   DACI  BDI  JDA Bi Reporting     DAC_K00002D_BDI  Biswadeep Upadhyay   \n",
       "42   DACI  BDI  JDA Bi Reporting     DAC_K00003D_BDI  Biswadeep Upadhyay   \n",
       "43   DACI  BDI  JDA Bi Reporting     DAC_K00004D_BDI  Biswadeep Upadhyay   \n",
       "44   DACI  BDI  JDA Bi Reporting     DAC_K00005D_BDI  Biswadeep Upadhyay   \n",
       "45   DACI  BDI  JDA Bi Reporting     DAC_K00006D_BDI  Biswadeep Upadhyay   \n",
       "46   DACI  BDI  JDA Bi Reporting     DAC_K00007D_BDI  Biswadeep Upadhyay   \n",
       "47   DACI  BDI  JDA Bi Reporting     DAC_K00008D_BDI  Biswadeep Upadhyay   \n",
       "48   DACI  BDI  JDA Bi Reporting     DAC_K00009D_BDI  Biswadeep Upadhyay   \n",
       "49   DACI  BDI  JDA Bi Reporting     DAC_K00010D_BDI  Biswadeep Upadhyay   \n",
       "\n",
       "                        Email_ID  sequence spark_mode  \n",
       "0   biswadeep.upadhyay@lowes.com     -9999         NA  \n",
       "1   biswadeep.upadhyay@lowes.com     -9999         NA  \n",
       "2   biswadeep.upadhyay@lowes.com     -9999         NA  \n",
       "3   biswadeep.upadhyay@lowes.com     -9999         NA  \n",
       "4   biswadeep.upadhyay@lowes.com     -9999         NA  \n",
       "5   biswadeep.upadhyay@lowes.com     -9999         NA  \n",
       "6   biswadeep.upadhyay@lowes.com     -9999         NA  \n",
       "7   biswadeep.upadhyay@lowes.com     -9999         NA  \n",
       "8   biswadeep.upadhyay@lowes.com     -9999         NA  \n",
       "9   biswadeep.upadhyay@lowes.com     -9999         NA  \n",
       "10  biswadeep.upadhyay@lowes.com     -9999         NA  \n",
       "11  biswadeep.upadhyay@lowes.com     -9999         NA  \n",
       "12  biswadeep.upadhyay@lowes.com     -9999         NA  \n",
       "13  biswadeep.upadhyay@lowes.com     -9999         NA  \n",
       "14  biswadeep.upadhyay@lowes.com     -9999         NA  \n",
       "15  biswadeep.upadhyay@lowes.com     -9999         NA  \n",
       "16  biswadeep.upadhyay@lowes.com     -9999         NA  \n",
       "17  biswadeep.upadhyay@lowes.com     -9999         NA  \n",
       "18  biswadeep.upadhyay@lowes.com     -9999         NA  \n",
       "19  biswadeep.upadhyay@lowes.com     -9999         NA  \n",
       "20  biswadeep.upadhyay@lowes.com         1          S  \n",
       "21  biswadeep.upadhyay@lowes.com         2          S  \n",
       "22  biswadeep.upadhyay@lowes.com         3          S  \n",
       "23  biswadeep.upadhyay@lowes.com         4          S  \n",
       "24  biswadeep.upadhyay@lowes.com         5          S  \n",
       "25  biswadeep.upadhyay@lowes.com         6          S  \n",
       "26  biswadeep.upadhyay@lowes.com         7          S  \n",
       "27  biswadeep.upadhyay@lowes.com         8          S  \n",
       "28  biswadeep.upadhyay@lowes.com         9          S  \n",
       "29  biswadeep.upadhyay@lowes.com        10          S  \n",
       "30  biswadeep.upadhyay@lowes.com         1          S  \n",
       "31  biswadeep.upadhyay@lowes.com         2          S  \n",
       "32  biswadeep.upadhyay@lowes.com         3          S  \n",
       "33  biswadeep.upadhyay@lowes.com         4          S  \n",
       "34  biswadeep.upadhyay@lowes.com         5          S  \n",
       "35  biswadeep.upadhyay@lowes.com         6          S  \n",
       "36  biswadeep.upadhyay@lowes.com         7          S  \n",
       "37  biswadeep.upadhyay@lowes.com         8          S  \n",
       "38  biswadeep.upadhyay@lowes.com         9          S  \n",
       "39  biswadeep.upadhyay@lowes.com        10          S  \n",
       "40  biswadeep.upadhyay@lowes.com     -9999         NA  \n",
       "41  biswadeep.upadhyay@lowes.com     -9999         NA  \n",
       "42  biswadeep.upadhyay@lowes.com     -9999         NA  \n",
       "43  biswadeep.upadhyay@lowes.com     -9999         NA  \n",
       "44  biswadeep.upadhyay@lowes.com     -9999         NA  \n",
       "45  biswadeep.upadhyay@lowes.com     -9999         NA  \n",
       "46  biswadeep.upadhyay@lowes.com     -9999         NA  \n",
       "47  biswadeep.upadhyay@lowes.com     -9999         NA  \n",
       "48  biswadeep.upadhyay@lowes.com     -9999         NA  \n",
       "49  biswadeep.upadhyay@lowes.com     -9999         NA  "
      ],
      "text/html": "<div>\n<style scoped>\n    .dataframe tbody tr th:only-of-type {\n        vertical-align: middle;\n    }\n\n    .dataframe tbody tr th {\n        vertical-align: top;\n    }\n\n    .dataframe thead th {\n        text-align: right;\n    }\n</style>\n<table border=\"1\" class=\"dataframe\">\n  <thead>\n    <tr style=\"text-align: right;\">\n      <th></th>\n      <th>Domain</th>\n      <th>Team</th>\n      <th>Project_Name</th>\n      <th>Job_Mnemonics</th>\n      <th>Requested_User</th>\n      <th>Email_ID</th>\n      <th>sequence</th>\n      <th>spark_mode</th>\n    </tr>\n  </thead>\n  <tbody>\n    <tr>\n      <th>0</th>\n      <td>DACI</td>\n      <td>BDI</td>\n      <td>JDA Bi Reporting</td>\n      <td>DAC_S00001D_BDI</td>\n      <td>Biswadeep Upadhyay</td>\n      <td>biswadeep.upadhyay@lowes.com</td>\n      <td>-9999</td>\n      <td>NA</td>\n    </tr>\n    <tr>\n      <th>1</th>\n      <td>DACI</td>\n      <td>BDI</td>\n      <td>JDA Bi Reporting</td>\n      <td>DAC_S00002D_BDI</td>\n      <td>Biswadeep Upadhyay</td>\n      <td>biswadeep.upadhyay@lowes.com</td>\n      <td>-9999</td>\n      <td>NA</td>\n    </tr>\n    <tr>\n      <th>2</th>\n      <td>DACI</td>\n      <td>BDI</td>\n      <td>JDA Bi Reporting</td>\n      <td>DAC_S00003D_BDI</td>\n      <td>Biswadeep Upadhyay</td>\n      <td>biswadeep.upadhyay@lowes.com</td>\n      <td>-9999</td>\n      <td>NA</td>\n    </tr>\n    <tr>\n      <th>3</th>\n      <td>DACI</td>\n      <td>BDI</td>\n      <td>JDA Bi Reporting</td>\n      <td>DAC_S00004D_BDI</td>\n      <td>Biswadeep Upadhyay</td>\n      <td>biswadeep.upadhyay@lowes.com</td>\n      <td>-9999</td>\n      <td>NA</td>\n    </tr>\n    <tr>\n      <th>4</th>\n      <td>DACI</td>\n      <td>BDI</td>\n      <td>JDA Bi Reporting</td>\n      <td>DAC_S00005D_BDI</td>\n      <td>Biswadeep Upadhyay</td>\n      <td>biswadeep.upadhyay@lowes.com</td>\n      <td>-9999</td>\n      <td>NA</td>\n    </tr>\n    <tr>\n      <th>5</th>\n      <td>DACI</td>\n      <td>BDI</td>\n      <td>JDA Bi Reporting</td>\n      <td>DAC_S00006D_BDI</td>\n      <td>Biswadeep Upadhyay</td>\n      <td>biswadeep.upadhyay@lowes.com</td>\n      <td>-9999</td>\n      <td>NA</td>\n    </tr>\n    <tr>\n      <th>6</th>\n      <td>DACI</td>\n      <td>BDI</td>\n      <td>JDA Bi Reporting</td>\n      <td>DAC_S00007D_BDI</td>\n      <td>Biswadeep Upadhyay</td>\n      <td>biswadeep.upadhyay@lowes.com</td>\n      <td>-9999</td>\n      <td>NA</td>\n    </tr>\n    <tr>\n      <th>7</th>\n      <td>DACI</td>\n      <td>BDI</td>\n      <td>JDA Bi Reporting</td>\n      <td>DAC_S00008D_BDI</td>\n      <td>Biswadeep Upadhyay</td>\n      <td>biswadeep.upadhyay@lowes.com</td>\n      <td>-9999</td>\n      <td>NA</td>\n    </tr>\n    <tr>\n      <th>8</th>\n      <td>DACI</td>\n      <td>BDI</td>\n      <td>JDA Bi Reporting</td>\n      <td>DAC_S00009D_BDI</td>\n      <td>Biswadeep Upadhyay</td>\n      <td>biswadeep.upadhyay@lowes.com</td>\n      <td>-9999</td>\n      <td>NA</td>\n    </tr>\n    <tr>\n      <th>9</th>\n      <td>DACI</td>\n      <td>BDI</td>\n      <td>JDA Bi Reporting</td>\n      <td>DAC_S00010D_BDI</td>\n      <td>Biswadeep Upadhyay</td>\n      <td>biswadeep.upadhyay@lowes.com</td>\n      <td>-9999</td>\n      <td>NA</td>\n    </tr>\n    <tr>\n      <th>10</th>\n      <td>DACI</td>\n      <td>BDI</td>\n      <td>JDA Bi Reporting</td>\n      <td>DAC_S00011D_BDI</td>\n      <td>Biswadeep Upadhyay</td>\n      <td>biswadeep.upadhyay@lowes.com</td>\n      <td>-9999</td>\n      <td>NA</td>\n    </tr>\n    <tr>\n      <th>11</th>\n      <td>DACI</td>\n      <td>BDI</td>\n      <td>JDA Bi Reporting</td>\n      <td>DAC_S00012D_BDI</td>\n      <td>Biswadeep Upadhyay</td>\n      <td>biswadeep.upadhyay@lowes.com</td>\n      <td>-9999</td>\n      <td>NA</td>\n    </tr>\n    <tr>\n      <th>12</th>\n      <td>DACI</td>\n      <td>BDI</td>\n      <td>JDA Bi Reporting</td>\n      <td>DAC_S00013D_BDI</td>\n      <td>Biswadeep Upadhyay</td>\n      <td>biswadeep.upadhyay@lowes.com</td>\n      <td>-9999</td>\n      <td>NA</td>\n    </tr>\n    <tr>\n      <th>13</th>\n      <td>DACI</td>\n      <td>BDI</td>\n      <td>JDA Bi Reporting</td>\n      <td>DAC_S00014D_BDI</td>\n      <td>Biswadeep Upadhyay</td>\n      <td>biswadeep.upadhyay@lowes.com</td>\n      <td>-9999</td>\n      <td>NA</td>\n    </tr>\n    <tr>\n      <th>14</th>\n      <td>DACI</td>\n      <td>BDI</td>\n      <td>JDA Bi Reporting</td>\n      <td>DAC_S00015D_BDI</td>\n      <td>Biswadeep Upadhyay</td>\n      <td>biswadeep.upadhyay@lowes.com</td>\n      <td>-9999</td>\n      <td>NA</td>\n    </tr>\n    <tr>\n      <th>15</th>\n      <td>DACI</td>\n      <td>BDI</td>\n      <td>JDA Bi Reporting</td>\n      <td>DAC_S00016D_BDI</td>\n      <td>Biswadeep Upadhyay</td>\n      <td>biswadeep.upadhyay@lowes.com</td>\n      <td>-9999</td>\n      <td>NA</td>\n    </tr>\n    <tr>\n      <th>16</th>\n      <td>DACI</td>\n      <td>BDI</td>\n      <td>JDA Bi Reporting</td>\n      <td>DAC_S00017D_BDI</td>\n      <td>Biswadeep Upadhyay</td>\n      <td>biswadeep.upadhyay@lowes.com</td>\n      <td>-9999</td>\n      <td>NA</td>\n    </tr>\n    <tr>\n      <th>17</th>\n      <td>DACI</td>\n      <td>BDI</td>\n      <td>JDA Bi Reporting</td>\n      <td>DAC_S00018D_BDI</td>\n      <td>Biswadeep Upadhyay</td>\n      <td>biswadeep.upadhyay@lowes.com</td>\n      <td>-9999</td>\n      <td>NA</td>\n    </tr>\n    <tr>\n      <th>18</th>\n      <td>DACI</td>\n      <td>BDI</td>\n      <td>JDA Bi Reporting</td>\n      <td>DAC_S00019D_BDI</td>\n      <td>Biswadeep Upadhyay</td>\n      <td>biswadeep.upadhyay@lowes.com</td>\n      <td>-9999</td>\n      <td>NA</td>\n    </tr>\n    <tr>\n      <th>19</th>\n      <td>DACI</td>\n      <td>BDI</td>\n      <td>JDA Bi Reporting</td>\n      <td>DAC_S00020D_BDI</td>\n      <td>Biswadeep Upadhyay</td>\n      <td>biswadeep.upadhyay@lowes.com</td>\n      <td>-9999</td>\n      <td>NA</td>\n    </tr>\n    <tr>\n      <th>20</th>\n      <td>DACI</td>\n      <td>BDI</td>\n      <td>JDA Bi Reporting</td>\n      <td>DAC_WS_S00001D_BDI</td>\n      <td>Biswadeep Upadhyay</td>\n      <td>biswadeep.upadhyay@lowes.com</td>\n      <td>1</td>\n      <td>S</td>\n    </tr>\n    <tr>\n      <th>21</th>\n      <td>DACI</td>\n      <td>BDI</td>\n      <td>JDA Bi Reporting</td>\n      <td>DAC_WS_S00002D_BDI</td>\n      <td>Biswadeep Upadhyay</td>\n      <td>biswadeep.upadhyay@lowes.com</td>\n      <td>2</td>\n      <td>S</td>\n    </tr>\n    <tr>\n      <th>22</th>\n      <td>DACI</td>\n      <td>BDI</td>\n      <td>JDA Bi Reporting</td>\n      <td>DAC_WS_S00003D_BDI</td>\n      <td>Biswadeep Upadhyay</td>\n      <td>biswadeep.upadhyay@lowes.com</td>\n      <td>3</td>\n      <td>S</td>\n    </tr>\n    <tr>\n      <th>23</th>\n      <td>DACI</td>\n      <td>BDI</td>\n      <td>JDA Bi Reporting</td>\n      <td>DAC_WS_S00004D_BDI</td>\n      <td>Biswadeep Upadhyay</td>\n      <td>biswadeep.upadhyay@lowes.com</td>\n      <td>4</td>\n      <td>S</td>\n    </tr>\n    <tr>\n      <th>24</th>\n      <td>DACI</td>\n      <td>BDI</td>\n      <td>JDA Bi Reporting</td>\n      <td>DAC_WS_S00005D_BDI</td>\n      <td>Biswadeep Upadhyay</td>\n      <td>biswadeep.upadhyay@lowes.com</td>\n      <td>5</td>\n      <td>S</td>\n    </tr>\n    <tr>\n      <th>25</th>\n      <td>DACI</td>\n      <td>BDI</td>\n      <td>JDA Bi Reporting</td>\n      <td>DAC_WS_S00006D_BDI</td>\n      <td>Biswadeep Upadhyay</td>\n      <td>biswadeep.upadhyay@lowes.com</td>\n      <td>6</td>\n      <td>S</td>\n    </tr>\n    <tr>\n      <th>26</th>\n      <td>DACI</td>\n      <td>BDI</td>\n      <td>JDA Bi Reporting</td>\n      <td>DAC_WS_S00007D_BDI</td>\n      <td>Biswadeep Upadhyay</td>\n      <td>biswadeep.upadhyay@lowes.com</td>\n      <td>7</td>\n      <td>S</td>\n    </tr>\n    <tr>\n      <th>27</th>\n      <td>DACI</td>\n      <td>BDI</td>\n      <td>JDA Bi Reporting</td>\n      <td>DAC_WS_S00008D_BDI</td>\n      <td>Biswadeep Upadhyay</td>\n      <td>biswadeep.upadhyay@lowes.com</td>\n      <td>8</td>\n      <td>S</td>\n    </tr>\n    <tr>\n      <th>28</th>\n      <td>DACI</td>\n      <td>BDI</td>\n      <td>JDA Bi Reporting</td>\n      <td>DAC_WS_S00009D_BDI</td>\n      <td>Biswadeep Upadhyay</td>\n      <td>biswadeep.upadhyay@lowes.com</td>\n      <td>9</td>\n      <td>S</td>\n    </tr>\n    <tr>\n      <th>29</th>\n      <td>DACI</td>\n      <td>BDI</td>\n      <td>JDA Bi Reporting</td>\n      <td>DAC_WS_S00010D_BDI</td>\n      <td>Biswadeep Upadhyay</td>\n      <td>biswadeep.upadhyay@lowes.com</td>\n      <td>10</td>\n      <td>S</td>\n    </tr>\n    <tr>\n      <th>30</th>\n      <td>DACI</td>\n      <td>BDI</td>\n      <td>JDA Bi Reporting</td>\n      <td>DAC_SA_S00001D_BDI</td>\n      <td>Biswadeep Upadhyay</td>\n      <td>biswadeep.upadhyay@lowes.com</td>\n      <td>1</td>\n      <td>S</td>\n    </tr>\n    <tr>\n      <th>31</th>\n      <td>DACI</td>\n      <td>BDI</td>\n      <td>JDA Bi Reporting</td>\n      <td>DAC_SA_S00002D_BDI</td>\n      <td>Biswadeep Upadhyay</td>\n      <td>biswadeep.upadhyay@lowes.com</td>\n      <td>2</td>\n      <td>S</td>\n    </tr>\n    <tr>\n      <th>32</th>\n      <td>DACI</td>\n      <td>BDI</td>\n      <td>JDA Bi Reporting</td>\n      <td>DAC_SA_S00003D_BDI</td>\n      <td>Biswadeep Upadhyay</td>\n      <td>biswadeep.upadhyay@lowes.com</td>\n      <td>3</td>\n      <td>S</td>\n    </tr>\n    <tr>\n      <th>33</th>\n      <td>DACI</td>\n      <td>BDI</td>\n      <td>JDA Bi Reporting</td>\n      <td>DAC_SA_S00004D_BDI</td>\n      <td>Biswadeep Upadhyay</td>\n      <td>biswadeep.upadhyay@lowes.com</td>\n      <td>4</td>\n      <td>S</td>\n    </tr>\n    <tr>\n      <th>34</th>\n      <td>DACI</td>\n      <td>BDI</td>\n      <td>JDA Bi Reporting</td>\n      <td>DAC_SA_S00005D_BDI</td>\n      <td>Biswadeep Upadhyay</td>\n      <td>biswadeep.upadhyay@lowes.com</td>\n      <td>5</td>\n      <td>S</td>\n    </tr>\n    <tr>\n      <th>35</th>\n      <td>DACI</td>\n      <td>BDI</td>\n      <td>JDA Bi Reporting</td>\n      <td>DAC_SA_S00006D_BDI</td>\n      <td>Biswadeep Upadhyay</td>\n      <td>biswadeep.upadhyay@lowes.com</td>\n      <td>6</td>\n      <td>S</td>\n    </tr>\n    <tr>\n      <th>36</th>\n      <td>DACI</td>\n      <td>BDI</td>\n      <td>JDA Bi Reporting</td>\n      <td>DAC_SA_S00007D_BDI</td>\n      <td>Biswadeep Upadhyay</td>\n      <td>biswadeep.upadhyay@lowes.com</td>\n      <td>7</td>\n      <td>S</td>\n    </tr>\n    <tr>\n      <th>37</th>\n      <td>DACI</td>\n      <td>BDI</td>\n      <td>JDA Bi Reporting</td>\n      <td>DAC_SA_S00008D_BDI</td>\n      <td>Biswadeep Upadhyay</td>\n      <td>biswadeep.upadhyay@lowes.com</td>\n      <td>8</td>\n      <td>S</td>\n    </tr>\n    <tr>\n      <th>38</th>\n      <td>DACI</td>\n      <td>BDI</td>\n      <td>JDA Bi Reporting</td>\n      <td>DAC_SA_S00009D_BDI</td>\n      <td>Biswadeep Upadhyay</td>\n      <td>biswadeep.upadhyay@lowes.com</td>\n      <td>9</td>\n      <td>S</td>\n    </tr>\n    <tr>\n      <th>39</th>\n      <td>DACI</td>\n      <td>BDI</td>\n      <td>JDA Bi Reporting</td>\n      <td>DAC_SA_S00010D_BDI</td>\n      <td>Biswadeep Upadhyay</td>\n      <td>biswadeep.upadhyay@lowes.com</td>\n      <td>10</td>\n      <td>S</td>\n    </tr>\n    <tr>\n      <th>40</th>\n      <td>DACI</td>\n      <td>BDI</td>\n      <td>JDA Bi Reporting</td>\n      <td>DAC_K00001D_BDI</td>\n      <td>Biswadeep Upadhyay</td>\n      <td>biswadeep.upadhyay@lowes.com</td>\n      <td>-9999</td>\n      <td>NA</td>\n    </tr>\n    <tr>\n      <th>41</th>\n      <td>DACI</td>\n      <td>BDI</td>\n      <td>JDA Bi Reporting</td>\n      <td>DAC_K00002D_BDI</td>\n      <td>Biswadeep Upadhyay</td>\n      <td>biswadeep.upadhyay@lowes.com</td>\n      <td>-9999</td>\n      <td>NA</td>\n    </tr>\n    <tr>\n      <th>42</th>\n      <td>DACI</td>\n      <td>BDI</td>\n      <td>JDA Bi Reporting</td>\n      <td>DAC_K00003D_BDI</td>\n      <td>Biswadeep Upadhyay</td>\n      <td>biswadeep.upadhyay@lowes.com</td>\n      <td>-9999</td>\n      <td>NA</td>\n    </tr>\n    <tr>\n      <th>43</th>\n      <td>DACI</td>\n      <td>BDI</td>\n      <td>JDA Bi Reporting</td>\n      <td>DAC_K00004D_BDI</td>\n      <td>Biswadeep Upadhyay</td>\n      <td>biswadeep.upadhyay@lowes.com</td>\n      <td>-9999</td>\n      <td>NA</td>\n    </tr>\n    <tr>\n      <th>44</th>\n      <td>DACI</td>\n      <td>BDI</td>\n      <td>JDA Bi Reporting</td>\n      <td>DAC_K00005D_BDI</td>\n      <td>Biswadeep Upadhyay</td>\n      <td>biswadeep.upadhyay@lowes.com</td>\n      <td>-9999</td>\n      <td>NA</td>\n    </tr>\n    <tr>\n      <th>45</th>\n      <td>DACI</td>\n      <td>BDI</td>\n      <td>JDA Bi Reporting</td>\n      <td>DAC_K00006D_BDI</td>\n      <td>Biswadeep Upadhyay</td>\n      <td>biswadeep.upadhyay@lowes.com</td>\n      <td>-9999</td>\n      <td>NA</td>\n    </tr>\n    <tr>\n      <th>46</th>\n      <td>DACI</td>\n      <td>BDI</td>\n      <td>JDA Bi Reporting</td>\n      <td>DAC_K00007D_BDI</td>\n      <td>Biswadeep Upadhyay</td>\n      <td>biswadeep.upadhyay@lowes.com</td>\n      <td>-9999</td>\n      <td>NA</td>\n    </tr>\n    <tr>\n      <th>47</th>\n      <td>DACI</td>\n      <td>BDI</td>\n      <td>JDA Bi Reporting</td>\n      <td>DAC_K00008D_BDI</td>\n      <td>Biswadeep Upadhyay</td>\n      <td>biswadeep.upadhyay@lowes.com</td>\n      <td>-9999</td>\n      <td>NA</td>\n    </tr>\n    <tr>\n      <th>48</th>\n      <td>DACI</td>\n      <td>BDI</td>\n      <td>JDA Bi Reporting</td>\n      <td>DAC_K00009D_BDI</td>\n      <td>Biswadeep Upadhyay</td>\n      <td>biswadeep.upadhyay@lowes.com</td>\n      <td>-9999</td>\n      <td>NA</td>\n    </tr>\n    <tr>\n      <th>49</th>\n      <td>DACI</td>\n      <td>BDI</td>\n      <td>JDA Bi Reporting</td>\n      <td>DAC_K00010D_BDI</td>\n      <td>Biswadeep Upadhyay</td>\n      <td>biswadeep.upadhyay@lowes.com</td>\n      <td>-9999</td>\n      <td>NA</td>\n    </tr>\n  </tbody>\n</table>\n</div>"
     },
     "metadata": {},
     "execution_count": 82
    }
   ],
   "source": [
    "SOP_df.head(60)"
   ]
  },
  {
   "cell_type": "code",
   "execution_count": 83,
   "metadata": {},
   "outputs": [
    {
     "output_type": "error",
     "ename": "SMTPServerDisconnected",
     "evalue": "Connection unexpectedly closed: [WinError 10054] An existing connection was forcibly closed by the remote host",
     "traceback": [
      "\u001b[1;31m---------------------------------------------------------------------------\u001b[0m",
      "\u001b[1;31mConnectionResetError\u001b[0m                      Traceback (most recent call last)",
      "\u001b[1;32mC:\\ProgramData\\Anaconda3\\envs\\mlflow\\lib\\smtplib.py\u001b[0m in \u001b[0;36mgetreply\u001b[1;34m(self)\u001b[0m\n\u001b[0;32m    397\u001b[0m             \u001b[1;32mtry\u001b[0m\u001b[1;33m:\u001b[0m\u001b[1;33m\u001b[0m\u001b[1;33m\u001b[0m\u001b[0m\n\u001b[1;32m--> 398\u001b[1;33m                 \u001b[0mline\u001b[0m \u001b[1;33m=\u001b[0m \u001b[0mself\u001b[0m\u001b[1;33m.\u001b[0m\u001b[0mfile\u001b[0m\u001b[1;33m.\u001b[0m\u001b[0mreadline\u001b[0m\u001b[1;33m(\u001b[0m\u001b[0m_MAXLINE\u001b[0m \u001b[1;33m+\u001b[0m \u001b[1;36m1\u001b[0m\u001b[1;33m)\u001b[0m\u001b[1;33m\u001b[0m\u001b[1;33m\u001b[0m\u001b[0m\n\u001b[0m\u001b[0;32m    399\u001b[0m             \u001b[1;32mexcept\u001b[0m \u001b[0mOSError\u001b[0m \u001b[1;32mas\u001b[0m \u001b[0me\u001b[0m\u001b[1;33m:\u001b[0m\u001b[1;33m\u001b[0m\u001b[1;33m\u001b[0m\u001b[0m\n",
      "\u001b[1;32mC:\\ProgramData\\Anaconda3\\envs\\mlflow\\lib\\socket.py\u001b[0m in \u001b[0;36mreadinto\u001b[1;34m(self, b)\u001b[0m\n\u001b[0;32m    703\u001b[0m             \u001b[1;32mtry\u001b[0m\u001b[1;33m:\u001b[0m\u001b[1;33m\u001b[0m\u001b[1;33m\u001b[0m\u001b[0m\n\u001b[1;32m--> 704\u001b[1;33m                 \u001b[1;32mreturn\u001b[0m \u001b[0mself\u001b[0m\u001b[1;33m.\u001b[0m\u001b[0m_sock\u001b[0m\u001b[1;33m.\u001b[0m\u001b[0mrecv_into\u001b[0m\u001b[1;33m(\u001b[0m\u001b[0mb\u001b[0m\u001b[1;33m)\u001b[0m\u001b[1;33m\u001b[0m\u001b[1;33m\u001b[0m\u001b[0m\n\u001b[0m\u001b[0;32m    705\u001b[0m             \u001b[1;32mexcept\u001b[0m \u001b[0mtimeout\u001b[0m\u001b[1;33m:\u001b[0m\u001b[1;33m\u001b[0m\u001b[1;33m\u001b[0m\u001b[0m\n",
      "\u001b[1;31mConnectionResetError\u001b[0m: [WinError 10054] An existing connection was forcibly closed by the remote host",
      "\nDuring handling of the above exception, another exception occurred:\n",
      "\u001b[1;31mSMTPServerDisconnected\u001b[0m                    Traceback (most recent call last)",
      "\u001b[1;32m~\\AppData\\Local\\Temp/ipykernel_12888/1134084907.py\u001b[0m in \u001b[0;36m<module>\u001b[1;34m\u001b[0m\n\u001b[0;32m     18\u001b[0m \u001b[0mmsg\u001b[0m\u001b[1;33m.\u001b[0m\u001b[0mattach\u001b[0m\u001b[1;33m(\u001b[0m\u001b[0mpart1\u001b[0m\u001b[1;33m)\u001b[0m\u001b[1;33m\u001b[0m\u001b[1;33m\u001b[0m\u001b[0m\n\u001b[0;32m     19\u001b[0m \u001b[1;33m\u001b[0m\u001b[0m\n\u001b[1;32m---> 20\u001b[1;33m \u001b[0mserver\u001b[0m \u001b[1;33m=\u001b[0m \u001b[0msmtplib\u001b[0m\u001b[1;33m.\u001b[0m\u001b[0mSMTP\u001b[0m\u001b[1;33m(\u001b[0m\u001b[1;34m'smtp.gmail.com'\u001b[0m\u001b[1;33m,\u001b[0m \u001b[1;36m587\u001b[0m\u001b[1;33m)\u001b[0m\u001b[1;33m\u001b[0m\u001b[1;33m\u001b[0m\u001b[0m\n\u001b[0m\u001b[0;32m     21\u001b[0m \u001b[0mserver\u001b[0m\u001b[1;33m.\u001b[0m\u001b[0msendmail\u001b[0m\u001b[1;33m(\u001b[0m\u001b[0mmsg\u001b[0m\u001b[1;33m[\u001b[0m\u001b[1;34m'From'\u001b[0m\u001b[1;33m]\u001b[0m\u001b[1;33m,\u001b[0m \u001b[0memaillist\u001b[0m \u001b[1;33m,\u001b[0m \u001b[0mmsg\u001b[0m\u001b[1;33m.\u001b[0m\u001b[0mas_string\u001b[0m\u001b[1;33m(\u001b[0m\u001b[1;33m)\u001b[0m\u001b[1;33m)\u001b[0m\u001b[1;33m\u001b[0m\u001b[1;33m\u001b[0m\u001b[0m\n",
      "\u001b[1;32mC:\\ProgramData\\Anaconda3\\envs\\mlflow\\lib\\smtplib.py\u001b[0m in \u001b[0;36m__init__\u001b[1;34m(self, host, port, local_hostname, timeout, source_address)\u001b[0m\n\u001b[0;32m    253\u001b[0m \u001b[1;33m\u001b[0m\u001b[0m\n\u001b[0;32m    254\u001b[0m         \u001b[1;32mif\u001b[0m \u001b[0mhost\u001b[0m\u001b[1;33m:\u001b[0m\u001b[1;33m\u001b[0m\u001b[1;33m\u001b[0m\u001b[0m\n\u001b[1;32m--> 255\u001b[1;33m             \u001b[1;33m(\u001b[0m\u001b[0mcode\u001b[0m\u001b[1;33m,\u001b[0m \u001b[0mmsg\u001b[0m\u001b[1;33m)\u001b[0m \u001b[1;33m=\u001b[0m \u001b[0mself\u001b[0m\u001b[1;33m.\u001b[0m\u001b[0mconnect\u001b[0m\u001b[1;33m(\u001b[0m\u001b[0mhost\u001b[0m\u001b[1;33m,\u001b[0m \u001b[0mport\u001b[0m\u001b[1;33m)\u001b[0m\u001b[1;33m\u001b[0m\u001b[1;33m\u001b[0m\u001b[0m\n\u001b[0m\u001b[0;32m    256\u001b[0m             \u001b[1;32mif\u001b[0m \u001b[0mcode\u001b[0m \u001b[1;33m!=\u001b[0m \u001b[1;36m220\u001b[0m\u001b[1;33m:\u001b[0m\u001b[1;33m\u001b[0m\u001b[1;33m\u001b[0m\u001b[0m\n\u001b[0;32m    257\u001b[0m                 \u001b[0mself\u001b[0m\u001b[1;33m.\u001b[0m\u001b[0mclose\u001b[0m\u001b[1;33m(\u001b[0m\u001b[1;33m)\u001b[0m\u001b[1;33m\u001b[0m\u001b[1;33m\u001b[0m\u001b[0m\n",
      "\u001b[1;32mC:\\ProgramData\\Anaconda3\\envs\\mlflow\\lib\\smtplib.py\u001b[0m in \u001b[0;36mconnect\u001b[1;34m(self, host, port, source_address)\u001b[0m\n\u001b[0;32m    341\u001b[0m         \u001b[0mself\u001b[0m\u001b[1;33m.\u001b[0m\u001b[0msock\u001b[0m \u001b[1;33m=\u001b[0m \u001b[0mself\u001b[0m\u001b[1;33m.\u001b[0m\u001b[0m_get_socket\u001b[0m\u001b[1;33m(\u001b[0m\u001b[0mhost\u001b[0m\u001b[1;33m,\u001b[0m \u001b[0mport\u001b[0m\u001b[1;33m,\u001b[0m \u001b[0mself\u001b[0m\u001b[1;33m.\u001b[0m\u001b[0mtimeout\u001b[0m\u001b[1;33m)\u001b[0m\u001b[1;33m\u001b[0m\u001b[1;33m\u001b[0m\u001b[0m\n\u001b[0;32m    342\u001b[0m         \u001b[0mself\u001b[0m\u001b[1;33m.\u001b[0m\u001b[0mfile\u001b[0m \u001b[1;33m=\u001b[0m \u001b[1;32mNone\u001b[0m\u001b[1;33m\u001b[0m\u001b[1;33m\u001b[0m\u001b[0m\n\u001b[1;32m--> 343\u001b[1;33m         \u001b[1;33m(\u001b[0m\u001b[0mcode\u001b[0m\u001b[1;33m,\u001b[0m \u001b[0mmsg\u001b[0m\u001b[1;33m)\u001b[0m \u001b[1;33m=\u001b[0m \u001b[0mself\u001b[0m\u001b[1;33m.\u001b[0m\u001b[0mgetreply\u001b[0m\u001b[1;33m(\u001b[0m\u001b[1;33m)\u001b[0m\u001b[1;33m\u001b[0m\u001b[1;33m\u001b[0m\u001b[0m\n\u001b[0m\u001b[0;32m    344\u001b[0m         \u001b[1;32mif\u001b[0m \u001b[0mself\u001b[0m\u001b[1;33m.\u001b[0m\u001b[0mdebuglevel\u001b[0m \u001b[1;33m>\u001b[0m \u001b[1;36m0\u001b[0m\u001b[1;33m:\u001b[0m\u001b[1;33m\u001b[0m\u001b[1;33m\u001b[0m\u001b[0m\n\u001b[0;32m    345\u001b[0m             \u001b[0mself\u001b[0m\u001b[1;33m.\u001b[0m\u001b[0m_print_debug\u001b[0m\u001b[1;33m(\u001b[0m\u001b[1;34m'connect:'\u001b[0m\u001b[1;33m,\u001b[0m \u001b[0mrepr\u001b[0m\u001b[1;33m(\u001b[0m\u001b[0mmsg\u001b[0m\u001b[1;33m)\u001b[0m\u001b[1;33m)\u001b[0m\u001b[1;33m\u001b[0m\u001b[1;33m\u001b[0m\u001b[0m\n",
      "\u001b[1;32mC:\\ProgramData\\Anaconda3\\envs\\mlflow\\lib\\smtplib.py\u001b[0m in \u001b[0;36mgetreply\u001b[1;34m(self)\u001b[0m\n\u001b[0;32m    399\u001b[0m             \u001b[1;32mexcept\u001b[0m \u001b[0mOSError\u001b[0m \u001b[1;32mas\u001b[0m \u001b[0me\u001b[0m\u001b[1;33m:\u001b[0m\u001b[1;33m\u001b[0m\u001b[1;33m\u001b[0m\u001b[0m\n\u001b[0;32m    400\u001b[0m                 \u001b[0mself\u001b[0m\u001b[1;33m.\u001b[0m\u001b[0mclose\u001b[0m\u001b[1;33m(\u001b[0m\u001b[1;33m)\u001b[0m\u001b[1;33m\u001b[0m\u001b[1;33m\u001b[0m\u001b[0m\n\u001b[1;32m--> 401\u001b[1;33m                 raise SMTPServerDisconnected(\"Connection unexpectedly closed: \"\n\u001b[0m\u001b[0;32m    402\u001b[0m                                              + str(e))\n\u001b[0;32m    403\u001b[0m             \u001b[1;32mif\u001b[0m \u001b[1;32mnot\u001b[0m \u001b[0mline\u001b[0m\u001b[1;33m:\u001b[0m\u001b[1;33m\u001b[0m\u001b[1;33m\u001b[0m\u001b[0m\n",
      "\u001b[1;31mSMTPServerDisconnected\u001b[0m: Connection unexpectedly closed: [WinError 10054] An existing connection was forcibly closed by the remote host"
     ]
    }
   ],
   "source": [
    "recipients = ['biswadeep.upadhyay@lowes.com','anatindra.roy@lowes.com'] \n",
    "emaillist = [elem.strip().split(',') for elem in recipients]\n",
    "msg = MIMEMultipart()\n",
    "msg['Subject'] = \"Reserved Job List\"\n",
    "msg['From'] = 'biswadeep.upadhyay@lowes.com'\n",
    "\n",
    "\n",
    "html = \"\"\"\\\n",
    "<html>\n",
    "  <head></head>\n",
    "  <body>\n",
    "    {0}\n",
    "  </body>\n",
    "</html>\n",
    "\"\"\".format(SOP_df.to_html())\n",
    "\n",
    "part1 = MIMEText(html, 'html')\n",
    "msg.attach(part1)\n",
    "\n",
    "server = smtplib.SMTP('smtp.office365.com', 587)\n",
    "server.sendmail(msg['From'], emaillist , msg.as_string())"
   ]
  },
  {
   "cell_type": "code",
   "execution_count": null,
   "metadata": {},
   "outputs": [],
   "source": []
  }
 ]
}