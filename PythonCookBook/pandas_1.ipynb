{
 "metadata": {
  "language_info": {
   "codemirror_mode": {
    "name": "ipython",
    "version": 3
   },
   "file_extension": ".py",
   "mimetype": "text/x-python",
   "name": "python",
   "nbconvert_exporter": "python",
   "pygments_lexer": "ipython3",
   "version": "3.9.7-final"
  },
  "orig_nbformat": 2,
  "kernelspec": {
   "name": "python3",
   "display_name": "Python 3 (ipykernel)",
   "language": "python"
  }
 },
 "nbformat": 4,
 "nbformat_minor": 2,
 "cells": [
  {
   "cell_type": "code",
   "execution_count": 3,
   "metadata": {},
   "outputs": [
    {
     "output_type": "execute_result",
     "data": {
      "text/plain": [
       "sys.version_info(major=3, minor=9, micro=7, releaselevel='final', serial=0)"
      ]
     },
     "metadata": {},
     "execution_count": 3
    }
   ],
   "source": [
    "import sys\n",
    "sys.version_info"
   ]
  },
  {
   "cell_type": "code",
   "execution_count": 1,
   "metadata": {},
   "outputs": [
    {
     "output_type": "execute_result",
     "data": {
      "text/plain": [
       "                          text  sentiment\n",
       "0  It is a beautiful day today       0.85\n",
       "1       This movie is terrible      -1.00"
      ],
      "text/html": "<div>\n<style scoped>\n    .dataframe tbody tr th:only-of-type {\n        vertical-align: middle;\n    }\n\n    .dataframe tbody tr th {\n        vertical-align: top;\n    }\n\n    .dataframe thead th {\n        text-align: right;\n    }\n</style>\n<table border=\"1\" class=\"dataframe\">\n  <thead>\n    <tr style=\"text-align: right;\">\n      <th></th>\n      <th>text</th>\n      <th>sentiment</th>\n    </tr>\n  </thead>\n  <tbody>\n    <tr>\n      <th>0</th>\n      <td>It is a beautiful day today</td>\n      <td>0.85</td>\n    </tr>\n    <tr>\n      <th>1</th>\n      <td>This movie is terrible</td>\n      <td>-1.00</td>\n    </tr>\n  </tbody>\n</table>\n</div>"
     },
     "metadata": {},
     "execution_count": 1
    }
   ],
   "source": [
    "from textblob import TextBlob\n",
    "import pandas as pd \n",
    "\n",
    "def remove_white_space(df: pd.DataFrame):\n",
    "    df['text'] = df['text'].apply(lambda row: row.strip())\n",
    "    return df\n",
    "\n",
    "def get_sentiment(df: pd.DataFrame):\n",
    "    df['sentiment'] = df['text'].apply(lambda row:\n",
    "                                    TextBlob(row).sentiment[0])\n",
    "    return df\n",
    "\n",
    "df = pd.DataFrame({'text': [\"It is a beautiful day today  \",\n",
    "                        \"  This movie is terrible\"]})\n",
    "\n",
    "df = (df.pipe(remove_white_space)\n",
    "    .pipe(get_sentiment)\n",
    ")\n",
    "\n",
    "df"
   ]
  },
  {
   "cell_type": "code",
   "execution_count": null,
   "metadata": {},
   "outputs": [],
   "source": []
  }
 ]
}