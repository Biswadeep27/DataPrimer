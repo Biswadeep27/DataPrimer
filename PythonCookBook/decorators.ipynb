{
 "cells": [
  {
   "cell_type": "code",
   "execution_count": 4,
   "metadata": {},
   "outputs": [],
   "source": [
    "# decorators - are functions which take in func as argument and return another func without altering the source code of \n",
    "# the original function passed in\n",
    "# decorator function - implementation\n",
    "def decorator_func(org_func):\n",
    "    def wrapper_func(*args, **kwargs):\n",
    "        print(f'wrapper executed this before {org_func.__name__}')\n",
    "        return org_func(*args, **kwargs)\n",
    "\n",
    "    return wrapper_func\n"
   ]
  },
  {
   "cell_type": "code",
   "execution_count": 5,
   "metadata": {},
   "outputs": [
    {
     "name": "stdout",
     "output_type": "stream",
     "text": [
      "wrapper executed this before display\n",
      "Hey Jude!\n"
     ]
    }
   ],
   "source": [
    "def display():\n",
    "    print('Hey Jude!')\n",
    "\n",
    "decorated_display = decorator_func(display)\n",
    "\n",
    "decorated_display()"
   ]
  },
  {
   "cell_type": "code",
   "execution_count": 6,
   "metadata": {},
   "outputs": [
    {
     "name": "stdout",
     "output_type": "stream",
     "text": [
      "wrapper executed this before display\n",
      "Hey Jude!\n"
     ]
    }
   ],
   "source": [
    "@decorator_func\n",
    "def display():\n",
    "    print('Hey Jude!')\n",
    "\n",
    "\n",
    "display()"
   ]
  },
  {
   "cell_type": "code",
   "execution_count": 10,
   "metadata": {},
   "outputs": [
    {
     "name": "stdout",
     "output_type": "stream",
     "text": [
      "wrapper executed this before display_info\n",
      "display info ran with name: tbnd and attribute - ve: tbnd\n"
     ]
    }
   ],
   "source": [
    "@decorator_func\n",
    "def display_info(name,ve):\n",
    "    print(f'display info ran with name: {name} and attribute - ve: {ve}')\n",
    "\n",
    "display_info('tbnd','tbnd')"
   ]
  },
  {
   "cell_type": "code",
   "execution_count": 9,
   "metadata": {},
   "outputs": [],
   "source": [
    "# decorator class implementation:\n",
    "class decorator_class(object):\n",
    "    def __init__(self,org_func):\n",
    "        self.org_func = org_func\n",
    "\n",
    "    def __call__(self,*args,**kwargs):\n",
    "        print(f'call method ran before original funcation call : {self.org_func.__name__}')\n",
    "        return self.org_func(*args,**kwargs)"
   ]
  },
  {
   "cell_type": "code",
   "execution_count": 12,
   "metadata": {},
   "outputs": [
    {
     "name": "stdout",
     "output_type": "stream",
     "text": [
      "call method ran before original funcation call : display_info\n",
      "display info ran with name: tbnd and attribute - ve: tgnd\n"
     ]
    }
   ],
   "source": [
    "@decorator_class\n",
    "def display_info(name,ve):\n",
    "    print(f'display info ran with name: {name} and attribute - ve: {ve}')\n",
    "\n",
    "display_info('tbnd','tgnd')"
   ]
  },
  {
   "cell_type": "code",
   "execution_count": null,
   "metadata": {},
   "outputs": [],
   "source": []
  },
  {
   "cell_type": "code",
   "execution_count": 1,
   "metadata": {},
   "outputs": [
    {
     "name": "stdout",
     "output_type": "stream",
     "text": [
      "display_info ran with arguments (Tom, 22)\n",
      "display_info ran in: 1.0037586688995361 sec\n"
     ]
    }
   ],
   "source": [
    "# Decorators\n",
    "from functools import wraps\n",
    "\n",
    "\n",
    "def my_logger(orig_func):\n",
    "    import logging\n",
    "    logging.basicConfig(filename='{}.log'.format(orig_func.__name__), level=logging.INFO)\n",
    "\n",
    "    @wraps(orig_func)\n",
    "    def wrapper(*args, **kwargs):\n",
    "        logging.info(\n",
    "            'Ran with args: {}, and kwargs: {}'.format(args, kwargs))\n",
    "        return orig_func(*args, **kwargs)\n",
    "\n",
    "    return wrapper\n",
    "\n",
    "\n",
    "def my_timer(orig_func):\n",
    "    import time\n",
    "\n",
    "    @wraps(orig_func)\n",
    "    def wrapper(*args, **kwargs):\n",
    "        t1 = time.time()\n",
    "        result = orig_func(*args, **kwargs)\n",
    "        t2 = time.time() - t1\n",
    "        print('{} ran in: {} sec'.format(orig_func.__name__, t2))\n",
    "        return result\n",
    "\n",
    "    return wrapper\n",
    "\n",
    "import time\n",
    "\n",
    "\n",
    "@my_logger\n",
    "@my_timer\n",
    "def display_info(name, age):\n",
    "    time.sleep(1)\n",
    "    print('display_info ran with arguments ({}, {})'.format(name, age))\n",
    "\n",
    "display_info('Tom', 22)"
   ]
  },
  {
   "cell_type": "code",
   "execution_count": 4,
   "metadata": {},
   "outputs": [],
   "source": [
    "#decorators with argument:\n",
    "def prefix_decorator(argument):\n",
    "    def decorator_func(original_func):\n",
    "        def wrapper(*args,**kwargs):\n",
    "            print(f'{argument} executed before : {original_func.__name__}')\n",
    "            result = original_func(*args,**kwargs)\n",
    "            print(f'{argument} executed after : {original_func.__name__}')\n",
    "            return result\n",
    "\n",
    "        return wrapper\n",
    "    return decorator_func"
   ]
  },
  {
   "cell_type": "code",
   "execution_count": 5,
   "metadata": {},
   "outputs": [
    {
     "name": "stdout",
     "output_type": "stream",
     "text": [
      "Testing Evolution: executed before : display_info\n",
      "display info ran with name: tbnd and attribute - ve: tgnd\n",
      "Testing Evolution: executed after : display_info\n"
     ]
    }
   ],
   "source": [
    "@prefix_decorator('Testing Evolution:')\n",
    "def display_info(name,ve):\n",
    "    print(f'display info ran with name: {name} and attribute - ve: {ve}')\n",
    "\n",
    "display_info('tbnd','tgnd')"
   ]
  },
  {
   "cell_type": "code",
   "execution_count": null,
   "metadata": {},
   "outputs": [],
   "source": []
  }
 ],
 "metadata": {
  "interpreter": {
   "hash": "b460384b52104c1e5b9cf54bee46a255d22b2bef338f75ac4ad5d48196028d3c"
  },
  "kernelspec": {
   "display_name": "Python 3.10.2 64-bit",
   "language": "python",
   "name": "python3"
  },
  "language_info": {
   "codemirror_mode": {
    "name": "ipython",
    "version": 3
   },
   "file_extension": ".py",
   "mimetype": "text/x-python",
   "name": "python",
   "nbconvert_exporter": "python",
   "pygments_lexer": "ipython3",
   "version": "3.10.2"
  },
  "orig_nbformat": 4
 },
 "nbformat": 4,
 "nbformat_minor": 2
}
