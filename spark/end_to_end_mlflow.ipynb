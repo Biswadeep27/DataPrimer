{
 "cells": [
  {
   "cell_type": "code",
   "execution_count": 3,
   "metadata": {},
   "outputs": [
    {
     "name": "stderr",
     "output_type": "stream",
     "text": [
      "Setting default log level to \"WARN\".\n",
      "To adjust logging level use sc.setLogLevel(newLevel). For SparkR, use setLogLevel(newLevel).\n"
     ]
    },
    {
     "name": "stdout",
     "output_type": "stream",
     "text": [
      "22/09/07 00:06:37 WARN NativeCodeLoader: Unable to load native-hadoop library for your platform... using builtin-java classes where applicable\n",
      "22/09/07 00:06:38 WARN Utils: Service 'SparkUI' could not bind on port 4040. Attempting port 4041.\n"
     ]
    }
   ],
   "source": [
    "from pyspark.sql import SparkSession\n",
    "from pyspark.sql import functions as F\n",
    "\n",
    "spark = SparkSession.builder\\\n",
    "    .appName('MLOps')\\\n",
    "    .config('spark.sql.shuffle.partitions',400)\\\n",
    "    .getOrCreate()"
   ]
  },
  {
   "cell_type": "code",
   "execution_count": null,
   "metadata": {},
   "outputs": [],
   "source": [
    "#a lot of pyspark & spark SQL ETL\n",
    "input_1 = spark.read.csv('/hdfs/raw/flat/feed/raw')\n",
    "\n",
    "processed_data = input_1.groupBy('key')\\\n",
    "    .agg(F.sum('value').alias('sum_col'))\\\n",
    "    .groupBy(\"Product\",\"Country\")\\\n",
    "    .pivot(\"Country\")\\\n",
    "    .sum(\"sum(Amount)\")\\\n",
    "\n",
    "processed_data.createOrReplaceTempView('processed')"
   ]
  },
  {
   "cell_type": "code",
   "execution_count": null,
   "metadata": {},
   "outputs": [],
   "source": [
    "#more ETL\n",
    "spark.sql(\"sel * from the external table processed\").write.format('delta').save('/to/hdfs_or_s3/path/silver')\n"
   ]
  },
  {
   "cell_type": "code",
   "execution_count": null,
   "metadata": {
    "vscode": {
     "languageId": "sql"
    }
   },
   "outputs": [],
   "source": [
    "%sql\n",
    "CREATE DATABASE if not exists dbname;\n",
    "use dbname;\n",
    "CREATE TABLE IF NOT EXISTS tablename USING LOCATION '/to/hdfs_or_s3/path/silver';\n",
    "--silver data"
   ]
  },
  {
   "cell_type": "code",
   "execution_count": null,
   "metadata": {},
   "outputs": [],
   "source": [
    "#data science - reading delta table\n",
    "input_df = spark.read.table('dbname.tablename') \n",
    "display(input_df.summary())"
   ]
  },
  {
   "cell_type": "code",
   "execution_count": null,
   "metadata": {},
   "outputs": [],
   "source": [
    "#feature engineering - silver to gold - one hot encoding\n",
    "countries = sorted(map( lambda r : r['country'], input_df.select('country').distinct().collect()))\n",
    "\n",
    "with_countries_df = input_df\n",
    "for country in countries:\n",
    "    with_countries_df = with_countries_df.withColumn(f'Country_{country}', F.col('country') == country)\n",
    "\n",
    "with_countries_df.drop('country')\n",
    "with_countries_df.write.format('delta').save('/to/hdfs_or_s3/path/gold')"
   ]
  },
  {
   "cell_type": "code",
   "execution_count": null,
   "metadata": {
    "vscode": {
     "languageId": "sql"
    }
   },
   "outputs": [],
   "source": [
    "%sql\n",
    "USE dbname;\n",
    "CREATE TABLE IF NOT EXISTS gold_table USING LOCATION '/to/hdfs_or_s3/path/gold';\n",
    "--glod data"
   ]
  },
  {
   "cell_type": "code",
   "execution_count": null,
   "metadata": {},
   "outputs": [],
   "source": [
    "#enable mlflow for autologging spark data sources before they are used\n",
    "import mlflow.spark as mlflow_spark\n",
    "mlflow_spark.autolog()"
   ]
  },
  {
   "cell_type": "code",
   "execution_count": null,
   "metadata": {},
   "outputs": [],
   "source": [
    "#modeling - training & testing data\n",
    "import databricks.koalas as ks\n",
    "\n",
    "input_ks = spark.read.table('dbname.gold_table').to_koalas()\n",
    "input_ks = input_ks[input_ks['year'] <= 2016]\n",
    "\n",
    "input_ks_train = input_ks[input_ks['year'] <= 2014]\n",
    "input_ks_test = input_ks[input_ks['year'] > 2014]\n",
    "\n",
    "X_ks_train = input_ks_train.drop('label_col', axis = 1)\n",
    "y_ks_train = input_ks_train['label_col']\n",
    "\n",
    "X_ks_test = input_ks_test.drop('label_col', axis = 1)\n",
    "y_ks_test = input_ks_test['label_col']\n",
    "\n",
    "X_train = X_ks_train.to_pandas()\n",
    "y_train = y_ks_train.to_pandas()\n",
    "#and so on incase pandas APIs needed\n"
   ]
  },
  {
   "cell_type": "code",
   "execution_count": null,
   "metadata": {},
   "outputs": [],
   "source": [
    "#hyperopt - parameter tuning at scale on spark cluster \n",
    "#using hyperopt building and training multiple models with different parameter can happen in parallel\n",
    "\n"
   ]
  }
 ],
 "metadata": {
  "kernelspec": {
   "display_name": "Python 3.10.2 ('vs_lowes_310')",
   "language": "python",
   "name": "python3"
  },
  "language_info": {
   "codemirror_mode": {
    "name": "ipython",
    "version": 3
   },
   "file_extension": ".py",
   "mimetype": "text/x-python",
   "name": "python",
   "nbconvert_exporter": "python",
   "pygments_lexer": "ipython3",
   "version": "3.10.2"
  },
  "orig_nbformat": 4,
  "vscode": {
   "interpreter": {
    "hash": "e619a740aa0144de023e6e7077865760ef0e4e3378d2de02556735643e43b023"
   }
  }
 },
 "nbformat": 4,
 "nbformat_minor": 2
}
