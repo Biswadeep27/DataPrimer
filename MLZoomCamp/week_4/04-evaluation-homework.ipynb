{
 "cells": [
  {
   "cell_type": "code",
   "execution_count": 37,
   "metadata": {},
   "outputs": [],
   "source": [
    "from tqdm.auto import tqdm\n",
    "\n",
    "import numpy as np\n",
    "import pandas as pd\n",
    "\n",
    "import matplotlib.pyplot as plt\n",
    "\n",
    "from sklearn.model_selection import train_test_split\n",
    "from sklearn.feature_extraction import DictVectorizer\n",
    "from sklearn.linear_model import LogisticRegression\n",
    "from sklearn.metrics import mutual_info_score\n",
    "from sklearn.metrics import accuracy_score\n",
    "\n",
    "from sklearn.metrics import auc\n",
    "from sklearn.metrics import roc_curve\n",
    "from sklearn.metrics import roc_auc_score\n",
    "\n",
    "from sklearn.model_selection import KFold\n",
    "\n"
   ]
  },
  {
   "cell_type": "code",
   "execution_count": 2,
   "metadata": {},
   "outputs": [
    {
     "name": "stdout",
     "output_type": "stream",
     "text": [
      "--2022-10-05 19:24:04--  https://raw.githubusercontent.com/alexeygrigorev/datasets/master/AER_credit_card_data.csv\n",
      "Resolving raw.githubusercontent.com (raw.githubusercontent.com)... 185.199.109.133, 185.199.110.133, 185.199.108.133, ...\n",
      "Connecting to raw.githubusercontent.com (raw.githubusercontent.com)|185.199.109.133|:443... connected.\n",
      "HTTP request sent, awaiting response... 200 OK\n",
      "Length: 73250 (72K) [text/plain]\n",
      "Saving to: ‘AER_credit_card_data.csv’\n",
      "\n",
      "AER_credit_card_dat 100%[===================>]  71.53K  --.-KB/s    in 0.07s   \n",
      "\n",
      "2022-10-05 19:24:05 (992 KB/s) - ‘AER_credit_card_data.csv’ saved [73250/73250]\n",
      "\n"
     ]
    }
   ],
   "source": [
    "data = 'https://raw.githubusercontent.com/alexeygrigorev/datasets/master/AER_credit_card_data.csv'\n",
    "\n",
    "!wget $data"
   ]
  },
  {
   "cell_type": "code",
   "execution_count": 5,
   "metadata": {},
   "outputs": [
    {
     "data": {
      "text/html": [
       "<div>\n",
       "<style scoped>\n",
       "    .dataframe tbody tr th:only-of-type {\n",
       "        vertical-align: middle;\n",
       "    }\n",
       "\n",
       "    .dataframe tbody tr th {\n",
       "        vertical-align: top;\n",
       "    }\n",
       "\n",
       "    .dataframe thead th {\n",
       "        text-align: right;\n",
       "    }\n",
       "</style>\n",
       "<table border=\"1\" class=\"dataframe\">\n",
       "  <thead>\n",
       "    <tr style=\"text-align: right;\">\n",
       "      <th></th>\n",
       "      <th>0</th>\n",
       "      <th>1</th>\n",
       "      <th>2</th>\n",
       "      <th>3</th>\n",
       "      <th>4</th>\n",
       "      <th>5</th>\n",
       "      <th>6</th>\n",
       "      <th>7</th>\n",
       "      <th>8</th>\n",
       "      <th>9</th>\n",
       "      <th>...</th>\n",
       "      <th>1309</th>\n",
       "      <th>1310</th>\n",
       "      <th>1311</th>\n",
       "      <th>1312</th>\n",
       "      <th>1313</th>\n",
       "      <th>1314</th>\n",
       "      <th>1315</th>\n",
       "      <th>1316</th>\n",
       "      <th>1317</th>\n",
       "      <th>1318</th>\n",
       "    </tr>\n",
       "  </thead>\n",
       "  <tbody>\n",
       "    <tr>\n",
       "      <th>card</th>\n",
       "      <td>yes</td>\n",
       "      <td>yes</td>\n",
       "      <td>yes</td>\n",
       "      <td>yes</td>\n",
       "      <td>yes</td>\n",
       "      <td>yes</td>\n",
       "      <td>yes</td>\n",
       "      <td>yes</td>\n",
       "      <td>yes</td>\n",
       "      <td>yes</td>\n",
       "      <td>...</td>\n",
       "      <td>yes</td>\n",
       "      <td>yes</td>\n",
       "      <td>no</td>\n",
       "      <td>no</td>\n",
       "      <td>no</td>\n",
       "      <td>yes</td>\n",
       "      <td>no</td>\n",
       "      <td>yes</td>\n",
       "      <td>yes</td>\n",
       "      <td>yes</td>\n",
       "    </tr>\n",
       "    <tr>\n",
       "      <th>reports</th>\n",
       "      <td>0</td>\n",
       "      <td>0</td>\n",
       "      <td>0</td>\n",
       "      <td>0</td>\n",
       "      <td>0</td>\n",
       "      <td>0</td>\n",
       "      <td>0</td>\n",
       "      <td>0</td>\n",
       "      <td>0</td>\n",
       "      <td>0</td>\n",
       "      <td>...</td>\n",
       "      <td>1</td>\n",
       "      <td>0</td>\n",
       "      <td>0</td>\n",
       "      <td>0</td>\n",
       "      <td>1</td>\n",
       "      <td>0</td>\n",
       "      <td>5</td>\n",
       "      <td>0</td>\n",
       "      <td>0</td>\n",
       "      <td>0</td>\n",
       "    </tr>\n",
       "    <tr>\n",
       "      <th>age</th>\n",
       "      <td>37.66667</td>\n",
       "      <td>33.25</td>\n",
       "      <td>33.66667</td>\n",
       "      <td>30.5</td>\n",
       "      <td>32.16667</td>\n",
       "      <td>23.25</td>\n",
       "      <td>27.91667</td>\n",
       "      <td>29.16667</td>\n",
       "      <td>37.0</td>\n",
       "      <td>28.41667</td>\n",
       "      <td>...</td>\n",
       "      <td>40.16667</td>\n",
       "      <td>30.58333</td>\n",
       "      <td>39.33333</td>\n",
       "      <td>22.58333</td>\n",
       "      <td>30.33333</td>\n",
       "      <td>33.58333</td>\n",
       "      <td>23.91667</td>\n",
       "      <td>40.58333</td>\n",
       "      <td>32.83333</td>\n",
       "      <td>48.25</td>\n",
       "    </tr>\n",
       "    <tr>\n",
       "      <th>income</th>\n",
       "      <td>4.52</td>\n",
       "      <td>2.42</td>\n",
       "      <td>4.5</td>\n",
       "      <td>2.54</td>\n",
       "      <td>9.7867</td>\n",
       "      <td>2.5</td>\n",
       "      <td>3.96</td>\n",
       "      <td>2.37</td>\n",
       "      <td>3.8</td>\n",
       "      <td>3.2</td>\n",
       "      <td>...</td>\n",
       "      <td>2.0</td>\n",
       "      <td>2.512</td>\n",
       "      <td>2.3004</td>\n",
       "      <td>3.86</td>\n",
       "      <td>2.18</td>\n",
       "      <td>4.566</td>\n",
       "      <td>3.192</td>\n",
       "      <td>4.6</td>\n",
       "      <td>3.7</td>\n",
       "      <td>3.7</td>\n",
       "    </tr>\n",
       "    <tr>\n",
       "      <th>share</th>\n",
       "      <td>0.03327</td>\n",
       "      <td>0.005217</td>\n",
       "      <td>0.004156</td>\n",
       "      <td>0.065214</td>\n",
       "      <td>0.067051</td>\n",
       "      <td>0.044438</td>\n",
       "      <td>0.012576</td>\n",
       "      <td>0.076434</td>\n",
       "      <td>0.245628</td>\n",
       "      <td>0.01978</td>\n",
       "      <td>...</td>\n",
       "      <td>0.254827</td>\n",
       "      <td>0.002627</td>\n",
       "      <td>0.000522</td>\n",
       "      <td>0.000311</td>\n",
       "      <td>0.00055</td>\n",
       "      <td>0.002146</td>\n",
       "      <td>0.000376</td>\n",
       "      <td>0.026513</td>\n",
       "      <td>0.008999</td>\n",
       "      <td>0.111619</td>\n",
       "    </tr>\n",
       "    <tr>\n",
       "      <th>expenditure</th>\n",
       "      <td>124.9833</td>\n",
       "      <td>9.854167</td>\n",
       "      <td>15.0</td>\n",
       "      <td>137.8692</td>\n",
       "      <td>546.5033</td>\n",
       "      <td>91.99667</td>\n",
       "      <td>40.83333</td>\n",
       "      <td>150.79</td>\n",
       "      <td>777.8217</td>\n",
       "      <td>52.58</td>\n",
       "      <td>...</td>\n",
       "      <td>424.6292</td>\n",
       "      <td>4.583333</td>\n",
       "      <td>0.0</td>\n",
       "      <td>0.0</td>\n",
       "      <td>0.0</td>\n",
       "      <td>7.333333</td>\n",
       "      <td>0.0</td>\n",
       "      <td>101.2983</td>\n",
       "      <td>26.99667</td>\n",
       "      <td>344.1575</td>\n",
       "    </tr>\n",
       "    <tr>\n",
       "      <th>owner</th>\n",
       "      <td>yes</td>\n",
       "      <td>no</td>\n",
       "      <td>yes</td>\n",
       "      <td>no</td>\n",
       "      <td>yes</td>\n",
       "      <td>no</td>\n",
       "      <td>no</td>\n",
       "      <td>yes</td>\n",
       "      <td>yes</td>\n",
       "      <td>no</td>\n",
       "      <td>...</td>\n",
       "      <td>yes</td>\n",
       "      <td>no</td>\n",
       "      <td>no</td>\n",
       "      <td>no</td>\n",
       "      <td>no</td>\n",
       "      <td>yes</td>\n",
       "      <td>no</td>\n",
       "      <td>yes</td>\n",
       "      <td>no</td>\n",
       "      <td>yes</td>\n",
       "    </tr>\n",
       "    <tr>\n",
       "      <th>selfemp</th>\n",
       "      <td>no</td>\n",
       "      <td>no</td>\n",
       "      <td>no</td>\n",
       "      <td>no</td>\n",
       "      <td>no</td>\n",
       "      <td>no</td>\n",
       "      <td>no</td>\n",
       "      <td>no</td>\n",
       "      <td>no</td>\n",
       "      <td>no</td>\n",
       "      <td>...</td>\n",
       "      <td>no</td>\n",
       "      <td>yes</td>\n",
       "      <td>yes</td>\n",
       "      <td>no</td>\n",
       "      <td>yes</td>\n",
       "      <td>no</td>\n",
       "      <td>no</td>\n",
       "      <td>no</td>\n",
       "      <td>yes</td>\n",
       "      <td>no</td>\n",
       "    </tr>\n",
       "    <tr>\n",
       "      <th>dependents</th>\n",
       "      <td>3</td>\n",
       "      <td>3</td>\n",
       "      <td>4</td>\n",
       "      <td>0</td>\n",
       "      <td>2</td>\n",
       "      <td>0</td>\n",
       "      <td>2</td>\n",
       "      <td>0</td>\n",
       "      <td>0</td>\n",
       "      <td>0</td>\n",
       "      <td>...</td>\n",
       "      <td>1</td>\n",
       "      <td>3</td>\n",
       "      <td>0</td>\n",
       "      <td>1</td>\n",
       "      <td>0</td>\n",
       "      <td>0</td>\n",
       "      <td>3</td>\n",
       "      <td>2</td>\n",
       "      <td>0</td>\n",
       "      <td>2</td>\n",
       "    </tr>\n",
       "    <tr>\n",
       "      <th>months</th>\n",
       "      <td>54</td>\n",
       "      <td>34</td>\n",
       "      <td>58</td>\n",
       "      <td>25</td>\n",
       "      <td>64</td>\n",
       "      <td>54</td>\n",
       "      <td>7</td>\n",
       "      <td>77</td>\n",
       "      <td>97</td>\n",
       "      <td>65</td>\n",
       "      <td>...</td>\n",
       "      <td>121</td>\n",
       "      <td>36</td>\n",
       "      <td>46</td>\n",
       "      <td>36</td>\n",
       "      <td>13</td>\n",
       "      <td>94</td>\n",
       "      <td>12</td>\n",
       "      <td>1</td>\n",
       "      <td>60</td>\n",
       "      <td>2</td>\n",
       "    </tr>\n",
       "    <tr>\n",
       "      <th>majorcards</th>\n",
       "      <td>1</td>\n",
       "      <td>1</td>\n",
       "      <td>1</td>\n",
       "      <td>1</td>\n",
       "      <td>1</td>\n",
       "      <td>1</td>\n",
       "      <td>1</td>\n",
       "      <td>1</td>\n",
       "      <td>1</td>\n",
       "      <td>1</td>\n",
       "      <td>...</td>\n",
       "      <td>1</td>\n",
       "      <td>0</td>\n",
       "      <td>1</td>\n",
       "      <td>0</td>\n",
       "      <td>1</td>\n",
       "      <td>1</td>\n",
       "      <td>1</td>\n",
       "      <td>1</td>\n",
       "      <td>1</td>\n",
       "      <td>1</td>\n",
       "    </tr>\n",
       "    <tr>\n",
       "      <th>active</th>\n",
       "      <td>12</td>\n",
       "      <td>13</td>\n",
       "      <td>5</td>\n",
       "      <td>7</td>\n",
       "      <td>5</td>\n",
       "      <td>1</td>\n",
       "      <td>5</td>\n",
       "      <td>3</td>\n",
       "      <td>6</td>\n",
       "      <td>18</td>\n",
       "      <td>...</td>\n",
       "      <td>10</td>\n",
       "      <td>4</td>\n",
       "      <td>3</td>\n",
       "      <td>4</td>\n",
       "      <td>1</td>\n",
       "      <td>19</td>\n",
       "      <td>5</td>\n",
       "      <td>2</td>\n",
       "      <td>7</td>\n",
       "      <td>0</td>\n",
       "    </tr>\n",
       "  </tbody>\n",
       "</table>\n",
       "<p>12 rows × 1319 columns</p>\n",
       "</div>"
      ],
      "text/plain": [
       "                 0         1         2         3         4         5     \\\n",
       "card              yes       yes       yes       yes       yes       yes   \n",
       "reports             0         0         0         0         0         0   \n",
       "age          37.66667     33.25  33.66667      30.5  32.16667     23.25   \n",
       "income           4.52      2.42       4.5      2.54    9.7867       2.5   \n",
       "share         0.03327  0.005217  0.004156  0.065214  0.067051  0.044438   \n",
       "expenditure  124.9833  9.854167      15.0  137.8692  546.5033  91.99667   \n",
       "owner             yes        no       yes        no       yes        no   \n",
       "selfemp            no        no        no        no        no        no   \n",
       "dependents          3         3         4         0         2         0   \n",
       "months             54        34        58        25        64        54   \n",
       "majorcards          1         1         1         1         1         1   \n",
       "active             12        13         5         7         5         1   \n",
       "\n",
       "                 6         7         8         9     ...      1309      1310  \\\n",
       "card              yes       yes       yes       yes  ...       yes       yes   \n",
       "reports             0         0         0         0  ...         1         0   \n",
       "age          27.91667  29.16667      37.0  28.41667  ...  40.16667  30.58333   \n",
       "income           3.96      2.37       3.8       3.2  ...       2.0     2.512   \n",
       "share        0.012576  0.076434  0.245628   0.01978  ...  0.254827  0.002627   \n",
       "expenditure  40.83333    150.79  777.8217     52.58  ...  424.6292  4.583333   \n",
       "owner              no       yes       yes        no  ...       yes        no   \n",
       "selfemp            no        no        no        no  ...        no       yes   \n",
       "dependents          2         0         0         0  ...         1         3   \n",
       "months              7        77        97        65  ...       121        36   \n",
       "majorcards          1         1         1         1  ...         1         0   \n",
       "active              5         3         6        18  ...        10         4   \n",
       "\n",
       "                 1311      1312      1313      1314      1315      1316  \\\n",
       "card               no        no        no       yes        no       yes   \n",
       "reports             0         0         1         0         5         0   \n",
       "age          39.33333  22.58333  30.33333  33.58333  23.91667  40.58333   \n",
       "income         2.3004      3.86      2.18     4.566     3.192       4.6   \n",
       "share        0.000522  0.000311   0.00055  0.002146  0.000376  0.026513   \n",
       "expenditure       0.0       0.0       0.0  7.333333       0.0  101.2983   \n",
       "owner              no        no        no       yes        no       yes   \n",
       "selfemp           yes        no       yes        no        no        no   \n",
       "dependents          0         1         0         0         3         2   \n",
       "months             46        36        13        94        12         1   \n",
       "majorcards          1         0         1         1         1         1   \n",
       "active              3         4         1        19         5         2   \n",
       "\n",
       "                 1317      1318  \n",
       "card              yes       yes  \n",
       "reports             0         0  \n",
       "age          32.83333     48.25  \n",
       "income            3.7       3.7  \n",
       "share        0.008999  0.111619  \n",
       "expenditure  26.99667  344.1575  \n",
       "owner              no       yes  \n",
       "selfemp           yes        no  \n",
       "dependents          0         2  \n",
       "months             60         2  \n",
       "majorcards          1         1  \n",
       "active              7         0  \n",
       "\n",
       "[12 rows x 1319 columns]"
      ]
     },
     "execution_count": 5,
     "metadata": {},
     "output_type": "execute_result"
    }
   ],
   "source": [
    "df = pd.read_csv('AER_credit_card_data.csv')\n",
    "\n",
    "df.T.head(100)"
   ]
  },
  {
   "cell_type": "markdown",
   "metadata": {},
   "source": [
    "#### EDA - Data Prep"
   ]
  },
  {
   "cell_type": "code",
   "execution_count": 6,
   "metadata": {},
   "outputs": [
    {
     "data": {
      "text/plain": [
       "card            object\n",
       "reports          int64\n",
       "age            float64\n",
       "income         float64\n",
       "share          float64\n",
       "expenditure    float64\n",
       "owner           object\n",
       "selfemp         object\n",
       "dependents       int64\n",
       "months           int64\n",
       "majorcards       int64\n",
       "active           int64\n",
       "dtype: object"
      ]
     },
     "execution_count": 6,
     "metadata": {},
     "output_type": "execute_result"
    }
   ],
   "source": [
    "df.dtypes"
   ]
  },
  {
   "cell_type": "code",
   "execution_count": 7,
   "metadata": {},
   "outputs": [],
   "source": [
    "\n",
    "columns = df.columns\n",
    "\n",
    "categorical_columns = list(df.dtypes[df.dtypes == 'object'].index)\n",
    "\n",
    "for c in categorical_columns:\n",
    "    df[c] = df[c].str.lower().str.replace(' ','_')\n"
   ]
  },
  {
   "cell_type": "code",
   "execution_count": 8,
   "metadata": {},
   "outputs": [],
   "source": [
    "numerical = [c for c in columns if c not in categorical_columns]\n",
    "categorical = [c for c in categorical_columns if c != 'card']"
   ]
  },
  {
   "cell_type": "code",
   "execution_count": 11,
   "metadata": {},
   "outputs": [
    {
     "name": "stdout",
     "output_type": "stream",
     "text": [
      "reports : int64\n",
      "age : float64\n",
      "income : float64\n",
      "share : float64\n",
      "expenditure : float64\n",
      "dependents : int64\n",
      "months : int64\n",
      "majorcards : int64\n",
      "active : int64\n"
     ]
    }
   ],
   "source": [
    "for c in numerical:\n",
    "    print(c,':', df[c].dtype)"
   ]
  },
  {
   "cell_type": "code",
   "execution_count": 12,
   "metadata": {},
   "outputs": [
    {
     "name": "stdout",
     "output_type": "stream",
     "text": [
      "owner : object\n",
      "selfemp : object\n"
     ]
    }
   ],
   "source": [
    "for c in categorical:\n",
    "    print(c,':',df[c].dtype)"
   ]
  },
  {
   "cell_type": "code",
   "execution_count": 13,
   "metadata": {},
   "outputs": [
    {
     "data": {
      "text/plain": [
       "1    1023\n",
       "0     296\n",
       "Name: card, dtype: int64"
      ]
     },
     "execution_count": 13,
     "metadata": {},
     "output_type": "execute_result"
    }
   ],
   "source": [
    "label = 'card'\n",
    "df[label] = (df[label] == 'yes').astype(int)\n",
    "\n",
    "df[label].value_counts() #class-imbalance"
   ]
  },
  {
   "cell_type": "code",
   "execution_count": 14,
   "metadata": {},
   "outputs": [
    {
     "data": {
      "text/plain": [
       "(11, 2, 9)"
      ]
     },
     "execution_count": 14,
     "metadata": {},
     "output_type": "execute_result"
    }
   ],
   "source": [
    "features = [\"reports\", \"age\", \"income\", \"share\", \"expenditure\", \"dependents\", \"months\", \"majorcards\", \"active\", \"owner\", \"selfemp\"]\n",
    "len(features), len(categorical), len(numerical)"
   ]
  },
  {
   "cell_type": "markdown",
   "metadata": {},
   "source": [
    "#### Training , Validation & Testing Data"
   ]
  },
  {
   "cell_type": "code",
   "execution_count": 15,
   "metadata": {},
   "outputs": [],
   "source": [
    "df_full_train, df_test = train_test_split(df, test_size=0.2, random_state=1)\n",
    "df_train, df_val = train_test_split(df_full_train, test_size=0.25, random_state=1)\n",
    "\n",
    "df_train = df_train.reset_index(drop = True)\n",
    "df_val = df_val.reset_index(drop = True)\n",
    "df_test = df_test.reset_index(drop = True)\n",
    "\n",
    "y_train = df_train.card.values\n",
    "y_val = df_val.card.values\n",
    "y_test = df_test.card.values\n",
    "\n",
    "del df_train['card']\n",
    "del df_val['card']\n",
    "del df_test['card']"
   ]
  },
  {
   "cell_type": "markdown",
   "metadata": {},
   "source": [
    "#### Question 1\n",
    "\n",
    "ROC AUC could also be used to evaluate feature importance of numerical variables.\n",
    "\n",
    "Let's do that\n",
    "\n",
    "* For each numerical variable, use it as score and compute AUC with the card variable.\n",
    "* Use the training dataset for that."
   ]
  },
  {
   "cell_type": "code",
   "execution_count": 19,
   "metadata": {},
   "outputs": [
    {
     "name": "stdout",
     "output_type": "stream",
     "text": [
      "numeric feature : reports, AUC : 0.7166629860689376\n",
      "numeric feature : age, AUC : 0.5240020979407055\n",
      "numeric feature : income, AUC : 0.5908049467233478\n",
      "numeric feature : share, AUC : 0.989183643423692\n",
      "numeric feature : expenditure, AUC : 0.991042345276873\n",
      "numeric feature : dependents, AUC : 0.5327757227773791\n",
      "numeric feature : months, AUC : 0.5294217780967629\n",
      "numeric feature : majorcards, AUC : 0.5343859842838476\n",
      "numeric feature : active, AUC : 0.6043173411362006\n"
     ]
    }
   ],
   "source": [
    "for c in numerical:\n",
    "    auc_score = roc_auc_score(y_train, df_train[c].values)\n",
    "    if auc_score < 0.5:\n",
    "        auc_score = roc_auc_score(y_train, -df_train[c].values)\n",
    "\n",
    "    print(f'numeric feature : {c}, AUC : {auc_score}')"
   ]
  },
  {
   "cell_type": "markdown",
   "metadata": {},
   "source": [
    "#### Training the Model"
   ]
  },
  {
   "cell_type": "code",
   "execution_count": 20,
   "metadata": {},
   "outputs": [],
   "source": [
    "#one-hot encoding\n",
    "dv  = DictVectorizer(sparse=False)\n",
    "train_dict = df_train[numerical + categorical].to_dict(orient='records')\n",
    "X_train = dv.fit_transform(train_dict)\n"
   ]
  },
  {
   "cell_type": "code",
   "execution_count": 21,
   "metadata": {},
   "outputs": [
    {
     "data": {
      "text/html": [
       "<style>#sk-container-id-1 {color: black;background-color: white;}#sk-container-id-1 pre{padding: 0;}#sk-container-id-1 div.sk-toggleable {background-color: white;}#sk-container-id-1 label.sk-toggleable__label {cursor: pointer;display: block;width: 100%;margin-bottom: 0;padding: 0.3em;box-sizing: border-box;text-align: center;}#sk-container-id-1 label.sk-toggleable__label-arrow:before {content: \"▸\";float: left;margin-right: 0.25em;color: #696969;}#sk-container-id-1 label.sk-toggleable__label-arrow:hover:before {color: black;}#sk-container-id-1 div.sk-estimator:hover label.sk-toggleable__label-arrow:before {color: black;}#sk-container-id-1 div.sk-toggleable__content {max-height: 0;max-width: 0;overflow: hidden;text-align: left;background-color: #f0f8ff;}#sk-container-id-1 div.sk-toggleable__content pre {margin: 0.2em;color: black;border-radius: 0.25em;background-color: #f0f8ff;}#sk-container-id-1 input.sk-toggleable__control:checked~div.sk-toggleable__content {max-height: 200px;max-width: 100%;overflow: auto;}#sk-container-id-1 input.sk-toggleable__control:checked~label.sk-toggleable__label-arrow:before {content: \"▾\";}#sk-container-id-1 div.sk-estimator input.sk-toggleable__control:checked~label.sk-toggleable__label {background-color: #d4ebff;}#sk-container-id-1 div.sk-label input.sk-toggleable__control:checked~label.sk-toggleable__label {background-color: #d4ebff;}#sk-container-id-1 input.sk-hidden--visually {border: 0;clip: rect(1px 1px 1px 1px);clip: rect(1px, 1px, 1px, 1px);height: 1px;margin: -1px;overflow: hidden;padding: 0;position: absolute;width: 1px;}#sk-container-id-1 div.sk-estimator {font-family: monospace;background-color: #f0f8ff;border: 1px dotted black;border-radius: 0.25em;box-sizing: border-box;margin-bottom: 0.5em;}#sk-container-id-1 div.sk-estimator:hover {background-color: #d4ebff;}#sk-container-id-1 div.sk-parallel-item::after {content: \"\";width: 100%;border-bottom: 1px solid gray;flex-grow: 1;}#sk-container-id-1 div.sk-label:hover label.sk-toggleable__label {background-color: #d4ebff;}#sk-container-id-1 div.sk-serial::before {content: \"\";position: absolute;border-left: 1px solid gray;box-sizing: border-box;top: 0;bottom: 0;left: 50%;z-index: 0;}#sk-container-id-1 div.sk-serial {display: flex;flex-direction: column;align-items: center;background-color: white;padding-right: 0.2em;padding-left: 0.2em;position: relative;}#sk-container-id-1 div.sk-item {position: relative;z-index: 1;}#sk-container-id-1 div.sk-parallel {display: flex;align-items: stretch;justify-content: center;background-color: white;position: relative;}#sk-container-id-1 div.sk-item::before, #sk-container-id-1 div.sk-parallel-item::before {content: \"\";position: absolute;border-left: 1px solid gray;box-sizing: border-box;top: 0;bottom: 0;left: 50%;z-index: -1;}#sk-container-id-1 div.sk-parallel-item {display: flex;flex-direction: column;z-index: 1;position: relative;background-color: white;}#sk-container-id-1 div.sk-parallel-item:first-child::after {align-self: flex-end;width: 50%;}#sk-container-id-1 div.sk-parallel-item:last-child::after {align-self: flex-start;width: 50%;}#sk-container-id-1 div.sk-parallel-item:only-child::after {width: 0;}#sk-container-id-1 div.sk-dashed-wrapped {border: 1px dashed gray;margin: 0 0.4em 0.5em 0.4em;box-sizing: border-box;padding-bottom: 0.4em;background-color: white;}#sk-container-id-1 div.sk-label label {font-family: monospace;font-weight: bold;display: inline-block;line-height: 1.2em;}#sk-container-id-1 div.sk-label-container {text-align: center;}#sk-container-id-1 div.sk-container {/* jupyter's `normalize.less` sets `[hidden] { display: none; }` but bootstrap.min.css set `[hidden] { display: none !important; }` so we also need the `!important` here to be able to override the default hidden behavior on the sphinx rendered scikit-learn.org. See: https://github.com/scikit-learn/scikit-learn/issues/21755 */display: inline-block !important;position: relative;}#sk-container-id-1 div.sk-text-repr-fallback {display: none;}</style><div id=\"sk-container-id-1\" class=\"sk-top-container\"><div class=\"sk-text-repr-fallback\"><pre>LogisticRegression(max_iter=1000, solver=&#x27;liblinear&#x27;)</pre><b>In a Jupyter environment, please rerun this cell to show the HTML representation or trust the notebook. <br />On GitHub, the HTML representation is unable to render, please try loading this page with nbviewer.org.</b></div><div class=\"sk-container\" hidden><div class=\"sk-item\"><div class=\"sk-estimator sk-toggleable\"><input class=\"sk-toggleable__control sk-hidden--visually\" id=\"sk-estimator-id-1\" type=\"checkbox\" checked><label for=\"sk-estimator-id-1\" class=\"sk-toggleable__label sk-toggleable__label-arrow\">LogisticRegression</label><div class=\"sk-toggleable__content\"><pre>LogisticRegression(max_iter=1000, solver=&#x27;liblinear&#x27;)</pre></div></div></div></div></div>"
      ],
      "text/plain": [
       "LogisticRegression(max_iter=1000, solver='liblinear')"
      ]
     },
     "execution_count": 21,
     "metadata": {},
     "output_type": "execute_result"
    }
   ],
   "source": [
    "#Training Logistic Regreassion Model\n",
    "model = LogisticRegression(solver='liblinear', C=1.0, max_iter=1000)\n",
    "model.fit(X_train, y_train)"
   ]
  },
  {
   "cell_type": "code",
   "execution_count": 22,
   "metadata": {},
   "outputs": [
    {
     "data": {
      "text/plain": [
       "0.9697"
      ]
     },
     "execution_count": 22,
     "metadata": {},
     "output_type": "execute_result"
    }
   ],
   "source": [
    "#validation of the model\n",
    "val_dict = df_val[numerical + categorical].to_dict(orient='records')\n",
    "X_val = dv.transform(val_dict)\n",
    "\n",
    "y_val_pred = model.predict_proba(X_val)[:,1]\n",
    "churn_pred = (y_val_pred >= 0.5)\n",
    "\n",
    "accuracy = round((y_val == churn_pred).mean(), 4)\n",
    "accuracy"
   ]
  },
  {
   "cell_type": "code",
   "execution_count": 23,
   "metadata": {},
   "outputs": [
    {
     "data": {
      "text/plain": [
       "0.9696969696969697"
      ]
     },
     "execution_count": 23,
     "metadata": {},
     "output_type": "execute_result"
    }
   ],
   "source": [
    "accuracy_score(y_val, churn_pred)"
   ]
  },
  {
   "cell_type": "code",
   "execution_count": 24,
   "metadata": {},
   "outputs": [],
   "source": [
    "#The above accuracies would not matter as there is class imbalance"
   ]
  },
  {
   "cell_type": "markdown",
   "metadata": {},
   "source": [
    "#### Question - 2\n",
    "\n",
    "* What's the AUC of this model on the validation dataset? (round to 3 digits)"
   ]
  },
  {
   "cell_type": "code",
   "execution_count": 26,
   "metadata": {},
   "outputs": [
    {
     "data": {
      "text/plain": [
       "0.995"
      ]
     },
     "execution_count": 26,
     "metadata": {},
     "output_type": "execute_result"
    }
   ],
   "source": [
    "#AUC score of the model\n",
    "round(roc_auc_score(y_val, y_val_pred),3)"
   ]
  },
  {
   "cell_type": "markdown",
   "metadata": {},
   "source": [
    "#### Question - 3\n",
    "\n",
    "Now let's compute precision and recall for our model.\n",
    "\n",
    "* Evaluate the model on the validation dataset on all thresholds from 0.0 to 1.0 with step 0.01\n",
    "* For each threshold, compute precision and recall\n",
    "* Plot them\n",
    "\n",
    "At which threshold precision and recall curves intersect?\n"
   ]
  },
  {
   "cell_type": "markdown",
   "metadata": {},
   "source": [
    "#### Precision & Recall\n",
    "\n",
    "* precision - fraction of positive prediction which is correct\n",
    "* precision, $P = TP/(TP + FP)$\n",
    "    * TP - True Positive\n",
    "    * FP - False Positive\n",
    "\n",
    "</br>\n",
    "\n",
    "* recall - fraction of positive outcomes which is predicted correctly\n",
    "* recall - $r = TP/(TP + FN)$\n",
    "    * TP - True Positive\n",
    "    * FN - False Negative"
   ]
  },
  {
   "cell_type": "code",
   "execution_count": 27,
   "metadata": {},
   "outputs": [
    {
     "data": {
      "text/plain": [
       "array([0.  , 0.01, 0.02, 0.03, 0.04, 0.05, 0.06, 0.07, 0.08, 0.09, 0.1 ,\n",
       "       0.11, 0.12, 0.13, 0.14, 0.15, 0.16, 0.17, 0.18, 0.19, 0.2 , 0.21,\n",
       "       0.22, 0.23, 0.24, 0.25, 0.26, 0.27, 0.28, 0.29, 0.3 , 0.31, 0.32,\n",
       "       0.33, 0.34, 0.35, 0.36, 0.37, 0.38, 0.39, 0.4 , 0.41, 0.42, 0.43,\n",
       "       0.44, 0.45, 0.46, 0.47, 0.48, 0.49, 0.5 , 0.51, 0.52, 0.53, 0.54,\n",
       "       0.55, 0.56, 0.57, 0.58, 0.59, 0.6 , 0.61, 0.62, 0.63, 0.64, 0.65,\n",
       "       0.66, 0.67, 0.68, 0.69, 0.7 , 0.71, 0.72, 0.73, 0.74, 0.75, 0.76,\n",
       "       0.77, 0.78, 0.79, 0.8 , 0.81, 0.82, 0.83, 0.84, 0.85, 0.86, 0.87,\n",
       "       0.88, 0.89, 0.9 , 0.91, 0.92, 0.93, 0.94, 0.95, 0.96, 0.97, 0.98,\n",
       "       0.99, 1.  ])"
      ]
     },
     "execution_count": 27,
     "metadata": {},
     "output_type": "execute_result"
    }
   ],
   "source": [
    "thresholds = np.linspace(0,1,101)\n",
    "\n",
    "thresholds"
   ]
  },
  {
   "cell_type": "code",
   "execution_count": 28,
   "metadata": {},
   "outputs": [],
   "source": [
    "precisions = []\n",
    "recalls = []\n",
    "\n",
    "for t in thresholds:\n",
    "    actual_positive = (y_val == 1)\n",
    "    actual_negative = (y_val == 0)\n",
    "\n",
    "    predict_positive = (y_val_pred >= t)\n",
    "    predict_negative = (y_val_pred < t)\n",
    "\n",
    "    tru_pos = (predict_positive & actual_positive).sum()\n",
    "    tru_neg = (predict_negative & actual_negative).sum()\n",
    "\n",
    "    fal_pos = (predict_positive & actual_negative).sum()\n",
    "    fal_neg =  (predict_negative & actual_positive).sum()\n",
    "\n",
    "    precison = tru_pos / (tru_pos + fal_pos)\n",
    "    recall = tru_pos / (tru_pos + fal_neg)\n",
    "\n",
    "    precisions.append(precison)\n",
    "    recalls.append(recall)"
   ]
  },
  {
   "cell_type": "code",
   "execution_count": 29,
   "metadata": {},
   "outputs": [
    {
     "data": {
      "text/plain": [
       "<matplotlib.legend.Legend at 0x141a812d0>"
      ]
     },
     "execution_count": 29,
     "metadata": {},
     "output_type": "execute_result"
    },
    {
     "data": {
      "image/png": "[encoded data removed]",
      "text/plain": [
       "<Figure size 432x288 with 1 Axes>"
      ]
     },
     "metadata": {
      "needs_background": "light"
     },
     "output_type": "display_data"
    }
   ],
   "source": [
    "plt.plot(thresholds, precisions, label='precision')\n",
    "plt.plot(thresholds, recalls, label='recall')\n",
    "plt.legend()"
   ]
  },
  {
   "cell_type": "code",
   "execution_count": 32,
   "metadata": {},
   "outputs": [
    {
     "name": "stdout",
     "output_type": "stream",
     "text": [
      "thresholds where precision matches with recall:  0.24\n",
      "thresholds where precision matches with recall:  0.25\n",
      "thresholds where precision matches with recall:  0.26\n",
      "thresholds where precision matches with recall:  0.27\n",
      "thresholds where precision matches with recall:  0.28\n",
      "thresholds where precision matches with recall:  0.29\n"
     ]
    }
   ],
   "source": [
    "for i in range(len(thresholds)):\n",
    "    if round(precisions[i],4) == round(recalls[i],4):\n",
    "        print('thresholds where precision matches with recall: ',thresholds[i])"
   ]
  },
  {
   "cell_type": "markdown",
   "metadata": {},
   "source": [
    "#### Question 4\n",
    "\n",
    "Precision and recall are conflicting - when one grows, the other goes down. That's why they are often combined into the F1 score - a metrics that takes into account both\n",
    "\n",
    "This is the formula for computing $F_1$: \n",
    "\n",
    "$F_1 = 2*\\frac{P*R}{P+R}$\n",
    "\n",
    "Where $P is precision and $R$ is recall.\n",
    "\n",
    "* Let's compute $F_1$ for all thresholds from 0.0 to 1.0 with increment 0.01 using the validation set\n",
    "\n",
    "At which threshold $F_1$ is maximal?"
   ]
  },
  {
   "cell_type": "code",
   "execution_count": 34,
   "metadata": {},
   "outputs": [
    {
     "data": {
      "text/plain": [
       "array([0.88842105, 0.9254386 , 0.93156733, 0.94618834, 0.95045045,\n",
       "       0.95045045, 0.9569161 , 0.9569161 , 0.95671982, 0.95671982,\n",
       "       0.95890411, 0.95890411, 0.95890411, 0.97222222, 0.97196262,\n",
       "       0.97196262, 0.97652582, 0.97652582, 0.97641509, 0.9787234 ,\n",
       "       0.9787234 , 0.9787234 , 0.9787234 , 0.9787234 , 0.97630332,\n",
       "       0.97630332, 0.97630332, 0.97630332, 0.97630332, 0.97630332,\n",
       "       0.97387173, 0.97619048, 0.97619048, 0.97619048, 0.98086124,\n",
       "       0.98321343, 0.98321343, 0.98321343, 0.98321343, 0.98321343,\n",
       "       0.98321343, 0.98321343, 0.98076923, 0.98076923, 0.98076923,\n",
       "       0.98076923, 0.98076923, 0.98076923, 0.98076923, 0.98076923,\n",
       "       0.98076923, 0.98076923, 0.98076923, 0.98076923, 0.98076923,\n",
       "       0.98076923, 0.98076923, 0.98076923, 0.98076923, 0.98076923,\n",
       "       0.98076923, 0.98076923, 0.98076923, 0.98076923, 0.98076923,\n",
       "       0.98076923, 0.98076923, 0.98076923, 0.98076923, 0.98076923,\n",
       "       0.98076923, 0.98076923, 0.98076923, 0.98076923, 0.98076923,\n",
       "       0.98076923, 0.98076923, 0.98076923, 0.98076923, 0.98076923,\n",
       "       0.98076923, 0.98076923, 0.98076923, 0.98076923, 0.98076923,\n",
       "       0.98313253, 0.98313253, 0.98313253, 0.98313253, 0.98313253,\n",
       "       0.98313253, 0.98313253, 0.98313253, 0.98313253, 0.98313253,\n",
       "       0.98313253, 0.98313253, 0.98067633, 0.98067633, 0.97820823,\n",
       "       0.91794872])"
      ]
     },
     "execution_count": 34,
     "metadata": {},
     "output_type": "execute_result"
    }
   ],
   "source": [
    "F1 = 2 * (np.array(precisions) * np.array(recalls)) / (np.array(precisions) + np.array(recalls))\n",
    "\n",
    "F1\n"
   ]
  },
  {
   "cell_type": "code",
   "execution_count": 35,
   "metadata": {},
   "outputs": [
    {
     "data": {
      "text/plain": [
       "<matplotlib.legend.Legend at 0x1407409d0>"
      ]
     },
     "execution_count": 35,
     "metadata": {},
     "output_type": "execute_result"
    },
    {
     "data": {
      "image/png": "[encoded data removed]",
      "text/plain": [
       "<Figure size 432x288 with 1 Axes>"
      ]
     },
     "metadata": {
      "needs_background": "light"
     },
     "output_type": "display_data"
    }
   ],
   "source": [
    "plt.plot(thresholds, F1, label='F1')\n",
    "plt.legend()"
   ]
  },
  {
   "cell_type": "markdown",
   "metadata": {},
   "source": [
    "#### Question 5\n",
    "\n",
    "Use the `KFold` class from Scikit-Learn to evaluate our model on 5 different folds:\n",
    "\n",
    "`KFold(n_splits=5, shuffle=True, random_state=1)`\n",
    "\n",
    "* Iterate over different folds of df_full_train\n",
    "* Split the data into train and validation\n",
    "* Train the model on train with these parameters: `LogisticRegression(solver='liblinear', C=1.0, max_iter=1000)`\n",
    "* Use AUC to evaluate the model on validation\n",
    "\n",
    "How large is standard devidation of the AUC scores across different folds?"
   ]
  },
  {
   "cell_type": "code",
   "execution_count": 36,
   "metadata": {},
   "outputs": [],
   "source": [
    "def train(df_train, y_train, C=1.0):\n",
    "    dicts = df_train[categorical + numerical].to_dict(orient='records')\n",
    "\n",
    "    dv = DictVectorizer(sparse=False)\n",
    "    X_train = dv.fit_transform(dicts)\n",
    "\n",
    "    model = LogisticRegression(solver='liblinear', C=C, max_iter=1000)\n",
    "    model.fit(X_train, y_train)\n",
    "    \n",
    "    return dv, model\n",
    "\n",
    "\n",
    "def predict(df, dv, model):\n",
    "    dicts = df[categorical + numerical].to_dict(orient='records')\n",
    "\n",
    "    X = dv.transform(dicts)\n",
    "    y_pred = model.predict_proba(X)[:, 1]\n",
    "\n",
    "    return y_pred"
   ]
  },
  {
   "cell_type": "code",
   "execution_count": 39,
   "metadata": {},
   "outputs": [
    {
     "data": {
      "application/vnd.jupyter.widget-view+json": {
       "model_id": "6923f955cb0f4514a47aff092a418451",
       "version_major": 2,
       "version_minor": 0
      },
      "text/plain": [
       "0it [00:00, ?it/s]"
      ]
     },
     "metadata": {},
     "output_type": "display_data"
    }
   ],
   "source": [
    "kfold = KFold(n_splits=5, shuffle=True, random_state=1)\n",
    "\n",
    "\n",
    "scores = []\n",
    "\n",
    "for train_idx, val_idx in tqdm(kfold.split(df_full_train)):\n",
    "    df_train = df_full_train.iloc[train_idx]\n",
    "    df_val = df_full_train.iloc[val_idx]\n",
    "\n",
    "    y_train = df_train.card.values\n",
    "    y_val = df_val.card.values\n",
    "\n",
    "    dv, model = train(df_train, y_train)\n",
    "    y_pred = predict(df_val, dv, model)\n",
    "\n",
    "    auc = roc_auc_score(y_val, y_pred)\n",
    "    scores.append(auc)"
   ]
  },
  {
   "cell_type": "code",
   "execution_count": 40,
   "metadata": {},
   "outputs": [
    {
     "name": "stdout",
     "output_type": "stream",
     "text": [
      "C=1.0 0.996 +- 0.003\n"
     ]
    }
   ],
   "source": [
    "print('C=%s %.3f +- %.3f' % (\"1.0\", np.mean(scores), np.std(scores)))"
   ]
  },
  {
   "cell_type": "markdown",
   "metadata": {},
   "source": [
    "#### Question 6\n",
    "Now let's use 5-Fold cross-validation to find the best parameter C\n",
    "\n",
    "* Iterate over the following C values: `[0.01, 0.1, 1, 10]`\n",
    "* Initialize KFold with the same parameters as previously\n",
    "* Use these parametes for the model: `LogisticRegression(solver='liblinear', C=C, max_iter=1000)`\n",
    "* Compute the mean score as well as the std (round the mean and std to 3 decimal digits)\n",
    "\n",
    "Which C leads to the best mean score?"
   ]
  },
  {
   "cell_type": "code",
   "execution_count": 41,
   "metadata": {},
   "outputs": [
    {
     "data": {
      "application/vnd.jupyter.widget-view+json": {
       "model_id": "b499b98f527648c5a9272a634e49efc6",
       "version_major": 2,
       "version_minor": 0
      },
      "text/plain": [
       "  0%|          | 0/4 [00:00<?, ?it/s]"
      ]
     },
     "metadata": {},
     "output_type": "display_data"
    },
    {
     "name": "stdout",
     "output_type": "stream",
     "text": [
      "C=0.01 0.992 +- 0.006\n",
      "C=0.1 0.995 +- 0.004\n",
      "C=1 0.996 +- 0.003\n",
      "C=10 0.996 +- 0.003\n"
     ]
    }
   ],
   "source": [
    "C_values = [0.01, 0.1, 1, 10]\n",
    "n_splits = 5\n",
    "\n",
    "for C in tqdm(C_values):\n",
    "    kfold = KFold(n_splits=n_splits, shuffle=True, random_state=1)\n",
    "\n",
    "    scores = []\n",
    "\n",
    "    for train_idx, val_idx in kfold.split(df_full_train):\n",
    "        df_train = df_full_train.iloc[train_idx]\n",
    "        df_val = df_full_train.iloc[val_idx]\n",
    "\n",
    "        y_train = df_train.card.values\n",
    "        y_val = df_val.card.values\n",
    "\n",
    "        dv, model = train(df_train, y_train, C=C)\n",
    "        y_pred = predict(df_val, dv, model)\n",
    "\n",
    "        auc = roc_auc_score(y_val, y_pred)\n",
    "        scores.append(auc)\n",
    "\n",
    "    print('C=%s %.3f +- %.3f' % (C, np.mean(scores), np.std(scores)))"
   ]
  },
  {
   "cell_type": "code",
   "execution_count": 42,
   "metadata": {},
   "outputs": [],
   "source": [
    "#for C {1 , 10}, we have the best mean score having same std_dev for the values; hence selcting the minimum C i.e 1"
   ]
  },
  {
   "cell_type": "code",
   "execution_count": null,
   "metadata": {},
   "outputs": [],
   "source": []
  }
 ],
 "metadata": {
  "kernelspec": {
   "display_name": "Python 3.10.2 64-bit",
   "language": "python",
   "name": "python3"
  },
  "language_info": {
   "codemirror_mode": {
    "name": "ipython",
    "version": 3
   },
   "file_extension": ".py",
   "mimetype": "text/x-python",
   "name": "python",
   "nbconvert_exporter": "python",
   "pygments_lexer": "ipython3",
   "version": "3.10.2"
  },
  "orig_nbformat": 4,
  "vscode": {
   "interpreter": {
    "hash": "b460384b52104c1e5b9cf54bee46a255d22b2bef338f75ac4ad5d48196028d3c"
   }
  }
 },
 "nbformat": 4,
 "nbformat_minor": 2
}
