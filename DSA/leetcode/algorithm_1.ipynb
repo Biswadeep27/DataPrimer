{
 "cells": [
  {
   "cell_type": "code",
   "execution_count": 1,
   "metadata": {},
   "outputs": [],
   "source": [
    "from typing import *"
   ]
  },
  {
   "cell_type": "code",
   "execution_count": 2,
   "metadata": {},
   "outputs": [],
   "source": [
    "#704. Binary Search\n",
    "def search(nums: List[int], target: int) -> int:\n",
    "    start = 0\n",
    "    end = len(nums) - 1\n",
    "    \n",
    "    while start <= end:\n",
    "        mid = (start + end)//2\n",
    "        if nums[mid] == target:\n",
    "            return mid\n",
    "        else:\n",
    "            if target < nums[mid]:\n",
    "                end = mid - 1\n",
    "            else:\n",
    "                start = mid + 1\n",
    "\n",
    "\n",
    "    return -1\n",
    "        "
   ]
  },
  {
   "cell_type": "code",
   "execution_count": 3,
   "metadata": {},
   "outputs": [
    {
     "data": {
      "text/plain": [
       "4"
      ]
     },
     "execution_count": 3,
     "metadata": {},
     "output_type": "execute_result"
    }
   ],
   "source": [
    "nums = [-1,0,3,5,9,12]\n",
    "target = 9\n",
    "search(nums,target)"
   ]
  },
  {
   "cell_type": "code",
   "execution_count": 4,
   "metadata": {},
   "outputs": [],
   "source": [
    "#278. First Bad Version\n",
    "# The isBadVersion API is already defined for you.\n",
    "# def isBadVersion(version: int) -> bool:\n",
    "\n",
    "class Solution:\n",
    "    def firstBadVersion(self, n: int) -> int:\n",
    "        start = 1\n",
    "        end = n\n",
    "        while start <= end:\n",
    "            mid = ( start + end ) // 2\n",
    "            if isBadVersion(mid):\n",
    "                end = mid - 1\n",
    "            else:\n",
    "                start = mid + 1\n",
    "                \n",
    "        return start"
   ]
  },
  {
   "cell_type": "code",
   "execution_count": 5,
   "metadata": {},
   "outputs": [],
   "source": [
    "#35. Search Insert Position\n",
    "def searchInsert( nums: List[int], target: int) -> int:\n",
    "    start = 0\n",
    "    end = len(nums) - 1\n",
    "    while start <= end:\n",
    "        mid = (start + end) // 2\n",
    "        if target == nums[mid]:\n",
    "            return mid\n",
    "        else:\n",
    "            if target > nums[mid]:\n",
    "                start = mid + 1\n",
    "            else:\n",
    "                end = mid - 1\n",
    "\n",
    "    return start\n",
    "\n"
   ]
  },
  {
   "cell_type": "code",
   "execution_count": 6,
   "metadata": {},
   "outputs": [],
   "source": [
    "# 977. Squares of a Sorted Array\n",
    "def sortedSquares(nums: List[int]) -> List[int]:\n",
    "    l, r, res = 0, len(nums) - 1, [0] * len(nums)\n",
    "    while l <= r:\n",
    "        left, right = abs(nums[l]), abs(nums[r])\n",
    "        res[r-l] = max(left,right) ** 2\n",
    "        l, r = l + (left > right), r - (left <= right)\n",
    "\n",
    "    return res\n"
   ]
  },
  {
   "cell_type": "code",
   "execution_count": null,
   "metadata": {},
   "outputs": [],
   "source": []
  }
 ],
 "metadata": {
  "kernelspec": {
   "display_name": "Python 3.10.2 ('vs_lowes_310')",
   "language": "python",
   "name": "python3"
  },
  "language_info": {
   "codemirror_mode": {
    "name": "ipython",
    "version": 3
   },
   "file_extension": ".py",
   "mimetype": "text/x-python",
   "name": "python",
   "nbconvert_exporter": "python",
   "pygments_lexer": "ipython3",
   "version": "3.10.2"
  },
  "orig_nbformat": 4,
  "vscode": {
   "interpreter": {
    "hash": "e619a740aa0144de023e6e7077865760ef0e4e3378d2de02556735643e43b023"
   }
  }
 },
 "nbformat": 4,
 "nbformat_minor": 2
}
