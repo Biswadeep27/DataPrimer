{
 "cells": [
  {
   "cell_type": "code",
   "execution_count": 22,
   "metadata": {},
   "outputs": [],
   "source": [
    "# Definition for a binary tree node. for implementation\n",
    "from binarytree import Node\n",
    "binary1 = Node(3)\n",
    "binary1.left = Node(2)\n",
    "binary1.right = Node(4)\n",
    "binary1.left.right = Node(1)\n",
    "binary1.left.right.left = Node(6)\n",
    "binary1.left.right.right = Node(7)\n",
    "binary1.left.right.right.left = Node(8)\n",
    "binary1.right.left = Node(3)\n",
    "binary1.right.left.left = Node(4)\n",
    "binary1.right.left.right = Node(5)"
   ]
  },
  {
   "cell_type": "code",
   "execution_count": 24,
   "metadata": {},
   "outputs": [
    {
     "name": "stdout",
     "output_type": "stream",
     "text": [
      "The Bindary Tree:  \n",
      "  ________3______\n",
      " /               \\\n",
      "2__             __4\n",
      "   \\           /\n",
      "    1__       3\n",
      "   /   \\     / \\\n",
      "  6     7   4   5\n",
      "       /\n",
      "      8\n",
      "\n"
     ]
    }
   ],
   "source": [
    "# for visualization\n",
    "print('The Bindary Tree: ', binary1)"
   ]
  },
  {
   "cell_type": "code",
   "execution_count": 25,
   "metadata": {},
   "outputs": [
    {
     "name": "stdout",
     "output_type": "stream",
     "text": [
      "properties of the binary tree:  {'height': 4, 'size': 10, 'is_max_heap': False, 'is_min_heap': False, 'is_perfect': False, 'is_strict': False, 'is_complete': False, 'leaf_count': 4, 'min_node_value': 1, 'max_node_value': 8, 'min_leaf_depth': 3, 'max_leaf_depth': 4, 'is_balanced': False, 'is_bst': False, 'is_symmetric': False}\n"
     ]
    }
   ],
   "source": [
    "# for visualization\n",
    "print('properties of the binary tree: ',binary1.properties)"
   ]
  },
  {
   "cell_type": "code",
   "execution_count": 26,
   "metadata": {},
   "outputs": [],
   "source": [
    "# Definition for a binary tree node. for implementation\n",
    "from typing import Any, Dict, List, Optional, Tuple, Union\n",
    "class TreeNode:\n",
    "    def __init__(self, val=0, left=None, right=None):\n",
    "        self.val = val\n",
    "        self.left = left\n",
    "        self.right = right\n",
    "        \n"
   ]
  },
  {
   "cell_type": "code",
   "execution_count": 27,
   "metadata": {},
   "outputs": [],
   "source": [
    "binary1 = TreeNode(3)\n",
    "binary1.left = TreeNode(2)\n",
    "binary1.right = TreeNode(4)\n",
    "binary1.left.right = TreeNode(1)\n",
    "binary1.left.right.left = TreeNode(6)\n",
    "binary1.left.right.right = TreeNode(7)\n",
    "binary1.left.right.right.left = TreeNode(8)\n",
    "binary1.right.left = TreeNode(3)\n",
    "binary1.right.left.left = TreeNode(4)\n",
    "binary1.right.left.right = TreeNode(5)"
   ]
  },
  {
   "cell_type": "code",
   "execution_count": 6,
   "metadata": {},
   "outputs": [],
   "source": [
    "#tree traversal : iterative & recursioin\n",
    "class TreeTraversal:\n",
    "    def preorder_iteration(self, root: Optional[TreeNode]) -> List[int]:\n",
    "        stack, output = [root,], []\n",
    "        \n",
    "        while stack:\n",
    "            node = stack.pop()\n",
    "            if node is not None:\n",
    "                output.append(node.val)\n",
    "                if node.right is not None:\n",
    "                    stack.append(node.right)\n",
    "                if node.left is not None:\n",
    "                    stack.append(node.left)\n",
    "\n",
    "        return output\n",
    "\n",
    "    def preorder_recursion(self, root: Optional[TreeNode]) -> List[int]:\n",
    "        return [] if root is None else [root.val] + self.preorder_iteration(root.left) + self.preorder_iteration(root.right)\n",
    "\n",
    "    def inorder_iteration(self, root: Optional[TreeNode]) -> List[int]:\n",
    "        stack, current, output = [], root, []\n",
    "\n",
    "        while stack or current:\n",
    "            while current is not None:\n",
    "                stack.append(current)\n",
    "                current = current.left\n",
    "\n",
    "            current = stack.pop()\n",
    "            output.append(current.val)\n",
    "            current = current.right\n",
    "\n",
    "        return output\n",
    "\n",
    "    def inorder_recursion(self, root: Optional[TreeNode]) -> List[int]:\n",
    "        return [] if root is None else self.inorder_iteration(root.left) + [root.val] + self.inorder_recursion(root.right)\n",
    "\n",
    "    def postorder_iteration(self, root: Optional[TreeNode]) -> List[int]:\n",
    "        stack, output = [root,] , []\n",
    "\n",
    "        while stack:\n",
    "            node = stack.pop()\n",
    "            if node is not None:\n",
    "                output.append(node.val)\n",
    "                if node.left is not None:\n",
    "                    stack.append(node.left)\n",
    "                if node.right is not None:\n",
    "                    stack.append(node.right)\n",
    "\n",
    "        return output[::-1]\n",
    "\n",
    "    def postorder_recursion(self, root: Optional[TreeNode]) -> List[int]:\n",
    "        return [] if root is None else self.postorder_recursion(root.left) + self.postorder_recursion(root.right) + [root.val]"
   ]
  },
  {
   "cell_type": "code",
   "execution_count": 7,
   "metadata": {},
   "outputs": [
    {
     "name": "stdout",
     "output_type": "stream",
     "text": [
      "preorder iteration: [3, 2, 1, 6, 7, 8, 4, 3, 4, 5]\n",
      "preorder recursion: [3, 2, 1, 6, 7, 8, 4, 3, 4, 5]\n",
      "inorder iteration: [2, 6, 1, 8, 7, 3, 4, 3, 5, 4]\n",
      "inorder recursion: [2, 6, 1, 8, 7, 3, 4, 3, 5, 4]\n",
      "postorder iteration: [6, 8, 7, 1, 2, 4, 5, 3, 4, 3]\n",
      "postorder recursion: [6, 8, 7, 1, 2, 4, 5, 3, 4, 3]\n"
     ]
    }
   ],
   "source": [
    "traversal = TreeTraversal()\n",
    "print('preorder iteration:', traversal.preorder_iteration(binary1))\n",
    "print('preorder recursion:', traversal.preorder_recursion(binary1))\n",
    "print('inorder iteration:', traversal.inorder_iteration(binary1))\n",
    "print('inorder recursion:', traversal.inorder_recursion(binary1))\n",
    "print('postorder iteration:', traversal.postorder_iteration(binary1))\n",
    "print('postorder recursion:', traversal.postorder_recursion(binary1))"
   ]
  },
  {
   "cell_type": "code",
   "execution_count": 20,
   "metadata": {},
   "outputs": [],
   "source": [
    "#DFS rvs: \n",
    "def traversal(root: Optional[TreeNode]) -> List[int]:\n",
    "    current, stack, output = root, [], []\n",
    "    while current or stack:\n",
    "        while current:\n",
    "            stack.append(current)\n",
    "            current = current.left\n",
    "\n",
    "        current = stack.pop()\n",
    "        output.append(current.val)\n",
    "        current = current.right\n",
    "\n",
    "    \n",
    "\n",
    "    return output\n"
   ]
  },
  {
   "cell_type": "code",
   "execution_count": 21,
   "metadata": {},
   "outputs": [
    {
     "data": {
      "text/plain": [
       "[2, 6, 1, 8, 7, 3, 4, 3, 5, 4]"
      ]
     },
     "execution_count": 21,
     "metadata": {},
     "output_type": "execute_result"
    }
   ],
   "source": [
    "traversal(binary1)"
   ]
  },
  {
   "cell_type": "code",
   "execution_count": 33,
   "metadata": {},
   "outputs": [],
   "source": [
    "#breath-first-search\n",
    "def level_order( root: Optional[TreeNode]) -> List[List[int]]:\n",
    "\n",
    "    queue, res = [root],[]\n",
    "    \n",
    "    if not root:\n",
    "        return []\n",
    "\n",
    "    while queue:\n",
    "        sub_res = []\n",
    "        for i in range(len(queue)):\n",
    "            curr = queue.pop(0)\n",
    "            if curr:\n",
    "                sub_res.append(curr.val)\n",
    "                if curr.left:\n",
    "                    queue.append(curr.left)\n",
    "                if curr.right:\n",
    "                    queue.append(curr.right)\n",
    "\n",
    "        res.append(sub_res)\n",
    "\n",
    "    return res\n",
    "\n"
   ]
  },
  {
   "cell_type": "code",
   "execution_count": 34,
   "metadata": {},
   "outputs": [
    {
     "data": {
      "text/plain": [
       "[[3], [2, 4], [1, 3], [6, 7, 4, 5], [8]]"
      ]
     },
     "execution_count": 34,
     "metadata": {},
     "output_type": "execute_result"
    }
   ],
   "source": [
    "level_order(binary1)"
   ]
  },
  {
   "cell_type": "code",
   "execution_count": 35,
   "metadata": {},
   "outputs": [],
   "source": [
    "def maxDepth( root: Optional[TreeNode]) -> int:\n",
    "    if not root:\n",
    "        return 0\n",
    "\n",
    "    left_depth = maxDepth(root.left)\n",
    "    right_depth = maxDepth(root.right)\n",
    "\n",
    "    return max(left_depth,right_depth) + 1"
   ]
  },
  {
   "cell_type": "code",
   "execution_count": 36,
   "metadata": {},
   "outputs": [
    {
     "data": {
      "text/plain": [
       "5"
      ]
     },
     "execution_count": 36,
     "metadata": {},
     "output_type": "execute_result"
    }
   ],
   "source": [
    "maxDepth(binary1)"
   ]
  },
  {
   "cell_type": "code",
   "execution_count": 37,
   "metadata": {},
   "outputs": [],
   "source": [
    "#to check of a binary tree is symmetric : recursion\n",
    "def is_mirror(node1,node2):\n",
    "    if not node1 and not node2:\n",
    "        return True\n",
    "    if not node1 or not node2:\n",
    "        return False\n",
    "    return (node1.val == node2.val) and is_mirror(node1.left,node2.right) and is_mirror(node1.right,node2.left)\n",
    "\n",
    "\n",
    "def is_symmetric_rec( root: Optional[TreeNode]) -> bool:\n",
    "    return is_mirror(root,root)\n",
    "\n",
    "\n"
   ]
  },
  {
   "cell_type": "code",
   "execution_count": 38,
   "metadata": {},
   "outputs": [],
   "source": [
    "#to check of a binary tree is symmetric : iterative\n",
    "def is_symmetric_ite(root: Optional[TreeNode]) -> bool:\n",
    "    queue = []\n",
    "    queue.append(root)\n",
    "    queue.append(root)\n",
    "\n",
    "    while queue:\n",
    "        node1 = queue.pop(0)\n",
    "        node2 = queue.pop(0)\n",
    "        if not node1 and not node2:\n",
    "            continue\n",
    "        if not node1 or not node2:\n",
    "            return False\n",
    "        if node1.val != node2.val:\n",
    "            return False\n",
    "\n",
    "        queue.append(node1.left)\n",
    "        queue.append(node2.right)\n",
    "        queue.append(node1.right)\n",
    "        queue.append(node2.left)\n",
    "\n",
    "    return True"
   ]
  },
  {
   "cell_type": "code",
   "execution_count": null,
   "metadata": {},
   "outputs": [],
   "source": [
    "#path sum : recursive\n",
    "def hasPathSum(root: Optional[TreeNode], targetSum: int) -> bool:"
   ]
  }
 ],
 "metadata": {
  "interpreter": {
   "hash": "4c1a85674b7b9c706837e67e471571332ebf1f79fce68aebc7a712558674e3b4"
  },
  "kernelspec": {
   "display_name": "Python 3.10.2 64-bit",
   "language": "python",
   "name": "python3"
  },
  "language_info": {
   "codemirror_mode": {
    "name": "ipython",
    "version": 3
   },
   "file_extension": ".py",
   "mimetype": "text/x-python",
   "name": "python",
   "nbconvert_exporter": "python",
   "pygments_lexer": "ipython3",
   "version": "3.10.2"
  },
  "orig_nbformat": 4
 },
 "nbformat": 4,
 "nbformat_minor": 2
}
