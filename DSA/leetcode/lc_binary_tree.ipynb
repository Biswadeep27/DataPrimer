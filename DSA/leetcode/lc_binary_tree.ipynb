{
 "cells": [
  {
   "cell_type": "code",
   "execution_count": 2,
   "metadata": {},
   "outputs": [],
   "source": [
    "# Definition for a binary tree node. for implementation\n",
    "from binarytree import Node\n",
    "binary1 = Node(3)\n",
    "binary1.left = Node(2)\n",
    "binary1.right = Node(4)\n",
    "binary1.left.right = Node(1)\n",
    "binary1.left.right.left = Node(6)\n",
    "binary1.left.right.right = Node(7)\n",
    "binary1.left.right.right.left = Node(8)\n",
    "binary1.right.left = Node(3)\n",
    "binary1.right.left.left = Node(4)\n",
    "binary1.right.left.right = Node(5)"
   ]
  },
  {
   "cell_type": "code",
   "execution_count": 3,
   "metadata": {},
   "outputs": [
    {
     "name": "stdout",
     "output_type": "stream",
     "text": [
      "The Bindary Tree:  \n",
      "  ________3______\n",
      " /               \\\n",
      "2__             __4\n",
      "   \\           /\n",
      "    1__       3\n",
      "   /   \\     / \\\n",
      "  6     7   4   5\n",
      "       /\n",
      "      8\n",
      "\n"
     ]
    }
   ],
   "source": [
    "# for visualization\n",
    "print('The Bindary Tree: ', binary1)"
   ]
  },
  {
   "cell_type": "code",
   "execution_count": 4,
   "metadata": {},
   "outputs": [
    {
     "name": "stdout",
     "output_type": "stream",
     "text": [
      "properties of the binary tree:  {'height': 4, 'size': 10, 'is_max_heap': False, 'is_min_heap': False, 'is_perfect': False, 'is_strict': False, 'is_complete': False, 'leaf_count': 4, 'min_node_value': 1, 'max_node_value': 8, 'min_leaf_depth': 3, 'max_leaf_depth': 4, 'is_balanced': False, 'is_bst': False, 'is_symmetric': False}\n"
     ]
    }
   ],
   "source": [
    "# for visualization\n",
    "print('properties of the binary tree: ',binary1.properties)"
   ]
  },
  {
   "cell_type": "code",
   "execution_count": 5,
   "metadata": {},
   "outputs": [],
   "source": [
    "# Definition for a binary tree node. for implementation\n",
    "from typing import Any, Dict, List, Optional, Tuple, Union\n",
    "class TreeNode:\n",
    "    def __init__(self, val=0, left=None, right=None):\n",
    "        self.val = val\n",
    "        self.left = left\n",
    "        self.right = right\n",
    "        \n"
   ]
  },
  {
   "cell_type": "code",
   "execution_count": 6,
   "metadata": {},
   "outputs": [],
   "source": [
    "binary1 = TreeNode(3)\n",
    "binary1.left = TreeNode(2)\n",
    "binary1.right = TreeNode(4)\n",
    "binary1.left.right = TreeNode(1)\n",
    "binary1.left.right.left = TreeNode(6)\n",
    "binary1.left.right.right = TreeNode(7)\n",
    "binary1.left.right.right.left = TreeNode(8)\n",
    "binary1.right.left = TreeNode(3)\n",
    "binary1.right.left.left = TreeNode(4)\n",
    "binary1.right.left.right = TreeNode(5)"
   ]
  },
  {
   "cell_type": "code",
   "execution_count": 7,
   "metadata": {},
   "outputs": [],
   "source": [
    "#tree traversal : iterative & recursioin\n",
    "class TreeTraversal:\n",
    "    def preorder_iteration(self, root: Optional[TreeNode]) -> List[int]:\n",
    "        stack, output = [root,], []\n",
    "        \n",
    "        while stack:\n",
    "            node = stack.pop()\n",
    "            if node is not None:\n",
    "                output.append(node.val)\n",
    "                if node.right is not None:\n",
    "                    stack.append(node.right)\n",
    "                if node.left is not None:\n",
    "                    stack.append(node.left)\n",
    "\n",
    "        return output\n",
    "\n",
    "    def preorder_recursion(self, root: Optional[TreeNode]) -> List[int]:\n",
    "        return [] if root is None else [root.val] + self.preorder_recursion(root.left) + self.preorder_recursion(root.right)\n",
    "\n",
    "    def inorder_iteration(self, root: Optional[TreeNode]) -> List[int]:\n",
    "        stack, current, output = [], root, []\n",
    "\n",
    "        while stack or current:\n",
    "            while current is not None:\n",
    "                stack.append(current)\n",
    "                current = current.left\n",
    "\n",
    "            current = stack.pop()\n",
    "            output.append(current.val)\n",
    "            current = current.right\n",
    "\n",
    "        return output\n",
    "\n",
    "    def inorder_recursion(self, root: Optional[TreeNode]) -> List[int]:\n",
    "        return [] if root is None else self.inorder_recursion(root.left) + [root.val] + self.inorder_recursion(root.right)\n",
    "\n",
    "    def postorder_iteration(self, root: Optional[TreeNode]) -> List[int]:\n",
    "        stack, output = [root,] , []\n",
    "\n",
    "        while stack:\n",
    "            node = stack.pop()\n",
    "            if node is not None:\n",
    "                output.append(node.val)\n",
    "                if node.left is not None:\n",
    "                    stack.append(node.left)\n",
    "                if node.right is not None:\n",
    "                    stack.append(node.right)\n",
    "\n",
    "        return output[::-1]\n",
    "\n",
    "    def postorder_recursion(self, root: Optional[TreeNode]) -> List[int]:\n",
    "        return [] if root is None else self.postorder_recursion(root.left) + self.postorder_recursion(root.right) + [root.val]"
   ]
  },
  {
   "cell_type": "code",
   "execution_count": 8,
   "metadata": {},
   "outputs": [
    {
     "name": "stdout",
     "output_type": "stream",
     "text": [
      "preorder iteration: [3, 2, 1, 6, 7, 8, 4, 3, 4, 5]\n",
      "preorder recursion: [3, 2, 1, 6, 7, 8, 4, 3, 4, 5]\n",
      "inorder iteration: [2, 6, 1, 8, 7, 3, 4, 3, 5, 4]\n",
      "inorder recursion: [2, 6, 1, 8, 7, 3, 4, 3, 5, 4]\n",
      "postorder iteration: [6, 8, 7, 1, 2, 4, 5, 3, 4, 3]\n",
      "postorder recursion: [6, 8, 7, 1, 2, 4, 5, 3, 4, 3]\n"
     ]
    }
   ],
   "source": [
    "traversal = TreeTraversal()\n",
    "print('preorder iteration:', traversal.preorder_iteration(binary1))\n",
    "print('preorder recursion:', traversal.preorder_recursion(binary1))\n",
    "print('inorder iteration:', traversal.inorder_iteration(binary1))\n",
    "print('inorder recursion:', traversal.inorder_recursion(binary1))\n",
    "print('postorder iteration:', traversal.postorder_iteration(binary1))\n",
    "print('postorder recursion:', traversal.postorder_recursion(binary1))"
   ]
  },
  {
   "cell_type": "code",
   "execution_count": 9,
   "metadata": {},
   "outputs": [],
   "source": [
    "#DFS rvs: \n",
    "def traversal(root: Optional[TreeNode]) -> List[int]:\n",
    "    current, stack, output = root, [], []\n",
    "    while current or stack:\n",
    "        while current:\n",
    "            stack.append(current)\n",
    "            current = current.left\n",
    "\n",
    "        current = stack.pop()\n",
    "        output.append(current.val)\n",
    "        current = current.right\n",
    "\n",
    "    \n",
    "\n",
    "    return output\n"
   ]
  },
  {
   "cell_type": "code",
   "execution_count": 10,
   "metadata": {},
   "outputs": [
    {
     "data": {
      "text/plain": [
       "[2, 6, 1, 8, 7, 3, 4, 3, 5, 4]"
      ]
     },
     "execution_count": 10,
     "metadata": {},
     "output_type": "execute_result"
    }
   ],
   "source": [
    "traversal(binary1)"
   ]
  },
  {
   "cell_type": "code",
   "execution_count": 11,
   "metadata": {},
   "outputs": [],
   "source": [
    "#breath-first-search\n",
    "def level_order( root: Optional[TreeNode]) -> List[List[int]]:\n",
    "\n",
    "    queue, res = [root],[]\n",
    "    \n",
    "    if not root:\n",
    "        return []\n",
    "\n",
    "    while queue:\n",
    "        sub_res = []\n",
    "        for i in range(len(queue)):\n",
    "            curr = queue.pop(0)\n",
    "            if curr:\n",
    "                sub_res.append(curr.val)\n",
    "                if curr.left:\n",
    "                    queue.append(curr.left)\n",
    "                if curr.right:\n",
    "                    queue.append(curr.right)\n",
    "\n",
    "        res.append(sub_res)\n",
    "\n",
    "    return res\n",
    "\n"
   ]
  },
  {
   "cell_type": "code",
   "execution_count": 12,
   "metadata": {},
   "outputs": [
    {
     "data": {
      "text/plain": [
       "[[3], [2, 4], [1, 3], [6, 7, 4, 5], [8]]"
      ]
     },
     "execution_count": 12,
     "metadata": {},
     "output_type": "execute_result"
    }
   ],
   "source": [
    "level_order(binary1)"
   ]
  },
  {
   "cell_type": "code",
   "execution_count": 13,
   "metadata": {},
   "outputs": [],
   "source": [
    "def maxDepth( root: Optional[TreeNode]) -> int:\n",
    "    if not root:\n",
    "        return 0\n",
    "\n",
    "    left_depth = maxDepth(root.left)\n",
    "    right_depth = maxDepth(root.right)\n",
    "\n",
    "    return max(left_depth,right_depth) + 1"
   ]
  },
  {
   "cell_type": "code",
   "execution_count": 14,
   "metadata": {},
   "outputs": [
    {
     "data": {
      "text/plain": [
       "5"
      ]
     },
     "execution_count": 14,
     "metadata": {},
     "output_type": "execute_result"
    }
   ],
   "source": [
    "maxDepth(binary1)"
   ]
  },
  {
   "cell_type": "code",
   "execution_count": 15,
   "metadata": {},
   "outputs": [],
   "source": [
    "#to check of a binary tree is symmetric : recursion\n",
    "def is_mirror(node1,node2):\n",
    "    if not node1 and not node2:\n",
    "        return True\n",
    "    if not node1 or not node2:\n",
    "        return False\n",
    "    return (node1.val == node2.val) and is_mirror(node1.left,node2.right) and is_mirror(node1.right,node2.left)\n",
    "\n",
    "\n",
    "def is_symmetric_rec( root: Optional[TreeNode]) -> bool:\n",
    "    return is_mirror(root,root)\n",
    "\n",
    "\n"
   ]
  },
  {
   "cell_type": "code",
   "execution_count": 16,
   "metadata": {},
   "outputs": [],
   "source": [
    "#to check of a binary tree is symmetric : iterative\n",
    "def is_symmetric_ite(root: Optional[TreeNode]) -> bool:\n",
    "    queue = []\n",
    "    queue.append(root)\n",
    "    queue.append(root)\n",
    "\n",
    "    while queue:\n",
    "        node1 = queue.pop(0)\n",
    "        node2 = queue.pop(0)\n",
    "        if not node1 and not node2:\n",
    "            continue\n",
    "        if not node1 or not node2:\n",
    "            return False\n",
    "        if node1.val != node2.val:\n",
    "            return False\n",
    "\n",
    "        queue.append(node1.left)\n",
    "        queue.append(node2.right)\n",
    "        queue.append(node1.right)\n",
    "        queue.append(node2.left)\n",
    "\n",
    "    return True"
   ]
  },
  {
   "cell_type": "code",
   "execution_count": 17,
   "metadata": {},
   "outputs": [],
   "source": [
    "#path sum : recursive\n",
    "def hasPathSum(root: Optional[TreeNode], targetSum: int) -> bool:\n",
    "    if not root:\n",
    "        return False\n",
    "\n",
    "    targetSum -= root.val\n",
    "\n",
    "    if not root.left and not root.right:\n",
    "        return targetSum == 0\n",
    "\n",
    "    return hasPathSum(root.left,targetSum) or hasPathSum(root.right,targetSum)"
   ]
  },
  {
   "cell_type": "code",
   "execution_count": 20,
   "metadata": {},
   "outputs": [
    {
     "data": {
      "text/plain": [
       "True"
      ]
     },
     "execution_count": 20,
     "metadata": {},
     "output_type": "execute_result"
    }
   ],
   "source": [
    "hasPathSum(binary1,14)"
   ]
  },
  {
   "cell_type": "code",
   "execution_count": 27,
   "metadata": {},
   "outputs": [],
   "source": [
    "#path sum : iterative\n",
    "def hasPathSum(root: Optional[TreeNode], targetSum: int) -> bool:\n",
    "    if not root:\n",
    "        return False\n",
    "\n",
    "    stack = [(root,targetSum - root.val)]\n",
    "    while stack:\n",
    "        node, curr_sum = stack.pop()\n",
    "        if not node.left and not node.right and curr_sum == 0:\n",
    "            return True\n",
    "\n",
    "        if node.right:\n",
    "            stack.append((node.right,curr_sum - node.right.val))\n",
    "\n",
    "        if node.left:\n",
    "            stack.append((node.left,curr_sum - node.left.val))\n",
    "\n",
    "    return False\n",
    "        "
   ]
  },
  {
   "cell_type": "code",
   "execution_count": 28,
   "metadata": {},
   "outputs": [
    {
     "data": {
      "text/plain": [
       "True"
      ]
     },
     "execution_count": 28,
     "metadata": {},
     "output_type": "execute_result"
    }
   ],
   "source": [
    "hasPathSum(binary1,14)"
   ]
  },
  {
   "cell_type": "code",
   "execution_count": 42,
   "metadata": {},
   "outputs": [],
   "source": [
    "\n",
    "\n",
    "#Count Univalue Subtrees\n",
    "def countUnivalSubtrees(root: Optional[TreeNode]) -> int:\n",
    "    if root is None:\n",
    "        return 0\n",
    "    \n",
    "    count = 0\n",
    "\n",
    "    def is_uni(node):\n",
    "        # base case - if the node has no children this is a univalue subtree\n",
    "        if not node.left and not node.right:\n",
    "            # found a univalue subtree - increment\n",
    "            nonlocal count\n",
    "            count += 1\n",
    "            return True\n",
    "\n",
    "\n",
    "        is_uni_var = True\n",
    "\n",
    "        # check if all of the node's children are univalue subtrees and if they have the same value\n",
    "        # also recursively call is_uni for children\n",
    "        if node.left:\n",
    "            is_uni_var = is_uni(node.left) and is_uni_var and node.val == node.left.val\n",
    "\n",
    "        if node.right:\n",
    "            is_uni_var = is_uni(node.right) and is_uni_var and node.val == node.right.val\n",
    "\n",
    "        count += is_uni_var\n",
    "        return is_uni_var\n",
    "\n",
    "    is_uni(root)\n",
    "    return count\n",
    "\n",
    "\n",
    "\n",
    "\n",
    "\n"
   ]
  },
  {
   "cell_type": "code",
   "execution_count": 43,
   "metadata": {},
   "outputs": [
    {
     "data": {
      "text/plain": [
       "4"
      ]
     },
     "execution_count": 43,
     "metadata": {},
     "output_type": "execute_result"
    }
   ],
   "source": [
    "countUnivalSubtrees(binary1)"
   ]
  },
  {
   "cell_type": "code",
   "execution_count": null,
   "metadata": {},
   "outputs": [],
   "source": [
    "#Construct Binary Tree from Inorder and Postorder Traversal\n",
    "def buildTree( inorder: List[int], postorder: List[int]) -> Optional[TreeNode]:\n",
    "        def build(bound = None):\n",
    "            if not inorder or inorder[-1] == bound: \n",
    "                return None\n",
    "            root = TreeNode(postorder.pop())\n",
    "            root.right = build(root.val)\n",
    "            inorder.pop()\n",
    "            root.left = build(bound)\n",
    "            return root\n",
    "\n",
    "        return build()\n",
    "        '''\n",
    "        if not inorder:\n",
    "            return None\n",
    "        \n",
    "        root_val = postorder.pop()\n",
    "        root = TreeNode(root_val)\n",
    "        \n",
    "        mid = inorder.index(root_val)\n",
    "        \n",
    "        root.right = buildTree(inorder[(mid + 1):],postorder)\n",
    "        root.left = buildTree(inorder[:mid],postorder)\n",
    "        \n",
    "        return root\n",
    "        '''"
   ]
  },
  {
   "cell_type": "code",
   "execution_count": null,
   "metadata": {},
   "outputs": [],
   "source": [
    "#Construct Binary Tree from Preorder and Inorder Traversal\n",
    "#preorder and inorder consist of unique values.\n",
    "def buildTree( preorder: List[int], inorder: List[int]) -> Optional[TreeNode]:\n",
    "    if not inorder:\n",
    "        return None\n",
    "\n",
    "    root_val = preorder.pop(0)\n",
    "    mid = inorder.index(root_val)\n",
    "\n",
    "    root = TreeNode(root_val)\n",
    "\n",
    "    root.left = buildTree(preorder,inorder[:mid])\n",
    "    root.right = buildTree(preorder,inorder[(mid +1):])"
   ]
  },
  {
   "cell_type": "code",
   "execution_count": 44,
   "metadata": {},
   "outputs": [],
   "source": [
    "#Populating Next Right Pointers in Each Node\n",
    "#input : perfect binary tree\n",
    "def connect( root: 'Optional[Node]') -> 'Optional[Node]':\n",
    "    if not root:\n",
    "        return None\n",
    "        \n",
    "    queue = [root,]\n",
    "    \n",
    "    while queue:\n",
    "        size = len(queue)\n",
    "        for i in range(size):\n",
    "            curr = queue.pop(0)\n",
    "            \n",
    "            if i < size - 1 :\n",
    "                curr.next = queue[0]\n",
    "                \n",
    "            if curr.left:\n",
    "                queue.append(curr.left)\n",
    "                \n",
    "            if curr.right:\n",
    "                queue.append(curr.right)\n",
    "                \n",
    "        return root"
   ]
  },
  {
   "cell_type": "code",
   "execution_count": null,
   "metadata": {},
   "outputs": [],
   "source": [
    "#Populating Next Right Pointers in Each Node\n",
    "#input : when binary tree is not perfect\n",
    "def connect( root: Optional['Node']) -> Optional['Node']:\n",
    "        \n",
    "        if not root:\n",
    "            return root\n",
    "        \n",
    "        # Initialize a queue data structure which contains\n",
    "        # just the root of the tree\n",
    "        queue = [root,]\n",
    "        \n",
    "        # Outer while loop which iterates over \n",
    "        # each level\n",
    "        while queue:\n",
    "            \n",
    "            # Note the size of the queue\n",
    "            size = len(queue)\n",
    "            \n",
    "            # Iterate over all the nodes on the current level\n",
    "            for i in range(size):\n",
    "                \n",
    "                # Pop a node from the front of the queue\n",
    "                node = queue.pop(0)\n",
    "                \n",
    "                # This check is important. We don't want to\n",
    "                # establish any wrong connections. The queue will\n",
    "                # contain nodes from 2 levels at most at any\n",
    "                # point in time. This check ensures we only \n",
    "                # don't establish next pointers beyond the end\n",
    "                # of a level\n",
    "                if i < size - 1:\n",
    "                    node.next = queue[0]\n",
    "                \n",
    "                # Add the children, if any, to the back of\n",
    "                # the queue\n",
    "                if node.left:\n",
    "                    queue.append(node.left)\n",
    "                if node.right:\n",
    "                    queue.append(node.right)\n",
    "        \n",
    "        # Since the tree has now been modified, return the root node\n",
    "        return root"
   ]
  },
  {
   "cell_type": "code",
   "execution_count": 45,
   "metadata": {},
   "outputs": [],
   "source": [
    "#Lowest Common Ancestor of a Binary Tree\n",
    "'''According to the definition of LCA on Wikipedia: “The lowest common ancestor is defined between two nodes p and q as the \n",
    "lowest node in T that has both p and q as descendants (where we allow a node to be a descendant of itself).”'''\n",
    "def lowestCommonAncestor( root: 'TreeNode', p: 'TreeNode', q: 'TreeNode') -> 'TreeNode':\n",
    "    '''\n",
    "    A. If one of p or q equal(s) root, then this function returns root.\n",
    "    B. If neither p nor q exist(s) in the tree represented by root, then this function returns None.\n",
    "    C. If only one of p or q exist(s) in the tree represented by root, then this function returns p or q, whichever of the two exists in the tree.\n",
    "    D. If both p and q exist(s) in the tree represented by root, but neither equal(s) root, then this function returns their ((p and q)'s) lowest common ancestor.\n",
    "    '''\n",
    "    \n",
    "    if not root:\n",
    "        #B. If neither p nor q exist(s) in the tree represented by root, then this function returns None.\n",
    "        return None\n",
    "    \n",
    "    if root.val == p.val or root.val == q.val:\n",
    "        #A. If one of p or q equal(s) root, then this function returns root.\n",
    "        return root\n",
    "    \n",
    "    left = lowestCommonAncestor(root.left, p, q)\n",
    "    right = lowestCommonAncestor(root.right, p, q)\n",
    "\n",
    "    if left and right:\n",
    "        #both p and q exist represented by root\n",
    "        return root\n",
    "    else:\n",
    "        # one of them exixts represented by root\n",
    "        return left or right\n",
    "\n"
   ]
  },
  {
   "cell_type": "code",
   "execution_count": 46,
   "metadata": {},
   "outputs": [],
   "source": [
    "#Serialize and Deserialize Binary Tree\n",
    "# Definition for a binary tree node.\n",
    "# class TreeNode(object):\n",
    "#     def __init__(self, x):\n",
    "#         self.val = x\n",
    "#         self.left = None\n",
    "#         self.right = None\n",
    "\n",
    "#preorder technique is used to serialize the tree\n",
    "class Codec:\n",
    "\n",
    "    def serialize(self, root):\n",
    "        \"\"\"Encodes a tree to a single string.\n",
    "        \n",
    "        :type root: TreeNode\n",
    "        :rtype: str\n",
    "        \"\"\"\n",
    "        def rserialize(root,string):\n",
    "            \"\"\" a recursive helper function for the serialize() function.\"\"\"\n",
    "            # check base case\n",
    "            if not root:\n",
    "                string += 'None,'\n",
    "            else:\n",
    "                string += str(root.val) + ','\n",
    "                string = rserialize(root.left, string)\n",
    "                string = rserialize(root.right, string)\n",
    "            return string\n",
    "        \n",
    "        return rserialize(root, '')\n",
    "\n",
    "\n",
    "        \n",
    "\n",
    "    def deserialize(self, data):\n",
    "        \"\"\"Decodes your encoded data to tree.\n",
    "        \n",
    "        :type data: str\n",
    "        :rtype: TreeNode\n",
    "        \"\"\"\n",
    "        def rdeserialize(l):\n",
    "            \"\"\" a recursive helper function for deserialization.\"\"\"\n",
    "            if l[0] == 'None':\n",
    "                l.pop(0)\n",
    "                return None\n",
    "                \n",
    "            root = TreeNode(l[0])\n",
    "            l.pop(0)\n",
    "            root.left = rdeserialize(l)\n",
    "            root.right = rdeserialize(l)\n",
    "            return root\n",
    "\n",
    "        data_list = data.split(',')\n",
    "        root = rdeserialize(data_list)\n",
    "        return root\n",
    "\n"
   ]
  },
  {
   "cell_type": "code",
   "execution_count": 48,
   "metadata": {},
   "outputs": [
    {
     "data": {
      "text/plain": [
       "'3'"
      ]
     },
     "execution_count": 48,
     "metadata": {},
     "output_type": "execute_result"
    }
   ],
   "source": [
    "# Your Codec object will be instantiated and called as such:\n",
    "ser = Codec()\n",
    "deser = Codec()\n",
    "ans = deser.deserialize(ser.serialize(binary1))\n",
    "ans.val"
   ]
  },
  {
   "cell_type": "code",
   "execution_count": null,
   "metadata": {},
   "outputs": [],
   "source": []
  }
 ],
 "metadata": {
  "interpreter": {
   "hash": "4c1a85674b7b9c706837e67e471571332ebf1f79fce68aebc7a712558674e3b4"
  },
  "kernelspec": {
   "display_name": "Python 3.10.2 64-bit",
   "language": "python",
   "name": "python3"
  },
  "language_info": {
   "codemirror_mode": {
    "name": "ipython",
    "version": 3
   },
   "file_extension": ".py",
   "mimetype": "text/x-python",
   "name": "python",
   "nbconvert_exporter": "python",
   "pygments_lexer": "ipython3",
   "version": "3.10.2"
  },
  "orig_nbformat": 4
 },
 "nbformat": 4,
 "nbformat_minor": 2
}
