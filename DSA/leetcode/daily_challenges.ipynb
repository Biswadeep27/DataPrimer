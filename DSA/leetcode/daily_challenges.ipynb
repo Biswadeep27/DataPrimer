{
 "cells": [
  {
   "cell_type": "code",
   "execution_count": 2,
   "metadata": {},
   "outputs": [],
   "source": [
    "from typing import *\n",
    "import functools"
   ]
  },
  {
   "cell_type": "code",
   "execution_count": 5,
   "metadata": {},
   "outputs": [],
   "source": [
    "#458. Poor Pigs\n",
    "import math\n",
    "def poorPigs( buckets: int, minutesToDie: int, minutesToTest: int) -> int:\n",
    "    '''\n",
    "    states = minutesToTest//minutesToDie\n",
    "    return math.ceil(math.log(buckets) / math.log(states))\n",
    "    '''\n",
    "    num_pigs = 0\n",
    "    while (minutesToTest/minutesToDie + 1)**num_pigs < buckets:\n",
    "        num_pigs += 1\n",
    "\n",
    "    return num_pigs"
   ]
  },
  {
   "cell_type": "code",
   "execution_count": 8,
   "metadata": {},
   "outputs": [
    {
     "data": {
      "text/plain": [
       "5"
      ]
     },
     "execution_count": 8,
     "metadata": {},
     "output_type": "execute_result"
    }
   ],
   "source": [
    "poorPigs(1000,15,60)"
   ]
  },
  {
   "cell_type": "code",
   "execution_count": 12,
   "metadata": {},
   "outputs": [],
   "source": [
    "#377. Combination Sum IV\n",
    "#DP - top down approach\n",
    "def combinationSum4( nums: List[int], target: int) -> int:\n",
    "    nums.sort()\n",
    "    \n",
    "    @functools.lru_cache(maxsize = None)\n",
    "    def combs(remain):\n",
    "        if remain == 0:\n",
    "            return 1\n",
    "\n",
    "        result = 0\n",
    "        for num in nums:\n",
    "            if remain - num >= 0:\n",
    "                result += combs(remain - num)\n",
    "            else:\n",
    "                break\n",
    "\n",
    "        return result\n",
    "\n",
    "    return combs(target)\n"
   ]
  },
  {
   "cell_type": "code",
   "execution_count": 14,
   "metadata": {},
   "outputs": [
    {
     "data": {
      "text/plain": [
       "7"
      ]
     },
     "execution_count": 14,
     "metadata": {},
     "output_type": "execute_result"
    }
   ],
   "source": [
    "combinationSum4([1,2,3],4)"
   ]
  },
  {
   "cell_type": "code",
   "execution_count": 15,
   "metadata": {},
   "outputs": [],
   "source": [
    "#377. Combination Sum IV\n",
    "#DP - bottom up approach\n",
    "def combinationSum4( nums: List[int], target: int) -> int:\n",
    "    nums.sort()\n",
    "    dp = [0 for _ in range(target + 1)]\n",
    "    dp[0] = 1\n",
    "\n",
    "    for comb_sum in range(target + 1):\n",
    "        for num in nums:\n",
    "            if comb_sum - num >= 0:\n",
    "                dp[comb_sum] += dp[comb_sum - num]\n",
    "            else:\n",
    "                break\n",
    "\n",
    "    return dp[target]"
   ]
  },
  {
   "cell_type": "code",
   "execution_count": 16,
   "metadata": {},
   "outputs": [
    {
     "data": {
      "text/plain": [
       "7"
      ]
     },
     "execution_count": 16,
     "metadata": {},
     "output_type": "execute_result"
    }
   ],
   "source": [
    "combinationSum4([1,2,3],4)"
   ]
  },
  {
   "cell_type": "code",
   "execution_count": 17,
   "metadata": {},
   "outputs": [],
   "source": [
    "#1220. Count Vowels Permutation\n",
    "# Each character is a lower case vowel ('a', 'e', 'i', 'o', 'u')\n",
    "# Each vowel 'a' may only be followed by an 'e'.\n",
    "# Each vowel 'e' may only be followed by an 'a' or an 'i'.\n",
    "# Each vowel 'i' may not be followed by another 'i'.\n",
    "# Each vowel 'o' may only be followed by an 'i' or a 'u'.\n",
    "# Each vowel 'u' may only be followed by an 'a'.\n",
    "\n",
    "'''That said, if we are given the number of strings of length i that end in each vowel, \n",
    "like aCount, eCount, iCount, oCount, and uCount, \n",
    "we can compute the number of strings of length i + 1 that end in each vowel by simple addition:\n",
    "\n",
    "# aCountNew = eCount + iCount + uCount\n",
    "# eCountNew = aCount + iCount\n",
    "# iCountNew = eCount + oCount\n",
    "# oCountNew = iCount\n",
    "# uCountNew = iCount + oCount\n",
    "\n",
    "'''\n",
    "def countVowelPermutation( n: int) -> int:\n",
    "    a = e = i = o = u = 1\n",
    "    mod = 10 ** 9 + 7\n",
    "    for _ in range(2, n + 1):\n",
    "        a, e, i, o, u = (e + u + i), (a + i), (e + o), i, (o + i) \n",
    "    return sum([a, e, i, o, u]) % mod  \n"
   ]
  },
  {
   "cell_type": "code",
   "execution_count": 18,
   "metadata": {},
   "outputs": [
    {
     "data": {
      "text/plain": [
       "68"
      ]
     },
     "execution_count": 18,
     "metadata": {},
     "output_type": "execute_result"
    }
   ],
   "source": [
    "countVowelPermutation(5)"
   ]
  },
  {
   "cell_type": "code",
   "execution_count": 21,
   "metadata": {},
   "outputs": [],
   "source": [
    "#121. Best Time to Buy and Sell Stock\n",
    "#only one transaction\n",
    "def maxProfit( prices: List[int]) -> int:\n",
    "\n",
    "    max_profit = 0\n",
    "    min_price = prices[0]\n",
    "\n",
    "    for _p in prices[1:]:\n",
    "        if _p > min_price:\n",
    "            profit = _p - min_price\n",
    "            max_profit = max(max_profit, profit)\n",
    "        else:\n",
    "            min_price = _p\n",
    "\n",
    "        \n",
    "\n",
    "    return max_profit"
   ]
  },
  {
   "cell_type": "code",
   "execution_count": 31,
   "metadata": {},
   "outputs": [
    {
     "data": {
      "text/plain": [
       "10"
      ]
     },
     "execution_count": 31,
     "metadata": {},
     "output_type": "execute_result"
    }
   ],
   "source": [
    "maxProfit([4,11,2,7,1,11])"
   ]
  },
  {
   "cell_type": "code",
   "execution_count": 6,
   "metadata": {},
   "outputs": [],
   "source": [
    "#122. Best Time to Buy and Sell Stock II\n",
    "#as many transactions as possible with no stock overlap\n",
    "def maxProfit( prices: List[int]) -> int:\n",
    "        \n",
    "    i = max_profit = 0\n",
    "    peak = valley = 0\n",
    "    while i < len(prices) - 1:\n",
    "        while i < len(prices) - 1 and prices[i] >= prices[i+1]:\n",
    "            i += 1\n",
    "        valley = prices[i]\n",
    "        \n",
    "        while i < len(prices) - 1 and prices[i] <= prices[i+1]: \n",
    "            i += 1\n",
    "        peak = prices[i]\n",
    "        \n",
    "        max_profit += peak - valley\n",
    "        \n",
    "    return max_profit\n"
   ]
  },
  {
   "cell_type": "code",
   "execution_count": null,
   "metadata": {},
   "outputs": [],
   "source": [
    "#123. Best Time to Buy and Sell Stock III\n",
    "# at max two transactions\n",
    "def maxProfit( prices: List[int]) -> int:\n",
    "    pass\n"
   ]
  },
  {
   "cell_type": "code",
   "execution_count": 1,
   "metadata": {},
   "outputs": [],
   "source": []
  },
  {
   "cell_type": "code",
   "execution_count": null,
   "metadata": {},
   "outputs": [],
   "source": []
  },
  {
   "cell_type": "code",
   "execution_count": null,
   "metadata": {},
   "outputs": [],
   "source": [
    "#300. Longest Increasing Subsequence\n"
   ]
  },
  {
   "cell_type": "code",
   "execution_count": 5,
   "metadata": {},
   "outputs": [],
   "source": [
    "#823. Binary Trees With Factors\n",
    "\n",
    "def numFactoredBinaryTrees( arr: List[int]) -> int:\n",
    "    MOD = 10**9 + 7\n",
    "    N = len(arr)\n",
    "    arr.sort()\n",
    "    dp = [1] * N\n",
    "    index = {x:i for i,x in enumerate(arr)}\n",
    "    for i,x in enumerate(arr):\n",
    "        for j in range(i):\n",
    "            if x % arr[j] == 0:\n",
    "                right = x / arr[j]\n",
    "                if right in index:\n",
    "                    dp[i] = dp[j] * dp[index[right]]\n",
    "\n",
    "                    dp[i] %= MOD\n",
    "\n",
    "    return sum(dp) % MOD"
   ]
  },
  {
   "cell_type": "code",
   "execution_count": 2,
   "metadata": {},
   "outputs": [],
   "source": [
    "#33. Search in Rotated Sorted Array - O(log n)\n",
    "from typing import *\n",
    "def search( arr: List[int], target: int) -> int:\n",
    "    start, end = 0, len(arr) - 1\n",
    "\n",
    "    while start <= end:\n",
    "        mid = start + (end - start)//2\n",
    "\n",
    "        if arr[mid] == target:\n",
    "            return mid\n",
    "        elif arr[mid] >= arr[start]:\n",
    "            if target >= arr[start] and target <= arr[mid]:\n",
    "                end = mid - 1\n",
    "            else:\n",
    "                start = mid + 1\n",
    "        else:\n",
    "            if target >= arr[mid] and target <= arr[end]:\n",
    "                start = mid + 1 \n",
    "            else:\n",
    "                end = mid - 1\n",
    "\n",
    "    return -1"
   ]
  },
  {
   "cell_type": "code",
   "execution_count": 3,
   "metadata": {},
   "outputs": [
    {
     "data": {
      "text/plain": [
       "7"
      ]
     },
     "execution_count": 3,
     "metadata": {},
     "output_type": "execute_result"
    }
   ],
   "source": [
    "search([4,5,6,7,8,9,1,2,3],2)"
   ]
  },
  {
   "cell_type": "code",
   "execution_count": 7,
   "metadata": {},
   "outputs": [],
   "source": [
    "# sorted square of list elements - two pointer approach - O(n)\n",
    "def sorted_square(arr: List[int] ) -> List[int]:\n",
    "    left = 0\n",
    "    right = index = len(arr) - 1\n",
    "    res = [0 for _ in arr]\n",
    "    \n",
    "    while index >= 0:\n",
    "        if abs(arr[left]) >= abs(arr[right]):\n",
    "            res[index] = arr[left] ** 2\n",
    "            left += 1\n",
    "        else:\n",
    "            res[index] = arr[right] ** 2\n",
    "            right -= 1\n",
    "\n",
    "        index -= 1\n",
    "\n",
    "    return res\n"
   ]
  },
  {
   "cell_type": "code",
   "execution_count": 8,
   "metadata": {},
   "outputs": [
    {
     "data": {
      "text/plain": [
       "[0, 1, 1, 4, 4, 9]"
      ]
     },
     "execution_count": 8,
     "metadata": {},
     "output_type": "execute_result"
    }
   ],
   "source": [
    "sorted_square([-2,-1,0,1,2,3])"
   ]
  },
  {
   "cell_type": "code",
   "execution_count": 13,
   "metadata": {},
   "outputs": [],
   "source": [
    "#967. Numbers With Same Consecutive Differences\n",
    "def numsSameConsecDiff( n: int, k: int) -> List[int]:\n",
    "    res = []\n",
    "    def helper(n,k,ss):\n",
    "        if n == 1:\n",
    "            res.append(ss)\n",
    "            return\n",
    "\n",
    "        unit = ss % 10\n",
    "        if unit + k < 10:\n",
    "            helper(n-1, k, ss*10 + unit + k)\n",
    "        \n",
    "        if unit - k >= 0 and k != 0:\n",
    "            helper(n-1, k, ss*10 + unit - k)\n",
    "\n",
    "    for i in range(1,10):\n",
    "        helper(n,k,i)\n",
    "\n",
    "    return res\n"
   ]
  },
  {
   "cell_type": "code",
   "execution_count": 14,
   "metadata": {},
   "outputs": [
    {
     "data": {
      "text/plain": [
       "[12, 10, 23, 21, 34, 32, 45, 43, 56, 54, 67, 65, 78, 76, 89, 87, 98]"
      ]
     },
     "execution_count": 14,
     "metadata": {},
     "output_type": "execute_result"
    }
   ],
   "source": [
    "numsSameConsecDiff(2,1)"
   ]
  },
  {
   "cell_type": "code",
   "execution_count": 16,
   "metadata": {},
   "outputs": [
    {
     "name": "stdout",
     "output_type": "stream",
     "text": [
      "YES\n"
     ]
    }
   ],
   "source": [
    "a = 20\n",
    "b = 5\n",
    "\n",
    "q = max(a,b) / min(a,b)\n",
    "c = 0\n",
    "\n",
    "while q >= 1 :\n",
    "    if q == 1:\n",
    "        c = 1\n",
    "        break\n",
    "    q = q / 2\n",
    "\n",
    "if c == 1:\n",
    "    print('YES')\n",
    "\n",
    "else:\n",
    "    print('NO')"
   ]
  },
  {
   "cell_type": "code",
   "execution_count": 9,
   "metadata": {},
   "outputs": [
    {
     "data": {
      "text/plain": [
       "['my name is bis', 'p']"
      ]
     },
     "execution_count": 9,
     "metadata": {},
     "output_type": "execute_result"
    }
   ],
   "source": [
    "s1 = 'my name is biswadeep'\n",
    "s2 = 'wadee'\n",
    "s3 = 'amita'\n",
    "\n",
    "\n",
    "s1_l = s1.split(s2)\n",
    "\n",
    "s1_l\n"
   ]
  },
  {
   "cell_type": "code",
   "execution_count": 10,
   "metadata": {},
   "outputs": [
    {
     "data": {
      "text/plain": [
       "'my name is bisamitap'"
      ]
     },
     "execution_count": 10,
     "metadata": {},
     "output_type": "execute_result"
    }
   ],
   "source": [
    "new_s = s3.join(s1_l)\n",
    "new_s"
   ]
  },
  {
   "cell_type": "code",
   "execution_count": 21,
   "metadata": {},
   "outputs": [],
   "source": [
    "#to replace substring in a string with another substring without using any built-in strin method\n",
    "\n",
    "def replace_string(text : str, rep : str, alt : str) -> str:\n",
    "    op = []\n",
    "    stack = []\n",
    "\n",
    "    len_rep = len(rep)\n",
    "    for _s in text:\n",
    "        stack.append(_s)\n",
    "        if ''.join(stack[-len_rep:]) == rep:\n",
    "            stack = stack[:-len_rep]\n",
    "            op += stack + list(alt)\n",
    "            stack = []\n",
    "\n",
    "    return ''.join(op + stack)\n"
   ]
  },
  {
   "cell_type": "code",
   "execution_count": 22,
   "metadata": {},
   "outputs": [
    {
     "data": {
      "text/plain": [
       "'I am Biswarup and not rup'"
      ]
     },
     "execution_count": 22,
     "metadata": {},
     "output_type": "execute_result"
    }
   ],
   "source": [
    "replace_string('I am Biswadeep and not deep', 'deep', 'rup')"
   ]
  },
  {
   "cell_type": "code",
   "execution_count": 26,
   "metadata": {},
   "outputs": [],
   "source": [
    "#remove occurances of substring from a string text\n",
    "\n",
    "def remove_occur(text : str, sub : str ):\n",
    "    stack = []\n",
    "    len_sub = len(sub)\n",
    "    for _s in text:\n",
    "        stack.append(_s)\n",
    "        if ''.join(stack[-len_sub:]) == sub:\n",
    "            stack = stack[:-len_sub]\n",
    "           \n",
    "    return ''.join(stack)\n",
    "\n"
   ]
  },
  {
   "cell_type": "code",
   "execution_count": 27,
   "metadata": {},
   "outputs": [
    {
     "data": {
      "text/plain": [
       "'dddd'"
      ]
     },
     "execution_count": 27,
     "metadata": {},
     "output_type": "execute_result"
    }
   ],
   "source": [
    "remove_occur('dabaabcbccdabcdd','abc')"
   ]
  },
  {
   "cell_type": "code",
   "execution_count": 30,
   "metadata": {},
   "outputs": [],
   "source": [
    "#1046: last stone weight\n",
    "\n",
    "def lastStoneWeight( stones: List[int]) -> int:\n",
    "    pq_stones = stones\n",
    "    \n",
    "    def pq_pop():\n",
    "        max_idx = 0\n",
    "        for _idx in range(len(pq_stones)):\n",
    "            if pq_stones[_idx] > pq_stones[max_idx]:\n",
    "                max_idx = _idx\n",
    "        item = pq_stones[max_idx]\n",
    "        del pq_stones[max_idx]\n",
    "        return item\n",
    "    \n",
    "    while pq_stones:\n",
    "        if len(pq_stones) == 1:\n",
    "            return pq_stones[0]\n",
    "        \n",
    "        y,x = pq_pop(), pq_pop()\n",
    "        \n",
    "        if x == y:\n",
    "            if not pq_stones:\n",
    "                return 0\n",
    "        else:\n",
    "            pq_stones.append(y-x)"
   ]
  },
  {
   "cell_type": "code",
   "execution_count": 31,
   "metadata": {},
   "outputs": [],
   "source": [
    "#94 binary tree : inorder traversal\n",
    "#Definition for a binary tree node.\n",
    "class TreeNode:\n",
    "    def __init__(self, val=0, left=None, right=None):\n",
    "        self.val = val\n",
    "        self.left = left\n",
    "        self.right = right\n",
    "class Solution:\n",
    "    def inorderTraversal(self, root: Optional[TreeNode]) -> List[int]:\n",
    "        stack, current, output = [], root, []\n",
    "        \n",
    "        while stack or current:\n",
    "            while current is not None:\n",
    "                stack.append(current)\n",
    "                current = current.left\n",
    "                \n",
    "            current = stack.pop()\n",
    "            output.append(current.val)\n",
    "            current = current.right\n",
    "            \n",
    "            \n",
    "        return output"
   ]
  },
  {
   "cell_type": "code",
   "execution_count": 41,
   "metadata": {},
   "outputs": [],
   "source": [
    "ip_string = '{([)]}'\n",
    "\n",
    "#to make sure if it is balanced\n",
    "\n",
    "\n"
   ]
  },
  {
   "cell_type": "code",
   "execution_count": 44,
   "metadata": {},
   "outputs": [
    {
     "name": "stdout",
     "output_type": "stream",
     "text": [
      "balanced\n"
     ]
    }
   ],
   "source": [
    "hash_string = {}\n",
    "for _s in ip_string:\n",
    "    hash_string[_s] = hash_string.get(_s,0) + 1\n",
    "\n",
    "    \n",
    "check_one =  hash_string.get('(',0) == hash_string.get(')',0)\n",
    "\n",
    "check_two =  hash_string.get('{',0) == hash_string.get('}',0)\n",
    "\n",
    "check_three =  hash_string.get('[',0) == hash_string.get(']',0)\n",
    "\n",
    "\n",
    "\n",
    "if check_one and check_two and check_three:\n",
    "    print('balanced')\n",
    "else:\n",
    "    print ('not balanced')\n",
    "\n"
   ]
  },
  {
   "cell_type": "code",
   "execution_count": null,
   "metadata": {},
   "outputs": [],
   "source": []
  },
  {
   "cell_type": "code",
   "execution_count": 45,
   "metadata": {},
   "outputs": [
    {
     "name": "stdout",
     "output_type": "stream",
     "text": [
      "Empty\n"
     ]
    }
   ],
   "source": [
    "st1 = []\n",
    "st2 = []\n",
    "if not (st1 and st2):\n",
    "    print('Empty')\n",
    "else:\n",
    "    print('not')"
   ]
  },
  {
   "cell_type": "code",
   "execution_count": 48,
   "metadata": {},
   "outputs": [],
   "source": [
    "#20. Valid Parentheses\n",
    "def is_valid(ip_str):\n",
    "    stack = []\n",
    "    par_map = {')':'(',']':'[','}':'{'}\n",
    "\n",
    "    for _s in ip_str:\n",
    "        if _s in par_map:\n",
    "            last_elem = stack.pop() if stack else '#'\n",
    "            if last_elem != par_map[_s]:\n",
    "                return False\n",
    "        else:\n",
    "            stack.append(_s)\n",
    "\n",
    "    return not stack"
   ]
  },
  {
   "cell_type": "code",
   "execution_count": 49,
   "metadata": {},
   "outputs": [
    {
     "data": {
      "text/plain": [
       "True"
      ]
     },
     "execution_count": 49,
     "metadata": {},
     "output_type": "execute_result"
    }
   ],
   "source": [
    "is_valid('[]')"
   ]
  },
  {
   "cell_type": "code",
   "execution_count": 82,
   "metadata": {},
   "outputs": [],
   "source": [
    "#2007. Find Original Array From Doubled Array\n",
    "\n",
    "def findOriginalArray( changed: List[int]) -> List[int]:\n",
    "    hash_map = {}\n",
    "    original = []\n",
    "    copy_changed = changed[:]\n",
    "    def pq_pop():\n",
    "        min_idx = 0\n",
    "        for _idx in range(len(changed)):\n",
    "            if changed[_idx] < changed[min_idx]:\n",
    "                min_idx = _idx\n",
    "        item = changed[min_idx]\n",
    "        del changed[min_idx]\n",
    "        return item\n",
    "    c = 1\n",
    "    while changed:\n",
    "        elem = pq_pop()\n",
    "        if elem/2 in hash_map:\n",
    "            #hash_map[elem/2] = elem\n",
    "            original.append(elem/2)\n",
    "            del hash_map[elem/2]\n",
    "        else:\n",
    "            \n",
    "            hash_map[elem] = 0\n",
    "        c += 1\n",
    "\n",
    "    print(original)\n",
    "    ordered_tobe = [int(_x) for _x in hash_map.keys()]\n",
    "    if len(ordered_tobe) == len(copy_changed)/2:\n",
    "        return ordered_tobe\n",
    "    else:\n",
    "        return []\n"
   ]
  },
  {
   "cell_type": "code",
   "execution_count": 84,
   "metadata": {},
   "outputs": [
    {
     "name": "stdout",
     "output_type": "stream",
     "text": [
      "[1.0, 3.0, 4.0]\n"
     ]
    },
    {
     "data": {
      "text/plain": [
       "[]"
      ]
     },
     "execution_count": 84,
     "metadata": {},
     "output_type": "execute_result"
    }
   ],
   "source": [
    "findOriginalArray([1,3,4,2,6,8])"
   ]
  },
  {
   "cell_type": "code",
   "execution_count": 87,
   "metadata": {},
   "outputs": [],
   "source": [
    "def findOriginalArray( changed: List[int]) -> List[int]:\n",
    "    hash_map = {}\n",
    "    original = []\n",
    "    copy_changed = changed[:]\n",
    "\n",
    "    for _c in changed:\n",
    "        hash_map[_c] = hash_map.get(_c,0) + 1\n",
    "\n",
    "    def pq_pop():\n",
    "        min_idx = 0\n",
    "        for _idx in range(len(changed)):\n",
    "            if changed[_idx] < changed[min_idx]:\n",
    "                min_idx = _idx\n",
    "        item = changed[min_idx]\n",
    "        del changed[min_idx]\n",
    "        return item\n",
    "\n",
    "    while changed:\n",
    "        elem  = pq_pop()\n",
    "        \n",
    "        if hash_map[elem] > 0:\n",
    "            hash_map[elem] -= 1\n",
    "\n",
    "            if hash_map.get(elem*2, 0) > 0:\n",
    "                original.append(elem)\n",
    "                hash_map[elem*2] -= 1\n",
    "            else:\n",
    "                return []\n",
    "\n",
    "    if len(original) == len(copy_changed)/2:\n",
    "        return original\n",
    "    else:\n",
    "        return []"
   ]
  },
  {
   "cell_type": "code",
   "execution_count": 91,
   "metadata": {},
   "outputs": [
    {
     "data": {
      "text/plain": [
       "[0, 0]"
      ]
     },
     "execution_count": 91,
     "metadata": {},
     "output_type": "execute_result"
    }
   ],
   "source": [
    "findOriginalArray([0,0,0,0])"
   ]
  },
  {
   "cell_type": "code",
   "execution_count": 92,
   "metadata": {},
   "outputs": [
    {
     "data": {
      "text/plain": [
       "4"
      ]
     },
     "execution_count": 92,
     "metadata": {},
     "output_type": "execute_result"
    }
   ],
   "source": [
    "max([2,3,4])"
   ]
  },
  {
   "cell_type": "code",
   "execution_count": 3,
   "metadata": {},
   "outputs": [],
   "source": [
    "#1770. Maximum Score from Performing Multiplication Operations\n",
    "def maximumScore(self, nums: List[int], multipliers: List[int]) -> int:\n",
    "    pass"
   ]
  },
  {
   "cell_type": "code",
   "execution_count": null,
   "metadata": {},
   "outputs": [],
   "source": [
    "#718. Maximum Length of Repeated Subarray\n",
    "def findLength(nums1: List[int], nums2: List[int]) -> int:\n",
    "    pass"
   ]
  },
  {
   "cell_type": "code",
   "execution_count": 8,
   "metadata": {},
   "outputs": [
    {
     "name": "stdout",
     "output_type": "stream",
     "text": [
      "before cond:  [[0, 0, 0, 0, 0, 0], [0, 0, 0, 0, 0, 0], [0, 0, 0, 0, 0, 0], [0, 0, 0, 0, 0, 0], [0, 0, 0, 0, 0, 0], [0, 0, 0, 0, 0, 0], [0, 0, 0, 0, 0, 0]]\n",
      "before cond:  [[0, 0, 0, 0, 0, 0], [0, 0, 0, 0, 0, 0], [0, 0, 0, 0, 0, 0], [0, 0, 0, 0, 0, 0], [0, 0, 0, 0, 0, 0], [0, 0, 0, 0, 0, 0], [0, 0, 0, 0, 0, 0]]\n",
      "after cond:  [[0, 0, 0, 0, 0, 0], [0, 0, 0, 0, 0, 0], [0, 0, 0, 0, 0, 0], [0, 0, 0, 0, 0, 0], [0, 0, 0, 0, 0, 0], [0, 0, 0, 1, 0, 0], [0, 0, 0, 0, 0, 0]]\n",
      "before cond:  [[0, 0, 0, 0, 0, 0], [0, 0, 0, 0, 0, 0], [0, 0, 0, 0, 0, 0], [0, 0, 0, 0, 0, 0], [0, 0, 0, 0, 0, 0], [0, 0, 0, 1, 0, 0], [0, 0, 0, 0, 0, 0]]\n",
      "before cond:  [[0, 0, 0, 0, 0, 0], [0, 0, 0, 0, 0, 0], [0, 0, 0, 0, 0, 0], [0, 0, 0, 0, 0, 0], [0, 0, 0, 0, 0, 0], [0, 0, 0, 1, 0, 0], [0, 0, 0, 0, 0, 0]]\n",
      "before cond:  [[0, 0, 0, 0, 0, 0], [0, 0, 0, 0, 0, 0], [0, 0, 0, 0, 0, 0], [0, 0, 0, 0, 0, 0], [0, 0, 0, 0, 0, 0], [0, 0, 0, 1, 0, 0], [0, 0, 0, 0, 0, 0]]\n",
      "before cond:  [[0, 0, 0, 0, 0, 0], [0, 0, 0, 0, 0, 0], [0, 0, 0, 0, 0, 0], [0, 0, 0, 0, 0, 0], [0, 0, 0, 0, 0, 0], [0, 0, 0, 1, 0, 0], [0, 0, 0, 0, 0, 0]]\n",
      "before cond:  [[0, 0, 0, 0, 0, 0], [0, 0, 0, 0, 0, 0], [0, 0, 0, 0, 0, 0], [0, 0, 0, 0, 0, 0], [0, 0, 0, 0, 0, 0], [0, 0, 0, 1, 0, 0], [0, 0, 0, 0, 0, 0]]\n",
      "before cond:  [[0, 0, 0, 0, 0, 0], [0, 0, 0, 0, 0, 0], [0, 0, 0, 0, 0, 0], [0, 0, 0, 0, 0, 0], [0, 0, 0, 0, 0, 0], [0, 0, 0, 1, 0, 0], [0, 0, 0, 0, 0, 0]]\n",
      "after cond:  [[0, 0, 0, 0, 0, 0], [0, 0, 0, 0, 0, 0], [0, 0, 0, 0, 0, 0], [0, 0, 0, 0, 0, 0], [0, 0, 2, 0, 0, 0], [0, 0, 0, 1, 0, 0], [0, 0, 0, 0, 0, 0]]\n",
      "before cond:  [[0, 0, 0, 0, 0, 0], [0, 0, 0, 0, 0, 0], [0, 0, 0, 0, 0, 0], [0, 0, 0, 0, 0, 0], [0, 0, 2, 0, 0, 0], [0, 0, 0, 1, 0, 0], [0, 0, 0, 0, 0, 0]]\n",
      "before cond:  [[0, 0, 0, 0, 0, 0], [0, 0, 0, 0, 0, 0], [0, 0, 0, 0, 0, 0], [0, 0, 0, 0, 0, 0], [0, 0, 2, 0, 0, 0], [0, 0, 0, 1, 0, 0], [0, 0, 0, 0, 0, 0]]\n",
      "before cond:  [[0, 0, 0, 0, 0, 0], [0, 0, 0, 0, 0, 0], [0, 0, 0, 0, 0, 0], [0, 0, 0, 0, 0, 0], [0, 0, 2, 0, 0, 0], [0, 0, 0, 1, 0, 0], [0, 0, 0, 0, 0, 0]]\n",
      "before cond:  [[0, 0, 0, 0, 0, 0], [0, 0, 0, 0, 0, 0], [0, 0, 0, 0, 0, 0], [0, 0, 0, 0, 0, 0], [0, 0, 2, 0, 0, 0], [0, 0, 0, 1, 0, 0], [0, 0, 0, 0, 0, 0]]\n",
      "before cond:  [[0, 0, 0, 0, 0, 0], [0, 0, 0, 0, 0, 0], [0, 0, 0, 0, 0, 0], [0, 0, 0, 0, 0, 0], [0, 0, 2, 0, 0, 0], [0, 0, 0, 1, 0, 0], [0, 0, 0, 0, 0, 0]]\n",
      "before cond:  [[0, 0, 0, 0, 0, 0], [0, 0, 0, 0, 0, 0], [0, 0, 0, 0, 0, 0], [0, 0, 0, 0, 0, 0], [0, 0, 2, 0, 0, 0], [0, 0, 0, 1, 0, 0], [0, 0, 0, 0, 0, 0]]\n",
      "after cond:  [[0, 0, 0, 0, 0, 0], [0, 0, 0, 0, 0, 0], [0, 0, 0, 0, 0, 0], [0, 3, 0, 0, 0, 0], [0, 0, 2, 0, 0, 0], [0, 0, 0, 1, 0, 0], [0, 0, 0, 0, 0, 0]]\n",
      "before cond:  [[0, 0, 0, 0, 0, 0], [0, 0, 0, 0, 0, 0], [0, 0, 0, 0, 0, 0], [0, 3, 0, 0, 0, 0], [0, 0, 2, 0, 0, 0], [0, 0, 0, 1, 0, 0], [0, 0, 0, 0, 0, 0]]\n",
      "before cond:  [[0, 0, 0, 0, 0, 0], [0, 0, 0, 0, 0, 0], [0, 0, 0, 0, 0, 0], [0, 3, 0, 0, 0, 0], [0, 0, 2, 0, 0, 0], [0, 0, 0, 1, 0, 0], [0, 0, 0, 0, 0, 0]]\n",
      "before cond:  [[0, 0, 0, 0, 0, 0], [0, 0, 0, 0, 0, 0], [0, 0, 0, 0, 0, 0], [0, 3, 0, 0, 0, 0], [0, 0, 2, 0, 0, 0], [0, 0, 0, 1, 0, 0], [0, 0, 0, 0, 0, 0]]\n",
      "before cond:  [[0, 0, 0, 0, 0, 0], [0, 0, 0, 0, 0, 0], [0, 0, 0, 0, 0, 0], [0, 3, 0, 0, 0, 0], [0, 0, 2, 0, 0, 0], [0, 0, 0, 1, 0, 0], [0, 0, 0, 0, 0, 0]]\n",
      "before cond:  [[0, 0, 0, 0, 0, 0], [0, 0, 0, 0, 0, 0], [0, 0, 0, 0, 0, 0], [0, 3, 0, 0, 0, 0], [0, 0, 2, 0, 0, 0], [0, 0, 0, 1, 0, 0], [0, 0, 0, 0, 0, 0]]\n",
      "before cond:  [[0, 0, 0, 0, 0, 0], [0, 0, 0, 0, 0, 0], [0, 0, 0, 0, 0, 0], [0, 3, 0, 0, 0, 0], [0, 0, 2, 0, 0, 0], [0, 0, 0, 1, 0, 0], [0, 0, 0, 0, 0, 0]]\n",
      "after cond:  [[0, 0, 0, 0, 0, 0], [0, 0, 0, 0, 0, 0], [4, 0, 0, 0, 0, 0], [0, 3, 0, 0, 0, 0], [0, 0, 2, 0, 0, 0], [0, 0, 0, 1, 0, 0], [0, 0, 0, 0, 0, 0]]\n",
      "before cond:  [[0, 0, 0, 0, 0, 0], [0, 0, 0, 0, 0, 0], [4, 0, 0, 0, 0, 0], [0, 3, 0, 0, 0, 0], [0, 0, 2, 0, 0, 0], [0, 0, 0, 1, 0, 0], [0, 0, 0, 0, 0, 0]]\n",
      "before cond:  [[0, 0, 0, 0, 0, 0], [0, 0, 0, 0, 0, 0], [4, 0, 0, 0, 0, 0], [0, 3, 0, 0, 0, 0], [0, 0, 2, 0, 0, 0], [0, 0, 0, 1, 0, 0], [0, 0, 0, 0, 0, 0]]\n",
      "before cond:  [[0, 0, 0, 0, 0, 0], [0, 0, 0, 0, 0, 0], [4, 0, 0, 0, 0, 0], [0, 3, 0, 0, 0, 0], [0, 0, 2, 0, 0, 0], [0, 0, 0, 1, 0, 0], [0, 0, 0, 0, 0, 0]]\n",
      "before cond:  [[0, 0, 0, 0, 0, 0], [0, 0, 0, 0, 0, 0], [4, 0, 0, 0, 0, 0], [0, 3, 0, 0, 0, 0], [0, 0, 2, 0, 0, 0], [0, 0, 0, 1, 0, 0], [0, 0, 0, 0, 0, 0]]\n",
      "after cond:  [[0, 0, 0, 0, 0, 0], [0, 1, 0, 0, 0, 0], [4, 0, 0, 0, 0, 0], [0, 3, 0, 0, 0, 0], [0, 0, 2, 0, 0, 0], [0, 0, 0, 1, 0, 0], [0, 0, 0, 0, 0, 0]]\n",
      "before cond:  [[0, 0, 0, 0, 0, 0], [0, 1, 0, 0, 0, 0], [4, 0, 0, 0, 0, 0], [0, 3, 0, 0, 0, 0], [0, 0, 2, 0, 0, 0], [0, 0, 0, 1, 0, 0], [0, 0, 0, 0, 0, 0]]\n",
      "before cond:  [[0, 0, 0, 0, 0, 0], [0, 1, 0, 0, 0, 0], [4, 0, 0, 0, 0, 0], [0, 3, 0, 0, 0, 0], [0, 0, 2, 0, 0, 0], [0, 0, 0, 1, 0, 0], [0, 0, 0, 0, 0, 0]]\n",
      "before cond:  [[0, 0, 0, 0, 0, 0], [0, 1, 0, 0, 0, 0], [4, 0, 0, 0, 0, 0], [0, 3, 0, 0, 0, 0], [0, 0, 2, 0, 0, 0], [0, 0, 0, 1, 0, 0], [0, 0, 0, 0, 0, 0]]\n",
      "before cond:  [[0, 0, 0, 0, 0, 0], [0, 1, 0, 0, 0, 0], [4, 0, 0, 0, 0, 0], [0, 3, 0, 0, 0, 0], [0, 0, 2, 0, 0, 0], [0, 0, 0, 1, 0, 0], [0, 0, 0, 0, 0, 0]]\n",
      "after cond:  [[0, 0, 1, 0, 0, 0], [0, 1, 0, 0, 0, 0], [4, 0, 0, 0, 0, 0], [0, 3, 0, 0, 0, 0], [0, 0, 2, 0, 0, 0], [0, 0, 0, 1, 0, 0], [0, 0, 0, 0, 0, 0]]\n",
      "before cond:  [[0, 0, 1, 0, 0, 0], [0, 1, 0, 0, 0, 0], [4, 0, 0, 0, 0, 0], [0, 3, 0, 0, 0, 0], [0, 0, 2, 0, 0, 0], [0, 0, 0, 1, 0, 0], [0, 0, 0, 0, 0, 0]]\n",
      "before cond:  [[0, 0, 1, 0, 0, 0], [0, 1, 0, 0, 0, 0], [4, 0, 0, 0, 0, 0], [0, 3, 0, 0, 0, 0], [0, 0, 2, 0, 0, 0], [0, 0, 0, 1, 0, 0], [0, 0, 0, 0, 0, 0]]\n",
      "[[0, 0, 1, 0, 0, 0], [0, 1, 0, 0, 0, 0], [4, 0, 0, 0, 0, 0], [0, 3, 0, 0, 0, 0], [0, 0, 2, 0, 0, 0], [0, 0, 0, 1, 0, 0], [0, 0, 0, 0, 0, 0]]\n"
     ]
    }
   ],
   "source": [
    "A = [1,2,3,2,1,4]\n",
    "B = [3,2,1,4,7]\n",
    "\n",
    "memo = [[0] * (len(B) + 1) for _ in range(len(A) + 1)]\n",
    "\n",
    "for i in range(len(A) - 1, -1, -1):\n",
    "    for j in range(len(B) - 1, -1, -1):\n",
    "        print('before cond: ',  memo)\n",
    "        if A[i] == B[j]:\n",
    "            memo[i][j] = memo[i + 1][j + 1] + 1\n",
    "            print('after cond: ',  memo)\n",
    "\n",
    "\n",
    "print(memo)"
   ]
  },
  {
   "cell_type": "code",
   "execution_count": 4,
   "metadata": {},
   "outputs": [
    {
     "data": {
      "text/plain": [
       "'0b0'"
      ]
     },
     "execution_count": 4,
     "metadata": {},
     "output_type": "execute_result"
    }
   ],
   "source": [
    "bin(0)"
   ]
  },
  {
   "cell_type": "code",
   "execution_count": 6,
   "metadata": {},
   "outputs": [
    {
     "data": {
      "text/plain": [
       "7"
      ]
     },
     "execution_count": 6,
     "metadata": {},
     "output_type": "execute_result"
    }
   ],
   "source": [
    "int('111',2)"
   ]
  },
  {
   "cell_type": "code",
   "execution_count": 9,
   "metadata": {},
   "outputs": [],
   "source": [
    "#1680. Concatenation of Consecutive Binary Numbers\n",
    "def concatenatedBinary( n: int) -> int:\n",
    "    MOD = 10**9 + 7\n",
    "    concatenation = \"\".join(bin(i)[2:] for i in range(1, n+1))\n",
    "    return int(concatenation, 2) % MOD"
   ]
  },
  {
   "cell_type": "code",
   "execution_count": 10,
   "metadata": {},
   "outputs": [
    {
     "data": {
      "text/plain": [
       "27"
      ]
     },
     "execution_count": 10,
     "metadata": {},
     "output_type": "execute_result"
    }
   ],
   "source": [
    "concatenatedBinary(3)"
   ]
  },
  {
   "cell_type": "code",
   "execution_count": 13,
   "metadata": {},
   "outputs": [],
   "source": [
    "#113. Path Sum II\n",
    "class TreeNode:\n",
    "    def __init__(self, val=0, left=None, right=None):\n",
    "        self.val = val\n",
    "        self.left = left\n",
    "        self.right = right\n",
    "\n",
    "class Solution:\n",
    "    def pathSum(self, root: Optional[TreeNode], targetSum: int) -> List[List[int]]:\n",
    "        result = []\n",
    "        \n",
    "        def recursive_dfs(node, path_list):\n",
    "            nonlocal result\n",
    "            \n",
    "            #if we have reached the leaf node return\n",
    "            if not node:\n",
    "                return []\n",
    "            \n",
    "            ##keep appending the value of each node belonging to a potential root-to-leaf path\n",
    "            path_list.append(node.val)\n",
    "            \n",
    "            ##if we are at leaf and the sum of the path node values traveresed = targetSum\n",
    "            if not node.left and not node.right:\n",
    "                if sum(path_list) == targetSum:\n",
    "                    result.append(path_list[:])\n",
    "            else:\n",
    "                ##recurse through left and then right sub tree of current node\n",
    "                recursive_dfs(node.left, path_list)\n",
    "                recursive_dfs(node.right, path_list)\n",
    "                \n",
    "            ##before we return to parent recursive function we need to pop the last node\n",
    "            ##equivalently we need to pop the node once we are done processing all of its subtree\n",
    "            ## as it won't be part of the root-to-leaf path anymore\n",
    "            path_list.pop()\n",
    "            \n",
    "        \n",
    "        recursive_dfs(root, [])\n",
    "        return result"
   ]
  },
  {
   "cell_type": "code",
   "execution_count": 2,
   "metadata": {},
   "outputs": [],
   "source": [
    "l = [1,2,3]"
   ]
  },
  {
   "cell_type": "code",
   "execution_count": 3,
   "metadata": {},
   "outputs": [],
   "source": [
    "del l[0]"
   ]
  },
  {
   "cell_type": "code",
   "execution_count": 4,
   "metadata": {},
   "outputs": [
    {
     "data": {
      "text/plain": [
       "[2, 3]"
      ]
     },
     "execution_count": 4,
     "metadata": {},
     "output_type": "execute_result"
    }
   ],
   "source": [
    "l"
   ]
  },
  {
   "cell_type": "code",
   "execution_count": 5,
   "metadata": {},
   "outputs": [],
   "source": [
    "l = 4\n",
    "arr = [None for i in range(l)]\n"
   ]
  },
  {
   "cell_type": "code",
   "execution_count": 6,
   "metadata": {},
   "outputs": [
    {
     "data": {
      "text/plain": [
       "[None, None, None, None]"
      ]
     },
     "execution_count": 6,
     "metadata": {},
     "output_type": "execute_result"
    }
   ],
   "source": [
    "arr"
   ]
  },
  {
   "cell_type": "code",
   "execution_count": 21,
   "metadata": {},
   "outputs": [],
   "source": [
    "#838. Push Dominoes\n",
    "def pushDominoes(dominoes: str) -> str:\n",
    "    symbols = [(i, x) for i, x in enumerate(dominoes) if x != '.']\n",
    "    symbols = [(-1, 'L')] + symbols + [(len(dominoes), 'R')]\n",
    "\n",
    "    ans = list(dominoes)\n",
    "    for (i, x), (j, y) in zip(symbols, symbols[1:]):\n",
    "        print((i, x), (j, y))\n",
    "        if x == y:\n",
    "            for k in range(i+1, j):\n",
    "                ans[k] = x\n",
    "        elif x > y: #RL\n",
    "            for k in range(i+1, j):\n",
    "                ans[k] = '.LR'[(k-i > j-k) - (k-i < j-k)]\n",
    "\n",
    "    return \"\".join(ans)"
   ]
  },
  {
   "cell_type": "code",
   "execution_count": 22,
   "metadata": {},
   "outputs": [],
   "source": [
    "dominoes = \".L.R...LR..L..\""
   ]
  },
  {
   "cell_type": "code",
   "execution_count": 23,
   "metadata": {},
   "outputs": [
    {
     "name": "stdout",
     "output_type": "stream",
     "text": [
      "(-1, 'L') (1, 'L')\n",
      "(1, 'L') (3, 'R')\n",
      "(3, 'R') (7, 'L')\n",
      "(7, 'L') (8, 'R')\n",
      "(8, 'R') (11, 'L')\n",
      "(11, 'L') (14, 'R')\n"
     ]
    },
    {
     "data": {
      "text/plain": [
       "'LL.RR.LLRRLL..'"
      ]
     },
     "execution_count": 23,
     "metadata": {},
     "output_type": "execute_result"
    }
   ],
   "source": [
    "pushDominoes(dominoes)"
   ]
  },
  {
   "cell_type": "code",
   "execution_count": 8,
   "metadata": {},
   "outputs": [],
   "source": [
    "\n",
    "symbols = [(i,x) for i,x in enumerate(dominoes)]\n",
    "symbols = [(-1, 'L')] + symbols  + [(len(dominoes), 'R')]"
   ]
  },
  {
   "cell_type": "code",
   "execution_count": 10,
   "metadata": {},
   "outputs": [
    {
     "data": {
      "text/plain": [
       "[((-1, 'L'), (0, '.')),\n",
       " ((0, '.'), (1, 'L')),\n",
       " ((1, 'L'), (2, '.')),\n",
       " ((2, '.'), (3, 'R')),\n",
       " ((3, 'R'), (4, '.')),\n",
       " ((4, '.'), (5, '.')),\n",
       " ((5, '.'), (6, '.')),\n",
       " ((6, '.'), (7, 'L')),\n",
       " ((7, 'L'), (8, 'R')),\n",
       " ((8, 'R'), (9, '.')),\n",
       " ((9, '.'), (10, '.')),\n",
       " ((10, '.'), (11, 'L')),\n",
       " ((11, 'L'), (12, '.')),\n",
       " ((12, '.'), (13, '.')),\n",
       " ((13, '.'), (14, 'R'))]"
      ]
     },
     "execution_count": 10,
     "metadata": {},
     "output_type": "execute_result"
    }
   ],
   "source": [
    "list(zip(symbols, symbols[1:]))"
   ]
  },
  {
   "cell_type": "code",
   "execution_count": 19,
   "metadata": {},
   "outputs": [
    {
     "data": {
      "text/plain": [
       "'L'"
      ]
     },
     "execution_count": 19,
     "metadata": {},
     "output_type": "execute_result"
    }
   ],
   "source": [
    "'.LR'[(a > b) - (a < b) ]"
   ]
  },
  {
   "cell_type": "code",
   "execution_count": 18,
   "metadata": {},
   "outputs": [
    {
     "data": {
      "text/plain": [
       "1"
      ]
     },
     "execution_count": 18,
     "metadata": {},
     "output_type": "execute_result"
    }
   ],
   "source": [
    "a = b = 4\n",
    "b = 2\n",
    "(a > b) - (a < b) "
   ]
  },
  {
   "cell_type": "code",
   "execution_count": 17,
   "metadata": {},
   "outputs": [
    {
     "data": {
      "text/plain": [
       "1"
      ]
     },
     "execution_count": 17,
     "metadata": {},
     "output_type": "execute_result"
    }
   ],
   "source": [
    "False - True"
   ]
  },
  {
   "cell_type": "code",
   "execution_count": 20,
   "metadata": {},
   "outputs": [],
   "source": [
    "for i in range(1,1):\n",
    "    print(i)"
   ]
  },
  {
   "cell_type": "code",
   "execution_count": 26,
   "metadata": {},
   "outputs": [],
   "source": [
    "# 19. remove n'th node from end of the linked list\n",
    "# Definition for singly-linked list.\n",
    "class ListNode:\n",
    "    def __init__(self, val=0, next=None):\n",
    "        self.val = val\n",
    "        self.next = next\n",
    "class Solution:\n",
    "    def removeNthFromEnd(self, head: Optional[ListNode], n: int) -> Optional[ListNode]:\n",
    "        current = node_before = head\n",
    "        diff = 0\n",
    "\n",
    "        while current.next:\n",
    "            if diff >= n:\n",
    "                node_before = node_before.next\n",
    "            current = current.next\n",
    "            diff += 1\n",
    "\n",
    "\n",
    "        if diff < n:\n",
    "            return head.next\n",
    "        else:\n",
    "            node_before.next = node_before.next.next\n",
    "            return head"
   ]
  },
  {
   "cell_type": "code",
   "execution_count": 36,
   "metadata": {},
   "outputs": [
    {
     "name": "stdout",
     "output_type": "stream",
     "text": [
      "2\n",
      "3\n",
      "4\n",
      "5\n"
     ]
    }
   ],
   "source": [
    "node = ListNode(2)\n",
    "node.next = ListNode(3)\n",
    "node.next.next = ListNode(4)\n",
    "node.next.next.next = ListNode(5)\n",
    "\n",
    "dis = node\n",
    "while dis:\n",
    "    print(dis.val)\n",
    "    dis = dis.next"
   ]
  },
  {
   "cell_type": "code",
   "execution_count": 37,
   "metadata": {},
   "outputs": [
    {
     "name": "stdout",
     "output_type": "stream",
     "text": [
      "2\n",
      "3\n",
      "5\n"
     ]
    }
   ],
   "source": [
    "ans = Solution().removeNthFromEnd(node, 2)\n",
    "while ans:\n",
    "    print(ans.val)\n",
    "    ans = ans.next"
   ]
  },
  {
   "cell_type": "code",
   "execution_count": 51,
   "metadata": {},
   "outputs": [],
   "source": [
    "arr = [-2,-1,1,2,3,4,5]\n",
    "k = 4\n",
    "x = 1\n",
    "\n"
   ]
  },
  {
   "cell_type": "code",
   "execution_count": 64,
   "metadata": {},
   "outputs": [],
   "source": [
    "\n",
    "def findClosestElements( arr: List[int], k: int, x: int) -> List[int]:\n",
    "    import heapq\n",
    "    hash_map = {}\n",
    "    res = []\n",
    "    c = 0\n",
    "    for i in arr:\n",
    "        abs_diff = abs(i - x)\n",
    "        ret = hash_map.get(abs_diff,[])\n",
    "        ret.append(i)\n",
    "        hash_map[abs_diff] = ret\n",
    "\n",
    "    print(hash_map)\n",
    "\n",
    "    index_heap = list(hash_map.keys())\n",
    "    heapq.heapify(index_heap)\n",
    "\n",
    "    while index_heap:\n",
    "        index = heapq.heappop(index_heap)\n",
    "        res += hash_map[index]\n",
    "        c += len(hash_map[index])\n",
    "\n",
    "        if c >= k:\n",
    "            break\n",
    "\n",
    "\n",
    "    ans = sorted(res[:k])\n",
    "    return ans\n",
    "\n",
    "\n",
    "    \n",
    "\n"
   ]
  },
  {
   "cell_type": "code",
   "execution_count": 65,
   "metadata": {},
   "outputs": [
    {
     "name": "stdout",
     "output_type": "stream",
     "text": [
      "{3: [-2, 4], 2: [-1, 3], 0: [1], 1: [2], 4: [5]}\n"
     ]
    },
    {
     "data": {
      "text/plain": [
       "[-1, 1, 2, 3]"
      ]
     },
     "execution_count": 65,
     "metadata": {},
     "output_type": "execute_result"
    }
   ],
   "source": [
    "findClosestElements(arr,k,x)"
   ]
  },
  {
   "cell_type": "code",
   "execution_count": 44,
   "metadata": {},
   "outputs": [],
   "source": [
    "hash_map = {}"
   ]
  },
  {
   "cell_type": "code",
   "execution_count": 45,
   "metadata": {},
   "outputs": [
    {
     "data": {
      "text/plain": [
       "[]"
      ]
     },
     "execution_count": 45,
     "metadata": {},
     "output_type": "execute_result"
    }
   ],
   "source": [
    "hash_map.get(1,[])"
   ]
  },
  {
   "cell_type": "code",
   "execution_count": 50,
   "metadata": {},
   "outputs": [
    {
     "name": "stdout",
     "output_type": "stream",
     "text": [
      "None\n"
     ]
    }
   ],
   "source": []
  },
  {
   "cell_type": "code",
   "execution_count": 2,
   "metadata": {},
   "outputs": [],
   "source": [
    "#91. Decode Ways\n",
    "# recursive memoization\n",
    "class Solution:\n",
    "    def numDecodings(self, s: str) -> int:\n",
    "        memo = {}\n",
    "        def rec_memo(index):\n",
    "            nonlocal s, memo\n",
    "            if index in memo:\n",
    "                return memo[index]\n",
    "            if index == len(s):\n",
    "                return 1\n",
    "            if s[index] == '0':\n",
    "                return 0\n",
    "            if index == len(s) - 1:\n",
    "                return 1\n",
    "\n",
    "            ans = rec_memo(index + 1)\n",
    "            if int(s[index:index+2]) <= 26:\n",
    "                ans += rec_memo(index + 2)\n",
    "            memo[index] = ans\n",
    "            return ans\n",
    "\n",
    "        return rec_memo(0)    "
   ]
  },
  {
   "cell_type": "code",
   "execution_count": 5,
   "metadata": {},
   "outputs": [
    {
     "data": {
      "text/plain": [
       "2"
      ]
     },
     "execution_count": 5,
     "metadata": {},
     "output_type": "execute_result"
    }
   ],
   "source": [
    "Solution().numDecodings('25')"
   ]
  },
  {
   "cell_type": "code",
   "execution_count": 6,
   "metadata": {},
   "outputs": [],
   "source": [
    "#91. Decode Ways\n",
    "# Dynammic Programming\n",
    "class Solution:\n",
    "    def numDecodings(self, s: str) -> int:\n",
    "        dp = [0 for _ in range(len(s) + 1)]\n",
    "        dp[0] = 1\n",
    "        if s[0] == '0':\n",
    "            return 0\n",
    "        else:\n",
    "            dp[1] = 1\n",
    "\n",
    "        for i in range(1,len(s)):\n",
    "            sub_ans = 0\n",
    "            if int(s[i]) != 0 :\n",
    "                sub_ans = dp[i]\n",
    "            if int(s[i-1] + s[i]) <= 26 and s[i-1] != '0':\n",
    "                sub_ans += dp[i-1]\n",
    "\n",
    "            dp[i+1] = sub_ans\n",
    "\n",
    "        return dp[-1]\n",
    "            \n",
    "            "
   ]
  },
  {
   "cell_type": "code",
   "execution_count": 11,
   "metadata": {},
   "outputs": [],
   "source": [
    "#1155. Number of Dice Rolls With Target Sum\n",
    "#Dynammic Programming : Top-Down\n",
    "def numRollsToTarget( n: int, k: int, target: int) -> int:\n",
    "        \n",
    "    memo = [[None for _ in range(target+1)] for _ in range(n+1)]\n",
    "    MOD = 10**9 + 7\n",
    "\n",
    "    def rec_memo(idx,curr_sum):\n",
    "        nonlocal memo, n, target, MOD\n",
    "        print(idx, curr_sum)\n",
    "        if idx == n:\n",
    "            return int(curr_sum == target)\n",
    "\n",
    "        if memo[idx][curr_sum]:\n",
    "            return memo[idx][curr_sum]\n",
    "\n",
    "        ways = 0\n",
    "        for i in range(1,min(k,target - curr_sum) + 1):\n",
    "            ways = (ways + rec_memo(idx + 1, curr_sum + i)) % MOD\n",
    "\n",
    "        memo[idx][curr_sum] = ways\n",
    "        return ways\n",
    "        \n",
    "\n",
    "    return rec_memo(0,0)\n",
    "\n"
   ]
  },
  {
   "cell_type": "code",
   "execution_count": 12,
   "metadata": {},
   "outputs": [
    {
     "name": "stdout",
     "output_type": "stream",
     "text": [
      "0 0\n",
      "1 1\n",
      "1 2\n",
      "1 3\n"
     ]
    },
    {
     "data": {
      "text/plain": [
       "1"
      ]
     },
     "execution_count": 12,
     "metadata": {},
     "output_type": "execute_result"
    }
   ],
   "source": [
    "numRollsToTarget(1,6,3)"
   ]
  },
  {
   "cell_type": "code",
   "execution_count": 9,
   "metadata": {},
   "outputs": [
    {
     "data": {
      "text/plain": [
       "[[None, None, None, None, None, None, None],\n",
       " [None, None, None, None, None, None, None],\n",
       " [None, None, None, None, None, None, None]]"
      ]
     },
     "execution_count": 9,
     "metadata": {},
     "output_type": "execute_result"
    }
   ],
   "source": [
    "target = 6\n",
    "n = 2\n",
    "memo = [[None for _ in range(target+1)] for _ in range(n+1)]\n",
    "memo"
   ]
  },
  {
   "cell_type": "code",
   "execution_count": 16,
   "metadata": {},
   "outputs": [],
   "source": [
    "#1578. Minimum Time to Make Rope Colorful\n",
    "def minCost( colors: str, neededTime: List[int]) -> int:\n",
    "    pass\n",
    "    "
   ]
  },
  {
   "cell_type": "code",
   "execution_count": 13,
   "metadata": {},
   "outputs": [],
   "source": [
    "#623. Add One Row to Tree"
   ]
  },
  {
   "cell_type": "code",
   "execution_count": 3,
   "metadata": {},
   "outputs": [],
   "source": [
    "#653. Two Sum IV - Input is a BST\n",
    "\n",
    "\n",
    "# Definition for a binary tree node. \n",
    "class TreeNode:\n",
    "    def __init__(self, val=0, left=None, right=None):\n",
    "        self.val = val\n",
    "        self.left = left\n",
    "        self.right = right\n",
    "\n",
    "\n",
    "# Approach 1 -  Using Inorder tarversal and BST\n",
    "class Solution:\n",
    "    def findTarget(self, root: Optional[TreeNode], k: int) -> bool:\n",
    "        \n",
    "        def inorder_traversal(node):\n",
    "            return [] if not node else inorder_traversal(node.left) + [node.val] + inorder_traversal(node.right)\n",
    "\n",
    "        \n",
    "        sorted_nodes = inorder_traversal(root)\n",
    "\n",
    "        left = 0\n",
    "        right = len(sorted_nodes) - 1\n",
    "\n",
    "        while left < right:\n",
    "            two_sum = sorted_nodes[left] + sorted_nodes[right]\n",
    "\n",
    "            if two_sum == k:\n",
    "                return True\n",
    "            elif two_sum > k:\n",
    "                right -= 1\n",
    "            else:\n",
    "                left += 1\n",
    "\n",
    "        return False\n",
    "\n",
    "# Approach 2 -  Hash Map\n",
    "class Solution:\n",
    "    def findTarget(self, root: Optional[TreeNode], k: int) -> bool:\n",
    "        hash_map = {}\n",
    "\n",
    "        def findComp(node):\n",
    "            if not node:\n",
    "                return False\n",
    "            comp = k - node.val\n",
    "            if comp in hash_map:\n",
    "                return True\n",
    "            hash_map[node.val] = True\n",
    "            return findComp(node.left) or findComp(node.right)\n",
    "\n",
    "        return findComp(root)"
   ]
  },
  {
   "cell_type": "code",
   "execution_count": null,
   "metadata": {},
   "outputs": [],
   "source": []
  }
 ],
 "metadata": {
  "kernelspec": {
   "display_name": "Python 3.10.2 64-bit",
   "language": "python",
   "name": "python3"
  },
  "language_info": {
   "codemirror_mode": {
    "name": "ipython",
    "version": 3
   },
   "file_extension": ".py",
   "mimetype": "text/x-python",
   "name": "python",
   "nbconvert_exporter": "python",
   "pygments_lexer": "ipython3",
   "version": "3.10.2"
  },
  "orig_nbformat": 4,
  "vscode": {
   "interpreter": {
    "hash": "b460384b52104c1e5b9cf54bee46a255d22b2bef338f75ac4ad5d48196028d3c"
   }
  }
 },
 "nbformat": 4,
 "nbformat_minor": 2
}
