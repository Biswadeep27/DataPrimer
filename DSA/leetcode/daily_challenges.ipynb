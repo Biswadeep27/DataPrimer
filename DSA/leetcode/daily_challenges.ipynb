{
 "cells": [
  {
   "cell_type": "code",
   "execution_count": 4,
   "metadata": {},
   "outputs": [],
   "source": [
    "from typing import *\n",
    "import functools"
   ]
  },
  {
   "cell_type": "code",
   "execution_count": 5,
   "metadata": {},
   "outputs": [],
   "source": [
    "#458. Poor Pigs\n",
    "import math\n",
    "def poorPigs( buckets: int, minutesToDie: int, minutesToTest: int) -> int:\n",
    "    '''\n",
    "    states = minutesToTest//minutesToDie\n",
    "    return math.ceil(math.log(buckets) / math.log(states))\n",
    "    '''\n",
    "    num_pigs = 0\n",
    "    while (minutesToTest/minutesToDie + 1)**num_pigs < buckets:\n",
    "        num_pigs += 1\n",
    "\n",
    "    return num_pigs"
   ]
  },
  {
   "cell_type": "code",
   "execution_count": 8,
   "metadata": {},
   "outputs": [
    {
     "data": {
      "text/plain": [
       "5"
      ]
     },
     "execution_count": 8,
     "metadata": {},
     "output_type": "execute_result"
    }
   ],
   "source": [
    "poorPigs(1000,15,60)"
   ]
  },
  {
   "cell_type": "code",
   "execution_count": 12,
   "metadata": {},
   "outputs": [],
   "source": [
    "#377. Combination Sum IV\n",
    "#DP - top down approach\n",
    "def combinationSum4( nums: List[int], target: int) -> int:\n",
    "    nums.sort()\n",
    "    \n",
    "    @functools.lru_cache(maxsize = None)\n",
    "    def combs(remain):\n",
    "        if remain == 0:\n",
    "            return 1\n",
    "\n",
    "        result = 0\n",
    "        for num in nums:\n",
    "            if remain - num >= 0:\n",
    "                result += combs(remain - num)\n",
    "            else:\n",
    "                break\n",
    "\n",
    "        return result\n",
    "\n",
    "    return combs(target)\n"
   ]
  },
  {
   "cell_type": "code",
   "execution_count": 14,
   "metadata": {},
   "outputs": [
    {
     "data": {
      "text/plain": [
       "7"
      ]
     },
     "execution_count": 14,
     "metadata": {},
     "output_type": "execute_result"
    }
   ],
   "source": [
    "combinationSum4([1,2,3],4)"
   ]
  },
  {
   "cell_type": "code",
   "execution_count": 15,
   "metadata": {},
   "outputs": [],
   "source": [
    "#377. Combination Sum IV\n",
    "#DP - bottom up approach\n",
    "def combinationSum4( nums: List[int], target: int) -> int:\n",
    "    nums.sort()\n",
    "    dp = [0 for _ in range(target + 1)]\n",
    "    dp[0] = 1\n",
    "\n",
    "    for comb_sum in range(target + 1):\n",
    "        for num in nums:\n",
    "            if comb_sum - num >= 0:\n",
    "                dp[comb_sum] += dp[comb_sum - num]\n",
    "            else:\n",
    "                break\n",
    "\n",
    "    return dp[target]"
   ]
  },
  {
   "cell_type": "code",
   "execution_count": 16,
   "metadata": {},
   "outputs": [
    {
     "data": {
      "text/plain": [
       "7"
      ]
     },
     "execution_count": 16,
     "metadata": {},
     "output_type": "execute_result"
    }
   ],
   "source": [
    "combinationSum4([1,2,3],4)"
   ]
  },
  {
   "cell_type": "code",
   "execution_count": 17,
   "metadata": {},
   "outputs": [],
   "source": [
    "#1220. Count Vowels Permutation\n",
    "# Each character is a lower case vowel ('a', 'e', 'i', 'o', 'u')\n",
    "# Each vowel 'a' may only be followed by an 'e'.\n",
    "# Each vowel 'e' may only be followed by an 'a' or an 'i'.\n",
    "# Each vowel 'i' may not be followed by another 'i'.\n",
    "# Each vowel 'o' may only be followed by an 'i' or a 'u'.\n",
    "# Each vowel 'u' may only be followed by an 'a'.\n",
    "\n",
    "'''That said, if we are given the number of strings of length i that end in each vowel, \n",
    "like aCount, eCount, iCount, oCount, and uCount, \n",
    "we can compute the number of strings of length i + 1 that end in each vowel by simple addition:\n",
    "\n",
    "# aCountNew = eCount + iCount + uCount\n",
    "# eCountNew = aCount + iCount\n",
    "# iCountNew = eCount + oCount\n",
    "# oCountNew = iCount\n",
    "# uCountNew = iCount + oCount\n",
    "\n",
    "'''\n",
    "def countVowelPermutation( n: int) -> int:\n",
    "    a = e = i = o = u = 1\n",
    "    mod = 10 ** 9 + 7\n",
    "    for _ in range(2, n + 1):\n",
    "        a, e, i, o, u = (e + u + i), (a + i), (e + o), i, (o + i) \n",
    "    return sum([a, e, i, o, u]) % mod  \n"
   ]
  },
  {
   "cell_type": "code",
   "execution_count": 18,
   "metadata": {},
   "outputs": [
    {
     "data": {
      "text/plain": [
       "68"
      ]
     },
     "execution_count": 18,
     "metadata": {},
     "output_type": "execute_result"
    }
   ],
   "source": [
    "countVowelPermutation(5)"
   ]
  },
  {
   "cell_type": "code",
   "execution_count": 21,
   "metadata": {},
   "outputs": [],
   "source": [
    "#121. Best Time to Buy and Sell Stock\n",
    "#only one transaction\n",
    "def maxProfit( prices: List[int]) -> int:\n",
    "\n",
    "    max_profit = 0\n",
    "    min_price = prices[0]\n",
    "\n",
    "    for _p in prices[1:]:\n",
    "        if _p > min_price:\n",
    "            profit = _p - min_price\n",
    "            max_profit = max(max_profit, profit)\n",
    "        else:\n",
    "            min_price = _p\n",
    "\n",
    "        \n",
    "\n",
    "    return max_profit"
   ]
  },
  {
   "cell_type": "code",
   "execution_count": 31,
   "metadata": {},
   "outputs": [
    {
     "data": {
      "text/plain": [
       "10"
      ]
     },
     "execution_count": 31,
     "metadata": {},
     "output_type": "execute_result"
    }
   ],
   "source": [
    "maxProfit([4,11,2,7,1,11])"
   ]
  },
  {
   "cell_type": "code",
   "execution_count": 6,
   "metadata": {},
   "outputs": [],
   "source": [
    "#122. Best Time to Buy and Sell Stock II\n",
    "#as many transactions as possible with no stock overlap\n",
    "def maxProfit( prices: List[int]) -> int:\n",
    "        \n",
    "    i = max_profit = 0\n",
    "    peak = valley = 0\n",
    "    while i < len(prices) - 1:\n",
    "        while i < len(prices) - 1 and prices[i] >= prices[i+1]:\n",
    "            i += 1\n",
    "        valley = prices[i]\n",
    "        \n",
    "        while i < len(prices) - 1 and prices[i] <= prices[i+1]: \n",
    "            i += 1\n",
    "        peak = prices[i]\n",
    "        \n",
    "        max_profit += peak - valley\n",
    "        \n",
    "    return max_profit\n"
   ]
  },
  {
   "cell_type": "code",
   "execution_count": null,
   "metadata": {},
   "outputs": [],
   "source": [
    "#123. Best Time to Buy and Sell Stock III\n",
    "# at max two transactions\n",
    "def maxProfit( prices: List[int]) -> int:\n",
    "    \n"
   ]
  },
  {
   "cell_type": "code",
   "execution_count": null,
   "metadata": {},
   "outputs": [],
   "source": []
  },
  {
   "cell_type": "code",
   "execution_count": null,
   "metadata": {},
   "outputs": [],
   "source": []
  },
  {
   "cell_type": "code",
   "execution_count": null,
   "metadata": {},
   "outputs": [],
   "source": [
    "#300. Longest Increasing Subsequence\n"
   ]
  },
  {
   "cell_type": "code",
   "execution_count": 5,
   "metadata": {},
   "outputs": [],
   "source": [
    "#823. Binary Trees With Factors\n",
    "\n",
    "def numFactoredBinaryTrees( arr: List[int]) -> int:\n",
    "    MOD = 10**9 + 7\n",
    "    N = len(arr)\n",
    "    arr.sort()\n",
    "    dp = [1] * N\n",
    "    index = {x:i for i,x in enumerate(arr)}\n",
    "    for i,x in enumerate(arr):\n",
    "        for j in range(i):\n",
    "            if x % arr[j] == 0:\n",
    "                right = x / arr[j]\n",
    "                if right in index:\n",
    "                    dp[i] = dp[j] * dp[index[right]]\n",
    "\n",
    "                    dp[i] %= MOD\n",
    "\n",
    "    return sum(dp) % MOD"
   ]
  },
  {
   "cell_type": "code",
   "execution_count": null,
   "metadata": {},
   "outputs": [],
   "source": []
  }
 ],
 "metadata": {
  "interpreter": {
   "hash": "4c1a85674b7b9c706837e67e471571332ebf1f79fce68aebc7a712558674e3b4"
  },
  "kernelspec": {
   "display_name": "Python 3.10.2 64-bit",
   "language": "python",
   "name": "python3"
  },
  "language_info": {
   "codemirror_mode": {
    "name": "ipython",
    "version": 3
   },
   "file_extension": ".py",
   "mimetype": "text/x-python",
   "name": "python",
   "nbconvert_exporter": "python",
   "pygments_lexer": "ipython3",
   "version": "3.10.2"
  },
  "orig_nbformat": 4
 },
 "nbformat": 4,
 "nbformat_minor": 2
}
