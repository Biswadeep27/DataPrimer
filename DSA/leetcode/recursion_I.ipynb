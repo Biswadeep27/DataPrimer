{
 "cells": [
  {
   "cell_type": "code",
   "execution_count": 1,
   "metadata": {},
   "outputs": [],
   "source": [
    "from typing import *"
   ]
  },
  {
   "cell_type": "code",
   "execution_count": 2,
   "metadata": {},
   "outputs": [],
   "source": [
    "s = [\"H\",\"a\",\"n\",\"n\",\"a\",\"h\"]"
   ]
  },
  {
   "cell_type": "code",
   "execution_count": 9,
   "metadata": {},
   "outputs": [],
   "source": [
    "#reverse list of strings in place\n",
    "\n",
    "def reverseString( s):\n",
    "    \"\"\"\n",
    "    :type s: List[str]\n",
    "    :rtype: void Do not return anything, modify s in-place instead.\n",
    "    \"\"\"\n",
    "    def helper(start,end,ls):\n",
    "        if start >= end:\n",
    "            return\n",
    "\n",
    "        ls[start], ls[end] = ls[end], ls[start]\n",
    "\n",
    "        helper(start + 1, end - 1, s)\n",
    "\n",
    "    helper(0,len(s)-1,s)"
   ]
  },
  {
   "cell_type": "code",
   "execution_count": 10,
   "metadata": {},
   "outputs": [
    {
     "data": {
      "text/plain": [
       "['h', 'a', 'n', 'n', 'a', 'H']"
      ]
     },
     "execution_count": 10,
     "metadata": {},
     "output_type": "execute_result"
    }
   ],
   "source": [
    "reverseString(s)\n",
    "s"
   ]
  },
  {
   "cell_type": "code",
   "execution_count": 2,
   "metadata": {},
   "outputs": [],
   "source": [
    "# Definition for singly-linked list.\n",
    "class ListNode:\n",
    "    def __init__(self, val=0, next=None):\n",
    "        self.val = val\n",
    "        self.next = next"
   ]
  },
  {
   "cell_type": "code",
   "execution_count": 3,
   "metadata": {},
   "outputs": [],
   "source": [
    "head = ListNode(1)\n",
    "head.next = ListNode(2)\n",
    "head.next.next = ListNode(3)\n",
    "head.next.next.next = ListNode(4)\n",
    "head.next.next.next.next = ListNode(5)"
   ]
  },
  {
   "cell_type": "code",
   "execution_count": 30,
   "metadata": {},
   "outputs": [],
   "source": [
    "def swapPairs( head: Optional[ListNode]) -> Optional[ListNode]:\n",
    "    if not head or not head.next:\n",
    "        return head\n",
    "\n",
    "    # element to be swaped\n",
    "    first_node = head\n",
    "    second_node = head.next\n",
    "\n",
    "    # swaping\n",
    "    first_node.next = swapPairs(second_node.next)\n",
    "    second_node.next = first_node\n",
    "\n",
    "    # since second element is now the head\n",
    "    return second_node\n",
    "\n",
    "        \n",
    "    \n",
    "    \n"
   ]
  },
  {
   "cell_type": "code",
   "execution_count": 31,
   "metadata": {},
   "outputs": [
    {
     "name": "stdout",
     "output_type": "stream",
     "text": [
      "1->4->"
     ]
    }
   ],
   "source": [
    "while swapPairs(head):\n",
    "    print(head.val,end='->')\n",
    "    head = head.next"
   ]
  },
  {
   "cell_type": "code",
   "execution_count": null,
   "metadata": {},
   "outputs": [],
   "source": [
    "#Reverse Linked List\n",
    "def reverseList(head: Optional[ListNode]) -> Optional[ListNode]:\n",
    "    if not head or not head.next:\n",
    "        return head\n",
    "\n",
    "    ret = reverseList(head.next)\n",
    "    head.next.next = head\n",
    "    head.next = None\n",
    "\n",
    "    return ret\n",
    "\n"
   ]
  },
  {
   "cell_type": "code",
   "execution_count": 4,
   "metadata": {},
   "outputs": [
    {
     "data": {
      "text/plain": [
       "[1, 2, 3]"
      ]
     },
     "execution_count": 4,
     "metadata": {},
     "output_type": "execute_result"
    }
   ],
   "source": [
    "l = [3,2,1]\n",
    "\n",
    "sorted(l)"
   ]
  },
  {
   "cell_type": "code",
   "execution_count": 5,
   "metadata": {},
   "outputs": [
    {
     "data": {
      "text/plain": [
       "[3, 2, 1]"
      ]
     },
     "execution_count": 5,
     "metadata": {},
     "output_type": "execute_result"
    }
   ],
   "source": [
    "l"
   ]
  },
  {
   "cell_type": "code",
   "execution_count": 2,
   "metadata": {},
   "outputs": [],
   "source": [
    "class TreeNode:\n",
    "    def __init__(self, val=0, left=None, right=None):\n",
    "        self.val = val\n",
    "        self.left = left\n",
    "        self.right = right"
   ]
  },
  {
   "cell_type": "code",
   "execution_count": 5,
   "metadata": {},
   "outputs": [],
   "source": [
    "#700. Search in a Binary Search Tree\n",
    "\n",
    "def searchBST( root: Optional[TreeNode], val: int) -> Optional[TreeNode]:\n",
    "    if root is None or val == root.val:\n",
    "        return root\n",
    "\n",
    "    return searchBST(root.left , val) if val < root.val else searchBST(root.right, val)"
   ]
  },
  {
   "cell_type": "code",
   "execution_count": 6,
   "metadata": {},
   "outputs": [],
   "source": [
    "#pascal's triangle II - only to get input row\n",
    "#iteration\n",
    "def get_row(row_index: int) -> List[int]:\n",
    "    if row_index == 0:\n",
    "        return [1]\n",
    "\n",
    "    triangle = [1,1]\n",
    "    for i in range(2,row_index+1):\n",
    "        row = [0 for _ in range(i+1)]\n",
    "        row[0] = row[-1] = 1\n",
    "        for j in range(1,len(row) - 1):\n",
    "            row[j] = triangle[j-1] + triangle[j]\n",
    "\n",
    "        triangle[:] = row\n",
    "\n",
    "    return triangle\n"
   ]
  },
  {
   "cell_type": "code",
   "execution_count": 11,
   "metadata": {},
   "outputs": [
    {
     "data": {
      "text/plain": [
       "[1, 10, 45, 120, 210, 252, 210, 120, 45, 10, 1]"
      ]
     },
     "execution_count": 11,
     "metadata": {},
     "output_type": "execute_result"
    }
   ],
   "source": [
    "get_row(10)"
   ]
  },
  {
   "cell_type": "code",
   "execution_count": 16,
   "metadata": {},
   "outputs": [],
   "source": [
    "#recursion\n",
    "def get_row(row_index: int) -> List[int]:\n",
    "    \n",
    "    def get_num (row, col):\n",
    "        if row == 0 or col == 0 or row == col:\n",
    "            return 1\n",
    "\n",
    "        return get_num(row - 1, col - 1 ) + get_num(row - 1, col)\n",
    "\n",
    "    res = []\n",
    "    for i in range(row_index + 1):\n",
    "        res.append(get_num(row_index, i))\n",
    "\n",
    "    return res"
   ]
  },
  {
   "cell_type": "code",
   "execution_count": 18,
   "metadata": {},
   "outputs": [
    {
     "data": {
      "text/plain": [
       "[1, 10, 45, 120, 210, 252, 210, 120, 45, 10, 1]"
      ]
     },
     "execution_count": 18,
     "metadata": {},
     "output_type": "execute_result"
    }
   ],
   "source": [
    "get_row(10)"
   ]
  },
  {
   "cell_type": "code",
   "execution_count": null,
   "metadata": {},
   "outputs": [],
   "source": []
  }
 ],
 "metadata": {
  "interpreter": {
   "hash": "4c1a85674b7b9c706837e67e471571332ebf1f79fce68aebc7a712558674e3b4"
  },
  "kernelspec": {
   "display_name": "Python 3.10.2 64-bit",
   "language": "python",
   "name": "python3"
  },
  "language_info": {
   "codemirror_mode": {
    "name": "ipython",
    "version": 3
   },
   "file_extension": ".py",
   "mimetype": "text/x-python",
   "name": "python",
   "nbconvert_exporter": "python",
   "pygments_lexer": "ipython3",
   "version": "3.10.2"
  },
  "orig_nbformat": 4
 },
 "nbformat": 4,
 "nbformat_minor": 2
}
