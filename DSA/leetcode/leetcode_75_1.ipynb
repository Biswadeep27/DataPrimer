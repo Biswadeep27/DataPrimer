{
 "cells": [
  {
   "cell_type": "code",
   "execution_count": 7,
   "metadata": {},
   "outputs": [],
   "source": [
    "from typing import *"
   ]
  },
  {
   "cell_type": "code",
   "execution_count": 8,
   "metadata": {},
   "outputs": [],
   "source": [
    "#1480. Running Sum of 1d Array\n",
    "def runningSum(self, nums: List[int]) -> List[int]:\n",
    "    sum = 0\n",
    "    res = []\n",
    "    for i in nums:\n",
    "        sum += i\n",
    "        res.append(sum)\n",
    "\n",
    "    return res"
   ]
  },
  {
   "cell_type": "code",
   "execution_count": 9,
   "metadata": {},
   "outputs": [
    {
     "data": {
      "text/plain": [
       "(10, 10)"
      ]
     },
     "execution_count": 9,
     "metadata": {},
     "output_type": "execute_result"
    }
   ],
   "source": [
    "from functools import reduce\n",
    "l = [1,2,3,4]\n",
    "x = reduce(lambda x,y:x+y,l)\n",
    "x, sum(l)"
   ]
  },
  {
   "cell_type": "code",
   "execution_count": 15,
   "metadata": {},
   "outputs": [],
   "source": [
    "#724. find pivot index\n",
    "def pivotIndex( nums: List[int]) -> int:\n",
    "    arr_sum = sum(nums)\n",
    "    cum_sum = 0\n",
    "    for i in range(len(nums)):\n",
    "        cum_sum += nums[i]\n",
    "        left_sum = cum_sum - nums[i]\n",
    "        #print(f'i: {i}, left_sum: {str(left_sum - nums[i])}')\n",
    "        #print(f'right_sum: {str(arr_sum - left_sum - nums[i])}')\n",
    "        if left_sum == arr_sum - left_sum - nums[i]:\n",
    "            return i\n",
    "\n",
    "    return -1\n",
    "\n"
   ]
  },
  {
   "cell_type": "code",
   "execution_count": 16,
   "metadata": {},
   "outputs": [
    {
     "name": "stdout",
     "output_type": "stream",
     "text": [
      "i: 0, left_sum: -1\n",
      "right_sum: 27\n",
      "i: 1, left_sum: -6\n",
      "right_sum: 20\n",
      "i: 2, left_sum: 5\n",
      "right_sum: 17\n",
      "i: 3, left_sum: 5\n",
      "right_sum: 11\n"
     ]
    },
    {
     "data": {
      "text/plain": [
       "3"
      ]
     },
     "execution_count": 16,
     "metadata": {},
     "output_type": "execute_result"
    }
   ],
   "source": [
    "pivotIndex([1,7,3,6,5,6])"
   ]
  },
  {
   "cell_type": "code",
   "execution_count": 25,
   "metadata": {},
   "outputs": [
    {
     "name": "stdout",
     "output_type": "stream",
     "text": [
      "4 3\n",
      "3\n",
      "9 4\n",
      "4\n",
      "4 5\n",
      "5\n",
      "10 7\n",
      "7\n"
     ]
    }
   ],
   "source": [
    "a = [2,2,3,3,3,4,5,5,7,7,7]\n",
    "\n",
    "max_sum = 0\n",
    "group_sum = start_elem = ret_elem = a[0]\n",
    "\n",
    "for i in a[1:]:\n",
    "    \n",
    "    if i == start_elem:\n",
    "        group_sum += i\n",
    "\n",
    "    else:\n",
    "        print(group_sum, i)\n",
    "        if group_sum >= max_sum:\n",
    "            max_sum = group_sum\n",
    "\n",
    "        group_sum = start_elem = i\n",
    "        print(start_elem)\n",
    "        \n",
    "            \n",
    "\n",
    "\n"
   ]
  },
  {
   "cell_type": "code",
   "execution_count": 1,
   "metadata": {},
   "outputs": [],
   "source": [
    "#21 merge sorted linked list\n",
    "# Definition for singly-linked list.\n",
    "class ListNode:\n",
    "    def __init__(self, val=0, next=None):\n",
    "        self.val = val\n",
    "        self.next = next\n"
   ]
  },
  {
   "cell_type": "code",
   "execution_count": 15,
   "metadata": {},
   "outputs": [
    {
     "name": "stdout",
     "output_type": "stream",
     "text": [
      "1 2 4 None\n",
      "1 3 4 None\n"
     ]
    }
   ],
   "source": [
    "list1 = [1,2,4]\n",
    "list2 = [1,3,4]\n",
    "\n",
    "lr = ListNode(4)\n",
    "lm = ListNode(2,lr)\n",
    "ll1 = ListNode(1,lm)\n",
    "\n",
    "lm2 = ListNode(3,lr)\n",
    "ll2 = ListNode(1,lm2) \n",
    "\n",
    "print(ll1.val,ll1.next.val, ll1.next.next.val, ll1.next.next.next)\n",
    "print(ll2.val,ll2.next.val, ll2.next.next.val, ll2.next.next.next)\n",
    "\n"
   ]
  },
  {
   "cell_type": "code",
   "execution_count": 16,
   "metadata": {},
   "outputs": [],
   "source": [
    "\n",
    "def mergeTwoLists(list1: Optional[ListNode], list2: Optional[ListNode]) -> Optional[ListNode]:\n",
    "    prehead = ListNode(-1)\n",
    "\n",
    "    prev = prehead\n",
    "    while list1 and list2:\n",
    "        if list1.val <= list2.val:\n",
    "            prev.next = list1\n",
    "            list1 = list1.next\n",
    "        else:\n",
    "            prev.next = list2\n",
    "            list2 = list2.next\n",
    "\n",
    "        prev = prev.next\n",
    "\n",
    "    prev.next = list1 if list1 else list2\n",
    "\n",
    "    return prehead.next\n"
   ]
  },
  {
   "cell_type": "code",
   "execution_count": 17,
   "metadata": {},
   "outputs": [
    {
     "data": {
      "text/plain": [
       "1"
      ]
     },
     "execution_count": 17,
     "metadata": {},
     "output_type": "execute_result"
    }
   ],
   "source": [
    "mergeTwoLists(ll1,ll2).val"
   ]
  },
  {
   "cell_type": "code",
   "execution_count": 1,
   "metadata": {},
   "outputs": [],
   "source": [
    "def sum(list):\n",
    "    if len(list) == 1:\n",
    "        if list[0] % 2:\n",
    "            return list[0]\n",
    "        else:\n",
    "            return 0\n",
    "    else:\n",
    "        if list[0] % 2 :\n",
    "            return list[0] + sum(list[1:])\n",
    "        else:\n",
    "            return sum(list[1:])"
   ]
  },
  {
   "cell_type": "code",
   "execution_count": 2,
   "metadata": {},
   "outputs": [
    {
     "data": {
      "text/plain": [
       "20"
      ]
     },
     "execution_count": 2,
     "metadata": {},
     "output_type": "execute_result"
    }
   ],
   "source": [
    "sum([5,7,3,8,5,6])"
   ]
  },
  {
   "cell_type": "code",
   "execution_count": 3,
   "metadata": {},
   "outputs": [
    {
     "name": "stdout",
     "output_type": "stream",
     "text": [
      "3.142\n"
     ]
    }
   ],
   "source": [
    "import math\n",
    "print(f'{math.pi:.3f}')"
   ]
  },
  {
   "cell_type": "code",
   "execution_count": 4,
   "metadata": {},
   "outputs": [
    {
     "ename": "TypeError",
     "evalue": "unsupported operand type(s) for -: 'list' and 'list'",
     "output_type": "error",
     "traceback": [
      "\u001b[0;31m---------------------------------------------------------------------------\u001b[0m",
      "\u001b[0;31mTypeError\u001b[0m                                 Traceback (most recent call last)",
      "\u001b[1;32m/Users/bupadhy/Library/CloudStorage/OneDrive-Lowe'sCompaniesInc/Documents/DataScience/DSA/leetcode/leetcode_75_1.ipynb Cell 14'\u001b[0m in \u001b[0;36m<cell line: 1>\u001b[0;34m()\u001b[0m\n\u001b[0;32m----> <a href='vscode-notebook-cell:/Users/bupadhy/Library/CloudStorage/OneDrive-Lowe%27sCompaniesInc/Documents/DataScience/DSA/leetcode/leetcode_75_1.ipynb#ch0000013?line=0'>1</a>\u001b[0m [\u001b[39m1\u001b[39;49m,\u001b[39m2\u001b[39;49m,\u001b[39m3\u001b[39;49m,\u001b[39m4\u001b[39;49m,\u001b[39m5\u001b[39;49m] \u001b[39m-\u001b[39;49m [\u001b[39m1\u001b[39;49m,\u001b[39m2\u001b[39;49m,\u001b[39m3\u001b[39;49m,\u001b[39m4\u001b[39;49m,\u001b[39m5\u001b[39;49m]\n",
      "\u001b[0;31mTypeError\u001b[0m: unsupported operand type(s) for -: 'list' and 'list'"
     ]
    }
   ],
   "source": [
    "[1,2,3,4,5] - [1,2,3,4,5]"
   ]
  },
  {
   "cell_type": "code",
   "execution_count": 5,
   "metadata": {},
   "outputs": [
    {
     "name": "stdout",
     "output_type": "stream",
     "text": [
      "The equation is:\n"
     ]
    },
    {
     "data": {
      "text/latex": [
       "$\\displaystyle y= 3x+5$"
      ],
      "text/plain": [
       "<IPython.core.display.Math object>"
      ]
     },
     "metadata": {},
     "output_type": "display_data"
    }
   ],
   "source": [
    "from IPython.display import display, Math\n",
    "\n",
    "a = 3\n",
    "b = 5\n",
    "print(\"The equation is:\")\n",
    "display(Math(f\"y= {a}x+{b}\"))"
   ]
  },
  {
   "cell_type": "code",
   "execution_count": 1,
   "metadata": {},
   "outputs": [
    {
     "data": {
      "text/plain": [
       "11"
      ]
     },
     "execution_count": 1,
     "metadata": {},
     "output_type": "execute_result"
    }
   ],
   "source": [
    "x = 123\n",
    "temp = x\n",
    "\n",
    "\n",
    "def f(x):\n",
    "    yield x + 1\n",
    "    print('test')\n",
    "    yield x + 2\n",
    "\n",
    "g = f(10)\n",
    "\n",
    "next(g)"
   ]
  },
  {
   "cell_type": "code",
   "execution_count": 8,
   "metadata": {},
   "outputs": [
    {
     "ename": "StopIteration",
     "evalue": "",
     "output_type": "error",
     "traceback": [
      "\u001b[0;31m---------------------------------------------------------------------------\u001b[0m",
      "\u001b[0;31mStopIteration\u001b[0m                             Traceback (most recent call last)",
      "\u001b[1;32m/Users/bupadhy/Library/CloudStorage/OneDrive-Lowe'sCompaniesInc/Documents/DataScience/DSA/leetcode/leetcode_75_1.ipynb Cell 17'\u001b[0m in \u001b[0;36m<cell line: 1>\u001b[0;34m()\u001b[0m\n\u001b[0;32m----> <a href='vscode-notebook-cell:/Users/bupadhy/Library/CloudStorage/OneDrive-Lowe%27sCompaniesInc/Documents/DataScience/DSA/leetcode/leetcode_75_1.ipynb#ch0000022?line=0'>1</a>\u001b[0m \u001b[39mnext\u001b[39;49m(g)\n",
      "\u001b[0;31mStopIteration\u001b[0m: "
     ]
    }
   ],
   "source": [
    "next(g)"
   ]
  },
  {
   "cell_type": "code",
   "execution_count": 2,
   "metadata": {},
   "outputs": [],
   "source": [
    "x = {'a':100}\n",
    "\n",
    "x.clear()"
   ]
  },
  {
   "cell_type": "code",
   "execution_count": 3,
   "metadata": {},
   "outputs": [
    {
     "data": {
      "text/plain": [
       "{}"
      ]
     },
     "execution_count": 3,
     "metadata": {},
     "output_type": "execute_result"
    }
   ],
   "source": [
    "x"
   ]
  },
  {
   "cell_type": "code",
   "execution_count": 4,
   "metadata": {},
   "outputs": [],
   "source": [
    "for k,v in x.items():\n",
    "    print(k)"
   ]
  },
  {
   "cell_type": "code",
   "execution_count": 5,
   "metadata": {},
   "outputs": [],
   "source": [
    "del x"
   ]
  },
  {
   "cell_type": "code",
   "execution_count": 6,
   "metadata": {},
   "outputs": [
    {
     "ename": "NameError",
     "evalue": "name 'x' is not defined",
     "output_type": "error",
     "traceback": [
      "\u001b[0;31m---------------------------------------------------------------------------\u001b[0m",
      "\u001b[0;31mNameError\u001b[0m                                 Traceback (most recent call last)",
      "\u001b[1;32m/Users/bupadhy/Library/CloudStorage/OneDrive-Lowe'sCompaniesInc/Documents/DataScience/DSA/leetcode/leetcode_75_1.ipynb Cell 21'\u001b[0m in \u001b[0;36m<cell line: 1>\u001b[0;34m()\u001b[0m\n\u001b[0;32m----> <a href='vscode-notebook-cell:/Users/bupadhy/Library/CloudStorage/OneDrive-Lowe%27sCompaniesInc/Documents/DataScience/DSA/leetcode/leetcode_75_1.ipynb#ch0000020?line=0'>1</a>\u001b[0m x\n",
      "\u001b[0;31mNameError\u001b[0m: name 'x' is not defined"
     ]
    }
   ],
   "source": [
    "x"
   ]
  },
  {
   "cell_type": "code",
   "execution_count": 9,
   "metadata": {},
   "outputs": [
    {
     "ename": "TypeError",
     "evalue": "'tuple' object does not support item assignment",
     "output_type": "error",
     "traceback": [
      "\u001b[0;31m---------------------------------------------------------------------------\u001b[0m",
      "\u001b[0;31mTypeError\u001b[0m                                 Traceback (most recent call last)",
      "\u001b[1;32m/Users/bupadhy/Library/CloudStorage/OneDrive-Lowe'sCompaniesInc/Documents/DataScience/DSA/leetcode/leetcode_75_1.ipynb Cell 23'\u001b[0m in \u001b[0;36m<cell line: 3>\u001b[0;34m()\u001b[0m\n\u001b[1;32m      <a href='vscode-notebook-cell:/Users/bupadhy/Library/CloudStorage/OneDrive-Lowe%27sCompaniesInc/Documents/DataScience/DSA/leetcode/leetcode_75_1.ipynb#ch0000021?line=0'>1</a>\u001b[0m a \u001b[39m=\u001b[39m [\u001b[39m1\u001b[39m,\u001b[39m2\u001b[39m,\u001b[39m3\u001b[39m]\n\u001b[1;32m      <a href='vscode-notebook-cell:/Users/bupadhy/Library/CloudStorage/OneDrive-Lowe%27sCompaniesInc/Documents/DataScience/DSA/leetcode/leetcode_75_1.ipynb#ch0000021?line=1'>2</a>\u001b[0m a \u001b[39m=\u001b[39m \u001b[39mtuple\u001b[39m(a)\n\u001b[0;32m----> <a href='vscode-notebook-cell:/Users/bupadhy/Library/CloudStorage/OneDrive-Lowe%27sCompaniesInc/Documents/DataScience/DSA/leetcode/leetcode_75_1.ipynb#ch0000021?line=2'>3</a>\u001b[0m a[\u001b[39m0\u001b[39m] \u001b[39m=\u001b[39m \u001b[39m2\u001b[39m\n",
      "\u001b[0;31mTypeError\u001b[0m: 'tuple' object does not support item assignment"
     ]
    }
   ],
   "source": [
    "a = [1,2,3]\n",
    "a = tuple(a)\n",
    "a[0] = 2\n"
   ]
  },
  {
   "cell_type": "code",
   "execution_count": 10,
   "metadata": {},
   "outputs": [
    {
     "name": "stdout",
     "output_type": "stream",
     "text": [
      "0\n",
      "1\n",
      "1\n",
      "2\n",
      "3\n",
      "5\n"
     ]
    }
   ],
   "source": [
    "x = 0\n",
    "y = 1\n",
    "z = 0\n",
    "\n",
    "for i in range(6):\n",
    "    print(z)\n",
    "    x=y\n",
    "    y=z\n",
    "    z = x + y"
   ]
  },
  {
   "cell_type": "code",
   "execution_count": 13,
   "metadata": {},
   "outputs": [],
   "source": [
    "def foo():\n",
    "    try:\n",
    "        return 1\n",
    "    finally:\n",
    "        return 2"
   ]
  },
  {
   "cell_type": "code",
   "execution_count": 14,
   "metadata": {},
   "outputs": [
    {
     "data": {
      "text/plain": [
       "2"
      ]
     },
     "execution_count": 14,
     "metadata": {},
     "output_type": "execute_result"
    }
   ],
   "source": [
    "foo()"
   ]
  },
  {
   "cell_type": "code",
   "execution_count": 16,
   "metadata": {},
   "outputs": [],
   "source": [
    "def scope_test():    \n",
    "    def do_local():\n",
    "        spam = 'local spam'\n",
    "\n",
    "    def do_nonlocal():\n",
    "        nonlocal spam\n",
    "        spam = 'nonlocal spam'\n",
    "\n",
    "    def do_global():\n",
    "        global spam\n",
    "        spam = 'global spam'\n",
    "\n",
    "\n",
    "    spam = 'test spam'\n",
    "    do_local()\n",
    "    print(spam)\n",
    "    do_nonlocal()\n",
    "    print(spam)\n",
    "    do_global()\n",
    "    print(spam)\n",
    "\n",
    "\n",
    "\n",
    "\n"
   ]
  },
  {
   "cell_type": "code",
   "execution_count": 17,
   "metadata": {},
   "outputs": [
    {
     "name": "stdout",
     "output_type": "stream",
     "text": [
      "test spam\n",
      "nonlocal spam\n",
      "nonlocal spam\n",
      "global spam\n"
     ]
    }
   ],
   "source": [
    "scope_test()\n",
    "print(spam)"
   ]
  },
  {
   "cell_type": "code",
   "execution_count": 22,
   "metadata": {},
   "outputs": [],
   "source": [
    "x = {4:1}"
   ]
  },
  {
   "cell_type": "code",
   "execution_count": 26,
   "metadata": {},
   "outputs": [
    {
     "data": {
      "text/plain": [
       "[(1, 'a', 'xxx')]"
      ]
     },
     "execution_count": 26,
     "metadata": {},
     "output_type": "execute_result"
    }
   ],
   "source": [
    "list(zip((1,2,3),('a'),('xxx','yyy')))\n",
    "#list(zip((2,4),('b','c'),('yy','xx')))\n",
    "list(zip((1,2,3),('a'),('xxx','yyy')))"
   ]
  },
  {
   "cell_type": "code",
   "execution_count": 27,
   "metadata": {},
   "outputs": [
    {
     "name": "stdout",
     "output_type": "stream",
     "text": [
      "Collecting contractions\n",
      "  Downloading contractions-0.1.72-py2.py3-none-any.whl (8.3 kB)\n",
      "Collecting textsearch>=0.0.21\n",
      "  Downloading textsearch-0.0.21-py2.py3-none-any.whl (7.5 kB)\n",
      "Collecting pyahocorasick\n",
      "  Downloading pyahocorasick-1.4.4-cp310-cp310-macosx_10_9_x86_64.whl (32 kB)\n",
      "Collecting anyascii\n",
      "  Downloading anyascii-0.3.1-py3-none-any.whl (287 kB)\n",
      "\u001b[2K     \u001b[90m━━━━━━━━━━━━━━━━━━━━━━━━━━━━━━━━━━━━━━━\u001b[0m \u001b[32m287.5/287.5 kB\u001b[0m \u001b[31m1.0 MB/s\u001b[0m eta \u001b[36m0:00:00\u001b[0ma \u001b[36m0:00:01\u001b[0m\n",
      "\u001b[?25hInstalling collected packages: pyahocorasick, anyascii, textsearch, contractions\n",
      "Successfully installed anyascii-0.3.1 contractions-0.1.72 pyahocorasick-1.4.4 textsearch-0.0.21\n",
      "\u001b[33mWARNING: There was an error checking the latest version of pip.\u001b[0m\u001b[33m\n",
      "\u001b[0m"
     ]
    }
   ],
   "source": [
    "!pip3 install contractions"
   ]
  },
  {
   "cell_type": "code",
   "execution_count": 1,
   "metadata": {},
   "outputs": [
    {
     "data": {
      "text/plain": [
       "'I am awake'"
      ]
     },
     "execution_count": 1,
     "metadata": {},
     "output_type": "execute_result"
    }
   ],
   "source": [
    "import contractions as ct\n",
    "\n",
    "ct.fix(\"I'm awake\")"
   ]
  },
  {
   "cell_type": "code",
   "execution_count": 1,
   "metadata": {},
   "outputs": [],
   "source": [
    "#1473. Paint House III\n",
    "import boto3\n"
   ]
  },
  {
   "cell_type": "code",
   "execution_count": 14,
   "metadata": {},
   "outputs": [
    {
     "data": {
      "text/plain": [
       "{'b': [9, 10, 1], 'c': [1, 15, 87], 'a': [49, 89, 30]}"
      ]
     },
     "execution_count": 14,
     "metadata": {},
     "output_type": "execute_result"
    }
   ],
   "source": [
    "a = {'a':[49,89,30], 'b':[9,10,1], 'c':[1,15,87] }\n",
    "\n",
    "to_sort_vals = [x[1] for x in a.values()]\n",
    "sorted_vals = []\n",
    "\n",
    "\n",
    "while to_sort_vals:\n",
    "    min_elem = to_sort_vals[0]\n",
    "    for _i in to_sort_vals:\n",
    "        min_elem = min(_i, min_elem)\n",
    "    \n",
    "    sorted_vals.append(min_elem)\n",
    "    to_sort_vals.remove(min_elem)\n",
    "\n",
    "\n",
    "res = {k:v for i in sorted_vals for k,v in a.items() if v[1] == i}\n",
    "\n",
    "res"
   ]
  },
  {
   "cell_type": "code",
   "execution_count": 3,
   "metadata": {},
   "outputs": [
    {
     "data": {
      "text/plain": [
       "['Apple', 'Abhi', 'Abhi', 'Java', 'Java', 'Java']"
      ]
     },
     "execution_count": 3,
     "metadata": {},
     "output_type": "execute_result"
    }
   ],
   "source": [
    "data = ['Java','Apple','Java','Abhi','Abhi','Java']\n",
    "\n",
    "_fr = {}\n",
    "for i in data:\n",
    "    _fr[i] = _fr.get(i,0) + 1\n",
    "\n",
    "\n",
    "to_sort_vals = [v for v in _fr.values()]\n",
    "sorted_vals = []\n",
    "\n",
    "while to_sort_vals:\n",
    "    min_elem = to_sort_vals[0]\n",
    "    for _i in to_sort_vals:\n",
    "        min_elem = min(_i, min_elem)\n",
    "    \n",
    "    sorted_vals.append(min_elem)\n",
    "    to_sort_vals.remove(min_elem)\n",
    "\n",
    "\n",
    "sub_res = [[k]*v for i in sorted_vals for k,v in _fr.items() if v == i]\n",
    "\n",
    "res = []\n",
    "for _el in sub_res:\n",
    "    res.extend(_el)\n",
    "\n",
    "res"
   ]
  },
  {
   "cell_type": "code",
   "execution_count": null,
   "metadata": {},
   "outputs": [],
   "source": []
  }
 ],
 "metadata": {
  "interpreter": {
   "hash": "b460384b52104c1e5b9cf54bee46a255d22b2bef338f75ac4ad5d48196028d3c"
  },
  "kernelspec": {
   "display_name": "Python 3.10.2 64-bit",
   "language": "python",
   "name": "python3"
  },
  "language_info": {
   "codemirror_mode": {
    "name": "ipython",
    "version": 3
   },
   "file_extension": ".py",
   "mimetype": "text/x-python",
   "name": "python",
   "nbconvert_exporter": "python",
   "pygments_lexer": "ipython3",
   "version": "3.10.2"
  },
  "orig_nbformat": 4
 },
 "nbformat": 4,
 "nbformat_minor": 2
}
