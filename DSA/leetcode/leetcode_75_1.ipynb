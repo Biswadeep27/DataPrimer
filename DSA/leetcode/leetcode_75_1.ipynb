{
 "cells": [
  {
   "cell_type": "code",
   "execution_count": 1,
   "metadata": {},
   "outputs": [],
   "source": [
    "from typing import *"
   ]
  },
  {
   "cell_type": "code",
   "execution_count": 8,
   "metadata": {},
   "outputs": [],
   "source": [
    "#1480. Running Sum of 1d Array\n",
    "def runningSum(self, nums: List[int]) -> List[int]:\n",
    "    sum = 0\n",
    "    res = []\n",
    "    for i in nums:\n",
    "        sum += i\n",
    "        res.append(sum)\n",
    "\n",
    "    return res"
   ]
  },
  {
   "cell_type": "code",
   "execution_count": 9,
   "metadata": {},
   "outputs": [
    {
     "data": {
      "text/plain": [
       "(10, 10)"
      ]
     },
     "execution_count": 9,
     "metadata": {},
     "output_type": "execute_result"
    }
   ],
   "source": [
    "from functools import reduce\n",
    "l = [1,2,3,4]\n",
    "x = reduce(lambda x,y:x+y,l)\n",
    "x, sum(l)"
   ]
  },
  {
   "cell_type": "code",
   "execution_count": 15,
   "metadata": {},
   "outputs": [],
   "source": [
    "#724. find pivot index\n",
    "def pivotIndex( nums: List[int]) -> int:\n",
    "    arr_sum = sum(nums)\n",
    "    cum_sum = 0\n",
    "    for i in range(len(nums)):\n",
    "        cum_sum += nums[i]\n",
    "        left_sum = cum_sum - nums[i]\n",
    "        #print(f'i: {i}, left_sum: {str(left_sum - nums[i])}')\n",
    "        #print(f'right_sum: {str(arr_sum - left_sum - nums[i])}')\n",
    "        if left_sum == arr_sum - left_sum - nums[i]:\n",
    "            return i\n",
    "\n",
    "    return -1\n",
    "\n"
   ]
  },
  {
   "cell_type": "code",
   "execution_count": 16,
   "metadata": {},
   "outputs": [
    {
     "name": "stdout",
     "output_type": "stream",
     "text": [
      "i: 0, left_sum: -1\n",
      "right_sum: 27\n",
      "i: 1, left_sum: -6\n",
      "right_sum: 20\n",
      "i: 2, left_sum: 5\n",
      "right_sum: 17\n",
      "i: 3, left_sum: 5\n",
      "right_sum: 11\n"
     ]
    },
    {
     "data": {
      "text/plain": [
       "3"
      ]
     },
     "execution_count": 16,
     "metadata": {},
     "output_type": "execute_result"
    }
   ],
   "source": [
    "pivotIndex([1,7,3,6,5,6])"
   ]
  },
  {
   "cell_type": "code",
   "execution_count": 25,
   "metadata": {},
   "outputs": [
    {
     "name": "stdout",
     "output_type": "stream",
     "text": [
      "4 3\n",
      "3\n",
      "9 4\n",
      "4\n",
      "4 5\n",
      "5\n",
      "10 7\n",
      "7\n"
     ]
    }
   ],
   "source": [
    "a = [2,2,3,3,3,4,5,5,7,7,7]\n",
    "\n",
    "max_sum = 0\n",
    "group_sum = start_elem = ret_elem = a[0]\n",
    "\n",
    "for i in a[1:]:\n",
    "    \n",
    "    if i == start_elem:\n",
    "        group_sum += i\n",
    "\n",
    "    else:\n",
    "        print(group_sum, i)\n",
    "        if group_sum >= max_sum:\n",
    "            max_sum = group_sum\n",
    "\n",
    "        group_sum = start_elem = i\n",
    "        print(start_elem)\n",
    "        \n",
    "            \n",
    "\n",
    "\n"
   ]
  },
  {
   "cell_type": "code",
   "execution_count": null,
   "metadata": {},
   "outputs": [],
   "source": []
  }
 ],
 "metadata": {
  "interpreter": {
   "hash": "b460384b52104c1e5b9cf54bee46a255d22b2bef338f75ac4ad5d48196028d3c"
  },
  "kernelspec": {
   "display_name": "Python 3.10.2 64-bit",
   "language": "python",
   "name": "python3"
  },
  "language_info": {
   "codemirror_mode": {
    "name": "ipython",
    "version": 3
   },
   "file_extension": ".py",
   "mimetype": "text/x-python",
   "name": "python",
   "nbconvert_exporter": "python",
   "pygments_lexer": "ipython3",
   "version": "3.10.2"
  },
  "orig_nbformat": 4
 },
 "nbformat": 4,
 "nbformat_minor": 2
}
