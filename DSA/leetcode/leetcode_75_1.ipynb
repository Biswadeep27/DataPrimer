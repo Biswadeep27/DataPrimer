{
 "cells": [
  {
   "cell_type": "code",
   "execution_count": 7,
   "metadata": {},
   "outputs": [],
   "source": [
    "from typing import *"
   ]
  },
  {
   "cell_type": "code",
   "execution_count": 8,
   "metadata": {},
   "outputs": [],
   "source": [
    "#1480. Running Sum of 1d Array\n",
    "def runningSum(self, nums: List[int]) -> List[int]:\n",
    "    sum = 0\n",
    "    res = []\n",
    "    for i in nums:\n",
    "        sum += i\n",
    "        res.append(sum)\n",
    "\n",
    "    return res"
   ]
  },
  {
   "cell_type": "code",
   "execution_count": 9,
   "metadata": {},
   "outputs": [
    {
     "data": {
      "text/plain": [
       "(10, 10)"
      ]
     },
     "execution_count": 9,
     "metadata": {},
     "output_type": "execute_result"
    }
   ],
   "source": [
    "from functools import reduce\n",
    "l = [1,2,3,4]\n",
    "x = reduce(lambda x,y:x+y,l)\n",
    "x, sum(l)"
   ]
  },
  {
   "cell_type": "code",
   "execution_count": 15,
   "metadata": {},
   "outputs": [],
   "source": [
    "#724. find pivot index\n",
    "def pivotIndex( nums: List[int]) -> int:\n",
    "    arr_sum = sum(nums)\n",
    "    cum_sum = 0\n",
    "    for i in range(len(nums)):\n",
    "        cum_sum += nums[i]\n",
    "        left_sum = cum_sum - nums[i]\n",
    "        #print(f'i: {i}, left_sum: {str(left_sum - nums[i])}')\n",
    "        #print(f'right_sum: {str(arr_sum - left_sum - nums[i])}')\n",
    "        if left_sum == arr_sum - left_sum - nums[i]:\n",
    "            return i\n",
    "\n",
    "    return -1\n",
    "\n"
   ]
  },
  {
   "cell_type": "code",
   "execution_count": 16,
   "metadata": {},
   "outputs": [
    {
     "name": "stdout",
     "output_type": "stream",
     "text": [
      "i: 0, left_sum: -1\n",
      "right_sum: 27\n",
      "i: 1, left_sum: -6\n",
      "right_sum: 20\n",
      "i: 2, left_sum: 5\n",
      "right_sum: 17\n",
      "i: 3, left_sum: 5\n",
      "right_sum: 11\n"
     ]
    },
    {
     "data": {
      "text/plain": [
       "3"
      ]
     },
     "execution_count": 16,
     "metadata": {},
     "output_type": "execute_result"
    }
   ],
   "source": [
    "pivotIndex([1,7,3,6,5,6])"
   ]
  },
  {
   "cell_type": "code",
   "execution_count": 25,
   "metadata": {},
   "outputs": [
    {
     "name": "stdout",
     "output_type": "stream",
     "text": [
      "4 3\n",
      "3\n",
      "9 4\n",
      "4\n",
      "4 5\n",
      "5\n",
      "10 7\n",
      "7\n"
     ]
    }
   ],
   "source": [
    "a = [2,2,3,3,3,4,5,5,7,7,7]\n",
    "\n",
    "max_sum = 0\n",
    "group_sum = start_elem = ret_elem = a[0]\n",
    "\n",
    "for i in a[1:]:\n",
    "    \n",
    "    if i == start_elem:\n",
    "        group_sum += i\n",
    "\n",
    "    else:\n",
    "        print(group_sum, i)\n",
    "        if group_sum >= max_sum:\n",
    "            max_sum = group_sum\n",
    "\n",
    "        group_sum = start_elem = i\n",
    "        print(start_elem)\n",
    "        \n",
    "            \n",
    "\n",
    "\n"
   ]
  },
  {
   "cell_type": "code",
   "execution_count": 1,
   "metadata": {},
   "outputs": [],
   "source": [
    "#21 merge sorted linked list\n",
    "# Definition for singly-linked list.\n",
    "class ListNode:\n",
    "    def __init__(self, val=0, next=None):\n",
    "        self.val = val\n",
    "        self.next = next\n"
   ]
  },
  {
   "cell_type": "code",
   "execution_count": 15,
   "metadata": {},
   "outputs": [
    {
     "name": "stdout",
     "output_type": "stream",
     "text": [
      "1 2 4 None\n",
      "1 3 4 None\n"
     ]
    }
   ],
   "source": [
    "list1 = [1,2,4]\n",
    "list2 = [1,3,4]\n",
    "\n",
    "lr = ListNode(4)\n",
    "lm = ListNode(2,lr)\n",
    "ll1 = ListNode(1,lm)\n",
    "\n",
    "lm2 = ListNode(3,lr)\n",
    "ll2 = ListNode(1,lm2) \n",
    "\n",
    "print(ll1.val,ll1.next.val, ll1.next.next.val, ll1.next.next.next)\n",
    "print(ll2.val,ll2.next.val, ll2.next.next.val, ll2.next.next.next)\n",
    "\n"
   ]
  },
  {
   "cell_type": "code",
   "execution_count": 16,
   "metadata": {},
   "outputs": [],
   "source": [
    "\n",
    "def mergeTwoLists(list1: Optional[ListNode], list2: Optional[ListNode]) -> Optional[ListNode]:\n",
    "    prehead = ListNode(-1)\n",
    "\n",
    "    prev = prehead\n",
    "    while list1 and list2:\n",
    "        if list1.val <= list2.val:\n",
    "            prev.next = list1\n",
    "            list1 = list1.next\n",
    "        else:\n",
    "            prev.next = list2\n",
    "            list2 = list2.next\n",
    "\n",
    "        prev = prev.next\n",
    "\n",
    "    prev.next = list1 if list1 else list2\n",
    "\n",
    "    return prehead.next\n"
   ]
  },
  {
   "cell_type": "code",
   "execution_count": 17,
   "metadata": {},
   "outputs": [
    {
     "data": {
      "text/plain": [
       "1"
      ]
     },
     "execution_count": 17,
     "metadata": {},
     "output_type": "execute_result"
    }
   ],
   "source": [
    "mergeTwoLists(ll1,ll2).val"
   ]
  },
  {
   "cell_type": "code",
   "execution_count": 1,
   "metadata": {},
   "outputs": [],
   "source": [
    "def sum(list):\n",
    "    if len(list) == 1:\n",
    "        if list[0] % 2:\n",
    "            return list[0]\n",
    "        else:\n",
    "            return 0\n",
    "    else:\n",
    "        if list[0] % 2 :\n",
    "            return list[0] + sum(list[1:])\n",
    "        else:\n",
    "            return sum(list[1:])"
   ]
  },
  {
   "cell_type": "code",
   "execution_count": 2,
   "metadata": {},
   "outputs": [
    {
     "data": {
      "text/plain": [
       "20"
      ]
     },
     "execution_count": 2,
     "metadata": {},
     "output_type": "execute_result"
    }
   ],
   "source": [
    "sum([5,7,3,8,5,6])"
   ]
  },
  {
   "cell_type": "code",
   "execution_count": 3,
   "metadata": {},
   "outputs": [
    {
     "name": "stdout",
     "output_type": "stream",
     "text": [
      "3.142\n"
     ]
    }
   ],
   "source": [
    "import math\n",
    "print(f'{math.pi:.3f}')"
   ]
  },
  {
   "cell_type": "code",
   "execution_count": 4,
   "metadata": {},
   "outputs": [
    {
     "ename": "TypeError",
     "evalue": "unsupported operand type(s) for -: 'list' and 'list'",
     "output_type": "error",
     "traceback": [
      "\u001b[0;31m---------------------------------------------------------------------------\u001b[0m",
      "\u001b[0;31mTypeError\u001b[0m                                 Traceback (most recent call last)",
      "\u001b[1;32m/Users/bupadhy/Library/CloudStorage/OneDrive-Lowe'sCompaniesInc/Documents/DataScience/DSA/leetcode/leetcode_75_1.ipynb Cell 14'\u001b[0m in \u001b[0;36m<cell line: 1>\u001b[0;34m()\u001b[0m\n\u001b[0;32m----> <a href='vscode-notebook-cell:/Users/bupadhy/Library/CloudStorage/OneDrive-Lowe%27sCompaniesInc/Documents/DataScience/DSA/leetcode/leetcode_75_1.ipynb#ch0000013?line=0'>1</a>\u001b[0m [\u001b[39m1\u001b[39;49m,\u001b[39m2\u001b[39;49m,\u001b[39m3\u001b[39;49m,\u001b[39m4\u001b[39;49m,\u001b[39m5\u001b[39;49m] \u001b[39m-\u001b[39;49m [\u001b[39m1\u001b[39;49m,\u001b[39m2\u001b[39;49m,\u001b[39m3\u001b[39;49m,\u001b[39m4\u001b[39;49m,\u001b[39m5\u001b[39;49m]\n",
      "\u001b[0;31mTypeError\u001b[0m: unsupported operand type(s) for -: 'list' and 'list'"
     ]
    }
   ],
   "source": [
    "[1,2,3,4,5] - [1,2,3,4,5]"
   ]
  },
  {
   "cell_type": "code",
   "execution_count": null,
   "metadata": {},
   "outputs": [],
   "source": []
  }
 ],
 "metadata": {
  "interpreter": {
   "hash": "b460384b52104c1e5b9cf54bee46a255d22b2bef338f75ac4ad5d48196028d3c"
  },
  "kernelspec": {
   "display_name": "Python 3.10.2 64-bit",
   "language": "python",
   "name": "python3"
  },
  "language_info": {
   "codemirror_mode": {
    "name": "ipython",
    "version": 3
   },
   "file_extension": ".py",
   "mimetype": "text/x-python",
   "name": "python",
   "nbconvert_exporter": "python",
   "pygments_lexer": "ipython3",
   "version": "3.10.2"
  },
  "orig_nbformat": 4
 },
 "nbformat": 4,
 "nbformat_minor": 2
}
