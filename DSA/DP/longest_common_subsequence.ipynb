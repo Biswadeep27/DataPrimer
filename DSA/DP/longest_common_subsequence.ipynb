{
 "cells": [
  {
   "cell_type": "markdown",
   "metadata": {},
   "source": [
    "***Problem***\n",
    "\n",
    "> We are given two sequences and we need to find the length of longest common subsequence between them.\n",
    "</br>\n",
    "\n",
    "**Input**\n",
    "\n",
    "1. **seq1**: A sequence (list,string) e.g `'serendipitous'`\n",
    "2. **seq2**: Another sequence (list,string) e.g `'precepitation'`\n",
    "\n",
    "**output**\n",
    "1. **len_lcs**: Length of the longest common subsequence e.g 7\n"
   ]
  },
  {
   "cell_type": "markdown",
   "metadata": {},
   "source": [
    "**Test Cases**\n",
    "\n",
    "1. General case (String)\n",
    "2. General case (List)\n",
    "3. No common subsequene\n",
    "4. One is a subsequence of another\n",
    "5. One sequcne is empty\n",
    "6. Both sequences are empty\n",
    "7. Multiple subsequences with same length e.g `'abcdef'` & `'badcfe'`"
   ]
  },
  {
   "cell_type": "code",
   "execution_count": 2,
   "metadata": {},
   "outputs": [],
   "source": [
    "# test cases\n",
    "T0 = {\n",
    "    'input': {\n",
    "        'seq1': 'serendipitous',\n",
    "        'seq2': 'precipitation'\n",
    "    },\n",
    "    'output': 7\n",
    "}\n",
    "\n",
    "T1 = {\n",
    "    'input': {\n",
    "        'seq1': [1, 3, 5, 6, 7, 2, 5, 2, 3],\n",
    "        'seq2': [6, 2, 4, 7, 1, 5, 6, 2, 3]\n",
    "    },\n",
    "    'output': 5\n",
    "}\n",
    "\n",
    "T2 = {\n",
    "    'input': {\n",
    "        'seq1': 'longest',\n",
    "        'seq2': 'stone'\n",
    "    },\n",
    "    'output': 3\n",
    "}\n",
    "\n",
    "T3 = {\n",
    "    'input': {\n",
    "        'seq1': 'asdfwevad',\n",
    "        'seq2': 'opkpoiklklj'\n",
    "    },\n",
    "    'output': 0\n",
    "}\n",
    "\n",
    "T4 = {\n",
    "    'input': {\n",
    "        'seq1': 'dense',\n",
    "        'seq2': 'condensed'\n",
    "    },\n",
    "    'output': 5\n",
    "}\n",
    "\n",
    "T5 = {\n",
    "    'input': {\n",
    "        'seq1': '',\n",
    "        'seq2': 'opkpoiklklj'\n",
    "    },\n",
    "    'output': 0\n",
    "}\n",
    "\n",
    "T6 = {\n",
    "    'input': {\n",
    "        'seq1': '',\n",
    "        'seq2': ''\n",
    "    },\n",
    "    'output': 0\n",
    "}\n",
    "\n",
    "T7 = {\n",
    "    'input': {\n",
    "        'seq1': 'abcdef',\n",
    "        'seq2': 'badcfe'\n",
    "    },\n",
    "    'output': 3\n",
    "}"
   ]
  },
  {
   "cell_type": "code",
   "execution_count": 3,
   "metadata": {},
   "outputs": [],
   "source": [
    "lcs_tests = [T0, T1, T2, T3, T4, T5, T6, T7]"
   ]
  },
  {
   "cell_type": "code",
   "execution_count": 1,
   "metadata": {},
   "outputs": [],
   "source": [
    "from typing import *"
   ]
  },
  {
   "cell_type": "code",
   "execution_count": 7,
   "metadata": {},
   "outputs": [],
   "source": [
    "#recursion only\n",
    "def len_lcs(seq1: Optional[str], seq2: Optional[str]) -> int:\n",
    "    \n",
    "    def lcs_recursive(seq1: Optional[str], seq2: Optional[str], idx1: int = 0, idx2: int = 0 ) -> int:\n",
    "        if len(seq1) == idx1 or len(seq2) == idx2:\n",
    "            return 0\n",
    "\n",
    "        if seq1[idx1] == seq2[idx2]:\n",
    "            return 1 + lcs_recursive(seq1, seq2, idx1 + 1, idx2 + 1)\n",
    "        else:\n",
    "            return max(lcs_recursive(seq1, seq2, idx1 + 1, idx2), lcs_recursive(seq1, seq2, idx1, idx2 + 1))\n",
    "\n",
    "    return lcs_recursive(seq1, seq2)"
   ]
  },
  {
   "cell_type": "code",
   "execution_count": 15,
   "metadata": {},
   "outputs": [
    {
     "name": "stdout",
     "output_type": "stream",
     "text": [
      "True\n",
      "True\n",
      "True\n",
      "True\n",
      "True\n",
      "True\n",
      "True\n",
      "True\n",
      "CPU times: user 574 ms, sys: 7.04 ms, total: 581 ms\n",
      "Wall time: 582 ms\n"
     ]
    }
   ],
   "source": [
    "%%time\n",
    "for _T in lcs_tests:\n",
    "    print(len_lcs(**_T['input']) == _T['output'])"
   ]
  },
  {
   "cell_type": "markdown",
   "metadata": {},
   "source": [
    "> complexity of recursive solution is $O(2^{m+n})$ where `len(seq1) = m` & `len(seq2) = n`"
   ]
  },
  {
   "cell_type": "code",
   "execution_count": 16,
   "metadata": {},
   "outputs": [],
   "source": [
    "#storing the recursive op : memoization\n",
    "def len_lcs_memo(seq1: Optional[str], seq2: Optional[str]) -> int:\n",
    "    memo = {}\n",
    "    def lcs_recursive(idx1: int, idx2: int) -> int:\n",
    "        key = idx1, idx2\n",
    "        if key in memo:\n",
    "            return memo[key]\n",
    "        elif len(seq1) == idx1 or len(seq2) == idx2:\n",
    "            memo[key] = 0\n",
    "        elif seq1[idx1] == seq2[idx2]:\n",
    "            memo[key] = 1 + lcs_recursive(idx1 + 1, idx2 + 1)\n",
    "        else:\n",
    "            memo[key] = max(lcs_recursive(idx1 + 1, idx2), lcs_recursive(idx1, idx2 + 1))\n",
    "\n",
    "        return memo[key]\n",
    "\n",
    "    return lcs_recursive(0,0)"
   ]
  },
  {
   "cell_type": "code",
   "execution_count": 17,
   "metadata": {},
   "outputs": [
    {
     "name": "stdout",
     "output_type": "stream",
     "text": [
      "True\n",
      "True\n",
      "True\n",
      "True\n",
      "True\n",
      "True\n",
      "True\n",
      "True\n"
     ]
    }
   ],
   "source": [
    "for _T in lcs_tests:\n",
    "    print(len_lcs(**_T['input']) == _T['output'])"
   ]
  },
  {
   "cell_type": "markdown",
   "metadata": {},
   "source": [
    "> Complexity in case of memoization = no. of keys in the `memo` dict i.e $O(m*n)$"
   ]
  },
  {
   "cell_type": "code",
   "execution_count": null,
   "metadata": {},
   "outputs": [],
   "source": []
  },
  {
   "cell_type": "code",
   "execution_count": null,
   "metadata": {},
   "outputs": [],
   "source": []
  },
  {
   "cell_type": "code",
   "execution_count": null,
   "metadata": {},
   "outputs": [],
   "source": []
  },
  {
   "cell_type": "code",
   "execution_count": 29,
   "metadata": {},
   "outputs": [],
   "source": [
    "arr = [10,12,1,2,5,6,8]\n",
    "target = 15"
   ]
  },
  {
   "cell_type": "code",
   "execution_count": 28,
   "metadata": {},
   "outputs": [],
   "source": [
    "hash_map = {}\n",
    "for i in range(len(arr)):\n",
    "    comp = target - arr[i] \n",
    "\n",
    "    if comp in hash_map:\n",
    "        print(hash_map[comp],i)\n",
    "    else:\n",
    "        hash_map[arr[i]] = i\n"
   ]
  },
  {
   "cell_type": "code",
   "execution_count": null,
   "metadata": {},
   "outputs": [],
   "source": [
    "start = 0\n",
    "end = len(arr) - 1\n",
    "while start <= end:\n",
    "    mid = start + (end - start)\n",
    "    if arr[mid] - target"
   ]
  },
  {
   "cell_type": "code",
   "execution_count": 30,
   "metadata": {},
   "outputs": [
    {
     "name": "stdout",
     "output_type": "stream",
     "text": [
      "Wrapper Executed this before display_info\n",
      "display info ran with args John. 16\n"
     ]
    }
   ],
   "source": [
    "\n",
    "def decorator_function(original_function):\n",
    "    def wrapper_function(*args, **kwargs):\n",
    "        print(\"Wrapper Executed this before {}\".format(original_function.__name__))\n",
    "        return original_function(*args , **kwargs)\n",
    "    return wrapper_function\n",
    "    \n",
    "@decorator_function\n",
    "def display_info(name, age):\n",
    "    print(\"display info ran with args {}. {}\".format(name,age))\n",
    "\n",
    "display_info('John', 16 )"
   ]
  },
  {
   "cell_type": "code",
   "execution_count": null,
   "metadata": {},
   "outputs": [],
   "source": [
    "from select import select\n",
    "\n",
    "\n",
    "select"
   ]
  }
 ],
 "metadata": {
  "kernelspec": {
   "display_name": "Python 3.10.2 64-bit",
   "language": "python",
   "name": "python3"
  },
  "language_info": {
   "codemirror_mode": {
    "name": "ipython",
    "version": 3
   },
   "file_extension": ".py",
   "mimetype": "text/x-python",
   "name": "python",
   "nbconvert_exporter": "python",
   "pygments_lexer": "ipython3",
   "version": "3.10.2"
  },
  "orig_nbformat": 4,
  "vscode": {
   "interpreter": {
    "hash": "4c1a85674b7b9c706837e67e471571332ebf1f79fce68aebc7a712558674e3b4"
   }
  }
 },
 "nbformat": 4,
 "nbformat_minor": 2
}
