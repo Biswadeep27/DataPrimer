{
 "cells": [
  {
   "cell_type": "code",
   "execution_count": 1,
   "metadata": {},
   "outputs": [],
   "source": [
    "w = [1,3,4,5]\n",
    "v = [1,4,5,7]\n",
    "W = 7\n"
   ]
  },
  {
   "cell_type": "code",
   "execution_count": 7,
   "metadata": {},
   "outputs": [],
   "source": [
    "#find max profit \n",
    "def knapsack(w,v,W):\n",
    "    hash_map = {}\n",
    "    def rec_memo(idx,wl):\n",
    "        nonlocal w,v\n",
    "        if idx == 0 or wl == 0:\n",
    "            return 0\n",
    "\n",
    "        if (idx,wl) in hash_map:\n",
    "            return hash_map[(idx,wl)]\n",
    "        \n",
    "        if w[idx] <= wl:\n",
    "            hash_map[(idx,wl)] = max(v[idx] + rec_memo(idx - 1, wl - w[idx]),  rec_memo(idx - 1, wl))\n",
    "            return hash_map[(idx,wl)]\n",
    "        else:\n",
    "            hash_map[(idx,wl)] = rec_memo(idx - 1, wl)\n",
    "            return hash_map[(idx,wl)]\n",
    "\n",
    "    \n",
    "    return rec_memo(len(v) - 1, W)"
   ]
  },
  {
   "cell_type": "code",
   "execution_count": 8,
   "metadata": {},
   "outputs": [
    {
     "data": {
      "text/plain": [
       "9"
      ]
     },
     "execution_count": 8,
     "metadata": {},
     "output_type": "execute_result"
    }
   ],
   "source": [
    "knapsack(w,v,W)"
   ]
  },
  {
   "cell_type": "code",
   "execution_count": null,
   "metadata": {},
   "outputs": [],
   "source": []
  }
 ],
 "metadata": {
  "kernelspec": {
   "display_name": "Python 3.10.2 64-bit",
   "language": "python",
   "name": "python3"
  },
  "language_info": {
   "codemirror_mode": {
    "name": "ipython",
    "version": 3
   },
   "file_extension": ".py",
   "mimetype": "text/x-python",
   "name": "python",
   "nbconvert_exporter": "python",
   "pygments_lexer": "ipython3",
   "version": "3.10.2"
  },
  "orig_nbformat": 4,
  "vscode": {
   "interpreter": {
    "hash": "b460384b52104c1e5b9cf54bee46a255d22b2bef338f75ac4ad5d48196028d3c"
   }
  }
 },
 "nbformat": 4,
 "nbformat_minor": 2
}
