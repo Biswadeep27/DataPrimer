{
 "cells": [
  {
   "cell_type": "code",
   "execution_count": 9,
   "metadata": {},
   "outputs": [],
   "source": [
    "#recursion\n",
    "def fib(n):\n",
    "    \n",
    "    if n == 1 or n == 2:\n",
    "        return 1\n",
    "\n",
    "    return fib(n-1) + fib(n-2)"
   ]
  },
  {
   "cell_type": "code",
   "execution_count": 10,
   "metadata": {},
   "outputs": [
    {
     "name": "stdout",
     "output_type": "stream",
     "text": [
      "1\n",
      "1\n",
      "2\n",
      "3\n",
      "5\n",
      "8\n"
     ]
    }
   ],
   "source": [
    "for i in range(6):\n",
    "    print(fib(i+1))"
   ]
  },
  {
   "cell_type": "code",
   "execution_count": 13,
   "metadata": {},
   "outputs": [],
   "source": [
    "#dp\n",
    "def fibDP(n):\n",
    "    memo = [1, 1]\n",
    "\n",
    "    for i in range(2,n):\n",
    "        memo.append(memo[i-1] + memo[i-2])\n",
    "\n",
    "    return memo[n-1]"
   ]
  },
  {
   "cell_type": "code",
   "execution_count": 14,
   "metadata": {},
   "outputs": [
    {
     "name": "stdout",
     "output_type": "stream",
     "text": [
      "1\n",
      "1\n",
      "2\n",
      "3\n",
      "5\n",
      "8\n"
     ]
    }
   ],
   "source": [
    "for i in range(6):\n",
    "    print(fibDP(i+1))"
   ]
  },
  {
   "cell_type": "code",
   "execution_count": 15,
   "metadata": {},
   "outputs": [],
   "source": [
    "def power(x, n):\n",
    "    if n==0:\n",
    "        return 1\n",
    "    return x * power(x, n-1)"
   ]
  },
  {
   "cell_type": "code",
   "execution_count": 16,
   "metadata": {},
   "outputs": [
    {
     "data": {
      "text/plain": [
       "8"
      ]
     },
     "execution_count": 16,
     "metadata": {},
     "output_type": "execute_result"
    }
   ],
   "source": [
    "power(2,3)"
   ]
  },
  {
   "cell_type": "code",
   "execution_count": 22,
   "metadata": {},
   "outputs": [],
   "source": [
    "#better recursion\n",
    "def power2(x, n):\n",
    "    if n < 0:\n",
    "        raise Exception('power can not be negative')\n",
    "    if n==0:\n",
    "        return 1\n",
    "    half_ans = power2(x, n//2)\n",
    "\n",
    "    if n%2 == 1:\n",
    "        return half_ans * half_ans * x\n",
    "    return half_ans * half_ans\n"
   ]
  },
  {
   "cell_type": "code",
   "execution_count": 24,
   "metadata": {},
   "outputs": [
    {
     "data": {
      "text/plain": [
       "8"
      ]
     },
     "execution_count": 24,
     "metadata": {},
     "output_type": "execute_result"
    }
   ],
   "source": [
    "power2(2,3)"
   ]
  },
  {
   "cell_type": "code",
   "execution_count": 32,
   "metadata": {},
   "outputs": [],
   "source": [
    "#palindrome : 2 pointer\n",
    "def palindrome(elem):\n",
    "    left = 0\n",
    "    right = len(elem) - 1\n",
    "    if right < 0:\n",
    "        return False\n",
    "\n",
    "    while left <= right:\n",
    "        if elem[left] != elem[right]:\n",
    "            return False\n",
    "        left += 1\n",
    "        right -= 1\n",
    "\n",
    "    return True"
   ]
  },
  {
   "cell_type": "code",
   "execution_count": 43,
   "metadata": {},
   "outputs": [],
   "source": [
    "#palindrome : recursion\n",
    "def palindrome_rec(elem):\n",
    "    def rec(l,r):\n",
    "        nonlocal elem\n",
    "        if l >= r:\n",
    "            return True\n",
    "        \n",
    "        if elem[l] != elem[r]:\n",
    "            return False \n",
    "        return rec(l+1, r-1)\n",
    "\n",
    "    return rec(0,len(elem) -1)"
   ]
  },
  {
   "cell_type": "code",
   "execution_count": 44,
   "metadata": {},
   "outputs": [
    {
     "data": {
      "text/plain": [
       "True"
      ]
     },
     "execution_count": 44,
     "metadata": {},
     "output_type": "execute_result"
    }
   ],
   "source": [
    "palindrome_rec('1221')"
   ]
  },
  {
   "cell_type": "code",
   "execution_count": 45,
   "metadata": {},
   "outputs": [],
   "source": [
    "def reverse_arr(arr):\n",
    "    def rec(l,r):\n",
    "        nonlocal arr\n",
    "        if l >= r:\n",
    "            return None\n",
    "\n",
    "        arr[l], arr[r] = arr[r], arr[l]\n",
    "        rec(l+1, r-1)\n",
    "\n",
    "    rec(0, len(arr) - 1)\n",
    "    return arr"
   ]
  },
  {
   "cell_type": "code",
   "execution_count": 48,
   "metadata": {},
   "outputs": [
    {
     "data": {
      "text/plain": [
       "[4, 3, 2, 1]"
      ]
     },
     "execution_count": 48,
     "metadata": {},
     "output_type": "execute_result"
    }
   ],
   "source": [
    "reverse_arr([1,2,3,4])"
   ]
  },
  {
   "cell_type": "code",
   "execution_count": 53,
   "metadata": {},
   "outputs": [],
   "source": [
    "from typing import List\n",
    "\n",
    "\n",
    "def get_powerset(seq : List[str]) -> List[List[str]]:\n",
    "    \n",
    "    if len(seq) == 1:\n",
    "        return [[], seq]\n",
    "\n",
    "    ret = temp = get_powerset(seq[1:])\n",
    "\n",
    "    new_temp = [[seq[0]]+sub for sub in temp]\n",
    "\n",
    "    return ret + new_temp\n",
    "    "
   ]
  },
  {
   "cell_type": "code",
   "execution_count": 55,
   "metadata": {},
   "outputs": [
    {
     "data": {
      "text/plain": [
       "[[],\n",
       " ['d'],\n",
       " ['c'],\n",
       " ['c', 'd'],\n",
       " ['b'],\n",
       " ['b', 'd'],\n",
       " ['b', 'c'],\n",
       " ['b', 'c', 'd'],\n",
       " ['a'],\n",
       " ['a', 'd'],\n",
       " ['a', 'c'],\n",
       " ['a', 'c', 'd'],\n",
       " ['a', 'b'],\n",
       " ['a', 'b', 'd'],\n",
       " ['a', 'b', 'c'],\n",
       " ['a', 'b', 'c', 'd']]"
      ]
     },
     "execution_count": 55,
     "metadata": {},
     "output_type": "execute_result"
    }
   ],
   "source": [
    "get_powerset(['a','b','c','d'])"
   ]
  },
  {
   "cell_type": "code",
   "execution_count": 52,
   "metadata": {},
   "outputs": [
    {
     "data": {
      "text/plain": [
       "['a', 'b', 'c', 'e']"
      ]
     },
     "execution_count": 52,
     "metadata": {},
     "output_type": "execute_result"
    }
   ],
   "source": [
    "['a','b','c'] + ['e']"
   ]
  },
  {
   "cell_type": "code",
   "execution_count": 51,
   "metadata": {},
   "outputs": [
    {
     "data": {
      "text/plain": [
       "[['a'], ['a', 'b', 'c'], ['a', 'b'], ['a', 'c'], [], ['b', 'c'], ['b'], ['c']]"
      ]
     },
     "execution_count": 51,
     "metadata": {},
     "output_type": "execute_result"
    }
   ],
   "source": [
    "l = [[],['b','c'],['b'],['c']]\n",
    "\n",
    "new = [['a']+sub for sub in l]\n",
    "\n",
    "new + l"
   ]
  },
  {
   "cell_type": "code",
   "execution_count": 60,
   "metadata": {},
   "outputs": [],
   "source": [
    "a = {'raj':{'1':2}}\n",
    "if 'raj' not in a:\n",
    "    a['raj']['2'] = 3\n",
    "else:\n",
    "    a['aryan'] = {'1':2}\n"
   ]
  },
  {
   "cell_type": "code",
   "execution_count": 61,
   "metadata": {},
   "outputs": [
    {
     "data": {
      "text/plain": [
       "{'raj': {'1': 2}, 'aryan': {'1': 2}}"
      ]
     },
     "execution_count": 61,
     "metadata": {},
     "output_type": "execute_result"
    }
   ],
   "source": [
    "a"
   ]
  },
  {
   "cell_type": "code",
   "execution_count": 63,
   "metadata": {},
   "outputs": [
    {
     "data": {
      "text/plain": [
       "{'raj': {'1': 2}, 'aryan': {'2': 2}}"
      ]
     },
     "execution_count": 63,
     "metadata": {},
     "output_type": "execute_result"
    }
   ],
   "source": [
    "if 'raj' not in a:\n",
    "    a['raj']['2'] = 3\n",
    "else:\n",
    "    a['aryan'] = {'2':2}\n",
    "\n",
    "a"
   ]
  },
  {
   "cell_type": "code",
   "execution_count": 64,
   "metadata": {},
   "outputs": [
    {
     "data": {
      "text/plain": [
       "0"
      ]
     },
     "execution_count": 64,
     "metadata": {},
     "output_type": "execute_result"
    }
   ],
   "source": [
    "(0 + 1)//2"
   ]
  },
  {
   "cell_type": "code",
   "execution_count": null,
   "metadata": {},
   "outputs": [],
   "source": []
  }
 ],
 "metadata": {
  "kernelspec": {
   "display_name": "Python 3.10.2 ('vs_lowes_310')",
   "language": "python",
   "name": "python3"
  },
  "language_info": {
   "codemirror_mode": {
    "name": "ipython",
    "version": 3
   },
   "file_extension": ".py",
   "mimetype": "text/x-python",
   "name": "python",
   "nbconvert_exporter": "python",
   "pygments_lexer": "ipython3",
   "version": "3.10.2"
  },
  "orig_nbformat": 4,
  "vscode": {
   "interpreter": {
    "hash": "e619a740aa0144de023e6e7077865760ef0e4e3378d2de02556735643e43b023"
   }
  }
 },
 "nbformat": 4,
 "nbformat_minor": 2
}
